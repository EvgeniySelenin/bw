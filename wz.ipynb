{
 "cells": [
  {
   "cell_type": "code",
   "execution_count": 318,
   "id": "9d2321bf",
   "metadata": {},
   "outputs": [],
   "source": [
    "import pandas as pd\n",
    "import numpy as np\n",
    "from plotly import graph_objects as go\n",
    "import plotly.express as px\n",
    "\n",
    "df = pd.read_csv(r\"C:\\python\\wz\\profeat-data-for-assignment.csv\")\n",
    "df.dateTime = df.dateTime.apply(pd.to_datetime) "
   ]
  },
  {
   "cell_type": "code",
   "execution_count": 331,
   "id": "31d70546",
   "metadata": {},
   "outputs": [],
   "source": [
    "# Воронка в общем виде, без разбивки\n",
    "\n",
    "dfn = df[(df.dateTime >= '2022-04-01') & (df.dateTime < '2022-05-02')]\n",
    "\n",
    "land_count = dfn[dfn.event==\"landing.unique-visit\"].shape[0] # Переход на лэндинг \n",
    "register_count = dfn[dfn.event==\"register-confirm-code-success\"].shape[0] # Регистрация\n",
    "addblock_count = dfn[dfn.event==\"editor.add.click\"].groupby(by=\"cmUserId\").count().shape[0] # Добавление первого блока \n",
    "payatt_count = dfn[dfn.event==\"payment.attempt\"].shape[0] # Попытка оплаты\n",
    "paysucc_count = dfn[dfn.event==\"payment.success\"].shape[0] # Покупка платного тарифа\n",
    "\n",
    "fig0 = go.Figure(go.Funnel(\n",
    "    y = [\"Переход на лэндинг\", \"Регистрация\", \"Добавление первого блока\", \"Попытка оплаты\", \"Покупка платного тарифа\"],\n",
    "    x = [land_count, register_count, addblock_count, payatt_count, paysucc_count]))"
   ]
  },
  {
   "cell_type": "code",
   "execution_count": 332,
   "id": "3951d88d",
   "metadata": {},
   "outputs": [],
   "source": [
    "# Разбивка по браузеру\n",
    "\n",
    "dfn = df[(df.dateTime >= '2022-04-01') & (df.dateTime < '2022-05-02')]\n",
    "\n",
    "df_browser = pd.DataFrame()\n",
    "events = [\"Переход на лэндинг\", \"Регистрация\", \"Добавление первого блока\", \"Попытка оплаты\", \"Покупка платного тарифа\"]\n",
    "\n",
    "for b in dfn.browser.unique():\n",
    "    land_count = dfn[(dfn.browser==b) & (dfn.event==\"landing.unique-visit\")].shape[0] # Переход на лэндинг \n",
    "    register_count = dfn[(dfn.browser==b) & (dfn.event==\"register-confirm-code-success\")].shape[0] # Регистрация\n",
    "    addblock_count = dfn[(dfn.browser==b) & (dfn.event==\"editor.add.click\")].groupby(by=\"cmUserId\").count().shape[0] # Добавление первого блока \n",
    "    payatt_count = dfn[(dfn.browser==b) & (dfn.event==\"payment.attempt\")].shape[0] # Попытка оплаты\n",
    "    paysucc_count = dfn[(dfn.browser==b) & (dfn.event==\"payment.success\")].shape[0] # Покупка платного тарифа\n",
    "    dfb = pd.DataFrame(dict(count=[land_count, register_count, addblock_count, payatt_count, paysucc_count], event=events))\n",
    "    dfb[\"browser\"] = b\n",
    "    df_browser = pd.concat([df_browser, dfb], axis=0)\n",
    "\n",
    "df_browser.browser.fillna(value=\" - \", inplace=True)\n",
    "fig1 = px.funnel(df_browser, x='count', y='event', color='browser')"
   ]
  },
  {
   "cell_type": "code",
   "execution_count": 333,
   "id": "61481811",
   "metadata": {},
   "outputs": [],
   "source": [
    "# Разбивка по операционной системе\n",
    "\n",
    "dfn = df[(df.dateTime >= '2022-04-01') & (df.dateTime < '2022-05-02')]\n",
    "\n",
    "df_os = pd.DataFrame()\n",
    "events = [\"Переход на лэндинг\", \"Регистрация\", \"Добавление первого блока\", \"Попытка оплаты\", \"Покупка платного тарифа\"]\n",
    "\n",
    "for b in dfn.os.unique():\n",
    "    land_count = dfn[(dfn.os==b) & (dfn.event==\"landing.unique-visit\")].shape[0] # Переход на лэндинг \n",
    "    register_count = dfn[(dfn.os==b) & (dfn.event==\"register-confirm-code-success\")].shape[0] # Регистрация\n",
    "    addblock_count = dfn[(dfn.os==b) & (dfn.event==\"editor.add.click\")].groupby(by=\"cmUserId\").count().shape[0] # Добавление первого блока \n",
    "    payatt_count = dfn[(dfn.os==b) & (dfn.event==\"payment.attempt\")].shape[0] # Попытка оплаты\n",
    "    paysucc_count = dfn[(dfn.os==b) & (dfn.event==\"payment.success\")].shape[0] # Покупка платного тарифа\n",
    "    dfb = pd.DataFrame(dict(count=[land_count, register_count, addblock_count, payatt_count, paysucc_count], event=events))\n",
    "    dfb[\"os\"] = b\n",
    "    df_os = pd.concat([df_os, dfb], axis=0)\n",
    "\n",
    "df_os.os.fillna(value=\" - \", inplace=True)\n",
    "fig2 = px.funnel(df_os, x='count', y='event', color='os')"
   ]
  },
  {
   "cell_type": "code",
   "execution_count": 334,
   "id": "161b029b",
   "metadata": {},
   "outputs": [],
   "source": [
    "# Разбивка по названию кампании\n",
    "\n",
    "dfn = df[(df.dateTime >= '2022-04-01') & (df.dateTime < '2022-05-02')]\n",
    "\n",
    "df_utm_campaign = pd.DataFrame()\n",
    "events = [\"Переход на лэндинг\", \"Регистрация\", \"Добавление первого блока\", \"Попытка оплаты\", \"Покупка платного тарифа\"]\n",
    "\n",
    "for b in dfn.utm_campaign.unique():\n",
    "    land_count = dfn[(dfn.utm_campaign==b) & (dfn.event==\"landing.unique-visit\")].shape[0] # Переход на лэндинг \n",
    "    register_count = dfn[(dfn.utm_campaign==b) & (dfn.event==\"register-confirm-code-success\")].shape[0] # Регистрация\n",
    "    addblock_count = dfn[(dfn.utm_campaign==b) & (dfn.event==\"editor.add.click\")].groupby(by=\"cmUserId\").count().shape[0] # Добавление первого блока \n",
    "    payatt_count = dfn[(dfn.utm_campaign==b) & (dfn.event==\"payment.attempt\")].shape[0] # Попытка оплаты\n",
    "    paysucc_count = dfn[(dfn.utm_campaign==b) & (dfn.event==\"payment.success\")].shape[0] # Покупка платного тарифа\n",
    "    dfb = pd.DataFrame(dict(count=[land_count, register_count, addblock_count, payatt_count, paysucc_count], event=events))\n",
    "    dfb[\"utm_campaign\"] = b\n",
    "    df_utm_campaign = pd.concat([df_utm_campaign, dfb], axis=0)\n",
    "\n",
    "df_utm_campaign.utm_campaign.fillna(value=\" - \", inplace=True)\n",
    "fig3 = px.funnel(df_utm_campaign, x='count', y='event', color='utm_campaign')"
   ]
  },
  {
   "cell_type": "code",
   "execution_count": 335,
   "id": "eb21a005",
   "metadata": {},
   "outputs": [],
   "source": [
    "# Разбивка по источнику трафика\n",
    "\n",
    "dfn = df[(df.dateTime >= '2022-04-01') & (df.dateTime < '2022-05-02')]\n",
    "\n",
    "df_utm_source = pd.DataFrame()\n",
    "events = [\"Переход на лэндинг\", \"Регистрация\", \"Добавление первого блока\", \"Попытка оплаты\", \"Покупка платного тарифа\"]\n",
    "\n",
    "for b in dfn.utm_source.unique():\n",
    "    land_count = dfn[(dfn.utm_source==b) & (dfn.event==\"landing.unique-visit\")].shape[0] # Переход на лэндинг \n",
    "    register_count = dfn[(dfn.utm_source==b) & (dfn.event==\"register-confirm-code-success\")].shape[0] # Регистрация\n",
    "    addblock_count = dfn[(dfn.utm_source==b) & (dfn.event==\"editor.add.click\")].groupby(by=\"cmUserId\").count().shape[0] # Добавление первого блока \n",
    "    payatt_count = dfn[(dfn.utm_source==b) & (dfn.event==\"payment.attempt\")].shape[0] # Попытка оплаты\n",
    "    paysucc_count = dfn[(dfn.utm_source==b) & (dfn.event==\"payment.success\")].shape[0] # Покупка платного тарифа\n",
    "    dfb = pd.DataFrame(dict(count=[land_count, register_count, addblock_count, payatt_count, paysucc_count], event=events))\n",
    "    dfb[\"utm_source\"] = b\n",
    "    df_utm_source = pd.concat([df_utm_source, dfb], axis=0)\n",
    "\n",
    "df_utm_source.utm_source.fillna(value=\" - \", inplace=True)\n",
    "fig4 = px.funnel(df_utm_source, x='count', y='event', color='utm_source')"
   ]
  },
  {
   "cell_type": "code",
   "execution_count": 339,
   "id": "b2fa3049",
   "metadata": {
    "scrolled": false
   },
   "outputs": [
    {
     "name": "stdout",
     "output_type": "stream",
     "text": [
      "# Воронка в общем виде, без разбивки\n"
     ]
    },
    {
     "data": {
      "application/vnd.plotly.v1+json": {
       "config": {
        "plotlyServerURL": "https://plot.ly"
       },
       "data": [
        {
         "type": "funnel",
         "x": [
          7682,
          1926,
          1750,
          199,
          19
         ],
         "y": [
          "Переход на лэндинг",
          "Регистрация",
          "Добавление первого блока",
          "Попытка оплаты",
          "Покупка платного тарифа"
         ]
        }
       ],
       "layout": {
        "template": {
         "data": {
          "bar": [
           {
            "error_x": {
             "color": "#2a3f5f"
            },
            "error_y": {
             "color": "#2a3f5f"
            },
            "marker": {
             "line": {
              "color": "#E5ECF6",
              "width": 0.5
             },
             "pattern": {
              "fillmode": "overlay",
              "size": 10,
              "solidity": 0.2
             }
            },
            "type": "bar"
           }
          ],
          "barpolar": [
           {
            "marker": {
             "line": {
              "color": "#E5ECF6",
              "width": 0.5
             },
             "pattern": {
              "fillmode": "overlay",
              "size": 10,
              "solidity": 0.2
             }
            },
            "type": "barpolar"
           }
          ],
          "carpet": [
           {
            "aaxis": {
             "endlinecolor": "#2a3f5f",
             "gridcolor": "white",
             "linecolor": "white",
             "minorgridcolor": "white",
             "startlinecolor": "#2a3f5f"
            },
            "baxis": {
             "endlinecolor": "#2a3f5f",
             "gridcolor": "white",
             "linecolor": "white",
             "minorgridcolor": "white",
             "startlinecolor": "#2a3f5f"
            },
            "type": "carpet"
           }
          ],
          "choropleth": [
           {
            "colorbar": {
             "outlinewidth": 0,
             "ticks": ""
            },
            "type": "choropleth"
           }
          ],
          "contour": [
           {
            "colorbar": {
             "outlinewidth": 0,
             "ticks": ""
            },
            "colorscale": [
             [
              0,
              "#0d0887"
             ],
             [
              0.1111111111111111,
              "#46039f"
             ],
             [
              0.2222222222222222,
              "#7201a8"
             ],
             [
              0.3333333333333333,
              "#9c179e"
             ],
             [
              0.4444444444444444,
              "#bd3786"
             ],
             [
              0.5555555555555556,
              "#d8576b"
             ],
             [
              0.6666666666666666,
              "#ed7953"
             ],
             [
              0.7777777777777778,
              "#fb9f3a"
             ],
             [
              0.8888888888888888,
              "#fdca26"
             ],
             [
              1,
              "#f0f921"
             ]
            ],
            "type": "contour"
           }
          ],
          "contourcarpet": [
           {
            "colorbar": {
             "outlinewidth": 0,
             "ticks": ""
            },
            "type": "contourcarpet"
           }
          ],
          "heatmap": [
           {
            "colorbar": {
             "outlinewidth": 0,
             "ticks": ""
            },
            "colorscale": [
             [
              0,
              "#0d0887"
             ],
             [
              0.1111111111111111,
              "#46039f"
             ],
             [
              0.2222222222222222,
              "#7201a8"
             ],
             [
              0.3333333333333333,
              "#9c179e"
             ],
             [
              0.4444444444444444,
              "#bd3786"
             ],
             [
              0.5555555555555556,
              "#d8576b"
             ],
             [
              0.6666666666666666,
              "#ed7953"
             ],
             [
              0.7777777777777778,
              "#fb9f3a"
             ],
             [
              0.8888888888888888,
              "#fdca26"
             ],
             [
              1,
              "#f0f921"
             ]
            ],
            "type": "heatmap"
           }
          ],
          "heatmapgl": [
           {
            "colorbar": {
             "outlinewidth": 0,
             "ticks": ""
            },
            "colorscale": [
             [
              0,
              "#0d0887"
             ],
             [
              0.1111111111111111,
              "#46039f"
             ],
             [
              0.2222222222222222,
              "#7201a8"
             ],
             [
              0.3333333333333333,
              "#9c179e"
             ],
             [
              0.4444444444444444,
              "#bd3786"
             ],
             [
              0.5555555555555556,
              "#d8576b"
             ],
             [
              0.6666666666666666,
              "#ed7953"
             ],
             [
              0.7777777777777778,
              "#fb9f3a"
             ],
             [
              0.8888888888888888,
              "#fdca26"
             ],
             [
              1,
              "#f0f921"
             ]
            ],
            "type": "heatmapgl"
           }
          ],
          "histogram": [
           {
            "marker": {
             "pattern": {
              "fillmode": "overlay",
              "size": 10,
              "solidity": 0.2
             }
            },
            "type": "histogram"
           }
          ],
          "histogram2d": [
           {
            "colorbar": {
             "outlinewidth": 0,
             "ticks": ""
            },
            "colorscale": [
             [
              0,
              "#0d0887"
             ],
             [
              0.1111111111111111,
              "#46039f"
             ],
             [
              0.2222222222222222,
              "#7201a8"
             ],
             [
              0.3333333333333333,
              "#9c179e"
             ],
             [
              0.4444444444444444,
              "#bd3786"
             ],
             [
              0.5555555555555556,
              "#d8576b"
             ],
             [
              0.6666666666666666,
              "#ed7953"
             ],
             [
              0.7777777777777778,
              "#fb9f3a"
             ],
             [
              0.8888888888888888,
              "#fdca26"
             ],
             [
              1,
              "#f0f921"
             ]
            ],
            "type": "histogram2d"
           }
          ],
          "histogram2dcontour": [
           {
            "colorbar": {
             "outlinewidth": 0,
             "ticks": ""
            },
            "colorscale": [
             [
              0,
              "#0d0887"
             ],
             [
              0.1111111111111111,
              "#46039f"
             ],
             [
              0.2222222222222222,
              "#7201a8"
             ],
             [
              0.3333333333333333,
              "#9c179e"
             ],
             [
              0.4444444444444444,
              "#bd3786"
             ],
             [
              0.5555555555555556,
              "#d8576b"
             ],
             [
              0.6666666666666666,
              "#ed7953"
             ],
             [
              0.7777777777777778,
              "#fb9f3a"
             ],
             [
              0.8888888888888888,
              "#fdca26"
             ],
             [
              1,
              "#f0f921"
             ]
            ],
            "type": "histogram2dcontour"
           }
          ],
          "mesh3d": [
           {
            "colorbar": {
             "outlinewidth": 0,
             "ticks": ""
            },
            "type": "mesh3d"
           }
          ],
          "parcoords": [
           {
            "line": {
             "colorbar": {
              "outlinewidth": 0,
              "ticks": ""
             }
            },
            "type": "parcoords"
           }
          ],
          "pie": [
           {
            "automargin": true,
            "type": "pie"
           }
          ],
          "scatter": [
           {
            "marker": {
             "colorbar": {
              "outlinewidth": 0,
              "ticks": ""
             }
            },
            "type": "scatter"
           }
          ],
          "scatter3d": [
           {
            "line": {
             "colorbar": {
              "outlinewidth": 0,
              "ticks": ""
             }
            },
            "marker": {
             "colorbar": {
              "outlinewidth": 0,
              "ticks": ""
             }
            },
            "type": "scatter3d"
           }
          ],
          "scattercarpet": [
           {
            "marker": {
             "colorbar": {
              "outlinewidth": 0,
              "ticks": ""
             }
            },
            "type": "scattercarpet"
           }
          ],
          "scattergeo": [
           {
            "marker": {
             "colorbar": {
              "outlinewidth": 0,
              "ticks": ""
             }
            },
            "type": "scattergeo"
           }
          ],
          "scattergl": [
           {
            "marker": {
             "colorbar": {
              "outlinewidth": 0,
              "ticks": ""
             }
            },
            "type": "scattergl"
           }
          ],
          "scattermapbox": [
           {
            "marker": {
             "colorbar": {
              "outlinewidth": 0,
              "ticks": ""
             }
            },
            "type": "scattermapbox"
           }
          ],
          "scatterpolar": [
           {
            "marker": {
             "colorbar": {
              "outlinewidth": 0,
              "ticks": ""
             }
            },
            "type": "scatterpolar"
           }
          ],
          "scatterpolargl": [
           {
            "marker": {
             "colorbar": {
              "outlinewidth": 0,
              "ticks": ""
             }
            },
            "type": "scatterpolargl"
           }
          ],
          "scatterternary": [
           {
            "marker": {
             "colorbar": {
              "outlinewidth": 0,
              "ticks": ""
             }
            },
            "type": "scatterternary"
           }
          ],
          "surface": [
           {
            "colorbar": {
             "outlinewidth": 0,
             "ticks": ""
            },
            "colorscale": [
             [
              0,
              "#0d0887"
             ],
             [
              0.1111111111111111,
              "#46039f"
             ],
             [
              0.2222222222222222,
              "#7201a8"
             ],
             [
              0.3333333333333333,
              "#9c179e"
             ],
             [
              0.4444444444444444,
              "#bd3786"
             ],
             [
              0.5555555555555556,
              "#d8576b"
             ],
             [
              0.6666666666666666,
              "#ed7953"
             ],
             [
              0.7777777777777778,
              "#fb9f3a"
             ],
             [
              0.8888888888888888,
              "#fdca26"
             ],
             [
              1,
              "#f0f921"
             ]
            ],
            "type": "surface"
           }
          ],
          "table": [
           {
            "cells": {
             "fill": {
              "color": "#EBF0F8"
             },
             "line": {
              "color": "white"
             }
            },
            "header": {
             "fill": {
              "color": "#C8D4E3"
             },
             "line": {
              "color": "white"
             }
            },
            "type": "table"
           }
          ]
         },
         "layout": {
          "annotationdefaults": {
           "arrowcolor": "#2a3f5f",
           "arrowhead": 0,
           "arrowwidth": 1
          },
          "autotypenumbers": "strict",
          "coloraxis": {
           "colorbar": {
            "outlinewidth": 0,
            "ticks": ""
           }
          },
          "colorscale": {
           "diverging": [
            [
             0,
             "#8e0152"
            ],
            [
             0.1,
             "#c51b7d"
            ],
            [
             0.2,
             "#de77ae"
            ],
            [
             0.3,
             "#f1b6da"
            ],
            [
             0.4,
             "#fde0ef"
            ],
            [
             0.5,
             "#f7f7f7"
            ],
            [
             0.6,
             "#e6f5d0"
            ],
            [
             0.7,
             "#b8e186"
            ],
            [
             0.8,
             "#7fbc41"
            ],
            [
             0.9,
             "#4d9221"
            ],
            [
             1,
             "#276419"
            ]
           ],
           "sequential": [
            [
             0,
             "#0d0887"
            ],
            [
             0.1111111111111111,
             "#46039f"
            ],
            [
             0.2222222222222222,
             "#7201a8"
            ],
            [
             0.3333333333333333,
             "#9c179e"
            ],
            [
             0.4444444444444444,
             "#bd3786"
            ],
            [
             0.5555555555555556,
             "#d8576b"
            ],
            [
             0.6666666666666666,
             "#ed7953"
            ],
            [
             0.7777777777777778,
             "#fb9f3a"
            ],
            [
             0.8888888888888888,
             "#fdca26"
            ],
            [
             1,
             "#f0f921"
            ]
           ],
           "sequentialminus": [
            [
             0,
             "#0d0887"
            ],
            [
             0.1111111111111111,
             "#46039f"
            ],
            [
             0.2222222222222222,
             "#7201a8"
            ],
            [
             0.3333333333333333,
             "#9c179e"
            ],
            [
             0.4444444444444444,
             "#bd3786"
            ],
            [
             0.5555555555555556,
             "#d8576b"
            ],
            [
             0.6666666666666666,
             "#ed7953"
            ],
            [
             0.7777777777777778,
             "#fb9f3a"
            ],
            [
             0.8888888888888888,
             "#fdca26"
            ],
            [
             1,
             "#f0f921"
            ]
           ]
          },
          "colorway": [
           "#636efa",
           "#EF553B",
           "#00cc96",
           "#ab63fa",
           "#FFA15A",
           "#19d3f3",
           "#FF6692",
           "#B6E880",
           "#FF97FF",
           "#FECB52"
          ],
          "font": {
           "color": "#2a3f5f"
          },
          "geo": {
           "bgcolor": "white",
           "lakecolor": "white",
           "landcolor": "#E5ECF6",
           "showlakes": true,
           "showland": true,
           "subunitcolor": "white"
          },
          "hoverlabel": {
           "align": "left"
          },
          "hovermode": "closest",
          "mapbox": {
           "style": "light"
          },
          "paper_bgcolor": "white",
          "plot_bgcolor": "#E5ECF6",
          "polar": {
           "angularaxis": {
            "gridcolor": "white",
            "linecolor": "white",
            "ticks": ""
           },
           "bgcolor": "#E5ECF6",
           "radialaxis": {
            "gridcolor": "white",
            "linecolor": "white",
            "ticks": ""
           }
          },
          "scene": {
           "xaxis": {
            "backgroundcolor": "#E5ECF6",
            "gridcolor": "white",
            "gridwidth": 2,
            "linecolor": "white",
            "showbackground": true,
            "ticks": "",
            "zerolinecolor": "white"
           },
           "yaxis": {
            "backgroundcolor": "#E5ECF6",
            "gridcolor": "white",
            "gridwidth": 2,
            "linecolor": "white",
            "showbackground": true,
            "ticks": "",
            "zerolinecolor": "white"
           },
           "zaxis": {
            "backgroundcolor": "#E5ECF6",
            "gridcolor": "white",
            "gridwidth": 2,
            "linecolor": "white",
            "showbackground": true,
            "ticks": "",
            "zerolinecolor": "white"
           }
          },
          "shapedefaults": {
           "line": {
            "color": "#2a3f5f"
           }
          },
          "ternary": {
           "aaxis": {
            "gridcolor": "white",
            "linecolor": "white",
            "ticks": ""
           },
           "baxis": {
            "gridcolor": "white",
            "linecolor": "white",
            "ticks": ""
           },
           "bgcolor": "#E5ECF6",
           "caxis": {
            "gridcolor": "white",
            "linecolor": "white",
            "ticks": ""
           }
          },
          "title": {
           "x": 0.05
          },
          "xaxis": {
           "automargin": true,
           "gridcolor": "white",
           "linecolor": "white",
           "ticks": "",
           "title": {
            "standoff": 15
           },
           "zerolinecolor": "white",
           "zerolinewidth": 2
          },
          "yaxis": {
           "automargin": true,
           "gridcolor": "white",
           "linecolor": "white",
           "ticks": "",
           "title": {
            "standoff": 15
           },
           "zerolinecolor": "white",
           "zerolinewidth": 2
          }
         }
        }
       }
      },
      "text/html": [
       "<div>                            <div id=\"7516f347-49ae-4133-a7dd-22c2a21c0cae\" class=\"plotly-graph-div\" style=\"height:525px; width:100%;\"></div>            <script type=\"text/javascript\">                require([\"plotly\"], function(Plotly) {                    window.PLOTLYENV=window.PLOTLYENV || {};                                    if (document.getElementById(\"7516f347-49ae-4133-a7dd-22c2a21c0cae\")) {                    Plotly.newPlot(                        \"7516f347-49ae-4133-a7dd-22c2a21c0cae\",                        [{\"x\":[7682,1926,1750,199,19],\"y\":[\"\\u041f\\u0435\\u0440\\u0435\\u0445\\u043e\\u0434 \\u043d\\u0430 \\u043b\\u044d\\u043d\\u0434\\u0438\\u043d\\u0433\",\"\\u0420\\u0435\\u0433\\u0438\\u0441\\u0442\\u0440\\u0430\\u0446\\u0438\\u044f\",\"\\u0414\\u043e\\u0431\\u0430\\u0432\\u043b\\u0435\\u043d\\u0438\\u0435 \\u043f\\u0435\\u0440\\u0432\\u043e\\u0433\\u043e \\u0431\\u043b\\u043e\\u043a\\u0430\",\"\\u041f\\u043e\\u043f\\u044b\\u0442\\u043a\\u0430 \\u043e\\u043f\\u043b\\u0430\\u0442\\u044b\",\"\\u041f\\u043e\\u043a\\u0443\\u043f\\u043a\\u0430 \\u043f\\u043b\\u0430\\u0442\\u043d\\u043e\\u0433\\u043e \\u0442\\u0430\\u0440\\u0438\\u0444\\u0430\"],\"type\":\"funnel\"}],                        {\"template\":{\"data\":{\"bar\":[{\"error_x\":{\"color\":\"#2a3f5f\"},\"error_y\":{\"color\":\"#2a3f5f\"},\"marker\":{\"line\":{\"color\":\"#E5ECF6\",\"width\":0.5},\"pattern\":{\"fillmode\":\"overlay\",\"size\":10,\"solidity\":0.2}},\"type\":\"bar\"}],\"barpolar\":[{\"marker\":{\"line\":{\"color\":\"#E5ECF6\",\"width\":0.5},\"pattern\":{\"fillmode\":\"overlay\",\"size\":10,\"solidity\":0.2}},\"type\":\"barpolar\"}],\"carpet\":[{\"aaxis\":{\"endlinecolor\":\"#2a3f5f\",\"gridcolor\":\"white\",\"linecolor\":\"white\",\"minorgridcolor\":\"white\",\"startlinecolor\":\"#2a3f5f\"},\"baxis\":{\"endlinecolor\":\"#2a3f5f\",\"gridcolor\":\"white\",\"linecolor\":\"white\",\"minorgridcolor\":\"white\",\"startlinecolor\":\"#2a3f5f\"},\"type\":\"carpet\"}],\"choropleth\":[{\"colorbar\":{\"outlinewidth\":0,\"ticks\":\"\"},\"type\":\"choropleth\"}],\"contour\":[{\"colorbar\":{\"outlinewidth\":0,\"ticks\":\"\"},\"colorscale\":[[0.0,\"#0d0887\"],[0.1111111111111111,\"#46039f\"],[0.2222222222222222,\"#7201a8\"],[0.3333333333333333,\"#9c179e\"],[0.4444444444444444,\"#bd3786\"],[0.5555555555555556,\"#d8576b\"],[0.6666666666666666,\"#ed7953\"],[0.7777777777777778,\"#fb9f3a\"],[0.8888888888888888,\"#fdca26\"],[1.0,\"#f0f921\"]],\"type\":\"contour\"}],\"contourcarpet\":[{\"colorbar\":{\"outlinewidth\":0,\"ticks\":\"\"},\"type\":\"contourcarpet\"}],\"heatmap\":[{\"colorbar\":{\"outlinewidth\":0,\"ticks\":\"\"},\"colorscale\":[[0.0,\"#0d0887\"],[0.1111111111111111,\"#46039f\"],[0.2222222222222222,\"#7201a8\"],[0.3333333333333333,\"#9c179e\"],[0.4444444444444444,\"#bd3786\"],[0.5555555555555556,\"#d8576b\"],[0.6666666666666666,\"#ed7953\"],[0.7777777777777778,\"#fb9f3a\"],[0.8888888888888888,\"#fdca26\"],[1.0,\"#f0f921\"]],\"type\":\"heatmap\"}],\"heatmapgl\":[{\"colorbar\":{\"outlinewidth\":0,\"ticks\":\"\"},\"colorscale\":[[0.0,\"#0d0887\"],[0.1111111111111111,\"#46039f\"],[0.2222222222222222,\"#7201a8\"],[0.3333333333333333,\"#9c179e\"],[0.4444444444444444,\"#bd3786\"],[0.5555555555555556,\"#d8576b\"],[0.6666666666666666,\"#ed7953\"],[0.7777777777777778,\"#fb9f3a\"],[0.8888888888888888,\"#fdca26\"],[1.0,\"#f0f921\"]],\"type\":\"heatmapgl\"}],\"histogram\":[{\"marker\":{\"pattern\":{\"fillmode\":\"overlay\",\"size\":10,\"solidity\":0.2}},\"type\":\"histogram\"}],\"histogram2d\":[{\"colorbar\":{\"outlinewidth\":0,\"ticks\":\"\"},\"colorscale\":[[0.0,\"#0d0887\"],[0.1111111111111111,\"#46039f\"],[0.2222222222222222,\"#7201a8\"],[0.3333333333333333,\"#9c179e\"],[0.4444444444444444,\"#bd3786\"],[0.5555555555555556,\"#d8576b\"],[0.6666666666666666,\"#ed7953\"],[0.7777777777777778,\"#fb9f3a\"],[0.8888888888888888,\"#fdca26\"],[1.0,\"#f0f921\"]],\"type\":\"histogram2d\"}],\"histogram2dcontour\":[{\"colorbar\":{\"outlinewidth\":0,\"ticks\":\"\"},\"colorscale\":[[0.0,\"#0d0887\"],[0.1111111111111111,\"#46039f\"],[0.2222222222222222,\"#7201a8\"],[0.3333333333333333,\"#9c179e\"],[0.4444444444444444,\"#bd3786\"],[0.5555555555555556,\"#d8576b\"],[0.6666666666666666,\"#ed7953\"],[0.7777777777777778,\"#fb9f3a\"],[0.8888888888888888,\"#fdca26\"],[1.0,\"#f0f921\"]],\"type\":\"histogram2dcontour\"}],\"mesh3d\":[{\"colorbar\":{\"outlinewidth\":0,\"ticks\":\"\"},\"type\":\"mesh3d\"}],\"parcoords\":[{\"line\":{\"colorbar\":{\"outlinewidth\":0,\"ticks\":\"\"}},\"type\":\"parcoords\"}],\"pie\":[{\"automargin\":true,\"type\":\"pie\"}],\"scatter\":[{\"marker\":{\"colorbar\":{\"outlinewidth\":0,\"ticks\":\"\"}},\"type\":\"scatter\"}],\"scatter3d\":[{\"line\":{\"colorbar\":{\"outlinewidth\":0,\"ticks\":\"\"}},\"marker\":{\"colorbar\":{\"outlinewidth\":0,\"ticks\":\"\"}},\"type\":\"scatter3d\"}],\"scattercarpet\":[{\"marker\":{\"colorbar\":{\"outlinewidth\":0,\"ticks\":\"\"}},\"type\":\"scattercarpet\"}],\"scattergeo\":[{\"marker\":{\"colorbar\":{\"outlinewidth\":0,\"ticks\":\"\"}},\"type\":\"scattergeo\"}],\"scattergl\":[{\"marker\":{\"colorbar\":{\"outlinewidth\":0,\"ticks\":\"\"}},\"type\":\"scattergl\"}],\"scattermapbox\":[{\"marker\":{\"colorbar\":{\"outlinewidth\":0,\"ticks\":\"\"}},\"type\":\"scattermapbox\"}],\"scatterpolar\":[{\"marker\":{\"colorbar\":{\"outlinewidth\":0,\"ticks\":\"\"}},\"type\":\"scatterpolar\"}],\"scatterpolargl\":[{\"marker\":{\"colorbar\":{\"outlinewidth\":0,\"ticks\":\"\"}},\"type\":\"scatterpolargl\"}],\"scatterternary\":[{\"marker\":{\"colorbar\":{\"outlinewidth\":0,\"ticks\":\"\"}},\"type\":\"scatterternary\"}],\"surface\":[{\"colorbar\":{\"outlinewidth\":0,\"ticks\":\"\"},\"colorscale\":[[0.0,\"#0d0887\"],[0.1111111111111111,\"#46039f\"],[0.2222222222222222,\"#7201a8\"],[0.3333333333333333,\"#9c179e\"],[0.4444444444444444,\"#bd3786\"],[0.5555555555555556,\"#d8576b\"],[0.6666666666666666,\"#ed7953\"],[0.7777777777777778,\"#fb9f3a\"],[0.8888888888888888,\"#fdca26\"],[1.0,\"#f0f921\"]],\"type\":\"surface\"}],\"table\":[{\"cells\":{\"fill\":{\"color\":\"#EBF0F8\"},\"line\":{\"color\":\"white\"}},\"header\":{\"fill\":{\"color\":\"#C8D4E3\"},\"line\":{\"color\":\"white\"}},\"type\":\"table\"}]},\"layout\":{\"annotationdefaults\":{\"arrowcolor\":\"#2a3f5f\",\"arrowhead\":0,\"arrowwidth\":1},\"autotypenumbers\":\"strict\",\"coloraxis\":{\"colorbar\":{\"outlinewidth\":0,\"ticks\":\"\"}},\"colorscale\":{\"diverging\":[[0,\"#8e0152\"],[0.1,\"#c51b7d\"],[0.2,\"#de77ae\"],[0.3,\"#f1b6da\"],[0.4,\"#fde0ef\"],[0.5,\"#f7f7f7\"],[0.6,\"#e6f5d0\"],[0.7,\"#b8e186\"],[0.8,\"#7fbc41\"],[0.9,\"#4d9221\"],[1,\"#276419\"]],\"sequential\":[[0.0,\"#0d0887\"],[0.1111111111111111,\"#46039f\"],[0.2222222222222222,\"#7201a8\"],[0.3333333333333333,\"#9c179e\"],[0.4444444444444444,\"#bd3786\"],[0.5555555555555556,\"#d8576b\"],[0.6666666666666666,\"#ed7953\"],[0.7777777777777778,\"#fb9f3a\"],[0.8888888888888888,\"#fdca26\"],[1.0,\"#f0f921\"]],\"sequentialminus\":[[0.0,\"#0d0887\"],[0.1111111111111111,\"#46039f\"],[0.2222222222222222,\"#7201a8\"],[0.3333333333333333,\"#9c179e\"],[0.4444444444444444,\"#bd3786\"],[0.5555555555555556,\"#d8576b\"],[0.6666666666666666,\"#ed7953\"],[0.7777777777777778,\"#fb9f3a\"],[0.8888888888888888,\"#fdca26\"],[1.0,\"#f0f921\"]]},\"colorway\":[\"#636efa\",\"#EF553B\",\"#00cc96\",\"#ab63fa\",\"#FFA15A\",\"#19d3f3\",\"#FF6692\",\"#B6E880\",\"#FF97FF\",\"#FECB52\"],\"font\":{\"color\":\"#2a3f5f\"},\"geo\":{\"bgcolor\":\"white\",\"lakecolor\":\"white\",\"landcolor\":\"#E5ECF6\",\"showlakes\":true,\"showland\":true,\"subunitcolor\":\"white\"},\"hoverlabel\":{\"align\":\"left\"},\"hovermode\":\"closest\",\"mapbox\":{\"style\":\"light\"},\"paper_bgcolor\":\"white\",\"plot_bgcolor\":\"#E5ECF6\",\"polar\":{\"angularaxis\":{\"gridcolor\":\"white\",\"linecolor\":\"white\",\"ticks\":\"\"},\"bgcolor\":\"#E5ECF6\",\"radialaxis\":{\"gridcolor\":\"white\",\"linecolor\":\"white\",\"ticks\":\"\"}},\"scene\":{\"xaxis\":{\"backgroundcolor\":\"#E5ECF6\",\"gridcolor\":\"white\",\"gridwidth\":2,\"linecolor\":\"white\",\"showbackground\":true,\"ticks\":\"\",\"zerolinecolor\":\"white\"},\"yaxis\":{\"backgroundcolor\":\"#E5ECF6\",\"gridcolor\":\"white\",\"gridwidth\":2,\"linecolor\":\"white\",\"showbackground\":true,\"ticks\":\"\",\"zerolinecolor\":\"white\"},\"zaxis\":{\"backgroundcolor\":\"#E5ECF6\",\"gridcolor\":\"white\",\"gridwidth\":2,\"linecolor\":\"white\",\"showbackground\":true,\"ticks\":\"\",\"zerolinecolor\":\"white\"}},\"shapedefaults\":{\"line\":{\"color\":\"#2a3f5f\"}},\"ternary\":{\"aaxis\":{\"gridcolor\":\"white\",\"linecolor\":\"white\",\"ticks\":\"\"},\"baxis\":{\"gridcolor\":\"white\",\"linecolor\":\"white\",\"ticks\":\"\"},\"bgcolor\":\"#E5ECF6\",\"caxis\":{\"gridcolor\":\"white\",\"linecolor\":\"white\",\"ticks\":\"\"}},\"title\":{\"x\":0.05},\"xaxis\":{\"automargin\":true,\"gridcolor\":\"white\",\"linecolor\":\"white\",\"ticks\":\"\",\"title\":{\"standoff\":15},\"zerolinecolor\":\"white\",\"zerolinewidth\":2},\"yaxis\":{\"automargin\":true,\"gridcolor\":\"white\",\"linecolor\":\"white\",\"ticks\":\"\",\"title\":{\"standoff\":15},\"zerolinecolor\":\"white\",\"zerolinewidth\":2}}}},                        {\"responsive\": true}                    ).then(function(){\n",
       "                            \n",
       "var gd = document.getElementById('7516f347-49ae-4133-a7dd-22c2a21c0cae');\n",
       "var x = new MutationObserver(function (mutations, observer) {{\n",
       "        var display = window.getComputedStyle(gd).display;\n",
       "        if (!display || display === 'none') {{\n",
       "            console.log([gd, 'removed!']);\n",
       "            Plotly.purge(gd);\n",
       "            observer.disconnect();\n",
       "        }}\n",
       "}});\n",
       "\n",
       "// Listen for the removal of the full notebook cells\n",
       "var notebookContainer = gd.closest('#notebook-container');\n",
       "if (notebookContainer) {{\n",
       "    x.observe(notebookContainer, {childList: true});\n",
       "}}\n",
       "\n",
       "// Listen for the clearing of the current output cell\n",
       "var outputEl = gd.closest('.output');\n",
       "if (outputEl) {{\n",
       "    x.observe(outputEl, {childList: true});\n",
       "}}\n",
       "\n",
       "                        })                };                });            </script>        </div>"
      ]
     },
     "metadata": {},
     "output_type": "display_data"
    },
    {
     "name": "stdout",
     "output_type": "stream",
     "text": [
      "# Разбивка по браузеру\n"
     ]
    },
    {
     "data": {
      "application/vnd.plotly.v1+json": {
       "config": {
        "plotlyServerURL": "https://plot.ly"
       },
       "data": [
        {
         "hovertemplate": "browser= - <br>count=%{x}<br>event=%{y}<extra></extra>",
         "legendgroup": " - ",
         "marker": {
          "color": "#636efa"
         },
         "name": " - ",
         "orientation": "h",
         "showlegend": true,
         "type": "funnel",
         "x": [
          0,
          0,
          0,
          0,
          0
         ],
         "xaxis": "x",
         "y": [
          "Переход на лэндинг",
          "Регистрация",
          "Добавление первого блока",
          "Попытка оплаты",
          "Покупка платного тарифа"
         ],
         "yaxis": "y"
        },
        {
         "hovertemplate": "browser=Chrome<br>count=%{x}<br>event=%{y}<extra></extra>",
         "legendgroup": "Chrome",
         "marker": {
          "color": "#EF553B"
         },
         "name": "Chrome",
         "orientation": "h",
         "showlegend": true,
         "type": "funnel",
         "x": [
          3908,
          742,
          755,
          72,
          11
         ],
         "xaxis": "x",
         "y": [
          "Переход на лэндинг",
          "Регистрация",
          "Добавление первого блока",
          "Попытка оплаты",
          "Покупка платного тарифа"
         ],
         "yaxis": "y"
        },
        {
         "hovertemplate": "browser=Firefox<br>count=%{x}<br>event=%{y}<extra></extra>",
         "legendgroup": "Firefox",
         "marker": {
          "color": "#00cc96"
         },
         "name": "Firefox",
         "orientation": "h",
         "showlegend": true,
         "type": "funnel",
         "x": [
          94,
          8,
          13,
          1,
          0
         ],
         "xaxis": "x",
         "y": [
          "Переход на лэндинг",
          "Регистрация",
          "Добавление первого блока",
          "Попытка оплаты",
          "Покупка платного тарифа"
         ],
         "yaxis": "y"
        },
        {
         "hovertemplate": "browser=Yandex<br>count=%{x}<br>event=%{y}<extra></extra>",
         "legendgroup": "Yandex",
         "marker": {
          "color": "#ab63fa"
         },
         "name": "Yandex",
         "orientation": "h",
         "showlegend": true,
         "type": "funnel",
         "x": [
          1278,
          373,
          345,
          54,
          5
         ],
         "xaxis": "x",
         "y": [
          "Переход на лэндинг",
          "Регистрация",
          "Добавление первого блока",
          "Попытка оплаты",
          "Покупка платного тарифа"
         ],
         "yaxis": "y"
        },
        {
         "hovertemplate": "browser=Instagram<br>count=%{x}<br>event=%{y}<extra></extra>",
         "legendgroup": "Instagram",
         "marker": {
          "color": "#FFA15A"
         },
         "name": "Instagram",
         "orientation": "h",
         "showlegend": true,
         "type": "funnel",
         "x": [
          146,
          305,
          201,
          15,
          0
         ],
         "xaxis": "x",
         "y": [
          "Переход на лэндинг",
          "Регистрация",
          "Добавление первого блока",
          "Попытка оплаты",
          "Покупка платного тарифа"
         ],
         "yaxis": "y"
        },
        {
         "hovertemplate": "browser=Opera Touch<br>count=%{x}<br>event=%{y}<extra></extra>",
         "legendgroup": "Opera Touch",
         "marker": {
          "color": "#19d3f3"
         },
         "name": "Opera Touch",
         "orientation": "h",
         "showlegend": true,
         "type": "funnel",
         "x": [
          4,
          1,
          2,
          0,
          0
         ],
         "xaxis": "x",
         "y": [
          "Переход на лэндинг",
          "Регистрация",
          "Добавление первого блока",
          "Попытка оплаты",
          "Покупка платного тарифа"
         ],
         "yaxis": "y"
        },
        {
         "hovertemplate": "browser=Mobile Safari<br>count=%{x}<br>event=%{y}<extra></extra>",
         "legendgroup": "Mobile Safari",
         "marker": {
          "color": "#FF6692"
         },
         "name": "Mobile Safari",
         "orientation": "h",
         "showlegend": true,
         "type": "funnel",
         "x": [
          1141,
          246,
          281,
          37,
          2
         ],
         "xaxis": "x",
         "y": [
          "Переход на лэндинг",
          "Регистрация",
          "Добавление первого блока",
          "Попытка оплаты",
          "Покупка платного тарифа"
         ],
         "yaxis": "y"
        },
        {
         "hovertemplate": "browser=WebKit<br>count=%{x}<br>event=%{y}<extra></extra>",
         "legendgroup": "WebKit",
         "marker": {
          "color": "#B6E880"
         },
         "name": "WebKit",
         "orientation": "h",
         "showlegend": true,
         "type": "funnel",
         "x": [
          9,
          20,
          11,
          3,
          0
         ],
         "xaxis": "x",
         "y": [
          "Переход на лэндинг",
          "Регистрация",
          "Добавление первого блока",
          "Попытка оплаты",
          "Покупка платного тарифа"
         ],
         "yaxis": "y"
        },
        {
         "hovertemplate": "browser=GSA<br>count=%{x}<br>event=%{y}<extra></extra>",
         "legendgroup": "GSA",
         "marker": {
          "color": "#FF97FF"
         },
         "name": "GSA",
         "orientation": "h",
         "showlegend": true,
         "type": "funnel",
         "x": [
          23,
          5,
          8,
          0,
          0
         ],
         "xaxis": "x",
         "y": [
          "Переход на лэндинг",
          "Регистрация",
          "Добавление первого блока",
          "Попытка оплаты",
          "Покупка платного тарифа"
         ],
         "yaxis": "y"
        },
        {
         "hovertemplate": "browser=Opera<br>count=%{x}<br>event=%{y}<extra></extra>",
         "legendgroup": "Opera",
         "marker": {
          "color": "#FECB52"
         },
         "name": "Opera",
         "orientation": "h",
         "showlegend": true,
         "type": "funnel",
         "x": [
          187,
          35,
          41,
          1,
          0
         ],
         "xaxis": "x",
         "y": [
          "Переход на лэндинг",
          "Регистрация",
          "Добавление первого блока",
          "Попытка оплаты",
          "Покупка платного тарифа"
         ],
         "yaxis": "y"
        },
        {
         "hovertemplate": "browser=Safari<br>count=%{x}<br>event=%{y}<extra></extra>",
         "legendgroup": "Safari",
         "marker": {
          "color": "#636efa"
         },
         "name": "Safari",
         "orientation": "h",
         "showlegend": true,
         "type": "funnel",
         "x": [
          128,
          12,
          21,
          2,
          0
         ],
         "xaxis": "x",
         "y": [
          "Переход на лэндинг",
          "Регистрация",
          "Добавление первого блока",
          "Попытка оплаты",
          "Покупка платного тарифа"
         ],
         "yaxis": "y"
        },
        {
         "hovertemplate": "browser=MIUI Browser<br>count=%{x}<br>event=%{y}<extra></extra>",
         "legendgroup": "MIUI Browser",
         "marker": {
          "color": "#EF553B"
         },
         "name": "MIUI Browser",
         "orientation": "h",
         "showlegend": true,
         "type": "funnel",
         "x": [
          118,
          31,
          32,
          0,
          0
         ],
         "xaxis": "x",
         "y": [
          "Переход на лэндинг",
          "Регистрация",
          "Добавление первого блока",
          "Попытка оплаты",
          "Покупка платного тарифа"
         ],
         "yaxis": "y"
        },
        {
         "hovertemplate": "browser=Chrome WebView<br>count=%{x}<br>event=%{y}<extra></extra>",
         "legendgroup": "Chrome WebView",
         "marker": {
          "color": "#00cc96"
         },
         "name": "Chrome WebView",
         "orientation": "h",
         "showlegend": true,
         "type": "funnel",
         "x": [
          288,
          99,
          76,
          4,
          0
         ],
         "xaxis": "x",
         "y": [
          "Переход на лэндинг",
          "Регистрация",
          "Добавление первого блока",
          "Попытка оплаты",
          "Покупка платного тарифа"
         ],
         "yaxis": "y"
        },
        {
         "hovertemplate": "browser=Samsung Browser<br>count=%{x}<br>event=%{y}<extra></extra>",
         "legendgroup": "Samsung Browser",
         "marker": {
          "color": "#ab63fa"
         },
         "name": "Samsung Browser",
         "orientation": "h",
         "showlegend": true,
         "type": "funnel",
         "x": [
          153,
          35,
          36,
          7,
          1
         ],
         "xaxis": "x",
         "y": [
          "Переход на лэндинг",
          "Регистрация",
          "Добавление первого блока",
          "Попытка оплаты",
          "Покупка платного тарифа"
         ],
         "yaxis": "y"
        },
        {
         "hovertemplate": "browser=Facebook<br>count=%{x}<br>event=%{y}<extra></extra>",
         "legendgroup": "Facebook",
         "marker": {
          "color": "#FFA15A"
         },
         "name": "Facebook",
         "orientation": "h",
         "showlegend": true,
         "type": "funnel",
         "x": [
          4,
          3,
          1,
          0,
          0
         ],
         "xaxis": "x",
         "y": [
          "Переход на лэндинг",
          "Регистрация",
          "Добавление первого блока",
          "Попытка оплаты",
          "Покупка платного тарифа"
         ],
         "yaxis": "y"
        },
        {
         "hovertemplate": "browser=Edge<br>count=%{x}<br>event=%{y}<extra></extra>",
         "legendgroup": "Edge",
         "marker": {
          "color": "#19d3f3"
         },
         "name": "Edge",
         "orientation": "h",
         "showlegend": true,
         "type": "funnel",
         "x": [
          72,
          7,
          15,
          1,
          0
         ],
         "xaxis": "x",
         "y": [
          "Переход на лэндинг",
          "Регистрация",
          "Добавление первого блока",
          "Попытка оплаты",
          "Покупка платного тарифа"
         ],
         "yaxis": "y"
        },
        {
         "hovertemplate": "browser=Quark<br>count=%{x}<br>event=%{y}<extra></extra>",
         "legendgroup": "Quark",
         "marker": {
          "color": "#FF6692"
         },
         "name": "Quark",
         "orientation": "h",
         "showlegend": true,
         "type": "funnel",
         "x": [
          11,
          0,
          0,
          0,
          0
         ],
         "xaxis": "x",
         "y": [
          "Переход на лэндинг",
          "Регистрация",
          "Добавление первого блока",
          "Попытка оплаты",
          "Покупка платного тарифа"
         ],
         "yaxis": "y"
        },
        {
         "hovertemplate": "browser=QQBrowser<br>count=%{x}<br>event=%{y}<extra></extra>",
         "legendgroup": "QQBrowser",
         "marker": {
          "color": "#B6E880"
         },
         "name": "QQBrowser",
         "orientation": "h",
         "showlegend": true,
         "type": "funnel",
         "x": [
          5,
          0,
          0,
          0,
          0
         ],
         "xaxis": "x",
         "y": [
          "Переход на лэндинг",
          "Регистрация",
          "Добавление первого блока",
          "Попытка оплаты",
          "Покупка платного тарифа"
         ],
         "yaxis": "y"
        },
        {
         "hovertemplate": "browser=Android Browser<br>count=%{x}<br>event=%{y}<extra></extra>",
         "legendgroup": "Android Browser",
         "marker": {
          "color": "#FF97FF"
         },
         "name": "Android Browser",
         "orientation": "h",
         "showlegend": true,
         "type": "funnel",
         "x": [
          17,
          3,
          1,
          2,
          0
         ],
         "xaxis": "x",
         "y": [
          "Переход на лэндинг",
          "Регистрация",
          "Добавление первого блока",
          "Попытка оплаты",
          "Покупка платного тарифа"
         ],
         "yaxis": "y"
        },
        {
         "hovertemplate": "browser=UCBrowser<br>count=%{x}<br>event=%{y}<extra></extra>",
         "legendgroup": "UCBrowser",
         "marker": {
          "color": "#FECB52"
         },
         "name": "UCBrowser",
         "orientation": "h",
         "showlegend": true,
         "type": "funnel",
         "x": [
          22,
          1,
          3,
          0,
          0
         ],
         "xaxis": "x",
         "y": [
          "Переход на лэндинг",
          "Регистрация",
          "Добавление первого блока",
          "Попытка оплаты",
          "Покупка платного тарифа"
         ],
         "yaxis": "y"
        },
        {
         "hovertemplate": "browser=Chrome Headless<br>count=%{x}<br>event=%{y}<extra></extra>",
         "legendgroup": "Chrome Headless",
         "marker": {
          "color": "#636efa"
         },
         "name": "Chrome Headless",
         "orientation": "h",
         "showlegend": true,
         "type": "funnel",
         "x": [
          9,
          0,
          0,
          0,
          0
         ],
         "xaxis": "x",
         "y": [
          "Переход на лэндинг",
          "Регистрация",
          "Добавление первого блока",
          "Попытка оплаты",
          "Покупка платного тарифа"
         ],
         "yaxis": "y"
        },
        {
         "hovertemplate": "browser=Silk<br>count=%{x}<br>event=%{y}<extra></extra>",
         "legendgroup": "Silk",
         "marker": {
          "color": "#EF553B"
         },
         "name": "Silk",
         "orientation": "h",
         "showlegend": true,
         "type": "funnel",
         "x": [
          1,
          0,
          0,
          0,
          0
         ],
         "xaxis": "x",
         "y": [
          "Переход на лэндинг",
          "Регистрация",
          "Добавление первого блока",
          "Попытка оплаты",
          "Покупка платного тарифа"
         ],
         "yaxis": "y"
        },
        {
         "hovertemplate": "browser=Waterfox<br>count=%{x}<br>event=%{y}<extra></extra>",
         "legendgroup": "Waterfox",
         "marker": {
          "color": "#00cc96"
         },
         "name": "Waterfox",
         "orientation": "h",
         "showlegend": true,
         "type": "funnel",
         "x": [
          1,
          0,
          0,
          0,
          0
         ],
         "xaxis": "x",
         "y": [
          "Переход на лэндинг",
          "Регистрация",
          "Добавление первого блока",
          "Попытка оплаты",
          "Покупка платного тарифа"
         ],
         "yaxis": "y"
        },
        {
         "hovertemplate": "browser=Whale<br>count=%{x}<br>event=%{y}<extra></extra>",
         "legendgroup": "Whale",
         "marker": {
          "color": "#ab63fa"
         },
         "name": "Whale",
         "orientation": "h",
         "showlegend": true,
         "type": "funnel",
         "x": [
          1,
          0,
          0,
          0,
          0
         ],
         "xaxis": "x",
         "y": [
          "Переход на лэндинг",
          "Регистрация",
          "Добавление первого блока",
          "Попытка оплаты",
          "Покупка платного тарифа"
         ],
         "yaxis": "y"
        }
       ],
       "layout": {
        "legend": {
         "title": {
          "text": "browser"
         },
         "tracegroupgap": 0
        },
        "margin": {
         "t": 60
        },
        "template": {
         "data": {
          "bar": [
           {
            "error_x": {
             "color": "#2a3f5f"
            },
            "error_y": {
             "color": "#2a3f5f"
            },
            "marker": {
             "line": {
              "color": "#E5ECF6",
              "width": 0.5
             },
             "pattern": {
              "fillmode": "overlay",
              "size": 10,
              "solidity": 0.2
             }
            },
            "type": "bar"
           }
          ],
          "barpolar": [
           {
            "marker": {
             "line": {
              "color": "#E5ECF6",
              "width": 0.5
             },
             "pattern": {
              "fillmode": "overlay",
              "size": 10,
              "solidity": 0.2
             }
            },
            "type": "barpolar"
           }
          ],
          "carpet": [
           {
            "aaxis": {
             "endlinecolor": "#2a3f5f",
             "gridcolor": "white",
             "linecolor": "white",
             "minorgridcolor": "white",
             "startlinecolor": "#2a3f5f"
            },
            "baxis": {
             "endlinecolor": "#2a3f5f",
             "gridcolor": "white",
             "linecolor": "white",
             "minorgridcolor": "white",
             "startlinecolor": "#2a3f5f"
            },
            "type": "carpet"
           }
          ],
          "choropleth": [
           {
            "colorbar": {
             "outlinewidth": 0,
             "ticks": ""
            },
            "type": "choropleth"
           }
          ],
          "contour": [
           {
            "colorbar": {
             "outlinewidth": 0,
             "ticks": ""
            },
            "colorscale": [
             [
              0,
              "#0d0887"
             ],
             [
              0.1111111111111111,
              "#46039f"
             ],
             [
              0.2222222222222222,
              "#7201a8"
             ],
             [
              0.3333333333333333,
              "#9c179e"
             ],
             [
              0.4444444444444444,
              "#bd3786"
             ],
             [
              0.5555555555555556,
              "#d8576b"
             ],
             [
              0.6666666666666666,
              "#ed7953"
             ],
             [
              0.7777777777777778,
              "#fb9f3a"
             ],
             [
              0.8888888888888888,
              "#fdca26"
             ],
             [
              1,
              "#f0f921"
             ]
            ],
            "type": "contour"
           }
          ],
          "contourcarpet": [
           {
            "colorbar": {
             "outlinewidth": 0,
             "ticks": ""
            },
            "type": "contourcarpet"
           }
          ],
          "heatmap": [
           {
            "colorbar": {
             "outlinewidth": 0,
             "ticks": ""
            },
            "colorscale": [
             [
              0,
              "#0d0887"
             ],
             [
              0.1111111111111111,
              "#46039f"
             ],
             [
              0.2222222222222222,
              "#7201a8"
             ],
             [
              0.3333333333333333,
              "#9c179e"
             ],
             [
              0.4444444444444444,
              "#bd3786"
             ],
             [
              0.5555555555555556,
              "#d8576b"
             ],
             [
              0.6666666666666666,
              "#ed7953"
             ],
             [
              0.7777777777777778,
              "#fb9f3a"
             ],
             [
              0.8888888888888888,
              "#fdca26"
             ],
             [
              1,
              "#f0f921"
             ]
            ],
            "type": "heatmap"
           }
          ],
          "heatmapgl": [
           {
            "colorbar": {
             "outlinewidth": 0,
             "ticks": ""
            },
            "colorscale": [
             [
              0,
              "#0d0887"
             ],
             [
              0.1111111111111111,
              "#46039f"
             ],
             [
              0.2222222222222222,
              "#7201a8"
             ],
             [
              0.3333333333333333,
              "#9c179e"
             ],
             [
              0.4444444444444444,
              "#bd3786"
             ],
             [
              0.5555555555555556,
              "#d8576b"
             ],
             [
              0.6666666666666666,
              "#ed7953"
             ],
             [
              0.7777777777777778,
              "#fb9f3a"
             ],
             [
              0.8888888888888888,
              "#fdca26"
             ],
             [
              1,
              "#f0f921"
             ]
            ],
            "type": "heatmapgl"
           }
          ],
          "histogram": [
           {
            "marker": {
             "pattern": {
              "fillmode": "overlay",
              "size": 10,
              "solidity": 0.2
             }
            },
            "type": "histogram"
           }
          ],
          "histogram2d": [
           {
            "colorbar": {
             "outlinewidth": 0,
             "ticks": ""
            },
            "colorscale": [
             [
              0,
              "#0d0887"
             ],
             [
              0.1111111111111111,
              "#46039f"
             ],
             [
              0.2222222222222222,
              "#7201a8"
             ],
             [
              0.3333333333333333,
              "#9c179e"
             ],
             [
              0.4444444444444444,
              "#bd3786"
             ],
             [
              0.5555555555555556,
              "#d8576b"
             ],
             [
              0.6666666666666666,
              "#ed7953"
             ],
             [
              0.7777777777777778,
              "#fb9f3a"
             ],
             [
              0.8888888888888888,
              "#fdca26"
             ],
             [
              1,
              "#f0f921"
             ]
            ],
            "type": "histogram2d"
           }
          ],
          "histogram2dcontour": [
           {
            "colorbar": {
             "outlinewidth": 0,
             "ticks": ""
            },
            "colorscale": [
             [
              0,
              "#0d0887"
             ],
             [
              0.1111111111111111,
              "#46039f"
             ],
             [
              0.2222222222222222,
              "#7201a8"
             ],
             [
              0.3333333333333333,
              "#9c179e"
             ],
             [
              0.4444444444444444,
              "#bd3786"
             ],
             [
              0.5555555555555556,
              "#d8576b"
             ],
             [
              0.6666666666666666,
              "#ed7953"
             ],
             [
              0.7777777777777778,
              "#fb9f3a"
             ],
             [
              0.8888888888888888,
              "#fdca26"
             ],
             [
              1,
              "#f0f921"
             ]
            ],
            "type": "histogram2dcontour"
           }
          ],
          "mesh3d": [
           {
            "colorbar": {
             "outlinewidth": 0,
             "ticks": ""
            },
            "type": "mesh3d"
           }
          ],
          "parcoords": [
           {
            "line": {
             "colorbar": {
              "outlinewidth": 0,
              "ticks": ""
             }
            },
            "type": "parcoords"
           }
          ],
          "pie": [
           {
            "automargin": true,
            "type": "pie"
           }
          ],
          "scatter": [
           {
            "marker": {
             "colorbar": {
              "outlinewidth": 0,
              "ticks": ""
             }
            },
            "type": "scatter"
           }
          ],
          "scatter3d": [
           {
            "line": {
             "colorbar": {
              "outlinewidth": 0,
              "ticks": ""
             }
            },
            "marker": {
             "colorbar": {
              "outlinewidth": 0,
              "ticks": ""
             }
            },
            "type": "scatter3d"
           }
          ],
          "scattercarpet": [
           {
            "marker": {
             "colorbar": {
              "outlinewidth": 0,
              "ticks": ""
             }
            },
            "type": "scattercarpet"
           }
          ],
          "scattergeo": [
           {
            "marker": {
             "colorbar": {
              "outlinewidth": 0,
              "ticks": ""
             }
            },
            "type": "scattergeo"
           }
          ],
          "scattergl": [
           {
            "marker": {
             "colorbar": {
              "outlinewidth": 0,
              "ticks": ""
             }
            },
            "type": "scattergl"
           }
          ],
          "scattermapbox": [
           {
            "marker": {
             "colorbar": {
              "outlinewidth": 0,
              "ticks": ""
             }
            },
            "type": "scattermapbox"
           }
          ],
          "scatterpolar": [
           {
            "marker": {
             "colorbar": {
              "outlinewidth": 0,
              "ticks": ""
             }
            },
            "type": "scatterpolar"
           }
          ],
          "scatterpolargl": [
           {
            "marker": {
             "colorbar": {
              "outlinewidth": 0,
              "ticks": ""
             }
            },
            "type": "scatterpolargl"
           }
          ],
          "scatterternary": [
           {
            "marker": {
             "colorbar": {
              "outlinewidth": 0,
              "ticks": ""
             }
            },
            "type": "scatterternary"
           }
          ],
          "surface": [
           {
            "colorbar": {
             "outlinewidth": 0,
             "ticks": ""
            },
            "colorscale": [
             [
              0,
              "#0d0887"
             ],
             [
              0.1111111111111111,
              "#46039f"
             ],
             [
              0.2222222222222222,
              "#7201a8"
             ],
             [
              0.3333333333333333,
              "#9c179e"
             ],
             [
              0.4444444444444444,
              "#bd3786"
             ],
             [
              0.5555555555555556,
              "#d8576b"
             ],
             [
              0.6666666666666666,
              "#ed7953"
             ],
             [
              0.7777777777777778,
              "#fb9f3a"
             ],
             [
              0.8888888888888888,
              "#fdca26"
             ],
             [
              1,
              "#f0f921"
             ]
            ],
            "type": "surface"
           }
          ],
          "table": [
           {
            "cells": {
             "fill": {
              "color": "#EBF0F8"
             },
             "line": {
              "color": "white"
             }
            },
            "header": {
             "fill": {
              "color": "#C8D4E3"
             },
             "line": {
              "color": "white"
             }
            },
            "type": "table"
           }
          ]
         },
         "layout": {
          "annotationdefaults": {
           "arrowcolor": "#2a3f5f",
           "arrowhead": 0,
           "arrowwidth": 1
          },
          "autotypenumbers": "strict",
          "coloraxis": {
           "colorbar": {
            "outlinewidth": 0,
            "ticks": ""
           }
          },
          "colorscale": {
           "diverging": [
            [
             0,
             "#8e0152"
            ],
            [
             0.1,
             "#c51b7d"
            ],
            [
             0.2,
             "#de77ae"
            ],
            [
             0.3,
             "#f1b6da"
            ],
            [
             0.4,
             "#fde0ef"
            ],
            [
             0.5,
             "#f7f7f7"
            ],
            [
             0.6,
             "#e6f5d0"
            ],
            [
             0.7,
             "#b8e186"
            ],
            [
             0.8,
             "#7fbc41"
            ],
            [
             0.9,
             "#4d9221"
            ],
            [
             1,
             "#276419"
            ]
           ],
           "sequential": [
            [
             0,
             "#0d0887"
            ],
            [
             0.1111111111111111,
             "#46039f"
            ],
            [
             0.2222222222222222,
             "#7201a8"
            ],
            [
             0.3333333333333333,
             "#9c179e"
            ],
            [
             0.4444444444444444,
             "#bd3786"
            ],
            [
             0.5555555555555556,
             "#d8576b"
            ],
            [
             0.6666666666666666,
             "#ed7953"
            ],
            [
             0.7777777777777778,
             "#fb9f3a"
            ],
            [
             0.8888888888888888,
             "#fdca26"
            ],
            [
             1,
             "#f0f921"
            ]
           ],
           "sequentialminus": [
            [
             0,
             "#0d0887"
            ],
            [
             0.1111111111111111,
             "#46039f"
            ],
            [
             0.2222222222222222,
             "#7201a8"
            ],
            [
             0.3333333333333333,
             "#9c179e"
            ],
            [
             0.4444444444444444,
             "#bd3786"
            ],
            [
             0.5555555555555556,
             "#d8576b"
            ],
            [
             0.6666666666666666,
             "#ed7953"
            ],
            [
             0.7777777777777778,
             "#fb9f3a"
            ],
            [
             0.8888888888888888,
             "#fdca26"
            ],
            [
             1,
             "#f0f921"
            ]
           ]
          },
          "colorway": [
           "#636efa",
           "#EF553B",
           "#00cc96",
           "#ab63fa",
           "#FFA15A",
           "#19d3f3",
           "#FF6692",
           "#B6E880",
           "#FF97FF",
           "#FECB52"
          ],
          "font": {
           "color": "#2a3f5f"
          },
          "geo": {
           "bgcolor": "white",
           "lakecolor": "white",
           "landcolor": "#E5ECF6",
           "showlakes": true,
           "showland": true,
           "subunitcolor": "white"
          },
          "hoverlabel": {
           "align": "left"
          },
          "hovermode": "closest",
          "mapbox": {
           "style": "light"
          },
          "paper_bgcolor": "white",
          "plot_bgcolor": "#E5ECF6",
          "polar": {
           "angularaxis": {
            "gridcolor": "white",
            "linecolor": "white",
            "ticks": ""
           },
           "bgcolor": "#E5ECF6",
           "radialaxis": {
            "gridcolor": "white",
            "linecolor": "white",
            "ticks": ""
           }
          },
          "scene": {
           "xaxis": {
            "backgroundcolor": "#E5ECF6",
            "gridcolor": "white",
            "gridwidth": 2,
            "linecolor": "white",
            "showbackground": true,
            "ticks": "",
            "zerolinecolor": "white"
           },
           "yaxis": {
            "backgroundcolor": "#E5ECF6",
            "gridcolor": "white",
            "gridwidth": 2,
            "linecolor": "white",
            "showbackground": true,
            "ticks": "",
            "zerolinecolor": "white"
           },
           "zaxis": {
            "backgroundcolor": "#E5ECF6",
            "gridcolor": "white",
            "gridwidth": 2,
            "linecolor": "white",
            "showbackground": true,
            "ticks": "",
            "zerolinecolor": "white"
           }
          },
          "shapedefaults": {
           "line": {
            "color": "#2a3f5f"
           }
          },
          "ternary": {
           "aaxis": {
            "gridcolor": "white",
            "linecolor": "white",
            "ticks": ""
           },
           "baxis": {
            "gridcolor": "white",
            "linecolor": "white",
            "ticks": ""
           },
           "bgcolor": "#E5ECF6",
           "caxis": {
            "gridcolor": "white",
            "linecolor": "white",
            "ticks": ""
           }
          },
          "title": {
           "x": 0.05
          },
          "xaxis": {
           "automargin": true,
           "gridcolor": "white",
           "linecolor": "white",
           "ticks": "",
           "title": {
            "standoff": 15
           },
           "zerolinecolor": "white",
           "zerolinewidth": 2
          },
          "yaxis": {
           "automargin": true,
           "gridcolor": "white",
           "linecolor": "white",
           "ticks": "",
           "title": {
            "standoff": 15
           },
           "zerolinecolor": "white",
           "zerolinewidth": 2
          }
         }
        },
        "xaxis": {
         "anchor": "y",
         "domain": [
          0,
          1
         ],
         "title": {
          "text": "count"
         }
        },
        "yaxis": {
         "anchor": "x",
         "domain": [
          0,
          1
         ],
         "title": {
          "text": "event"
         }
        }
       }
      },
      "text/html": [
       "<div>                            <div id=\"04171977-8ec5-4e3c-b010-9d26e504e67d\" class=\"plotly-graph-div\" style=\"height:525px; width:100%;\"></div>            <script type=\"text/javascript\">                require([\"plotly\"], function(Plotly) {                    window.PLOTLYENV=window.PLOTLYENV || {};                                    if (document.getElementById(\"04171977-8ec5-4e3c-b010-9d26e504e67d\")) {                    Plotly.newPlot(                        \"04171977-8ec5-4e3c-b010-9d26e504e67d\",                        [{\"hovertemplate\":\"browser= - <br>count=%{x}<br>event=%{y}<extra></extra>\",\"legendgroup\":\" - \",\"marker\":{\"color\":\"#636efa\"},\"name\":\" - \",\"orientation\":\"h\",\"showlegend\":true,\"x\":[0,0,0,0,0],\"xaxis\":\"x\",\"y\":[\"\\u041f\\u0435\\u0440\\u0435\\u0445\\u043e\\u0434 \\u043d\\u0430 \\u043b\\u044d\\u043d\\u0434\\u0438\\u043d\\u0433\",\"\\u0420\\u0435\\u0433\\u0438\\u0441\\u0442\\u0440\\u0430\\u0446\\u0438\\u044f\",\"\\u0414\\u043e\\u0431\\u0430\\u0432\\u043b\\u0435\\u043d\\u0438\\u0435 \\u043f\\u0435\\u0440\\u0432\\u043e\\u0433\\u043e \\u0431\\u043b\\u043e\\u043a\\u0430\",\"\\u041f\\u043e\\u043f\\u044b\\u0442\\u043a\\u0430 \\u043e\\u043f\\u043b\\u0430\\u0442\\u044b\",\"\\u041f\\u043e\\u043a\\u0443\\u043f\\u043a\\u0430 \\u043f\\u043b\\u0430\\u0442\\u043d\\u043e\\u0433\\u043e \\u0442\\u0430\\u0440\\u0438\\u0444\\u0430\"],\"yaxis\":\"y\",\"type\":\"funnel\"},{\"hovertemplate\":\"browser=Chrome<br>count=%{x}<br>event=%{y}<extra></extra>\",\"legendgroup\":\"Chrome\",\"marker\":{\"color\":\"#EF553B\"},\"name\":\"Chrome\",\"orientation\":\"h\",\"showlegend\":true,\"x\":[3908,742,755,72,11],\"xaxis\":\"x\",\"y\":[\"\\u041f\\u0435\\u0440\\u0435\\u0445\\u043e\\u0434 \\u043d\\u0430 \\u043b\\u044d\\u043d\\u0434\\u0438\\u043d\\u0433\",\"\\u0420\\u0435\\u0433\\u0438\\u0441\\u0442\\u0440\\u0430\\u0446\\u0438\\u044f\",\"\\u0414\\u043e\\u0431\\u0430\\u0432\\u043b\\u0435\\u043d\\u0438\\u0435 \\u043f\\u0435\\u0440\\u0432\\u043e\\u0433\\u043e \\u0431\\u043b\\u043e\\u043a\\u0430\",\"\\u041f\\u043e\\u043f\\u044b\\u0442\\u043a\\u0430 \\u043e\\u043f\\u043b\\u0430\\u0442\\u044b\",\"\\u041f\\u043e\\u043a\\u0443\\u043f\\u043a\\u0430 \\u043f\\u043b\\u0430\\u0442\\u043d\\u043e\\u0433\\u043e \\u0442\\u0430\\u0440\\u0438\\u0444\\u0430\"],\"yaxis\":\"y\",\"type\":\"funnel\"},{\"hovertemplate\":\"browser=Firefox<br>count=%{x}<br>event=%{y}<extra></extra>\",\"legendgroup\":\"Firefox\",\"marker\":{\"color\":\"#00cc96\"},\"name\":\"Firefox\",\"orientation\":\"h\",\"showlegend\":true,\"x\":[94,8,13,1,0],\"xaxis\":\"x\",\"y\":[\"\\u041f\\u0435\\u0440\\u0435\\u0445\\u043e\\u0434 \\u043d\\u0430 \\u043b\\u044d\\u043d\\u0434\\u0438\\u043d\\u0433\",\"\\u0420\\u0435\\u0433\\u0438\\u0441\\u0442\\u0440\\u0430\\u0446\\u0438\\u044f\",\"\\u0414\\u043e\\u0431\\u0430\\u0432\\u043b\\u0435\\u043d\\u0438\\u0435 \\u043f\\u0435\\u0440\\u0432\\u043e\\u0433\\u043e \\u0431\\u043b\\u043e\\u043a\\u0430\",\"\\u041f\\u043e\\u043f\\u044b\\u0442\\u043a\\u0430 \\u043e\\u043f\\u043b\\u0430\\u0442\\u044b\",\"\\u041f\\u043e\\u043a\\u0443\\u043f\\u043a\\u0430 \\u043f\\u043b\\u0430\\u0442\\u043d\\u043e\\u0433\\u043e \\u0442\\u0430\\u0440\\u0438\\u0444\\u0430\"],\"yaxis\":\"y\",\"type\":\"funnel\"},{\"hovertemplate\":\"browser=Yandex<br>count=%{x}<br>event=%{y}<extra></extra>\",\"legendgroup\":\"Yandex\",\"marker\":{\"color\":\"#ab63fa\"},\"name\":\"Yandex\",\"orientation\":\"h\",\"showlegend\":true,\"x\":[1278,373,345,54,5],\"xaxis\":\"x\",\"y\":[\"\\u041f\\u0435\\u0440\\u0435\\u0445\\u043e\\u0434 \\u043d\\u0430 \\u043b\\u044d\\u043d\\u0434\\u0438\\u043d\\u0433\",\"\\u0420\\u0435\\u0433\\u0438\\u0441\\u0442\\u0440\\u0430\\u0446\\u0438\\u044f\",\"\\u0414\\u043e\\u0431\\u0430\\u0432\\u043b\\u0435\\u043d\\u0438\\u0435 \\u043f\\u0435\\u0440\\u0432\\u043e\\u0433\\u043e \\u0431\\u043b\\u043e\\u043a\\u0430\",\"\\u041f\\u043e\\u043f\\u044b\\u0442\\u043a\\u0430 \\u043e\\u043f\\u043b\\u0430\\u0442\\u044b\",\"\\u041f\\u043e\\u043a\\u0443\\u043f\\u043a\\u0430 \\u043f\\u043b\\u0430\\u0442\\u043d\\u043e\\u0433\\u043e \\u0442\\u0430\\u0440\\u0438\\u0444\\u0430\"],\"yaxis\":\"y\",\"type\":\"funnel\"},{\"hovertemplate\":\"browser=Instagram<br>count=%{x}<br>event=%{y}<extra></extra>\",\"legendgroup\":\"Instagram\",\"marker\":{\"color\":\"#FFA15A\"},\"name\":\"Instagram\",\"orientation\":\"h\",\"showlegend\":true,\"x\":[146,305,201,15,0],\"xaxis\":\"x\",\"y\":[\"\\u041f\\u0435\\u0440\\u0435\\u0445\\u043e\\u0434 \\u043d\\u0430 \\u043b\\u044d\\u043d\\u0434\\u0438\\u043d\\u0433\",\"\\u0420\\u0435\\u0433\\u0438\\u0441\\u0442\\u0440\\u0430\\u0446\\u0438\\u044f\",\"\\u0414\\u043e\\u0431\\u0430\\u0432\\u043b\\u0435\\u043d\\u0438\\u0435 \\u043f\\u0435\\u0440\\u0432\\u043e\\u0433\\u043e \\u0431\\u043b\\u043e\\u043a\\u0430\",\"\\u041f\\u043e\\u043f\\u044b\\u0442\\u043a\\u0430 \\u043e\\u043f\\u043b\\u0430\\u0442\\u044b\",\"\\u041f\\u043e\\u043a\\u0443\\u043f\\u043a\\u0430 \\u043f\\u043b\\u0430\\u0442\\u043d\\u043e\\u0433\\u043e \\u0442\\u0430\\u0440\\u0438\\u0444\\u0430\"],\"yaxis\":\"y\",\"type\":\"funnel\"},{\"hovertemplate\":\"browser=Opera Touch<br>count=%{x}<br>event=%{y}<extra></extra>\",\"legendgroup\":\"Opera Touch\",\"marker\":{\"color\":\"#19d3f3\"},\"name\":\"Opera Touch\",\"orientation\":\"h\",\"showlegend\":true,\"x\":[4,1,2,0,0],\"xaxis\":\"x\",\"y\":[\"\\u041f\\u0435\\u0440\\u0435\\u0445\\u043e\\u0434 \\u043d\\u0430 \\u043b\\u044d\\u043d\\u0434\\u0438\\u043d\\u0433\",\"\\u0420\\u0435\\u0433\\u0438\\u0441\\u0442\\u0440\\u0430\\u0446\\u0438\\u044f\",\"\\u0414\\u043e\\u0431\\u0430\\u0432\\u043b\\u0435\\u043d\\u0438\\u0435 \\u043f\\u0435\\u0440\\u0432\\u043e\\u0433\\u043e \\u0431\\u043b\\u043e\\u043a\\u0430\",\"\\u041f\\u043e\\u043f\\u044b\\u0442\\u043a\\u0430 \\u043e\\u043f\\u043b\\u0430\\u0442\\u044b\",\"\\u041f\\u043e\\u043a\\u0443\\u043f\\u043a\\u0430 \\u043f\\u043b\\u0430\\u0442\\u043d\\u043e\\u0433\\u043e \\u0442\\u0430\\u0440\\u0438\\u0444\\u0430\"],\"yaxis\":\"y\",\"type\":\"funnel\"},{\"hovertemplate\":\"browser=Mobile Safari<br>count=%{x}<br>event=%{y}<extra></extra>\",\"legendgroup\":\"Mobile Safari\",\"marker\":{\"color\":\"#FF6692\"},\"name\":\"Mobile Safari\",\"orientation\":\"h\",\"showlegend\":true,\"x\":[1141,246,281,37,2],\"xaxis\":\"x\",\"y\":[\"\\u041f\\u0435\\u0440\\u0435\\u0445\\u043e\\u0434 \\u043d\\u0430 \\u043b\\u044d\\u043d\\u0434\\u0438\\u043d\\u0433\",\"\\u0420\\u0435\\u0433\\u0438\\u0441\\u0442\\u0440\\u0430\\u0446\\u0438\\u044f\",\"\\u0414\\u043e\\u0431\\u0430\\u0432\\u043b\\u0435\\u043d\\u0438\\u0435 \\u043f\\u0435\\u0440\\u0432\\u043e\\u0433\\u043e \\u0431\\u043b\\u043e\\u043a\\u0430\",\"\\u041f\\u043e\\u043f\\u044b\\u0442\\u043a\\u0430 \\u043e\\u043f\\u043b\\u0430\\u0442\\u044b\",\"\\u041f\\u043e\\u043a\\u0443\\u043f\\u043a\\u0430 \\u043f\\u043b\\u0430\\u0442\\u043d\\u043e\\u0433\\u043e \\u0442\\u0430\\u0440\\u0438\\u0444\\u0430\"],\"yaxis\":\"y\",\"type\":\"funnel\"},{\"hovertemplate\":\"browser=WebKit<br>count=%{x}<br>event=%{y}<extra></extra>\",\"legendgroup\":\"WebKit\",\"marker\":{\"color\":\"#B6E880\"},\"name\":\"WebKit\",\"orientation\":\"h\",\"showlegend\":true,\"x\":[9,20,11,3,0],\"xaxis\":\"x\",\"y\":[\"\\u041f\\u0435\\u0440\\u0435\\u0445\\u043e\\u0434 \\u043d\\u0430 \\u043b\\u044d\\u043d\\u0434\\u0438\\u043d\\u0433\",\"\\u0420\\u0435\\u0433\\u0438\\u0441\\u0442\\u0440\\u0430\\u0446\\u0438\\u044f\",\"\\u0414\\u043e\\u0431\\u0430\\u0432\\u043b\\u0435\\u043d\\u0438\\u0435 \\u043f\\u0435\\u0440\\u0432\\u043e\\u0433\\u043e \\u0431\\u043b\\u043e\\u043a\\u0430\",\"\\u041f\\u043e\\u043f\\u044b\\u0442\\u043a\\u0430 \\u043e\\u043f\\u043b\\u0430\\u0442\\u044b\",\"\\u041f\\u043e\\u043a\\u0443\\u043f\\u043a\\u0430 \\u043f\\u043b\\u0430\\u0442\\u043d\\u043e\\u0433\\u043e \\u0442\\u0430\\u0440\\u0438\\u0444\\u0430\"],\"yaxis\":\"y\",\"type\":\"funnel\"},{\"hovertemplate\":\"browser=GSA<br>count=%{x}<br>event=%{y}<extra></extra>\",\"legendgroup\":\"GSA\",\"marker\":{\"color\":\"#FF97FF\"},\"name\":\"GSA\",\"orientation\":\"h\",\"showlegend\":true,\"x\":[23,5,8,0,0],\"xaxis\":\"x\",\"y\":[\"\\u041f\\u0435\\u0440\\u0435\\u0445\\u043e\\u0434 \\u043d\\u0430 \\u043b\\u044d\\u043d\\u0434\\u0438\\u043d\\u0433\",\"\\u0420\\u0435\\u0433\\u0438\\u0441\\u0442\\u0440\\u0430\\u0446\\u0438\\u044f\",\"\\u0414\\u043e\\u0431\\u0430\\u0432\\u043b\\u0435\\u043d\\u0438\\u0435 \\u043f\\u0435\\u0440\\u0432\\u043e\\u0433\\u043e \\u0431\\u043b\\u043e\\u043a\\u0430\",\"\\u041f\\u043e\\u043f\\u044b\\u0442\\u043a\\u0430 \\u043e\\u043f\\u043b\\u0430\\u0442\\u044b\",\"\\u041f\\u043e\\u043a\\u0443\\u043f\\u043a\\u0430 \\u043f\\u043b\\u0430\\u0442\\u043d\\u043e\\u0433\\u043e \\u0442\\u0430\\u0440\\u0438\\u0444\\u0430\"],\"yaxis\":\"y\",\"type\":\"funnel\"},{\"hovertemplate\":\"browser=Opera<br>count=%{x}<br>event=%{y}<extra></extra>\",\"legendgroup\":\"Opera\",\"marker\":{\"color\":\"#FECB52\"},\"name\":\"Opera\",\"orientation\":\"h\",\"showlegend\":true,\"x\":[187,35,41,1,0],\"xaxis\":\"x\",\"y\":[\"\\u041f\\u0435\\u0440\\u0435\\u0445\\u043e\\u0434 \\u043d\\u0430 \\u043b\\u044d\\u043d\\u0434\\u0438\\u043d\\u0433\",\"\\u0420\\u0435\\u0433\\u0438\\u0441\\u0442\\u0440\\u0430\\u0446\\u0438\\u044f\",\"\\u0414\\u043e\\u0431\\u0430\\u0432\\u043b\\u0435\\u043d\\u0438\\u0435 \\u043f\\u0435\\u0440\\u0432\\u043e\\u0433\\u043e \\u0431\\u043b\\u043e\\u043a\\u0430\",\"\\u041f\\u043e\\u043f\\u044b\\u0442\\u043a\\u0430 \\u043e\\u043f\\u043b\\u0430\\u0442\\u044b\",\"\\u041f\\u043e\\u043a\\u0443\\u043f\\u043a\\u0430 \\u043f\\u043b\\u0430\\u0442\\u043d\\u043e\\u0433\\u043e \\u0442\\u0430\\u0440\\u0438\\u0444\\u0430\"],\"yaxis\":\"y\",\"type\":\"funnel\"},{\"hovertemplate\":\"browser=Safari<br>count=%{x}<br>event=%{y}<extra></extra>\",\"legendgroup\":\"Safari\",\"marker\":{\"color\":\"#636efa\"},\"name\":\"Safari\",\"orientation\":\"h\",\"showlegend\":true,\"x\":[128,12,21,2,0],\"xaxis\":\"x\",\"y\":[\"\\u041f\\u0435\\u0440\\u0435\\u0445\\u043e\\u0434 \\u043d\\u0430 \\u043b\\u044d\\u043d\\u0434\\u0438\\u043d\\u0433\",\"\\u0420\\u0435\\u0433\\u0438\\u0441\\u0442\\u0440\\u0430\\u0446\\u0438\\u044f\",\"\\u0414\\u043e\\u0431\\u0430\\u0432\\u043b\\u0435\\u043d\\u0438\\u0435 \\u043f\\u0435\\u0440\\u0432\\u043e\\u0433\\u043e \\u0431\\u043b\\u043e\\u043a\\u0430\",\"\\u041f\\u043e\\u043f\\u044b\\u0442\\u043a\\u0430 \\u043e\\u043f\\u043b\\u0430\\u0442\\u044b\",\"\\u041f\\u043e\\u043a\\u0443\\u043f\\u043a\\u0430 \\u043f\\u043b\\u0430\\u0442\\u043d\\u043e\\u0433\\u043e \\u0442\\u0430\\u0440\\u0438\\u0444\\u0430\"],\"yaxis\":\"y\",\"type\":\"funnel\"},{\"hovertemplate\":\"browser=MIUI Browser<br>count=%{x}<br>event=%{y}<extra></extra>\",\"legendgroup\":\"MIUI Browser\",\"marker\":{\"color\":\"#EF553B\"},\"name\":\"MIUI Browser\",\"orientation\":\"h\",\"showlegend\":true,\"x\":[118,31,32,0,0],\"xaxis\":\"x\",\"y\":[\"\\u041f\\u0435\\u0440\\u0435\\u0445\\u043e\\u0434 \\u043d\\u0430 \\u043b\\u044d\\u043d\\u0434\\u0438\\u043d\\u0433\",\"\\u0420\\u0435\\u0433\\u0438\\u0441\\u0442\\u0440\\u0430\\u0446\\u0438\\u044f\",\"\\u0414\\u043e\\u0431\\u0430\\u0432\\u043b\\u0435\\u043d\\u0438\\u0435 \\u043f\\u0435\\u0440\\u0432\\u043e\\u0433\\u043e \\u0431\\u043b\\u043e\\u043a\\u0430\",\"\\u041f\\u043e\\u043f\\u044b\\u0442\\u043a\\u0430 \\u043e\\u043f\\u043b\\u0430\\u0442\\u044b\",\"\\u041f\\u043e\\u043a\\u0443\\u043f\\u043a\\u0430 \\u043f\\u043b\\u0430\\u0442\\u043d\\u043e\\u0433\\u043e \\u0442\\u0430\\u0440\\u0438\\u0444\\u0430\"],\"yaxis\":\"y\",\"type\":\"funnel\"},{\"hovertemplate\":\"browser=Chrome WebView<br>count=%{x}<br>event=%{y}<extra></extra>\",\"legendgroup\":\"Chrome WebView\",\"marker\":{\"color\":\"#00cc96\"},\"name\":\"Chrome WebView\",\"orientation\":\"h\",\"showlegend\":true,\"x\":[288,99,76,4,0],\"xaxis\":\"x\",\"y\":[\"\\u041f\\u0435\\u0440\\u0435\\u0445\\u043e\\u0434 \\u043d\\u0430 \\u043b\\u044d\\u043d\\u0434\\u0438\\u043d\\u0433\",\"\\u0420\\u0435\\u0433\\u0438\\u0441\\u0442\\u0440\\u0430\\u0446\\u0438\\u044f\",\"\\u0414\\u043e\\u0431\\u0430\\u0432\\u043b\\u0435\\u043d\\u0438\\u0435 \\u043f\\u0435\\u0440\\u0432\\u043e\\u0433\\u043e \\u0431\\u043b\\u043e\\u043a\\u0430\",\"\\u041f\\u043e\\u043f\\u044b\\u0442\\u043a\\u0430 \\u043e\\u043f\\u043b\\u0430\\u0442\\u044b\",\"\\u041f\\u043e\\u043a\\u0443\\u043f\\u043a\\u0430 \\u043f\\u043b\\u0430\\u0442\\u043d\\u043e\\u0433\\u043e \\u0442\\u0430\\u0440\\u0438\\u0444\\u0430\"],\"yaxis\":\"y\",\"type\":\"funnel\"},{\"hovertemplate\":\"browser=Samsung Browser<br>count=%{x}<br>event=%{y}<extra></extra>\",\"legendgroup\":\"Samsung Browser\",\"marker\":{\"color\":\"#ab63fa\"},\"name\":\"Samsung Browser\",\"orientation\":\"h\",\"showlegend\":true,\"x\":[153,35,36,7,1],\"xaxis\":\"x\",\"y\":[\"\\u041f\\u0435\\u0440\\u0435\\u0445\\u043e\\u0434 \\u043d\\u0430 \\u043b\\u044d\\u043d\\u0434\\u0438\\u043d\\u0433\",\"\\u0420\\u0435\\u0433\\u0438\\u0441\\u0442\\u0440\\u0430\\u0446\\u0438\\u044f\",\"\\u0414\\u043e\\u0431\\u0430\\u0432\\u043b\\u0435\\u043d\\u0438\\u0435 \\u043f\\u0435\\u0440\\u0432\\u043e\\u0433\\u043e \\u0431\\u043b\\u043e\\u043a\\u0430\",\"\\u041f\\u043e\\u043f\\u044b\\u0442\\u043a\\u0430 \\u043e\\u043f\\u043b\\u0430\\u0442\\u044b\",\"\\u041f\\u043e\\u043a\\u0443\\u043f\\u043a\\u0430 \\u043f\\u043b\\u0430\\u0442\\u043d\\u043e\\u0433\\u043e \\u0442\\u0430\\u0440\\u0438\\u0444\\u0430\"],\"yaxis\":\"y\",\"type\":\"funnel\"},{\"hovertemplate\":\"browser=Facebook<br>count=%{x}<br>event=%{y}<extra></extra>\",\"legendgroup\":\"Facebook\",\"marker\":{\"color\":\"#FFA15A\"},\"name\":\"Facebook\",\"orientation\":\"h\",\"showlegend\":true,\"x\":[4,3,1,0,0],\"xaxis\":\"x\",\"y\":[\"\\u041f\\u0435\\u0440\\u0435\\u0445\\u043e\\u0434 \\u043d\\u0430 \\u043b\\u044d\\u043d\\u0434\\u0438\\u043d\\u0433\",\"\\u0420\\u0435\\u0433\\u0438\\u0441\\u0442\\u0440\\u0430\\u0446\\u0438\\u044f\",\"\\u0414\\u043e\\u0431\\u0430\\u0432\\u043b\\u0435\\u043d\\u0438\\u0435 \\u043f\\u0435\\u0440\\u0432\\u043e\\u0433\\u043e \\u0431\\u043b\\u043e\\u043a\\u0430\",\"\\u041f\\u043e\\u043f\\u044b\\u0442\\u043a\\u0430 \\u043e\\u043f\\u043b\\u0430\\u0442\\u044b\",\"\\u041f\\u043e\\u043a\\u0443\\u043f\\u043a\\u0430 \\u043f\\u043b\\u0430\\u0442\\u043d\\u043e\\u0433\\u043e \\u0442\\u0430\\u0440\\u0438\\u0444\\u0430\"],\"yaxis\":\"y\",\"type\":\"funnel\"},{\"hovertemplate\":\"browser=Edge<br>count=%{x}<br>event=%{y}<extra></extra>\",\"legendgroup\":\"Edge\",\"marker\":{\"color\":\"#19d3f3\"},\"name\":\"Edge\",\"orientation\":\"h\",\"showlegend\":true,\"x\":[72,7,15,1,0],\"xaxis\":\"x\",\"y\":[\"\\u041f\\u0435\\u0440\\u0435\\u0445\\u043e\\u0434 \\u043d\\u0430 \\u043b\\u044d\\u043d\\u0434\\u0438\\u043d\\u0433\",\"\\u0420\\u0435\\u0433\\u0438\\u0441\\u0442\\u0440\\u0430\\u0446\\u0438\\u044f\",\"\\u0414\\u043e\\u0431\\u0430\\u0432\\u043b\\u0435\\u043d\\u0438\\u0435 \\u043f\\u0435\\u0440\\u0432\\u043e\\u0433\\u043e \\u0431\\u043b\\u043e\\u043a\\u0430\",\"\\u041f\\u043e\\u043f\\u044b\\u0442\\u043a\\u0430 \\u043e\\u043f\\u043b\\u0430\\u0442\\u044b\",\"\\u041f\\u043e\\u043a\\u0443\\u043f\\u043a\\u0430 \\u043f\\u043b\\u0430\\u0442\\u043d\\u043e\\u0433\\u043e \\u0442\\u0430\\u0440\\u0438\\u0444\\u0430\"],\"yaxis\":\"y\",\"type\":\"funnel\"},{\"hovertemplate\":\"browser=Quark<br>count=%{x}<br>event=%{y}<extra></extra>\",\"legendgroup\":\"Quark\",\"marker\":{\"color\":\"#FF6692\"},\"name\":\"Quark\",\"orientation\":\"h\",\"showlegend\":true,\"x\":[11,0,0,0,0],\"xaxis\":\"x\",\"y\":[\"\\u041f\\u0435\\u0440\\u0435\\u0445\\u043e\\u0434 \\u043d\\u0430 \\u043b\\u044d\\u043d\\u0434\\u0438\\u043d\\u0433\",\"\\u0420\\u0435\\u0433\\u0438\\u0441\\u0442\\u0440\\u0430\\u0446\\u0438\\u044f\",\"\\u0414\\u043e\\u0431\\u0430\\u0432\\u043b\\u0435\\u043d\\u0438\\u0435 \\u043f\\u0435\\u0440\\u0432\\u043e\\u0433\\u043e \\u0431\\u043b\\u043e\\u043a\\u0430\",\"\\u041f\\u043e\\u043f\\u044b\\u0442\\u043a\\u0430 \\u043e\\u043f\\u043b\\u0430\\u0442\\u044b\",\"\\u041f\\u043e\\u043a\\u0443\\u043f\\u043a\\u0430 \\u043f\\u043b\\u0430\\u0442\\u043d\\u043e\\u0433\\u043e \\u0442\\u0430\\u0440\\u0438\\u0444\\u0430\"],\"yaxis\":\"y\",\"type\":\"funnel\"},{\"hovertemplate\":\"browser=QQBrowser<br>count=%{x}<br>event=%{y}<extra></extra>\",\"legendgroup\":\"QQBrowser\",\"marker\":{\"color\":\"#B6E880\"},\"name\":\"QQBrowser\",\"orientation\":\"h\",\"showlegend\":true,\"x\":[5,0,0,0,0],\"xaxis\":\"x\",\"y\":[\"\\u041f\\u0435\\u0440\\u0435\\u0445\\u043e\\u0434 \\u043d\\u0430 \\u043b\\u044d\\u043d\\u0434\\u0438\\u043d\\u0433\",\"\\u0420\\u0435\\u0433\\u0438\\u0441\\u0442\\u0440\\u0430\\u0446\\u0438\\u044f\",\"\\u0414\\u043e\\u0431\\u0430\\u0432\\u043b\\u0435\\u043d\\u0438\\u0435 \\u043f\\u0435\\u0440\\u0432\\u043e\\u0433\\u043e \\u0431\\u043b\\u043e\\u043a\\u0430\",\"\\u041f\\u043e\\u043f\\u044b\\u0442\\u043a\\u0430 \\u043e\\u043f\\u043b\\u0430\\u0442\\u044b\",\"\\u041f\\u043e\\u043a\\u0443\\u043f\\u043a\\u0430 \\u043f\\u043b\\u0430\\u0442\\u043d\\u043e\\u0433\\u043e \\u0442\\u0430\\u0440\\u0438\\u0444\\u0430\"],\"yaxis\":\"y\",\"type\":\"funnel\"},{\"hovertemplate\":\"browser=Android Browser<br>count=%{x}<br>event=%{y}<extra></extra>\",\"legendgroup\":\"Android Browser\",\"marker\":{\"color\":\"#FF97FF\"},\"name\":\"Android Browser\",\"orientation\":\"h\",\"showlegend\":true,\"x\":[17,3,1,2,0],\"xaxis\":\"x\",\"y\":[\"\\u041f\\u0435\\u0440\\u0435\\u0445\\u043e\\u0434 \\u043d\\u0430 \\u043b\\u044d\\u043d\\u0434\\u0438\\u043d\\u0433\",\"\\u0420\\u0435\\u0433\\u0438\\u0441\\u0442\\u0440\\u0430\\u0446\\u0438\\u044f\",\"\\u0414\\u043e\\u0431\\u0430\\u0432\\u043b\\u0435\\u043d\\u0438\\u0435 \\u043f\\u0435\\u0440\\u0432\\u043e\\u0433\\u043e \\u0431\\u043b\\u043e\\u043a\\u0430\",\"\\u041f\\u043e\\u043f\\u044b\\u0442\\u043a\\u0430 \\u043e\\u043f\\u043b\\u0430\\u0442\\u044b\",\"\\u041f\\u043e\\u043a\\u0443\\u043f\\u043a\\u0430 \\u043f\\u043b\\u0430\\u0442\\u043d\\u043e\\u0433\\u043e \\u0442\\u0430\\u0440\\u0438\\u0444\\u0430\"],\"yaxis\":\"y\",\"type\":\"funnel\"},{\"hovertemplate\":\"browser=UCBrowser<br>count=%{x}<br>event=%{y}<extra></extra>\",\"legendgroup\":\"UCBrowser\",\"marker\":{\"color\":\"#FECB52\"},\"name\":\"UCBrowser\",\"orientation\":\"h\",\"showlegend\":true,\"x\":[22,1,3,0,0],\"xaxis\":\"x\",\"y\":[\"\\u041f\\u0435\\u0440\\u0435\\u0445\\u043e\\u0434 \\u043d\\u0430 \\u043b\\u044d\\u043d\\u0434\\u0438\\u043d\\u0433\",\"\\u0420\\u0435\\u0433\\u0438\\u0441\\u0442\\u0440\\u0430\\u0446\\u0438\\u044f\",\"\\u0414\\u043e\\u0431\\u0430\\u0432\\u043b\\u0435\\u043d\\u0438\\u0435 \\u043f\\u0435\\u0440\\u0432\\u043e\\u0433\\u043e \\u0431\\u043b\\u043e\\u043a\\u0430\",\"\\u041f\\u043e\\u043f\\u044b\\u0442\\u043a\\u0430 \\u043e\\u043f\\u043b\\u0430\\u0442\\u044b\",\"\\u041f\\u043e\\u043a\\u0443\\u043f\\u043a\\u0430 \\u043f\\u043b\\u0430\\u0442\\u043d\\u043e\\u0433\\u043e \\u0442\\u0430\\u0440\\u0438\\u0444\\u0430\"],\"yaxis\":\"y\",\"type\":\"funnel\"},{\"hovertemplate\":\"browser=Chrome Headless<br>count=%{x}<br>event=%{y}<extra></extra>\",\"legendgroup\":\"Chrome Headless\",\"marker\":{\"color\":\"#636efa\"},\"name\":\"Chrome Headless\",\"orientation\":\"h\",\"showlegend\":true,\"x\":[9,0,0,0,0],\"xaxis\":\"x\",\"y\":[\"\\u041f\\u0435\\u0440\\u0435\\u0445\\u043e\\u0434 \\u043d\\u0430 \\u043b\\u044d\\u043d\\u0434\\u0438\\u043d\\u0433\",\"\\u0420\\u0435\\u0433\\u0438\\u0441\\u0442\\u0440\\u0430\\u0446\\u0438\\u044f\",\"\\u0414\\u043e\\u0431\\u0430\\u0432\\u043b\\u0435\\u043d\\u0438\\u0435 \\u043f\\u0435\\u0440\\u0432\\u043e\\u0433\\u043e \\u0431\\u043b\\u043e\\u043a\\u0430\",\"\\u041f\\u043e\\u043f\\u044b\\u0442\\u043a\\u0430 \\u043e\\u043f\\u043b\\u0430\\u0442\\u044b\",\"\\u041f\\u043e\\u043a\\u0443\\u043f\\u043a\\u0430 \\u043f\\u043b\\u0430\\u0442\\u043d\\u043e\\u0433\\u043e \\u0442\\u0430\\u0440\\u0438\\u0444\\u0430\"],\"yaxis\":\"y\",\"type\":\"funnel\"},{\"hovertemplate\":\"browser=Silk<br>count=%{x}<br>event=%{y}<extra></extra>\",\"legendgroup\":\"Silk\",\"marker\":{\"color\":\"#EF553B\"},\"name\":\"Silk\",\"orientation\":\"h\",\"showlegend\":true,\"x\":[1,0,0,0,0],\"xaxis\":\"x\",\"y\":[\"\\u041f\\u0435\\u0440\\u0435\\u0445\\u043e\\u0434 \\u043d\\u0430 \\u043b\\u044d\\u043d\\u0434\\u0438\\u043d\\u0433\",\"\\u0420\\u0435\\u0433\\u0438\\u0441\\u0442\\u0440\\u0430\\u0446\\u0438\\u044f\",\"\\u0414\\u043e\\u0431\\u0430\\u0432\\u043b\\u0435\\u043d\\u0438\\u0435 \\u043f\\u0435\\u0440\\u0432\\u043e\\u0433\\u043e \\u0431\\u043b\\u043e\\u043a\\u0430\",\"\\u041f\\u043e\\u043f\\u044b\\u0442\\u043a\\u0430 \\u043e\\u043f\\u043b\\u0430\\u0442\\u044b\",\"\\u041f\\u043e\\u043a\\u0443\\u043f\\u043a\\u0430 \\u043f\\u043b\\u0430\\u0442\\u043d\\u043e\\u0433\\u043e \\u0442\\u0430\\u0440\\u0438\\u0444\\u0430\"],\"yaxis\":\"y\",\"type\":\"funnel\"},{\"hovertemplate\":\"browser=Waterfox<br>count=%{x}<br>event=%{y}<extra></extra>\",\"legendgroup\":\"Waterfox\",\"marker\":{\"color\":\"#00cc96\"},\"name\":\"Waterfox\",\"orientation\":\"h\",\"showlegend\":true,\"x\":[1,0,0,0,0],\"xaxis\":\"x\",\"y\":[\"\\u041f\\u0435\\u0440\\u0435\\u0445\\u043e\\u0434 \\u043d\\u0430 \\u043b\\u044d\\u043d\\u0434\\u0438\\u043d\\u0433\",\"\\u0420\\u0435\\u0433\\u0438\\u0441\\u0442\\u0440\\u0430\\u0446\\u0438\\u044f\",\"\\u0414\\u043e\\u0431\\u0430\\u0432\\u043b\\u0435\\u043d\\u0438\\u0435 \\u043f\\u0435\\u0440\\u0432\\u043e\\u0433\\u043e \\u0431\\u043b\\u043e\\u043a\\u0430\",\"\\u041f\\u043e\\u043f\\u044b\\u0442\\u043a\\u0430 \\u043e\\u043f\\u043b\\u0430\\u0442\\u044b\",\"\\u041f\\u043e\\u043a\\u0443\\u043f\\u043a\\u0430 \\u043f\\u043b\\u0430\\u0442\\u043d\\u043e\\u0433\\u043e \\u0442\\u0430\\u0440\\u0438\\u0444\\u0430\"],\"yaxis\":\"y\",\"type\":\"funnel\"},{\"hovertemplate\":\"browser=Whale<br>count=%{x}<br>event=%{y}<extra></extra>\",\"legendgroup\":\"Whale\",\"marker\":{\"color\":\"#ab63fa\"},\"name\":\"Whale\",\"orientation\":\"h\",\"showlegend\":true,\"x\":[1,0,0,0,0],\"xaxis\":\"x\",\"y\":[\"\\u041f\\u0435\\u0440\\u0435\\u0445\\u043e\\u0434 \\u043d\\u0430 \\u043b\\u044d\\u043d\\u0434\\u0438\\u043d\\u0433\",\"\\u0420\\u0435\\u0433\\u0438\\u0441\\u0442\\u0440\\u0430\\u0446\\u0438\\u044f\",\"\\u0414\\u043e\\u0431\\u0430\\u0432\\u043b\\u0435\\u043d\\u0438\\u0435 \\u043f\\u0435\\u0440\\u0432\\u043e\\u0433\\u043e \\u0431\\u043b\\u043e\\u043a\\u0430\",\"\\u041f\\u043e\\u043f\\u044b\\u0442\\u043a\\u0430 \\u043e\\u043f\\u043b\\u0430\\u0442\\u044b\",\"\\u041f\\u043e\\u043a\\u0443\\u043f\\u043a\\u0430 \\u043f\\u043b\\u0430\\u0442\\u043d\\u043e\\u0433\\u043e \\u0442\\u0430\\u0440\\u0438\\u0444\\u0430\"],\"yaxis\":\"y\",\"type\":\"funnel\"}],                        {\"template\":{\"data\":{\"bar\":[{\"error_x\":{\"color\":\"#2a3f5f\"},\"error_y\":{\"color\":\"#2a3f5f\"},\"marker\":{\"line\":{\"color\":\"#E5ECF6\",\"width\":0.5},\"pattern\":{\"fillmode\":\"overlay\",\"size\":10,\"solidity\":0.2}},\"type\":\"bar\"}],\"barpolar\":[{\"marker\":{\"line\":{\"color\":\"#E5ECF6\",\"width\":0.5},\"pattern\":{\"fillmode\":\"overlay\",\"size\":10,\"solidity\":0.2}},\"type\":\"barpolar\"}],\"carpet\":[{\"aaxis\":{\"endlinecolor\":\"#2a3f5f\",\"gridcolor\":\"white\",\"linecolor\":\"white\",\"minorgridcolor\":\"white\",\"startlinecolor\":\"#2a3f5f\"},\"baxis\":{\"endlinecolor\":\"#2a3f5f\",\"gridcolor\":\"white\",\"linecolor\":\"white\",\"minorgridcolor\":\"white\",\"startlinecolor\":\"#2a3f5f\"},\"type\":\"carpet\"}],\"choropleth\":[{\"colorbar\":{\"outlinewidth\":0,\"ticks\":\"\"},\"type\":\"choropleth\"}],\"contour\":[{\"colorbar\":{\"outlinewidth\":0,\"ticks\":\"\"},\"colorscale\":[[0.0,\"#0d0887\"],[0.1111111111111111,\"#46039f\"],[0.2222222222222222,\"#7201a8\"],[0.3333333333333333,\"#9c179e\"],[0.4444444444444444,\"#bd3786\"],[0.5555555555555556,\"#d8576b\"],[0.6666666666666666,\"#ed7953\"],[0.7777777777777778,\"#fb9f3a\"],[0.8888888888888888,\"#fdca26\"],[1.0,\"#f0f921\"]],\"type\":\"contour\"}],\"contourcarpet\":[{\"colorbar\":{\"outlinewidth\":0,\"ticks\":\"\"},\"type\":\"contourcarpet\"}],\"heatmap\":[{\"colorbar\":{\"outlinewidth\":0,\"ticks\":\"\"},\"colorscale\":[[0.0,\"#0d0887\"],[0.1111111111111111,\"#46039f\"],[0.2222222222222222,\"#7201a8\"],[0.3333333333333333,\"#9c179e\"],[0.4444444444444444,\"#bd3786\"],[0.5555555555555556,\"#d8576b\"],[0.6666666666666666,\"#ed7953\"],[0.7777777777777778,\"#fb9f3a\"],[0.8888888888888888,\"#fdca26\"],[1.0,\"#f0f921\"]],\"type\":\"heatmap\"}],\"heatmapgl\":[{\"colorbar\":{\"outlinewidth\":0,\"ticks\":\"\"},\"colorscale\":[[0.0,\"#0d0887\"],[0.1111111111111111,\"#46039f\"],[0.2222222222222222,\"#7201a8\"],[0.3333333333333333,\"#9c179e\"],[0.4444444444444444,\"#bd3786\"],[0.5555555555555556,\"#d8576b\"],[0.6666666666666666,\"#ed7953\"],[0.7777777777777778,\"#fb9f3a\"],[0.8888888888888888,\"#fdca26\"],[1.0,\"#f0f921\"]],\"type\":\"heatmapgl\"}],\"histogram\":[{\"marker\":{\"pattern\":{\"fillmode\":\"overlay\",\"size\":10,\"solidity\":0.2}},\"type\":\"histogram\"}],\"histogram2d\":[{\"colorbar\":{\"outlinewidth\":0,\"ticks\":\"\"},\"colorscale\":[[0.0,\"#0d0887\"],[0.1111111111111111,\"#46039f\"],[0.2222222222222222,\"#7201a8\"],[0.3333333333333333,\"#9c179e\"],[0.4444444444444444,\"#bd3786\"],[0.5555555555555556,\"#d8576b\"],[0.6666666666666666,\"#ed7953\"],[0.7777777777777778,\"#fb9f3a\"],[0.8888888888888888,\"#fdca26\"],[1.0,\"#f0f921\"]],\"type\":\"histogram2d\"}],\"histogram2dcontour\":[{\"colorbar\":{\"outlinewidth\":0,\"ticks\":\"\"},\"colorscale\":[[0.0,\"#0d0887\"],[0.1111111111111111,\"#46039f\"],[0.2222222222222222,\"#7201a8\"],[0.3333333333333333,\"#9c179e\"],[0.4444444444444444,\"#bd3786\"],[0.5555555555555556,\"#d8576b\"],[0.6666666666666666,\"#ed7953\"],[0.7777777777777778,\"#fb9f3a\"],[0.8888888888888888,\"#fdca26\"],[1.0,\"#f0f921\"]],\"type\":\"histogram2dcontour\"}],\"mesh3d\":[{\"colorbar\":{\"outlinewidth\":0,\"ticks\":\"\"},\"type\":\"mesh3d\"}],\"parcoords\":[{\"line\":{\"colorbar\":{\"outlinewidth\":0,\"ticks\":\"\"}},\"type\":\"parcoords\"}],\"pie\":[{\"automargin\":true,\"type\":\"pie\"}],\"scatter\":[{\"marker\":{\"colorbar\":{\"outlinewidth\":0,\"ticks\":\"\"}},\"type\":\"scatter\"}],\"scatter3d\":[{\"line\":{\"colorbar\":{\"outlinewidth\":0,\"ticks\":\"\"}},\"marker\":{\"colorbar\":{\"outlinewidth\":0,\"ticks\":\"\"}},\"type\":\"scatter3d\"}],\"scattercarpet\":[{\"marker\":{\"colorbar\":{\"outlinewidth\":0,\"ticks\":\"\"}},\"type\":\"scattercarpet\"}],\"scattergeo\":[{\"marker\":{\"colorbar\":{\"outlinewidth\":0,\"ticks\":\"\"}},\"type\":\"scattergeo\"}],\"scattergl\":[{\"marker\":{\"colorbar\":{\"outlinewidth\":0,\"ticks\":\"\"}},\"type\":\"scattergl\"}],\"scattermapbox\":[{\"marker\":{\"colorbar\":{\"outlinewidth\":0,\"ticks\":\"\"}},\"type\":\"scattermapbox\"}],\"scatterpolar\":[{\"marker\":{\"colorbar\":{\"outlinewidth\":0,\"ticks\":\"\"}},\"type\":\"scatterpolar\"}],\"scatterpolargl\":[{\"marker\":{\"colorbar\":{\"outlinewidth\":0,\"ticks\":\"\"}},\"type\":\"scatterpolargl\"}],\"scatterternary\":[{\"marker\":{\"colorbar\":{\"outlinewidth\":0,\"ticks\":\"\"}},\"type\":\"scatterternary\"}],\"surface\":[{\"colorbar\":{\"outlinewidth\":0,\"ticks\":\"\"},\"colorscale\":[[0.0,\"#0d0887\"],[0.1111111111111111,\"#46039f\"],[0.2222222222222222,\"#7201a8\"],[0.3333333333333333,\"#9c179e\"],[0.4444444444444444,\"#bd3786\"],[0.5555555555555556,\"#d8576b\"],[0.6666666666666666,\"#ed7953\"],[0.7777777777777778,\"#fb9f3a\"],[0.8888888888888888,\"#fdca26\"],[1.0,\"#f0f921\"]],\"type\":\"surface\"}],\"table\":[{\"cells\":{\"fill\":{\"color\":\"#EBF0F8\"},\"line\":{\"color\":\"white\"}},\"header\":{\"fill\":{\"color\":\"#C8D4E3\"},\"line\":{\"color\":\"white\"}},\"type\":\"table\"}]},\"layout\":{\"annotationdefaults\":{\"arrowcolor\":\"#2a3f5f\",\"arrowhead\":0,\"arrowwidth\":1},\"autotypenumbers\":\"strict\",\"coloraxis\":{\"colorbar\":{\"outlinewidth\":0,\"ticks\":\"\"}},\"colorscale\":{\"diverging\":[[0,\"#8e0152\"],[0.1,\"#c51b7d\"],[0.2,\"#de77ae\"],[0.3,\"#f1b6da\"],[0.4,\"#fde0ef\"],[0.5,\"#f7f7f7\"],[0.6,\"#e6f5d0\"],[0.7,\"#b8e186\"],[0.8,\"#7fbc41\"],[0.9,\"#4d9221\"],[1,\"#276419\"]],\"sequential\":[[0.0,\"#0d0887\"],[0.1111111111111111,\"#46039f\"],[0.2222222222222222,\"#7201a8\"],[0.3333333333333333,\"#9c179e\"],[0.4444444444444444,\"#bd3786\"],[0.5555555555555556,\"#d8576b\"],[0.6666666666666666,\"#ed7953\"],[0.7777777777777778,\"#fb9f3a\"],[0.8888888888888888,\"#fdca26\"],[1.0,\"#f0f921\"]],\"sequentialminus\":[[0.0,\"#0d0887\"],[0.1111111111111111,\"#46039f\"],[0.2222222222222222,\"#7201a8\"],[0.3333333333333333,\"#9c179e\"],[0.4444444444444444,\"#bd3786\"],[0.5555555555555556,\"#d8576b\"],[0.6666666666666666,\"#ed7953\"],[0.7777777777777778,\"#fb9f3a\"],[0.8888888888888888,\"#fdca26\"],[1.0,\"#f0f921\"]]},\"colorway\":[\"#636efa\",\"#EF553B\",\"#00cc96\",\"#ab63fa\",\"#FFA15A\",\"#19d3f3\",\"#FF6692\",\"#B6E880\",\"#FF97FF\",\"#FECB52\"],\"font\":{\"color\":\"#2a3f5f\"},\"geo\":{\"bgcolor\":\"white\",\"lakecolor\":\"white\",\"landcolor\":\"#E5ECF6\",\"showlakes\":true,\"showland\":true,\"subunitcolor\":\"white\"},\"hoverlabel\":{\"align\":\"left\"},\"hovermode\":\"closest\",\"mapbox\":{\"style\":\"light\"},\"paper_bgcolor\":\"white\",\"plot_bgcolor\":\"#E5ECF6\",\"polar\":{\"angularaxis\":{\"gridcolor\":\"white\",\"linecolor\":\"white\",\"ticks\":\"\"},\"bgcolor\":\"#E5ECF6\",\"radialaxis\":{\"gridcolor\":\"white\",\"linecolor\":\"white\",\"ticks\":\"\"}},\"scene\":{\"xaxis\":{\"backgroundcolor\":\"#E5ECF6\",\"gridcolor\":\"white\",\"gridwidth\":2,\"linecolor\":\"white\",\"showbackground\":true,\"ticks\":\"\",\"zerolinecolor\":\"white\"},\"yaxis\":{\"backgroundcolor\":\"#E5ECF6\",\"gridcolor\":\"white\",\"gridwidth\":2,\"linecolor\":\"white\",\"showbackground\":true,\"ticks\":\"\",\"zerolinecolor\":\"white\"},\"zaxis\":{\"backgroundcolor\":\"#E5ECF6\",\"gridcolor\":\"white\",\"gridwidth\":2,\"linecolor\":\"white\",\"showbackground\":true,\"ticks\":\"\",\"zerolinecolor\":\"white\"}},\"shapedefaults\":{\"line\":{\"color\":\"#2a3f5f\"}},\"ternary\":{\"aaxis\":{\"gridcolor\":\"white\",\"linecolor\":\"white\",\"ticks\":\"\"},\"baxis\":{\"gridcolor\":\"white\",\"linecolor\":\"white\",\"ticks\":\"\"},\"bgcolor\":\"#E5ECF6\",\"caxis\":{\"gridcolor\":\"white\",\"linecolor\":\"white\",\"ticks\":\"\"}},\"title\":{\"x\":0.05},\"xaxis\":{\"automargin\":true,\"gridcolor\":\"white\",\"linecolor\":\"white\",\"ticks\":\"\",\"title\":{\"standoff\":15},\"zerolinecolor\":\"white\",\"zerolinewidth\":2},\"yaxis\":{\"automargin\":true,\"gridcolor\":\"white\",\"linecolor\":\"white\",\"ticks\":\"\",\"title\":{\"standoff\":15},\"zerolinecolor\":\"white\",\"zerolinewidth\":2}}},\"xaxis\":{\"anchor\":\"y\",\"domain\":[0.0,1.0],\"title\":{\"text\":\"count\"}},\"yaxis\":{\"anchor\":\"x\",\"domain\":[0.0,1.0],\"title\":{\"text\":\"event\"}},\"legend\":{\"title\":{\"text\":\"browser\"},\"tracegroupgap\":0},\"margin\":{\"t\":60}},                        {\"responsive\": true}                    ).then(function(){\n",
       "                            \n",
       "var gd = document.getElementById('04171977-8ec5-4e3c-b010-9d26e504e67d');\n",
       "var x = new MutationObserver(function (mutations, observer) {{\n",
       "        var display = window.getComputedStyle(gd).display;\n",
       "        if (!display || display === 'none') {{\n",
       "            console.log([gd, 'removed!']);\n",
       "            Plotly.purge(gd);\n",
       "            observer.disconnect();\n",
       "        }}\n",
       "}});\n",
       "\n",
       "// Listen for the removal of the full notebook cells\n",
       "var notebookContainer = gd.closest('#notebook-container');\n",
       "if (notebookContainer) {{\n",
       "    x.observe(notebookContainer, {childList: true});\n",
       "}}\n",
       "\n",
       "// Listen for the clearing of the current output cell\n",
       "var outputEl = gd.closest('.output');\n",
       "if (outputEl) {{\n",
       "    x.observe(outputEl, {childList: true});\n",
       "}}\n",
       "\n",
       "                        })                };                });            </script>        </div>"
      ]
     },
     "metadata": {},
     "output_type": "display_data"
    },
    {
     "name": "stdout",
     "output_type": "stream",
     "text": [
      "# Разбивка по операционной системе\n"
     ]
    },
    {
     "data": {
      "application/vnd.plotly.v1+json": {
       "config": {
        "plotlyServerURL": "https://plot.ly"
       },
       "data": [
        {
         "hovertemplate": "os= - <br>count=%{x}<br>event=%{y}<extra></extra>",
         "legendgroup": " - ",
         "marker": {
          "color": "#636efa"
         },
         "name": " - ",
         "orientation": "h",
         "showlegend": true,
         "type": "funnel",
         "x": [
          0,
          0,
          0,
          0,
          0
         ],
         "xaxis": "x",
         "y": [
          "Переход на лэндинг",
          "Регистрация",
          "Добавление первого блока",
          "Попытка оплаты",
          "Покупка платного тарифа"
         ],
         "yaxis": "y"
        },
        {
         "hovertemplate": "os=Ubuntu<br>count=%{x}<br>event=%{y}<extra></extra>",
         "legendgroup": "Ubuntu",
         "marker": {
          "color": "#EF553B"
         },
         "name": "Ubuntu",
         "orientation": "h",
         "showlegend": true,
         "type": "funnel",
         "x": [
          3,
          0,
          1,
          0,
          0
         ],
         "xaxis": "x",
         "y": [
          "Переход на лэндинг",
          "Регистрация",
          "Добавление первого блока",
          "Попытка оплаты",
          "Покупка платного тарифа"
         ],
         "yaxis": "y"
        },
        {
         "hovertemplate": "os=iOS<br>count=%{x}<br>event=%{y}<extra></extra>",
         "legendgroup": "iOS",
         "marker": {
          "color": "#00cc96"
         },
         "name": "iOS",
         "orientation": "h",
         "showlegend": true,
         "type": "funnel",
         "x": [
          1603,
          547,
          497,
          74,
          3
         ],
         "xaxis": "x",
         "y": [
          "Переход на лэндинг",
          "Регистрация",
          "Добавление первого блока",
          "Попытка оплаты",
          "Покупка платного тарифа"
         ],
         "yaxis": "y"
        },
        {
         "hovertemplate": "os=Linux<br>count=%{x}<br>event=%{y}<extra></extra>",
         "legendgroup": "Linux",
         "marker": {
          "color": "#ab63fa"
         },
         "name": "Linux",
         "orientation": "h",
         "showlegend": true,
         "type": "funnel",
         "x": [
          52,
          4,
          10,
          1,
          0
         ],
         "xaxis": "x",
         "y": [
          "Переход на лэндинг",
          "Регистрация",
          "Добавление первого блока",
          "Попытка оплаты",
          "Покупка платного тарифа"
         ],
         "yaxis": "y"
        },
        {
         "hovertemplate": "os=Mac OS<br>count=%{x}<br>event=%{y}<extra></extra>",
         "legendgroup": "Mac OS",
         "marker": {
          "color": "#FFA15A"
         },
         "name": "Mac OS",
         "orientation": "h",
         "showlegend": true,
         "type": "funnel",
         "x": [
          307,
          27,
          46,
          6,
          1
         ],
         "xaxis": "x",
         "y": [
          "Переход на лэндинг",
          "Регистрация",
          "Добавление первого блока",
          "Попытка оплаты",
          "Покупка платного тарифа"
         ],
         "yaxis": "y"
        },
        {
         "hovertemplate": "os=Android<br>count=%{x}<br>event=%{y}<extra></extra>",
         "legendgroup": "Android",
         "marker": {
          "color": "#19d3f3"
         },
         "name": "Android",
         "orientation": "h",
         "showlegend": true,
         "type": "funnel",
         "x": [
          4335,
          1220,
          1051,
          90,
          7
         ],
         "xaxis": "x",
         "y": [
          "Переход на лэндинг",
          "Регистрация",
          "Добавление первого блока",
          "Попытка оплаты",
          "Покупка платного тарифа"
         ],
         "yaxis": "y"
        },
        {
         "hovertemplate": "os=Windows<br>count=%{x}<br>event=%{y}<extra></extra>",
         "legendgroup": "Windows",
         "marker": {
          "color": "#FF6692"
         },
         "name": "Windows",
         "orientation": "h",
         "showlegend": true,
         "type": "funnel",
         "x": [
          1267,
          128,
          206,
          28,
          8
         ],
         "xaxis": "x",
         "y": [
          "Переход на лэндинг",
          "Регистрация",
          "Добавление первого блока",
          "Попытка оплаты",
          "Покупка платного тарифа"
         ],
         "yaxis": "y"
        },
        {
         "hovertemplate": "os=Chromium OS<br>count=%{x}<br>event=%{y}<extra></extra>",
         "legendgroup": "Chromium OS",
         "marker": {
          "color": "#B6E880"
         },
         "name": "Chromium OS",
         "orientation": "h",
         "showlegend": true,
         "type": "funnel",
         "x": [
          9,
          0,
          0,
          0,
          0
         ],
         "xaxis": "x",
         "y": [
          "Переход на лэндинг",
          "Регистрация",
          "Добавление первого блока",
          "Попытка оплаты",
          "Покупка платного тарифа"
         ],
         "yaxis": "y"
        },
        {
         "hovertemplate": "os=Fedora<br>count=%{x}<br>event=%{y}<extra></extra>",
         "legendgroup": "Fedora",
         "marker": {
          "color": "#FF97FF"
         },
         "name": "Fedora",
         "orientation": "h",
         "showlegend": true,
         "type": "funnel",
         "x": [
          1,
          0,
          0,
          0,
          0
         ],
         "xaxis": "x",
         "y": [
          "Переход на лэндинг",
          "Регистрация",
          "Добавление первого блока",
          "Попытка оплаты",
          "Покупка платного тарифа"
         ],
         "yaxis": "y"
        }
       ],
       "layout": {
        "legend": {
         "title": {
          "text": "os"
         },
         "tracegroupgap": 0
        },
        "margin": {
         "t": 60
        },
        "template": {
         "data": {
          "bar": [
           {
            "error_x": {
             "color": "#2a3f5f"
            },
            "error_y": {
             "color": "#2a3f5f"
            },
            "marker": {
             "line": {
              "color": "#E5ECF6",
              "width": 0.5
             },
             "pattern": {
              "fillmode": "overlay",
              "size": 10,
              "solidity": 0.2
             }
            },
            "type": "bar"
           }
          ],
          "barpolar": [
           {
            "marker": {
             "line": {
              "color": "#E5ECF6",
              "width": 0.5
             },
             "pattern": {
              "fillmode": "overlay",
              "size": 10,
              "solidity": 0.2
             }
            },
            "type": "barpolar"
           }
          ],
          "carpet": [
           {
            "aaxis": {
             "endlinecolor": "#2a3f5f",
             "gridcolor": "white",
             "linecolor": "white",
             "minorgridcolor": "white",
             "startlinecolor": "#2a3f5f"
            },
            "baxis": {
             "endlinecolor": "#2a3f5f",
             "gridcolor": "white",
             "linecolor": "white",
             "minorgridcolor": "white",
             "startlinecolor": "#2a3f5f"
            },
            "type": "carpet"
           }
          ],
          "choropleth": [
           {
            "colorbar": {
             "outlinewidth": 0,
             "ticks": ""
            },
            "type": "choropleth"
           }
          ],
          "contour": [
           {
            "colorbar": {
             "outlinewidth": 0,
             "ticks": ""
            },
            "colorscale": [
             [
              0,
              "#0d0887"
             ],
             [
              0.1111111111111111,
              "#46039f"
             ],
             [
              0.2222222222222222,
              "#7201a8"
             ],
             [
              0.3333333333333333,
              "#9c179e"
             ],
             [
              0.4444444444444444,
              "#bd3786"
             ],
             [
              0.5555555555555556,
              "#d8576b"
             ],
             [
              0.6666666666666666,
              "#ed7953"
             ],
             [
              0.7777777777777778,
              "#fb9f3a"
             ],
             [
              0.8888888888888888,
              "#fdca26"
             ],
             [
              1,
              "#f0f921"
             ]
            ],
            "type": "contour"
           }
          ],
          "contourcarpet": [
           {
            "colorbar": {
             "outlinewidth": 0,
             "ticks": ""
            },
            "type": "contourcarpet"
           }
          ],
          "heatmap": [
           {
            "colorbar": {
             "outlinewidth": 0,
             "ticks": ""
            },
            "colorscale": [
             [
              0,
              "#0d0887"
             ],
             [
              0.1111111111111111,
              "#46039f"
             ],
             [
              0.2222222222222222,
              "#7201a8"
             ],
             [
              0.3333333333333333,
              "#9c179e"
             ],
             [
              0.4444444444444444,
              "#bd3786"
             ],
             [
              0.5555555555555556,
              "#d8576b"
             ],
             [
              0.6666666666666666,
              "#ed7953"
             ],
             [
              0.7777777777777778,
              "#fb9f3a"
             ],
             [
              0.8888888888888888,
              "#fdca26"
             ],
             [
              1,
              "#f0f921"
             ]
            ],
            "type": "heatmap"
           }
          ],
          "heatmapgl": [
           {
            "colorbar": {
             "outlinewidth": 0,
             "ticks": ""
            },
            "colorscale": [
             [
              0,
              "#0d0887"
             ],
             [
              0.1111111111111111,
              "#46039f"
             ],
             [
              0.2222222222222222,
              "#7201a8"
             ],
             [
              0.3333333333333333,
              "#9c179e"
             ],
             [
              0.4444444444444444,
              "#bd3786"
             ],
             [
              0.5555555555555556,
              "#d8576b"
             ],
             [
              0.6666666666666666,
              "#ed7953"
             ],
             [
              0.7777777777777778,
              "#fb9f3a"
             ],
             [
              0.8888888888888888,
              "#fdca26"
             ],
             [
              1,
              "#f0f921"
             ]
            ],
            "type": "heatmapgl"
           }
          ],
          "histogram": [
           {
            "marker": {
             "pattern": {
              "fillmode": "overlay",
              "size": 10,
              "solidity": 0.2
             }
            },
            "type": "histogram"
           }
          ],
          "histogram2d": [
           {
            "colorbar": {
             "outlinewidth": 0,
             "ticks": ""
            },
            "colorscale": [
             [
              0,
              "#0d0887"
             ],
             [
              0.1111111111111111,
              "#46039f"
             ],
             [
              0.2222222222222222,
              "#7201a8"
             ],
             [
              0.3333333333333333,
              "#9c179e"
             ],
             [
              0.4444444444444444,
              "#bd3786"
             ],
             [
              0.5555555555555556,
              "#d8576b"
             ],
             [
              0.6666666666666666,
              "#ed7953"
             ],
             [
              0.7777777777777778,
              "#fb9f3a"
             ],
             [
              0.8888888888888888,
              "#fdca26"
             ],
             [
              1,
              "#f0f921"
             ]
            ],
            "type": "histogram2d"
           }
          ],
          "histogram2dcontour": [
           {
            "colorbar": {
             "outlinewidth": 0,
             "ticks": ""
            },
            "colorscale": [
             [
              0,
              "#0d0887"
             ],
             [
              0.1111111111111111,
              "#46039f"
             ],
             [
              0.2222222222222222,
              "#7201a8"
             ],
             [
              0.3333333333333333,
              "#9c179e"
             ],
             [
              0.4444444444444444,
              "#bd3786"
             ],
             [
              0.5555555555555556,
              "#d8576b"
             ],
             [
              0.6666666666666666,
              "#ed7953"
             ],
             [
              0.7777777777777778,
              "#fb9f3a"
             ],
             [
              0.8888888888888888,
              "#fdca26"
             ],
             [
              1,
              "#f0f921"
             ]
            ],
            "type": "histogram2dcontour"
           }
          ],
          "mesh3d": [
           {
            "colorbar": {
             "outlinewidth": 0,
             "ticks": ""
            },
            "type": "mesh3d"
           }
          ],
          "parcoords": [
           {
            "line": {
             "colorbar": {
              "outlinewidth": 0,
              "ticks": ""
             }
            },
            "type": "parcoords"
           }
          ],
          "pie": [
           {
            "automargin": true,
            "type": "pie"
           }
          ],
          "scatter": [
           {
            "marker": {
             "colorbar": {
              "outlinewidth": 0,
              "ticks": ""
             }
            },
            "type": "scatter"
           }
          ],
          "scatter3d": [
           {
            "line": {
             "colorbar": {
              "outlinewidth": 0,
              "ticks": ""
             }
            },
            "marker": {
             "colorbar": {
              "outlinewidth": 0,
              "ticks": ""
             }
            },
            "type": "scatter3d"
           }
          ],
          "scattercarpet": [
           {
            "marker": {
             "colorbar": {
              "outlinewidth": 0,
              "ticks": ""
             }
            },
            "type": "scattercarpet"
           }
          ],
          "scattergeo": [
           {
            "marker": {
             "colorbar": {
              "outlinewidth": 0,
              "ticks": ""
             }
            },
            "type": "scattergeo"
           }
          ],
          "scattergl": [
           {
            "marker": {
             "colorbar": {
              "outlinewidth": 0,
              "ticks": ""
             }
            },
            "type": "scattergl"
           }
          ],
          "scattermapbox": [
           {
            "marker": {
             "colorbar": {
              "outlinewidth": 0,
              "ticks": ""
             }
            },
            "type": "scattermapbox"
           }
          ],
          "scatterpolar": [
           {
            "marker": {
             "colorbar": {
              "outlinewidth": 0,
              "ticks": ""
             }
            },
            "type": "scatterpolar"
           }
          ],
          "scatterpolargl": [
           {
            "marker": {
             "colorbar": {
              "outlinewidth": 0,
              "ticks": ""
             }
            },
            "type": "scatterpolargl"
           }
          ],
          "scatterternary": [
           {
            "marker": {
             "colorbar": {
              "outlinewidth": 0,
              "ticks": ""
             }
            },
            "type": "scatterternary"
           }
          ],
          "surface": [
           {
            "colorbar": {
             "outlinewidth": 0,
             "ticks": ""
            },
            "colorscale": [
             [
              0,
              "#0d0887"
             ],
             [
              0.1111111111111111,
              "#46039f"
             ],
             [
              0.2222222222222222,
              "#7201a8"
             ],
             [
              0.3333333333333333,
              "#9c179e"
             ],
             [
              0.4444444444444444,
              "#bd3786"
             ],
             [
              0.5555555555555556,
              "#d8576b"
             ],
             [
              0.6666666666666666,
              "#ed7953"
             ],
             [
              0.7777777777777778,
              "#fb9f3a"
             ],
             [
              0.8888888888888888,
              "#fdca26"
             ],
             [
              1,
              "#f0f921"
             ]
            ],
            "type": "surface"
           }
          ],
          "table": [
           {
            "cells": {
             "fill": {
              "color": "#EBF0F8"
             },
             "line": {
              "color": "white"
             }
            },
            "header": {
             "fill": {
              "color": "#C8D4E3"
             },
             "line": {
              "color": "white"
             }
            },
            "type": "table"
           }
          ]
         },
         "layout": {
          "annotationdefaults": {
           "arrowcolor": "#2a3f5f",
           "arrowhead": 0,
           "arrowwidth": 1
          },
          "autotypenumbers": "strict",
          "coloraxis": {
           "colorbar": {
            "outlinewidth": 0,
            "ticks": ""
           }
          },
          "colorscale": {
           "diverging": [
            [
             0,
             "#8e0152"
            ],
            [
             0.1,
             "#c51b7d"
            ],
            [
             0.2,
             "#de77ae"
            ],
            [
             0.3,
             "#f1b6da"
            ],
            [
             0.4,
             "#fde0ef"
            ],
            [
             0.5,
             "#f7f7f7"
            ],
            [
             0.6,
             "#e6f5d0"
            ],
            [
             0.7,
             "#b8e186"
            ],
            [
             0.8,
             "#7fbc41"
            ],
            [
             0.9,
             "#4d9221"
            ],
            [
             1,
             "#276419"
            ]
           ],
           "sequential": [
            [
             0,
             "#0d0887"
            ],
            [
             0.1111111111111111,
             "#46039f"
            ],
            [
             0.2222222222222222,
             "#7201a8"
            ],
            [
             0.3333333333333333,
             "#9c179e"
            ],
            [
             0.4444444444444444,
             "#bd3786"
            ],
            [
             0.5555555555555556,
             "#d8576b"
            ],
            [
             0.6666666666666666,
             "#ed7953"
            ],
            [
             0.7777777777777778,
             "#fb9f3a"
            ],
            [
             0.8888888888888888,
             "#fdca26"
            ],
            [
             1,
             "#f0f921"
            ]
           ],
           "sequentialminus": [
            [
             0,
             "#0d0887"
            ],
            [
             0.1111111111111111,
             "#46039f"
            ],
            [
             0.2222222222222222,
             "#7201a8"
            ],
            [
             0.3333333333333333,
             "#9c179e"
            ],
            [
             0.4444444444444444,
             "#bd3786"
            ],
            [
             0.5555555555555556,
             "#d8576b"
            ],
            [
             0.6666666666666666,
             "#ed7953"
            ],
            [
             0.7777777777777778,
             "#fb9f3a"
            ],
            [
             0.8888888888888888,
             "#fdca26"
            ],
            [
             1,
             "#f0f921"
            ]
           ]
          },
          "colorway": [
           "#636efa",
           "#EF553B",
           "#00cc96",
           "#ab63fa",
           "#FFA15A",
           "#19d3f3",
           "#FF6692",
           "#B6E880",
           "#FF97FF",
           "#FECB52"
          ],
          "font": {
           "color": "#2a3f5f"
          },
          "geo": {
           "bgcolor": "white",
           "lakecolor": "white",
           "landcolor": "#E5ECF6",
           "showlakes": true,
           "showland": true,
           "subunitcolor": "white"
          },
          "hoverlabel": {
           "align": "left"
          },
          "hovermode": "closest",
          "mapbox": {
           "style": "light"
          },
          "paper_bgcolor": "white",
          "plot_bgcolor": "#E5ECF6",
          "polar": {
           "angularaxis": {
            "gridcolor": "white",
            "linecolor": "white",
            "ticks": ""
           },
           "bgcolor": "#E5ECF6",
           "radialaxis": {
            "gridcolor": "white",
            "linecolor": "white",
            "ticks": ""
           }
          },
          "scene": {
           "xaxis": {
            "backgroundcolor": "#E5ECF6",
            "gridcolor": "white",
            "gridwidth": 2,
            "linecolor": "white",
            "showbackground": true,
            "ticks": "",
            "zerolinecolor": "white"
           },
           "yaxis": {
            "backgroundcolor": "#E5ECF6",
            "gridcolor": "white",
            "gridwidth": 2,
            "linecolor": "white",
            "showbackground": true,
            "ticks": "",
            "zerolinecolor": "white"
           },
           "zaxis": {
            "backgroundcolor": "#E5ECF6",
            "gridcolor": "white",
            "gridwidth": 2,
            "linecolor": "white",
            "showbackground": true,
            "ticks": "",
            "zerolinecolor": "white"
           }
          },
          "shapedefaults": {
           "line": {
            "color": "#2a3f5f"
           }
          },
          "ternary": {
           "aaxis": {
            "gridcolor": "white",
            "linecolor": "white",
            "ticks": ""
           },
           "baxis": {
            "gridcolor": "white",
            "linecolor": "white",
            "ticks": ""
           },
           "bgcolor": "#E5ECF6",
           "caxis": {
            "gridcolor": "white",
            "linecolor": "white",
            "ticks": ""
           }
          },
          "title": {
           "x": 0.05
          },
          "xaxis": {
           "automargin": true,
           "gridcolor": "white",
           "linecolor": "white",
           "ticks": "",
           "title": {
            "standoff": 15
           },
           "zerolinecolor": "white",
           "zerolinewidth": 2
          },
          "yaxis": {
           "automargin": true,
           "gridcolor": "white",
           "linecolor": "white",
           "ticks": "",
           "title": {
            "standoff": 15
           },
           "zerolinecolor": "white",
           "zerolinewidth": 2
          }
         }
        },
        "xaxis": {
         "anchor": "y",
         "domain": [
          0,
          1
         ],
         "title": {
          "text": "count"
         }
        },
        "yaxis": {
         "anchor": "x",
         "domain": [
          0,
          1
         ],
         "title": {
          "text": "event"
         }
        }
       }
      },
      "text/html": [
       "<div>                            <div id=\"86dcc79c-8c26-4f03-b04b-1aeca44799bf\" class=\"plotly-graph-div\" style=\"height:525px; width:100%;\"></div>            <script type=\"text/javascript\">                require([\"plotly\"], function(Plotly) {                    window.PLOTLYENV=window.PLOTLYENV || {};                                    if (document.getElementById(\"86dcc79c-8c26-4f03-b04b-1aeca44799bf\")) {                    Plotly.newPlot(                        \"86dcc79c-8c26-4f03-b04b-1aeca44799bf\",                        [{\"hovertemplate\":\"os= - <br>count=%{x}<br>event=%{y}<extra></extra>\",\"legendgroup\":\" - \",\"marker\":{\"color\":\"#636efa\"},\"name\":\" - \",\"orientation\":\"h\",\"showlegend\":true,\"x\":[0,0,0,0,0],\"xaxis\":\"x\",\"y\":[\"\\u041f\\u0435\\u0440\\u0435\\u0445\\u043e\\u0434 \\u043d\\u0430 \\u043b\\u044d\\u043d\\u0434\\u0438\\u043d\\u0433\",\"\\u0420\\u0435\\u0433\\u0438\\u0441\\u0442\\u0440\\u0430\\u0446\\u0438\\u044f\",\"\\u0414\\u043e\\u0431\\u0430\\u0432\\u043b\\u0435\\u043d\\u0438\\u0435 \\u043f\\u0435\\u0440\\u0432\\u043e\\u0433\\u043e \\u0431\\u043b\\u043e\\u043a\\u0430\",\"\\u041f\\u043e\\u043f\\u044b\\u0442\\u043a\\u0430 \\u043e\\u043f\\u043b\\u0430\\u0442\\u044b\",\"\\u041f\\u043e\\u043a\\u0443\\u043f\\u043a\\u0430 \\u043f\\u043b\\u0430\\u0442\\u043d\\u043e\\u0433\\u043e \\u0442\\u0430\\u0440\\u0438\\u0444\\u0430\"],\"yaxis\":\"y\",\"type\":\"funnel\"},{\"hovertemplate\":\"os=Ubuntu<br>count=%{x}<br>event=%{y}<extra></extra>\",\"legendgroup\":\"Ubuntu\",\"marker\":{\"color\":\"#EF553B\"},\"name\":\"Ubuntu\",\"orientation\":\"h\",\"showlegend\":true,\"x\":[3,0,1,0,0],\"xaxis\":\"x\",\"y\":[\"\\u041f\\u0435\\u0440\\u0435\\u0445\\u043e\\u0434 \\u043d\\u0430 \\u043b\\u044d\\u043d\\u0434\\u0438\\u043d\\u0433\",\"\\u0420\\u0435\\u0433\\u0438\\u0441\\u0442\\u0440\\u0430\\u0446\\u0438\\u044f\",\"\\u0414\\u043e\\u0431\\u0430\\u0432\\u043b\\u0435\\u043d\\u0438\\u0435 \\u043f\\u0435\\u0440\\u0432\\u043e\\u0433\\u043e \\u0431\\u043b\\u043e\\u043a\\u0430\",\"\\u041f\\u043e\\u043f\\u044b\\u0442\\u043a\\u0430 \\u043e\\u043f\\u043b\\u0430\\u0442\\u044b\",\"\\u041f\\u043e\\u043a\\u0443\\u043f\\u043a\\u0430 \\u043f\\u043b\\u0430\\u0442\\u043d\\u043e\\u0433\\u043e \\u0442\\u0430\\u0440\\u0438\\u0444\\u0430\"],\"yaxis\":\"y\",\"type\":\"funnel\"},{\"hovertemplate\":\"os=iOS<br>count=%{x}<br>event=%{y}<extra></extra>\",\"legendgroup\":\"iOS\",\"marker\":{\"color\":\"#00cc96\"},\"name\":\"iOS\",\"orientation\":\"h\",\"showlegend\":true,\"x\":[1603,547,497,74,3],\"xaxis\":\"x\",\"y\":[\"\\u041f\\u0435\\u0440\\u0435\\u0445\\u043e\\u0434 \\u043d\\u0430 \\u043b\\u044d\\u043d\\u0434\\u0438\\u043d\\u0433\",\"\\u0420\\u0435\\u0433\\u0438\\u0441\\u0442\\u0440\\u0430\\u0446\\u0438\\u044f\",\"\\u0414\\u043e\\u0431\\u0430\\u0432\\u043b\\u0435\\u043d\\u0438\\u0435 \\u043f\\u0435\\u0440\\u0432\\u043e\\u0433\\u043e \\u0431\\u043b\\u043e\\u043a\\u0430\",\"\\u041f\\u043e\\u043f\\u044b\\u0442\\u043a\\u0430 \\u043e\\u043f\\u043b\\u0430\\u0442\\u044b\",\"\\u041f\\u043e\\u043a\\u0443\\u043f\\u043a\\u0430 \\u043f\\u043b\\u0430\\u0442\\u043d\\u043e\\u0433\\u043e \\u0442\\u0430\\u0440\\u0438\\u0444\\u0430\"],\"yaxis\":\"y\",\"type\":\"funnel\"},{\"hovertemplate\":\"os=Linux<br>count=%{x}<br>event=%{y}<extra></extra>\",\"legendgroup\":\"Linux\",\"marker\":{\"color\":\"#ab63fa\"},\"name\":\"Linux\",\"orientation\":\"h\",\"showlegend\":true,\"x\":[52,4,10,1,0],\"xaxis\":\"x\",\"y\":[\"\\u041f\\u0435\\u0440\\u0435\\u0445\\u043e\\u0434 \\u043d\\u0430 \\u043b\\u044d\\u043d\\u0434\\u0438\\u043d\\u0433\",\"\\u0420\\u0435\\u0433\\u0438\\u0441\\u0442\\u0440\\u0430\\u0446\\u0438\\u044f\",\"\\u0414\\u043e\\u0431\\u0430\\u0432\\u043b\\u0435\\u043d\\u0438\\u0435 \\u043f\\u0435\\u0440\\u0432\\u043e\\u0433\\u043e \\u0431\\u043b\\u043e\\u043a\\u0430\",\"\\u041f\\u043e\\u043f\\u044b\\u0442\\u043a\\u0430 \\u043e\\u043f\\u043b\\u0430\\u0442\\u044b\",\"\\u041f\\u043e\\u043a\\u0443\\u043f\\u043a\\u0430 \\u043f\\u043b\\u0430\\u0442\\u043d\\u043e\\u0433\\u043e \\u0442\\u0430\\u0440\\u0438\\u0444\\u0430\"],\"yaxis\":\"y\",\"type\":\"funnel\"},{\"hovertemplate\":\"os=Mac OS<br>count=%{x}<br>event=%{y}<extra></extra>\",\"legendgroup\":\"Mac OS\",\"marker\":{\"color\":\"#FFA15A\"},\"name\":\"Mac OS\",\"orientation\":\"h\",\"showlegend\":true,\"x\":[307,27,46,6,1],\"xaxis\":\"x\",\"y\":[\"\\u041f\\u0435\\u0440\\u0435\\u0445\\u043e\\u0434 \\u043d\\u0430 \\u043b\\u044d\\u043d\\u0434\\u0438\\u043d\\u0433\",\"\\u0420\\u0435\\u0433\\u0438\\u0441\\u0442\\u0440\\u0430\\u0446\\u0438\\u044f\",\"\\u0414\\u043e\\u0431\\u0430\\u0432\\u043b\\u0435\\u043d\\u0438\\u0435 \\u043f\\u0435\\u0440\\u0432\\u043e\\u0433\\u043e \\u0431\\u043b\\u043e\\u043a\\u0430\",\"\\u041f\\u043e\\u043f\\u044b\\u0442\\u043a\\u0430 \\u043e\\u043f\\u043b\\u0430\\u0442\\u044b\",\"\\u041f\\u043e\\u043a\\u0443\\u043f\\u043a\\u0430 \\u043f\\u043b\\u0430\\u0442\\u043d\\u043e\\u0433\\u043e \\u0442\\u0430\\u0440\\u0438\\u0444\\u0430\"],\"yaxis\":\"y\",\"type\":\"funnel\"},{\"hovertemplate\":\"os=Android<br>count=%{x}<br>event=%{y}<extra></extra>\",\"legendgroup\":\"Android\",\"marker\":{\"color\":\"#19d3f3\"},\"name\":\"Android\",\"orientation\":\"h\",\"showlegend\":true,\"x\":[4335,1220,1051,90,7],\"xaxis\":\"x\",\"y\":[\"\\u041f\\u0435\\u0440\\u0435\\u0445\\u043e\\u0434 \\u043d\\u0430 \\u043b\\u044d\\u043d\\u0434\\u0438\\u043d\\u0433\",\"\\u0420\\u0435\\u0433\\u0438\\u0441\\u0442\\u0440\\u0430\\u0446\\u0438\\u044f\",\"\\u0414\\u043e\\u0431\\u0430\\u0432\\u043b\\u0435\\u043d\\u0438\\u0435 \\u043f\\u0435\\u0440\\u0432\\u043e\\u0433\\u043e \\u0431\\u043b\\u043e\\u043a\\u0430\",\"\\u041f\\u043e\\u043f\\u044b\\u0442\\u043a\\u0430 \\u043e\\u043f\\u043b\\u0430\\u0442\\u044b\",\"\\u041f\\u043e\\u043a\\u0443\\u043f\\u043a\\u0430 \\u043f\\u043b\\u0430\\u0442\\u043d\\u043e\\u0433\\u043e \\u0442\\u0430\\u0440\\u0438\\u0444\\u0430\"],\"yaxis\":\"y\",\"type\":\"funnel\"},{\"hovertemplate\":\"os=Windows<br>count=%{x}<br>event=%{y}<extra></extra>\",\"legendgroup\":\"Windows\",\"marker\":{\"color\":\"#FF6692\"},\"name\":\"Windows\",\"orientation\":\"h\",\"showlegend\":true,\"x\":[1267,128,206,28,8],\"xaxis\":\"x\",\"y\":[\"\\u041f\\u0435\\u0440\\u0435\\u0445\\u043e\\u0434 \\u043d\\u0430 \\u043b\\u044d\\u043d\\u0434\\u0438\\u043d\\u0433\",\"\\u0420\\u0435\\u0433\\u0438\\u0441\\u0442\\u0440\\u0430\\u0446\\u0438\\u044f\",\"\\u0414\\u043e\\u0431\\u0430\\u0432\\u043b\\u0435\\u043d\\u0438\\u0435 \\u043f\\u0435\\u0440\\u0432\\u043e\\u0433\\u043e \\u0431\\u043b\\u043e\\u043a\\u0430\",\"\\u041f\\u043e\\u043f\\u044b\\u0442\\u043a\\u0430 \\u043e\\u043f\\u043b\\u0430\\u0442\\u044b\",\"\\u041f\\u043e\\u043a\\u0443\\u043f\\u043a\\u0430 \\u043f\\u043b\\u0430\\u0442\\u043d\\u043e\\u0433\\u043e \\u0442\\u0430\\u0440\\u0438\\u0444\\u0430\"],\"yaxis\":\"y\",\"type\":\"funnel\"},{\"hovertemplate\":\"os=Chromium OS<br>count=%{x}<br>event=%{y}<extra></extra>\",\"legendgroup\":\"Chromium OS\",\"marker\":{\"color\":\"#B6E880\"},\"name\":\"Chromium OS\",\"orientation\":\"h\",\"showlegend\":true,\"x\":[9,0,0,0,0],\"xaxis\":\"x\",\"y\":[\"\\u041f\\u0435\\u0440\\u0435\\u0445\\u043e\\u0434 \\u043d\\u0430 \\u043b\\u044d\\u043d\\u0434\\u0438\\u043d\\u0433\",\"\\u0420\\u0435\\u0433\\u0438\\u0441\\u0442\\u0440\\u0430\\u0446\\u0438\\u044f\",\"\\u0414\\u043e\\u0431\\u0430\\u0432\\u043b\\u0435\\u043d\\u0438\\u0435 \\u043f\\u0435\\u0440\\u0432\\u043e\\u0433\\u043e \\u0431\\u043b\\u043e\\u043a\\u0430\",\"\\u041f\\u043e\\u043f\\u044b\\u0442\\u043a\\u0430 \\u043e\\u043f\\u043b\\u0430\\u0442\\u044b\",\"\\u041f\\u043e\\u043a\\u0443\\u043f\\u043a\\u0430 \\u043f\\u043b\\u0430\\u0442\\u043d\\u043e\\u0433\\u043e \\u0442\\u0430\\u0440\\u0438\\u0444\\u0430\"],\"yaxis\":\"y\",\"type\":\"funnel\"},{\"hovertemplate\":\"os=Fedora<br>count=%{x}<br>event=%{y}<extra></extra>\",\"legendgroup\":\"Fedora\",\"marker\":{\"color\":\"#FF97FF\"},\"name\":\"Fedora\",\"orientation\":\"h\",\"showlegend\":true,\"x\":[1,0,0,0,0],\"xaxis\":\"x\",\"y\":[\"\\u041f\\u0435\\u0440\\u0435\\u0445\\u043e\\u0434 \\u043d\\u0430 \\u043b\\u044d\\u043d\\u0434\\u0438\\u043d\\u0433\",\"\\u0420\\u0435\\u0433\\u0438\\u0441\\u0442\\u0440\\u0430\\u0446\\u0438\\u044f\",\"\\u0414\\u043e\\u0431\\u0430\\u0432\\u043b\\u0435\\u043d\\u0438\\u0435 \\u043f\\u0435\\u0440\\u0432\\u043e\\u0433\\u043e \\u0431\\u043b\\u043e\\u043a\\u0430\",\"\\u041f\\u043e\\u043f\\u044b\\u0442\\u043a\\u0430 \\u043e\\u043f\\u043b\\u0430\\u0442\\u044b\",\"\\u041f\\u043e\\u043a\\u0443\\u043f\\u043a\\u0430 \\u043f\\u043b\\u0430\\u0442\\u043d\\u043e\\u0433\\u043e \\u0442\\u0430\\u0440\\u0438\\u0444\\u0430\"],\"yaxis\":\"y\",\"type\":\"funnel\"}],                        {\"template\":{\"data\":{\"bar\":[{\"error_x\":{\"color\":\"#2a3f5f\"},\"error_y\":{\"color\":\"#2a3f5f\"},\"marker\":{\"line\":{\"color\":\"#E5ECF6\",\"width\":0.5},\"pattern\":{\"fillmode\":\"overlay\",\"size\":10,\"solidity\":0.2}},\"type\":\"bar\"}],\"barpolar\":[{\"marker\":{\"line\":{\"color\":\"#E5ECF6\",\"width\":0.5},\"pattern\":{\"fillmode\":\"overlay\",\"size\":10,\"solidity\":0.2}},\"type\":\"barpolar\"}],\"carpet\":[{\"aaxis\":{\"endlinecolor\":\"#2a3f5f\",\"gridcolor\":\"white\",\"linecolor\":\"white\",\"minorgridcolor\":\"white\",\"startlinecolor\":\"#2a3f5f\"},\"baxis\":{\"endlinecolor\":\"#2a3f5f\",\"gridcolor\":\"white\",\"linecolor\":\"white\",\"minorgridcolor\":\"white\",\"startlinecolor\":\"#2a3f5f\"},\"type\":\"carpet\"}],\"choropleth\":[{\"colorbar\":{\"outlinewidth\":0,\"ticks\":\"\"},\"type\":\"choropleth\"}],\"contour\":[{\"colorbar\":{\"outlinewidth\":0,\"ticks\":\"\"},\"colorscale\":[[0.0,\"#0d0887\"],[0.1111111111111111,\"#46039f\"],[0.2222222222222222,\"#7201a8\"],[0.3333333333333333,\"#9c179e\"],[0.4444444444444444,\"#bd3786\"],[0.5555555555555556,\"#d8576b\"],[0.6666666666666666,\"#ed7953\"],[0.7777777777777778,\"#fb9f3a\"],[0.8888888888888888,\"#fdca26\"],[1.0,\"#f0f921\"]],\"type\":\"contour\"}],\"contourcarpet\":[{\"colorbar\":{\"outlinewidth\":0,\"ticks\":\"\"},\"type\":\"contourcarpet\"}],\"heatmap\":[{\"colorbar\":{\"outlinewidth\":0,\"ticks\":\"\"},\"colorscale\":[[0.0,\"#0d0887\"],[0.1111111111111111,\"#46039f\"],[0.2222222222222222,\"#7201a8\"],[0.3333333333333333,\"#9c179e\"],[0.4444444444444444,\"#bd3786\"],[0.5555555555555556,\"#d8576b\"],[0.6666666666666666,\"#ed7953\"],[0.7777777777777778,\"#fb9f3a\"],[0.8888888888888888,\"#fdca26\"],[1.0,\"#f0f921\"]],\"type\":\"heatmap\"}],\"heatmapgl\":[{\"colorbar\":{\"outlinewidth\":0,\"ticks\":\"\"},\"colorscale\":[[0.0,\"#0d0887\"],[0.1111111111111111,\"#46039f\"],[0.2222222222222222,\"#7201a8\"],[0.3333333333333333,\"#9c179e\"],[0.4444444444444444,\"#bd3786\"],[0.5555555555555556,\"#d8576b\"],[0.6666666666666666,\"#ed7953\"],[0.7777777777777778,\"#fb9f3a\"],[0.8888888888888888,\"#fdca26\"],[1.0,\"#f0f921\"]],\"type\":\"heatmapgl\"}],\"histogram\":[{\"marker\":{\"pattern\":{\"fillmode\":\"overlay\",\"size\":10,\"solidity\":0.2}},\"type\":\"histogram\"}],\"histogram2d\":[{\"colorbar\":{\"outlinewidth\":0,\"ticks\":\"\"},\"colorscale\":[[0.0,\"#0d0887\"],[0.1111111111111111,\"#46039f\"],[0.2222222222222222,\"#7201a8\"],[0.3333333333333333,\"#9c179e\"],[0.4444444444444444,\"#bd3786\"],[0.5555555555555556,\"#d8576b\"],[0.6666666666666666,\"#ed7953\"],[0.7777777777777778,\"#fb9f3a\"],[0.8888888888888888,\"#fdca26\"],[1.0,\"#f0f921\"]],\"type\":\"histogram2d\"}],\"histogram2dcontour\":[{\"colorbar\":{\"outlinewidth\":0,\"ticks\":\"\"},\"colorscale\":[[0.0,\"#0d0887\"],[0.1111111111111111,\"#46039f\"],[0.2222222222222222,\"#7201a8\"],[0.3333333333333333,\"#9c179e\"],[0.4444444444444444,\"#bd3786\"],[0.5555555555555556,\"#d8576b\"],[0.6666666666666666,\"#ed7953\"],[0.7777777777777778,\"#fb9f3a\"],[0.8888888888888888,\"#fdca26\"],[1.0,\"#f0f921\"]],\"type\":\"histogram2dcontour\"}],\"mesh3d\":[{\"colorbar\":{\"outlinewidth\":0,\"ticks\":\"\"},\"type\":\"mesh3d\"}],\"parcoords\":[{\"line\":{\"colorbar\":{\"outlinewidth\":0,\"ticks\":\"\"}},\"type\":\"parcoords\"}],\"pie\":[{\"automargin\":true,\"type\":\"pie\"}],\"scatter\":[{\"marker\":{\"colorbar\":{\"outlinewidth\":0,\"ticks\":\"\"}},\"type\":\"scatter\"}],\"scatter3d\":[{\"line\":{\"colorbar\":{\"outlinewidth\":0,\"ticks\":\"\"}},\"marker\":{\"colorbar\":{\"outlinewidth\":0,\"ticks\":\"\"}},\"type\":\"scatter3d\"}],\"scattercarpet\":[{\"marker\":{\"colorbar\":{\"outlinewidth\":0,\"ticks\":\"\"}},\"type\":\"scattercarpet\"}],\"scattergeo\":[{\"marker\":{\"colorbar\":{\"outlinewidth\":0,\"ticks\":\"\"}},\"type\":\"scattergeo\"}],\"scattergl\":[{\"marker\":{\"colorbar\":{\"outlinewidth\":0,\"ticks\":\"\"}},\"type\":\"scattergl\"}],\"scattermapbox\":[{\"marker\":{\"colorbar\":{\"outlinewidth\":0,\"ticks\":\"\"}},\"type\":\"scattermapbox\"}],\"scatterpolar\":[{\"marker\":{\"colorbar\":{\"outlinewidth\":0,\"ticks\":\"\"}},\"type\":\"scatterpolar\"}],\"scatterpolargl\":[{\"marker\":{\"colorbar\":{\"outlinewidth\":0,\"ticks\":\"\"}},\"type\":\"scatterpolargl\"}],\"scatterternary\":[{\"marker\":{\"colorbar\":{\"outlinewidth\":0,\"ticks\":\"\"}},\"type\":\"scatterternary\"}],\"surface\":[{\"colorbar\":{\"outlinewidth\":0,\"ticks\":\"\"},\"colorscale\":[[0.0,\"#0d0887\"],[0.1111111111111111,\"#46039f\"],[0.2222222222222222,\"#7201a8\"],[0.3333333333333333,\"#9c179e\"],[0.4444444444444444,\"#bd3786\"],[0.5555555555555556,\"#d8576b\"],[0.6666666666666666,\"#ed7953\"],[0.7777777777777778,\"#fb9f3a\"],[0.8888888888888888,\"#fdca26\"],[1.0,\"#f0f921\"]],\"type\":\"surface\"}],\"table\":[{\"cells\":{\"fill\":{\"color\":\"#EBF0F8\"},\"line\":{\"color\":\"white\"}},\"header\":{\"fill\":{\"color\":\"#C8D4E3\"},\"line\":{\"color\":\"white\"}},\"type\":\"table\"}]},\"layout\":{\"annotationdefaults\":{\"arrowcolor\":\"#2a3f5f\",\"arrowhead\":0,\"arrowwidth\":1},\"autotypenumbers\":\"strict\",\"coloraxis\":{\"colorbar\":{\"outlinewidth\":0,\"ticks\":\"\"}},\"colorscale\":{\"diverging\":[[0,\"#8e0152\"],[0.1,\"#c51b7d\"],[0.2,\"#de77ae\"],[0.3,\"#f1b6da\"],[0.4,\"#fde0ef\"],[0.5,\"#f7f7f7\"],[0.6,\"#e6f5d0\"],[0.7,\"#b8e186\"],[0.8,\"#7fbc41\"],[0.9,\"#4d9221\"],[1,\"#276419\"]],\"sequential\":[[0.0,\"#0d0887\"],[0.1111111111111111,\"#46039f\"],[0.2222222222222222,\"#7201a8\"],[0.3333333333333333,\"#9c179e\"],[0.4444444444444444,\"#bd3786\"],[0.5555555555555556,\"#d8576b\"],[0.6666666666666666,\"#ed7953\"],[0.7777777777777778,\"#fb9f3a\"],[0.8888888888888888,\"#fdca26\"],[1.0,\"#f0f921\"]],\"sequentialminus\":[[0.0,\"#0d0887\"],[0.1111111111111111,\"#46039f\"],[0.2222222222222222,\"#7201a8\"],[0.3333333333333333,\"#9c179e\"],[0.4444444444444444,\"#bd3786\"],[0.5555555555555556,\"#d8576b\"],[0.6666666666666666,\"#ed7953\"],[0.7777777777777778,\"#fb9f3a\"],[0.8888888888888888,\"#fdca26\"],[1.0,\"#f0f921\"]]},\"colorway\":[\"#636efa\",\"#EF553B\",\"#00cc96\",\"#ab63fa\",\"#FFA15A\",\"#19d3f3\",\"#FF6692\",\"#B6E880\",\"#FF97FF\",\"#FECB52\"],\"font\":{\"color\":\"#2a3f5f\"},\"geo\":{\"bgcolor\":\"white\",\"lakecolor\":\"white\",\"landcolor\":\"#E5ECF6\",\"showlakes\":true,\"showland\":true,\"subunitcolor\":\"white\"},\"hoverlabel\":{\"align\":\"left\"},\"hovermode\":\"closest\",\"mapbox\":{\"style\":\"light\"},\"paper_bgcolor\":\"white\",\"plot_bgcolor\":\"#E5ECF6\",\"polar\":{\"angularaxis\":{\"gridcolor\":\"white\",\"linecolor\":\"white\",\"ticks\":\"\"},\"bgcolor\":\"#E5ECF6\",\"radialaxis\":{\"gridcolor\":\"white\",\"linecolor\":\"white\",\"ticks\":\"\"}},\"scene\":{\"xaxis\":{\"backgroundcolor\":\"#E5ECF6\",\"gridcolor\":\"white\",\"gridwidth\":2,\"linecolor\":\"white\",\"showbackground\":true,\"ticks\":\"\",\"zerolinecolor\":\"white\"},\"yaxis\":{\"backgroundcolor\":\"#E5ECF6\",\"gridcolor\":\"white\",\"gridwidth\":2,\"linecolor\":\"white\",\"showbackground\":true,\"ticks\":\"\",\"zerolinecolor\":\"white\"},\"zaxis\":{\"backgroundcolor\":\"#E5ECF6\",\"gridcolor\":\"white\",\"gridwidth\":2,\"linecolor\":\"white\",\"showbackground\":true,\"ticks\":\"\",\"zerolinecolor\":\"white\"}},\"shapedefaults\":{\"line\":{\"color\":\"#2a3f5f\"}},\"ternary\":{\"aaxis\":{\"gridcolor\":\"white\",\"linecolor\":\"white\",\"ticks\":\"\"},\"baxis\":{\"gridcolor\":\"white\",\"linecolor\":\"white\",\"ticks\":\"\"},\"bgcolor\":\"#E5ECF6\",\"caxis\":{\"gridcolor\":\"white\",\"linecolor\":\"white\",\"ticks\":\"\"}},\"title\":{\"x\":0.05},\"xaxis\":{\"automargin\":true,\"gridcolor\":\"white\",\"linecolor\":\"white\",\"ticks\":\"\",\"title\":{\"standoff\":15},\"zerolinecolor\":\"white\",\"zerolinewidth\":2},\"yaxis\":{\"automargin\":true,\"gridcolor\":\"white\",\"linecolor\":\"white\",\"ticks\":\"\",\"title\":{\"standoff\":15},\"zerolinecolor\":\"white\",\"zerolinewidth\":2}}},\"xaxis\":{\"anchor\":\"y\",\"domain\":[0.0,1.0],\"title\":{\"text\":\"count\"}},\"yaxis\":{\"anchor\":\"x\",\"domain\":[0.0,1.0],\"title\":{\"text\":\"event\"}},\"legend\":{\"title\":{\"text\":\"os\"},\"tracegroupgap\":0},\"margin\":{\"t\":60}},                        {\"responsive\": true}                    ).then(function(){\n",
       "                            \n",
       "var gd = document.getElementById('86dcc79c-8c26-4f03-b04b-1aeca44799bf');\n",
       "var x = new MutationObserver(function (mutations, observer) {{\n",
       "        var display = window.getComputedStyle(gd).display;\n",
       "        if (!display || display === 'none') {{\n",
       "            console.log([gd, 'removed!']);\n",
       "            Plotly.purge(gd);\n",
       "            observer.disconnect();\n",
       "        }}\n",
       "}});\n",
       "\n",
       "// Listen for the removal of the full notebook cells\n",
       "var notebookContainer = gd.closest('#notebook-container');\n",
       "if (notebookContainer) {{\n",
       "    x.observe(notebookContainer, {childList: true});\n",
       "}}\n",
       "\n",
       "// Listen for the clearing of the current output cell\n",
       "var outputEl = gd.closest('.output');\n",
       "if (outputEl) {{\n",
       "    x.observe(outputEl, {childList: true});\n",
       "}}\n",
       "\n",
       "                        })                };                });            </script>        </div>"
      ]
     },
     "metadata": {},
     "output_type": "display_data"
    },
    {
     "name": "stdout",
     "output_type": "stream",
     "text": [
      "# Разбивка по названию кампании\n"
     ]
    },
    {
     "data": {
      "application/vnd.plotly.v1+json": {
       "config": {
        "plotlyServerURL": "https://plot.ly"
       },
       "data": [
        {
         "hovertemplate": "utm_campaign= - <br>count=%{x}<br>event=%{y}<extra></extra>",
         "legendgroup": " - ",
         "marker": {
          "color": "#636efa"
         },
         "name": " - ",
         "orientation": "h",
         "showlegend": true,
         "type": "funnel",
         "x": [
          0,
          0,
          0,
          0,
          0
         ],
         "xaxis": "x",
         "y": [
          "Переход на лэндинг",
          "Регистрация",
          "Добавление первого блока",
          "Попытка оплаты",
          "Покупка платного тарифа"
         ],
         "yaxis": "y"
        },
        {
         "hovertemplate": "utm_campaign=71648929<br>count=%{x}<br>event=%{y}<extra></extra>",
         "legendgroup": "71648929",
         "marker": {
          "color": "#EF553B"
         },
         "name": "71648929",
         "orientation": "h",
         "showlegend": true,
         "type": "funnel",
         "x": [
          161,
          0,
          13,
          4,
          0
         ],
         "xaxis": "x",
         "y": [
          "Переход на лэндинг",
          "Регистрация",
          "Добавление первого блока",
          "Попытка оплаты",
          "Покупка платного тарифа"
         ],
         "yaxis": "y"
        },
        {
         "hovertemplate": "utm_campaign=72411577<br>count=%{x}<br>event=%{y}<extra></extra>",
         "legendgroup": "72411577",
         "marker": {
          "color": "#00cc96"
         },
         "name": "72411577",
         "orientation": "h",
         "showlegend": true,
         "type": "funnel",
         "x": [
          1378,
          0,
          390,
          40,
          4
         ],
         "xaxis": "x",
         "y": [
          "Переход на лэндинг",
          "Регистрация",
          "Добавление первого блока",
          "Попытка оплаты",
          "Покупка платного тарифа"
         ],
         "yaxis": "y"
        },
        {
         "hovertemplate": "utm_campaign=72412884<br>count=%{x}<br>event=%{y}<extra></extra>",
         "legendgroup": "72412884",
         "marker": {
          "color": "#ab63fa"
         },
         "name": "72412884",
         "orientation": "h",
         "showlegend": true,
         "type": "funnel",
         "x": [
          317,
          0,
          74,
          3,
          0
         ],
         "xaxis": "x",
         "y": [
          "Переход на лэндинг",
          "Регистрация",
          "Добавление первого блока",
          "Попытка оплаты",
          "Покупка платного тарифа"
         ],
         "yaxis": "y"
        },
        {
         "hovertemplate": "utm_campaign=72412889<br>count=%{x}<br>event=%{y}<extra></extra>",
         "legendgroup": "72412889",
         "marker": {
          "color": "#FFA15A"
         },
         "name": "72412889",
         "orientation": "h",
         "showlegend": true,
         "type": "funnel",
         "x": [
          535,
          0,
          160,
          8,
          2
         ],
         "xaxis": "x",
         "y": [
          "Переход на лэндинг",
          "Регистрация",
          "Добавление первого блока",
          "Попытка оплаты",
          "Покупка платного тарифа"
         ],
         "yaxis": "y"
        },
        {
         "hovertemplate": "utm_campaign=72412683<br>count=%{x}<br>event=%{y}<extra></extra>",
         "legendgroup": "72412683",
         "marker": {
          "color": "#19d3f3"
         },
         "name": "72412683",
         "orientation": "h",
         "showlegend": true,
         "type": "funnel",
         "x": [
          166,
          0,
          32,
          2,
          0
         ],
         "xaxis": "x",
         "y": [
          "Переход на лэндинг",
          "Регистрация",
          "Добавление первого блока",
          "Попытка оплаты",
          "Покупка платного тарифа"
         ],
         "yaxis": "y"
        },
        {
         "hovertemplate": "utm_campaign=72972241<br>count=%{x}<br>event=%{y}<extra></extra>",
         "legendgroup": "72972241",
         "marker": {
          "color": "#FF6692"
         },
         "name": "72972241",
         "orientation": "h",
         "showlegend": true,
         "type": "funnel",
         "x": [
          98,
          0,
          1,
          0,
          0
         ],
         "xaxis": "x",
         "y": [
          "Переход на лэндинг",
          "Регистрация",
          "Добавление первого блока",
          "Попытка оплаты",
          "Покупка платного тарифа"
         ],
         "yaxis": "y"
        },
        {
         "hovertemplate": "utm_campaign=72984477<br>count=%{x}<br>event=%{y}<extra></extra>",
         "legendgroup": "72984477",
         "marker": {
          "color": "#B6E880"
         },
         "name": "72984477",
         "orientation": "h",
         "showlegend": true,
         "type": "funnel",
         "x": [
          91,
          0,
          3,
          0,
          0
         ],
         "xaxis": "x",
         "y": [
          "Переход на лэндинг",
          "Регистрация",
          "Добавление первого блока",
          "Попытка оплаты",
          "Покупка платного тарифа"
         ],
         "yaxis": "y"
        },
        {
         "hovertemplate": "utm_campaign=cid|13244953096|0521|google|cpc|ru|teplye|multissylka<br>count=%{x}<br>event=%{y}<extra></extra>",
         "legendgroup": "cid|13244953096|0521|google|cpc|ru|teplye|multissylka",
         "marker": {
          "color": "#FF97FF"
         },
         "name": "cid|13244953096|0521|google|cpc|ru|teplye|multissylka",
         "orientation": "h",
         "showlegend": true,
         "type": "funnel",
         "x": [
          1,
          0,
          3,
          1,
          0
         ],
         "xaxis": "x",
         "y": [
          "Переход на лэндинг",
          "Регистрация",
          "Добавление первого блока",
          "Попытка оплаты",
          "Покупка платного тарифа"
         ],
         "yaxis": "y"
        },
        {
         "hovertemplate": "utm_campaign=71838068<br>count=%{x}<br>event=%{y}<extra></extra>",
         "legendgroup": "71838068",
         "marker": {
          "color": "#FECB52"
         },
         "name": "71838068",
         "orientation": "h",
         "showlegend": true,
         "type": "funnel",
         "x": [
          0,
          0,
          1,
          0,
          0
         ],
         "xaxis": "x",
         "y": [
          "Переход на лэндинг",
          "Регистрация",
          "Добавление первого блока",
          "Попытка оплаты",
          "Покупка платного тарифа"
         ],
         "yaxis": "y"
        },
        {
         "hovertemplate": "utm_campaign=smognails<br>count=%{x}<br>event=%{y}<extra></extra>",
         "legendgroup": "smognails",
         "marker": {
          "color": "#636efa"
         },
         "name": "smognails",
         "orientation": "h",
         "showlegend": true,
         "type": "funnel",
         "x": [
          1,
          0,
          0,
          0,
          0
         ],
         "xaxis": "x",
         "y": [
          "Переход на лэндинг",
          "Регистрация",
          "Добавление первого блока",
          "Попытка оплаты",
          "Покупка платного тарифа"
         ],
         "yaxis": "y"
        },
        {
         "hovertemplate": "utm_campaign=72411876<br>count=%{x}<br>event=%{y}<extra></extra>",
         "legendgroup": "72411876",
         "marker": {
          "color": "#EF553B"
         },
         "name": "72411876",
         "orientation": "h",
         "showlegend": true,
         "type": "funnel",
         "x": [
          183,
          0,
          53,
          3,
          0
         ],
         "xaxis": "x",
         "y": [
          "Переход на лэндинг",
          "Регистрация",
          "Добавление первого блока",
          "Попытка оплаты",
          "Покупка платного тарифа"
         ],
         "yaxis": "y"
        },
        {
         "hovertemplate": "utm_campaign=cid|13815939800|0521|google|cpc|eu|competitors|taplink|cena<br>count=%{x}<br>event=%{y}<extra></extra>",
         "legendgroup": "cid|13815939800|0521|google|cpc|eu|competitors|taplink|cena",
         "marker": {
          "color": "#00cc96"
         },
         "name": "cid|13815939800|0521|google|cpc|eu|competitors|taplink|cena",
         "orientation": "h",
         "showlegend": true,
         "type": "funnel",
         "x": [
          1,
          0,
          5,
          1,
          0
         ],
         "xaxis": "x",
         "y": [
          "Переход на лэндинг",
          "Регистрация",
          "Добавление первого блока",
          "Попытка оплаты",
          "Покупка платного тарифа"
         ],
         "yaxis": "y"
        },
        {
         "hovertemplate": "utm_campaign=69739018<br>count=%{x}<br>event=%{y}<extra></extra>",
         "legendgroup": "69739018",
         "marker": {
          "color": "#ab63fa"
         },
         "name": "69739018",
         "orientation": "h",
         "showlegend": true,
         "type": "funnel",
         "x": [
          65,
          0,
          20,
          3,
          1
         ],
         "xaxis": "x",
         "y": [
          "Переход на лэндинг",
          "Регистрация",
          "Добавление первого блока",
          "Попытка оплаты",
          "Покупка платного тарифа"
         ],
         "yaxis": "y"
        },
        {
         "hovertemplate": "utm_campaign=cid|13322676845|0521|google|cpc|by|teplye|multissylka<br>count=%{x}<br>event=%{y}<extra></extra>",
         "legendgroup": "cid|13322676845|0521|google|cpc|by|teplye|multissylka",
         "marker": {
          "color": "#FFA15A"
         },
         "name": "cid|13322676845|0521|google|cpc|by|teplye|multissylka",
         "orientation": "h",
         "showlegend": true,
         "type": "funnel",
         "x": [
          1,
          0,
          0,
          0,
          0
         ],
         "xaxis": "x",
         "y": [
          "Переход на лэндинг",
          "Регистрация",
          "Добавление первого блока",
          "Попытка оплаты",
          "Покупка платного тарифа"
         ],
         "yaxis": "y"
        },
        {
         "hovertemplate": "utm_campaign=74305653<br>count=%{x}<br>event=%{y}<extra></extra>",
         "legendgroup": "74305653",
         "marker": {
          "color": "#19d3f3"
         },
         "name": "74305653",
         "orientation": "h",
         "showlegend": true,
         "type": "funnel",
         "x": [
          1,
          0,
          0,
          0,
          0
         ],
         "xaxis": "x",
         "y": [
          "Переход на лэндинг",
          "Регистрация",
          "Добавление первого блока",
          "Попытка оплаты",
          "Покупка платного тарифа"
         ],
         "yaxis": "y"
        },
        {
         "hovertemplate": "utm_campaign=i_nstagramer<br>count=%{x}<br>event=%{y}<extra></extra>",
         "legendgroup": "i_nstagramer",
         "marker": {
          "color": "#FF6692"
         },
         "name": "i_nstagramer",
         "orientation": "h",
         "showlegend": true,
         "type": "funnel",
         "x": [
          1,
          0,
          1,
          0,
          0
         ],
         "xaxis": "x",
         "y": [
          "Переход на лэндинг",
          "Регистрация",
          "Добавление первого блока",
          "Попытка оплаты",
          "Покупка платного тарифа"
         ],
         "yaxis": "y"
        },
        {
         "hovertemplate": "utm_campaign=52150546<br>count=%{x}<br>event=%{y}<extra></extra>",
         "legendgroup": "52150546",
         "marker": {
          "color": "#B6E880"
         },
         "name": "52150546",
         "orientation": "h",
         "showlegend": true,
         "type": "funnel",
         "x": [
          297,
          0,
          1,
          0,
          0
         ],
         "xaxis": "x",
         "y": [
          "Переход на лэндинг",
          "Регистрация",
          "Добавление первого блока",
          "Попытка оплаты",
          "Покупка платного тарифа"
         ],
         "yaxis": "y"
        },
        {
         "hovertemplate": "utm_campaign=52150845<br>count=%{x}<br>event=%{y}<extra></extra>",
         "legendgroup": "52150845",
         "marker": {
          "color": "#FF97FF"
         },
         "name": "52150845",
         "orientation": "h",
         "showlegend": true,
         "type": "funnel",
         "x": [
          146,
          0,
          0,
          0,
          0
         ],
         "xaxis": "x",
         "y": [
          "Переход на лэндинг",
          "Регистрация",
          "Добавление первого блока",
          "Попытка оплаты",
          "Покупка платного тарифа"
         ],
         "yaxis": "y"
        },
        {
         "hovertemplate": "utm_campaign=52151040<br>count=%{x}<br>event=%{y}<extra></extra>",
         "legendgroup": "52151040",
         "marker": {
          "color": "#FECB52"
         },
         "name": "52151040",
         "orientation": "h",
         "showlegend": true,
         "type": "funnel",
         "x": [
          148,
          0,
          0,
          0,
          0
         ],
         "xaxis": "x",
         "y": [
          "Переход на лэндинг",
          "Регистрация",
          "Добавление первого блока",
          "Попытка оплаты",
          "Покупка платного тарифа"
         ],
         "yaxis": "y"
        },
        {
         "hovertemplate": "utm_campaign=62012165<br>count=%{x}<br>event=%{y}<extra></extra>",
         "legendgroup": "62012165",
         "marker": {
          "color": "#636efa"
         },
         "name": "62012165",
         "orientation": "h",
         "showlegend": true,
         "type": "funnel",
         "x": [
          53,
          0,
          17,
          0,
          0
         ],
         "xaxis": "x",
         "y": [
          "Переход на лэндинг",
          "Регистрация",
          "Добавление первого блока",
          "Попытка оплаты",
          "Покупка платного тарифа"
         ],
         "yaxis": "y"
        },
        {
         "hovertemplate": "utm_campaign=63466135<br>count=%{x}<br>event=%{y}<extra></extra>",
         "legendgroup": "63466135",
         "marker": {
          "color": "#EF553B"
         },
         "name": "63466135",
         "orientation": "h",
         "showlegend": true,
         "type": "funnel",
         "x": [
          215,
          0,
          56,
          10,
          0
         ],
         "xaxis": "x",
         "y": [
          "Переход на лэндинг",
          "Регистрация",
          "Добавление первого блока",
          "Попытка оплаты",
          "Покупка платного тарифа"
         ],
         "yaxis": "y"
        },
        {
         "hovertemplate": "utm_campaign=72482736<br>count=%{x}<br>event=%{y}<extra></extra>",
         "legendgroup": "72482736",
         "marker": {
          "color": "#00cc96"
         },
         "name": "72482736",
         "orientation": "h",
         "showlegend": true,
         "type": "funnel",
         "x": [
          40,
          0,
          15,
          6,
          0
         ],
         "xaxis": "x",
         "y": [
          "Переход на лэндинг",
          "Регистрация",
          "Добавление первого блока",
          "Попытка оплаты",
          "Покупка платного тарифа"
         ],
         "yaxis": "y"
        },
        {
         "hovertemplate": "utm_campaign=72482737<br>count=%{x}<br>event=%{y}<extra></extra>",
         "legendgroup": "72482737",
         "marker": {
          "color": "#ab63fa"
         },
         "name": "72482737",
         "orientation": "h",
         "showlegend": true,
         "type": "funnel",
         "x": [
          33,
          0,
          7,
          0,
          0
         ],
         "xaxis": "x",
         "y": [
          "Переход на лэндинг",
          "Регистрация",
          "Добавление первого блока",
          "Попытка оплаты",
          "Покупка платного тарифа"
         ],
         "yaxis": "y"
        },
        {
         "hovertemplate": "utm_campaign=72482739<br>count=%{x}<br>event=%{y}<extra></extra>",
         "legendgroup": "72482739",
         "marker": {
          "color": "#FFA15A"
         },
         "name": "72482739",
         "orientation": "h",
         "showlegend": true,
         "type": "funnel",
         "x": [
          104,
          0,
          29,
          2,
          1
         ],
         "xaxis": "x",
         "y": [
          "Переход на лэндинг",
          "Регистрация",
          "Добавление первого блока",
          "Попытка оплаты",
          "Покупка платного тарифа"
         ],
         "yaxis": "y"
        },
        {
         "hovertemplate": "utm_campaign=72482740<br>count=%{x}<br>event=%{y}<extra></extra>",
         "legendgroup": "72482740",
         "marker": {
          "color": "#19d3f3"
         },
         "name": "72482740",
         "orientation": "h",
         "showlegend": true,
         "type": "funnel",
         "x": [
          63,
          0,
          13,
          5,
          0
         ],
         "xaxis": "x",
         "y": [
          "Переход на лэндинг",
          "Регистрация",
          "Добавление первого блока",
          "Попытка оплаты",
          "Покупка платного тарифа"
         ],
         "yaxis": "y"
        },
        {
         "hovertemplate": "utm_campaign=72482741<br>count=%{x}<br>event=%{y}<extra></extra>",
         "legendgroup": "72482741",
         "marker": {
          "color": "#FF6692"
         },
         "name": "72482741",
         "orientation": "h",
         "showlegend": true,
         "type": "funnel",
         "x": [
          75,
          0,
          18,
          3,
          0
         ],
         "xaxis": "x",
         "y": [
          "Переход на лэндинг",
          "Регистрация",
          "Добавление первого блока",
          "Попытка оплаты",
          "Покупка платного тарифа"
         ],
         "yaxis": "y"
        },
        {
         "hovertemplate": "utm_campaign=cid|13322676851|0521|google|cpc|kz|teplye|multissylka<br>count=%{x}<br>event=%{y}<extra></extra>",
         "legendgroup": "cid|13322676851|0521|google|cpc|kz|teplye|multissylka",
         "marker": {
          "color": "#B6E880"
         },
         "name": "cid|13322676851|0521|google|cpc|kz|teplye|multissylka",
         "orientation": "h",
         "showlegend": true,
         "type": "funnel",
         "x": [
          3,
          0,
          8,
          0,
          0
         ],
         "xaxis": "x",
         "y": [
          "Переход на лэндинг",
          "Регистрация",
          "Добавление первого блока",
          "Попытка оплаты",
          "Покупка платного тарифа"
         ],
         "yaxis": "y"
        },
        {
         "hovertemplate": "utm_campaign=cid|13244871763|0521|google|cpc|ru|tranzak|besplatno|sch<br>count=%{x}<br>event=%{y}<extra></extra>",
         "legendgroup": "cid|13244871763|0521|google|cpc|ru|tranzak|besplatno|sch",
         "marker": {
          "color": "#FF97FF"
         },
         "name": "cid|13244871763|0521|google|cpc|ru|tranzak|besplatno|sch",
         "orientation": "h",
         "showlegend": true,
         "type": "funnel",
         "x": [
          2,
          0,
          2,
          0,
          0
         ],
         "xaxis": "x",
         "y": [
          "Переход на лэндинг",
          "Регистрация",
          "Добавление первого блока",
          "Попытка оплаты",
          "Покупка платного тарифа"
         ],
         "yaxis": "y"
        },
        {
         "hovertemplate": "utm_campaign=cid|13824314847|0721|google|cpc|ru|teplye_2|instalanding<br>count=%{x}<br>event=%{y}<extra></extra>",
         "legendgroup": "cid|13824314847|0721|google|cpc|ru|teplye_2|instalanding",
         "marker": {
          "color": "#FECB52"
         },
         "name": "cid|13824314847|0721|google|cpc|ru|teplye_2|instalanding",
         "orientation": "h",
         "showlegend": true,
         "type": "funnel",
         "x": [
          1,
          0,
          0,
          0,
          0
         ],
         "xaxis": "x",
         "y": [
          "Переход на лэндинг",
          "Регистрация",
          "Добавление первого блока",
          "Попытка оплаты",
          "Покупка платного тарифа"
         ],
         "yaxis": "y"
        },
        {
         "hovertemplate": "utm_campaign=cid|13815939800|0521|google|cpc|eu|competitors|taplink|for_social<br>count=%{x}<br>event=%{y}<extra></extra>",
         "legendgroup": "cid|13815939800|0521|google|cpc|eu|competitors|taplink|for_social",
         "marker": {
          "color": "#636efa"
         },
         "name": "cid|13815939800|0521|google|cpc|eu|competitors|taplink|for_social",
         "orientation": "h",
         "showlegend": true,
         "type": "funnel",
         "x": [
          1,
          0,
          1,
          0,
          0
         ],
         "xaxis": "x",
         "y": [
          "Переход на лэндинг",
          "Регистрация",
          "Добавление первого блока",
          "Попытка оплаты",
          "Покупка платного тарифа"
         ],
         "yaxis": "y"
        },
        {
         "hovertemplate": "utm_campaign=cid|13813036738|0521|google|cpc|by|competitors|taplink|for_social<br>count=%{x}<br>event=%{y}<extra></extra>",
         "legendgroup": "cid|13813036738|0521|google|cpc|by|competitors|taplink|for_social",
         "marker": {
          "color": "#EF553B"
         },
         "name": "cid|13813036738|0521|google|cpc|by|competitors|taplink|for_social",
         "orientation": "h",
         "showlegend": true,
         "type": "funnel",
         "x": [
          2,
          0,
          0,
          0,
          0
         ],
         "xaxis": "x",
         "y": [
          "Переход на лэндинг",
          "Регистрация",
          "Добавление первого блока",
          "Попытка оплаты",
          "Покупка платного тарифа"
         ],
         "yaxis": "y"
        },
        {
         "hovertemplate": "utm_campaign=62012011<br>count=%{x}<br>event=%{y}<extra></extra>",
         "legendgroup": "62012011",
         "marker": {
          "color": "#00cc96"
         },
         "name": "62012011",
         "orientation": "h",
         "showlegend": true,
         "type": "funnel",
         "x": [
          199,
          0,
          51,
          1,
          0
         ],
         "xaxis": "x",
         "y": [
          "Переход на лэндинг",
          "Регистрация",
          "Добавление первого блока",
          "Попытка оплаты",
          "Покупка платного тарифа"
         ],
         "yaxis": "y"
        },
        {
         "hovertemplate": "utm_campaign=cid|13811038492|0521|google|cpc|kz|competitors|taplink|sdelat<br>count=%{x}<br>event=%{y}<extra></extra>",
         "legendgroup": "cid|13811038492|0521|google|cpc|kz|competitors|taplink|sdelat",
         "marker": {
          "color": "#ab63fa"
         },
         "name": "cid|13811038492|0521|google|cpc|kz|competitors|taplink|sdelat",
         "orientation": "h",
         "showlegend": true,
         "type": "funnel",
         "x": [
          2,
          0,
          1,
          0,
          0
         ],
         "xaxis": "x",
         "y": [
          "Переход на лэндинг",
          "Регистрация",
          "Добавление первого блока",
          "Попытка оплаты",
          "Покупка платного тарифа"
         ],
         "yaxis": "y"
        },
        {
         "hovertemplate": "utm_campaign=0721|instagram_cpc|by|conversion|audience_interest|beauty<br>count=%{x}<br>event=%{y}<extra></extra>",
         "legendgroup": "0721|instagram_cpc|by|conversion|audience_interest|beauty",
         "marker": {
          "color": "#FFA15A"
         },
         "name": "0721|instagram_cpc|by|conversion|audience_interest|beauty",
         "orientation": "h",
         "showlegend": true,
         "type": "funnel",
         "x": [
          1,
          0,
          0,
          0,
          0
         ],
         "xaxis": "x",
         "y": [
          "Переход на лэндинг",
          "Регистрация",
          "Добавление первого блока",
          "Попытка оплаты",
          "Покупка платного тарифа"
         ],
         "yaxis": "y"
        },
        {
         "hovertemplate": "utm_campaign=common<br>count=%{x}<br>event=%{y}<extra></extra>",
         "legendgroup": "common",
         "marker": {
          "color": "#19d3f3"
         },
         "name": "common",
         "orientation": "h",
         "showlegend": true,
         "type": "funnel",
         "x": [
          229,
          0,
          2,
          0,
          0
         ],
         "xaxis": "x",
         "y": [
          "Переход на лэндинг",
          "Регистрация",
          "Добавление первого блока",
          "Попытка оплаты",
          "Покупка платного тарифа"
         ],
         "yaxis": "y"
        },
        {
         "hovertemplate": "utm_campaign=cid|13824315009|0721|google|cpc|kz|teplye_2|instalanding<br>count=%{x}<br>event=%{y}<extra></extra>",
         "legendgroup": "cid|13824315009|0721|google|cpc|kz|teplye_2|instalanding",
         "marker": {
          "color": "#FF6692"
         },
         "name": "cid|13824315009|0721|google|cpc|kz|teplye_2|instalanding",
         "orientation": "h",
         "showlegend": true,
         "type": "funnel",
         "x": [
          2,
          0,
          1,
          0,
          0
         ],
         "xaxis": "x",
         "y": [
          "Переход на лэндинг",
          "Регистрация",
          "Добавление первого блока",
          "Попытка оплаты",
          "Покупка платного тарифа"
         ],
         "yaxis": "y"
        },
        {
         "hovertemplate": "utm_campaign=cid|13322676854|0521|google|cpc|kz|tranzak|besplatno|nch<br>count=%{x}<br>event=%{y}<extra></extra>",
         "legendgroup": "cid|13322676854|0521|google|cpc|kz|tranzak|besplatno|nch",
         "marker": {
          "color": "#B6E880"
         },
         "name": "cid|13322676854|0521|google|cpc|kz|tranzak|besplatno|nch",
         "orientation": "h",
         "showlegend": true,
         "type": "funnel",
         "x": [
          7,
          0,
          0,
          0,
          0
         ],
         "xaxis": "x",
         "y": [
          "Переход на лэндинг",
          "Регистрация",
          "Добавление первого блока",
          "Попытка оплаты",
          "Покупка платного тарифа"
         ],
         "yaxis": "y"
        },
        {
         "hovertemplate": "utm_campaign=cid|13811038492|0521|google|cpc|kz|competitors|taplink|for_social<br>count=%{x}<br>event=%{y}<extra></extra>",
         "legendgroup": "cid|13811038492|0521|google|cpc|kz|competitors|taplink|for_social",
         "marker": {
          "color": "#FF97FF"
         },
         "name": "cid|13811038492|0521|google|cpc|kz|competitors|taplink|for_social",
         "orientation": "h",
         "showlegend": true,
         "type": "funnel",
         "x": [
          3,
          0,
          1,
          0,
          0
         ],
         "xaxis": "x",
         "y": [
          "Переход на лэндинг",
          "Регистрация",
          "Добавление первого блока",
          "Попытка оплаты",
          "Покупка платного тарифа"
         ],
         "yaxis": "y"
        },
        {
         "hovertemplate": "utm_campaign=cid|13824315009|0721|google|cpc|kz|teplye_2|besplatno<br>count=%{x}<br>event=%{y}<extra></extra>",
         "legendgroup": "cid|13824315009|0721|google|cpc|kz|teplye_2|besplatno",
         "marker": {
          "color": "#FECB52"
         },
         "name": "cid|13824315009|0721|google|cpc|kz|teplye_2|besplatno",
         "orientation": "h",
         "showlegend": true,
         "type": "funnel",
         "x": [
          1,
          0,
          1,
          0,
          0
         ],
         "xaxis": "x",
         "y": [
          "Переход на лэндинг",
          "Регистрация",
          "Добавление первого блока",
          "Попытка оплаты",
          "Покупка платного тарифа"
         ],
         "yaxis": "y"
        },
        {
         "hovertemplate": "utm_campaign=marketer_one<br>count=%{x}<br>event=%{y}<extra></extra>",
         "legendgroup": "marketer_one",
         "marker": {
          "color": "#636efa"
         },
         "name": "marketer_one",
         "orientation": "h",
         "showlegend": true,
         "type": "funnel",
         "x": [
          2,
          0,
          1,
          0,
          0
         ],
         "xaxis": "x",
         "y": [
          "Переход на лэндинг",
          "Регистрация",
          "Добавление первого блока",
          "Попытка оплаты",
          "Покупка платного тарифа"
         ],
         "yaxis": "y"
        },
        {
         "hovertemplate": "utm_campaign=cid|16791043376|0521|google|cpc|eu|tranzak|analog<br>count=%{x}<br>event=%{y}<extra></extra>",
         "legendgroup": "cid|16791043376|0521|google|cpc|eu|tranzak|analog",
         "marker": {
          "color": "#EF553B"
         },
         "name": "cid|16791043376|0521|google|cpc|eu|tranzak|analog",
         "orientation": "h",
         "showlegend": true,
         "type": "funnel",
         "x": [
          2,
          0,
          0,
          0,
          0
         ],
         "xaxis": "x",
         "y": [
          "Переход на лэндинг",
          "Регистрация",
          "Добавление первого блока",
          "Попытка оплаты",
          "Покупка платного тарифа"
         ],
         "yaxis": "y"
        },
        {
         "hovertemplate": "utm_campaign=cid|13244871763|0521|google|cpc|ru|tranzak|besplatno|vch<br>count=%{x}<br>event=%{y}<extra></extra>",
         "legendgroup": "cid|13244871763|0521|google|cpc|ru|tranzak|besplatno|vch",
         "marker": {
          "color": "#00cc96"
         },
         "name": "cid|13244871763|0521|google|cpc|ru|tranzak|besplatno|vch",
         "orientation": "h",
         "showlegend": true,
         "type": "funnel",
         "x": [
          3,
          0,
          0,
          1,
          0
         ],
         "xaxis": "x",
         "y": [
          "Переход на лэндинг",
          "Регистрация",
          "Добавление первого блока",
          "Попытка оплаты",
          "Покупка платного тарифа"
         ],
         "yaxis": "y"
        },
        {
         "hovertemplate": "utm_campaign=cid|13811038492|0521|google|cpc|kz|competitors|taplink|sozdat<br>count=%{x}<br>event=%{y}<extra></extra>",
         "legendgroup": "cid|13811038492|0521|google|cpc|kz|competitors|taplink|sozdat",
         "marker": {
          "color": "#ab63fa"
         },
         "name": "cid|13811038492|0521|google|cpc|kz|competitors|taplink|sozdat",
         "orientation": "h",
         "showlegend": true,
         "type": "funnel",
         "x": [
          1,
          0,
          0,
          0,
          0
         ],
         "xaxis": "x",
         "y": [
          "Переход на лэндинг",
          "Регистрация",
          "Добавление первого блока",
          "Попытка оплаты",
          "Покупка платного тарифа"
         ],
         "yaxis": "y"
        },
        {
         "hovertemplate": "utm_campaign=73095131<br>count=%{x}<br>event=%{y}<extra></extra>",
         "legendgroup": "73095131",
         "marker": {
          "color": "#FFA15A"
         },
         "name": "73095131",
         "orientation": "h",
         "showlegend": true,
         "type": "funnel",
         "x": [
          1,
          0,
          0,
          0,
          0
         ],
         "xaxis": "x",
         "y": [
          "Переход на лэндинг",
          "Регистрация",
          "Добавление первого блока",
          "Попытка оплаты",
          "Покупка платного тарифа"
         ],
         "yaxis": "y"
        },
        {
         "hovertemplate": "utm_campaign=cid|13824315009|0721|google|cpc|kz|teplye_2|poshagovo<br>count=%{x}<br>event=%{y}<extra></extra>",
         "legendgroup": "cid|13824315009|0721|google|cpc|kz|teplye_2|poshagovo",
         "marker": {
          "color": "#19d3f3"
         },
         "name": "cid|13824315009|0721|google|cpc|kz|teplye_2|poshagovo",
         "orientation": "h",
         "showlegend": true,
         "type": "funnel",
         "x": [
          1,
          0,
          0,
          0,
          0
         ],
         "xaxis": "x",
         "y": [
          "Переход на лэндинг",
          "Регистрация",
          "Добавление первого блока",
          "Попытка оплаты",
          "Покупка платного тарифа"
         ],
         "yaxis": "y"
        },
        {
         "hovertemplate": "utm_campaign=cid|13824308637|0721|google|cpc|by|teplye_2|sozdat_landing<br>count=%{x}<br>event=%{y}<extra></extra>",
         "legendgroup": "cid|13824308637|0721|google|cpc|by|teplye_2|sozdat_landing",
         "marker": {
          "color": "#FF6692"
         },
         "name": "cid|13824308637|0721|google|cpc|by|teplye_2|sozdat_landing",
         "orientation": "h",
         "showlegend": true,
         "type": "funnel",
         "x": [
          2,
          0,
          0,
          0,
          0
         ],
         "xaxis": "x",
         "y": [
          "Переход на лэндинг",
          "Регистрация",
          "Добавление первого блока",
          "Попытка оплаты",
          "Покупка платного тарифа"
         ],
         "yaxis": "y"
        },
        {
         "hovertemplate": "utm_campaign=cid|13813036738|0521|google|cpc|by|competitors|taplink|cena<br>count=%{x}<br>event=%{y}<extra></extra>",
         "legendgroup": "cid|13813036738|0521|google|cpc|by|competitors|taplink|cena",
         "marker": {
          "color": "#B6E880"
         },
         "name": "cid|13813036738|0521|google|cpc|by|competitors|taplink|cena",
         "orientation": "h",
         "showlegend": true,
         "type": "funnel",
         "x": [
          1,
          0,
          0,
          0,
          0
         ],
         "xaxis": "x",
         "y": [
          "Переход на лэндинг",
          "Регистрация",
          "Добавление первого блока",
          "Попытка оплаты",
          "Покупка платного тарифа"
         ],
         "yaxis": "y"
        },
        {
         "hovertemplate": "utm_campaign=cid|13245125206|0521|google|cpc|ru|competitors|taplink|sozdat<br>count=%{x}<br>event=%{y}<extra></extra>",
         "legendgroup": "cid|13245125206|0521|google|cpc|ru|competitors|taplink|sozdat",
         "marker": {
          "color": "#FF97FF"
         },
         "name": "cid|13245125206|0521|google|cpc|ru|competitors|taplink|sozdat",
         "orientation": "h",
         "showlegend": true,
         "type": "funnel",
         "x": [
          1,
          0,
          0,
          0,
          0
         ],
         "xaxis": "x",
         "y": [
          "Переход на лэндинг",
          "Регистрация",
          "Добавление первого блока",
          "Попытка оплаты",
          "Покупка платного тарифа"
         ],
         "yaxis": "y"
        },
        {
         "hovertemplate": "utm_campaign=52710948<br>count=%{x}<br>event=%{y}<extra></extra>",
         "legendgroup": "52710948",
         "marker": {
          "color": "#FECB52"
         },
         "name": "52710948",
         "orientation": "h",
         "showlegend": true,
         "type": "funnel",
         "x": [
          22,
          0,
          0,
          0,
          0
         ],
         "xaxis": "x",
         "y": [
          "Переход на лэндинг",
          "Регистрация",
          "Добавление первого блока",
          "Попытка оплаты",
          "Покупка платного тарифа"
         ],
         "yaxis": "y"
        },
        {
         "hovertemplate": "utm_campaign=52151741<br>count=%{x}<br>event=%{y}<extra></extra>",
         "legendgroup": "52151741",
         "marker": {
          "color": "#636efa"
         },
         "name": "52151741",
         "orientation": "h",
         "showlegend": true,
         "type": "funnel",
         "x": [
          3,
          0,
          0,
          0,
          0
         ],
         "xaxis": "x",
         "y": [
          "Переход на лэндинг",
          "Регистрация",
          "Добавление первого блока",
          "Попытка оплаты",
          "Покупка платного тарифа"
         ],
         "yaxis": "y"
        },
        {
         "hovertemplate": "utm_campaign=cid|13245125206|0521|google|cpc|ru|competitors|taplink|sdelat<br>count=%{x}<br>event=%{y}<extra></extra>",
         "legendgroup": "cid|13245125206|0521|google|cpc|ru|competitors|taplink|sdelat",
         "marker": {
          "color": "#EF553B"
         },
         "name": "cid|13245125206|0521|google|cpc|ru|competitors|taplink|sdelat",
         "orientation": "h",
         "showlegend": true,
         "type": "funnel",
         "x": [
          0,
          0,
          1,
          0,
          0
         ],
         "xaxis": "x",
         "y": [
          "Переход на лэндинг",
          "Регистрация",
          "Добавление первого блока",
          "Попытка оплаты",
          "Покупка платного тарифа"
         ],
         "yaxis": "y"
        },
        {
         "hovertemplate": "utm_campaign=cid|13824314847|0721|google|cpc|ru|teplye_2|samostoyatelno<br>count=%{x}<br>event=%{y}<extra></extra>",
         "legendgroup": "cid|13824314847|0721|google|cpc|ru|teplye_2|samostoyatelno",
         "marker": {
          "color": "#00cc96"
         },
         "name": "cid|13824314847|0721|google|cpc|ru|teplye_2|samostoyatelno",
         "orientation": "h",
         "showlegend": true,
         "type": "funnel",
         "x": [
          4,
          0,
          0,
          0,
          0
         ],
         "xaxis": "x",
         "y": [
          "Переход на лэндинг",
          "Регистрация",
          "Добавление первого блока",
          "Попытка оплаты",
          "Покупка платного тарифа"
         ],
         "yaxis": "y"
        },
        {
         "hovertemplate": "utm_campaign=cid|16778058423|0721|google|cpc|eu|teplye_2|besplatno<br>count=%{x}<br>event=%{y}<extra></extra>",
         "legendgroup": "cid|16778058423|0721|google|cpc|eu|teplye_2|besplatno",
         "marker": {
          "color": "#ab63fa"
         },
         "name": "cid|16778058423|0721|google|cpc|eu|teplye_2|besplatno",
         "orientation": "h",
         "showlegend": true,
         "type": "funnel",
         "x": [
          3,
          0,
          0,
          0,
          0
         ],
         "xaxis": "x",
         "y": [
          "Переход на лэндинг",
          "Регистрация",
          "Добавление первого блока",
          "Попытка оплаты",
          "Покупка платного тарифа"
         ],
         "yaxis": "y"
        },
        {
         "hovertemplate": "utm_campaign=cid|16791042698|0521|google|cpc|ru|competitors|taplink|sozdat<br>count=%{x}<br>event=%{y}<extra></extra>",
         "legendgroup": "cid|16791042698|0521|google|cpc|ru|competitors|taplink|sozdat",
         "marker": {
          "color": "#FFA15A"
         },
         "name": "cid|16791042698|0521|google|cpc|ru|competitors|taplink|sozdat",
         "orientation": "h",
         "showlegend": true,
         "type": "funnel",
         "x": [
          2,
          0,
          1,
          0,
          0
         ],
         "xaxis": "x",
         "y": [
          "Переход на лэндинг",
          "Регистрация",
          "Добавление первого блока",
          "Попытка оплаты",
          "Покупка платного тарифа"
         ],
         "yaxis": "y"
        },
        {
         "hovertemplate": "utm_campaign=cid|16791042698|0521|google|cpc|ru|competitors|taplink|zakazat<br>count=%{x}<br>event=%{y}<extra></extra>",
         "legendgroup": "cid|16791042698|0521|google|cpc|ru|competitors|taplink|zakazat",
         "marker": {
          "color": "#19d3f3"
         },
         "name": "cid|16791042698|0521|google|cpc|ru|competitors|taplink|zakazat",
         "orientation": "h",
         "showlegend": true,
         "type": "funnel",
         "x": [
          2,
          0,
          0,
          0,
          0
         ],
         "xaxis": "x",
         "y": [
          "Переход на лэндинг",
          "Регистрация",
          "Добавление первого блока",
          "Попытка оплаты",
          "Покупка платного тарифа"
         ],
         "yaxis": "y"
        },
        {
         "hovertemplate": "utm_campaign=cid|16782869743|0521|google|cpc|eu|competitors|taplink|zakazat<br>count=%{x}<br>event=%{y}<extra></extra>",
         "legendgroup": "cid|16782869743|0521|google|cpc|eu|competitors|taplink|zakazat",
         "marker": {
          "color": "#FF6692"
         },
         "name": "cid|16782869743|0521|google|cpc|eu|competitors|taplink|zakazat",
         "orientation": "h",
         "showlegend": true,
         "type": "funnel",
         "x": [
          3,
          0,
          0,
          0,
          0
         ],
         "xaxis": "x",
         "y": [
          "Переход на лэндинг",
          "Регистрация",
          "Добавление первого блока",
          "Попытка оплаты",
          "Покупка платного тарифа"
         ],
         "yaxis": "y"
        },
        {
         "hovertemplate": "utm_campaign=0721|instagram_cpc|rf|conversion|audience_interest|mebel<br>count=%{x}<br>event=%{y}<extra></extra>",
         "legendgroup": "0721|instagram_cpc|rf|conversion|audience_interest|mebel",
         "marker": {
          "color": "#B6E880"
         },
         "name": "0721|instagram_cpc|rf|conversion|audience_interest|mebel",
         "orientation": "h",
         "showlegend": true,
         "type": "funnel",
         "x": [
          2,
          0,
          0,
          0,
          0
         ],
         "xaxis": "x",
         "y": [
          "Переход на лэндинг",
          "Регистрация",
          "Добавление первого блока",
          "Попытка оплаты",
          "Покупка платного тарифа"
         ],
         "yaxis": "y"
        },
        {
         "hovertemplate": "utm_campaign=cid|13813036738|0521|google|cpc|by|competitors|another<br>count=%{x}<br>event=%{y}<extra></extra>",
         "legendgroup": "cid|13813036738|0521|google|cpc|by|competitors|another",
         "marker": {
          "color": "#FF97FF"
         },
         "name": "cid|13813036738|0521|google|cpc|by|competitors|another",
         "orientation": "h",
         "showlegend": true,
         "type": "funnel",
         "x": [
          0,
          0,
          1,
          0,
          0
         ],
         "xaxis": "x",
         "y": [
          "Переход на лэндинг",
          "Регистрация",
          "Добавление первого блока",
          "Попытка оплаты",
          "Покупка платного тарифа"
         ],
         "yaxis": "y"
        },
        {
         "hovertemplate": "utm_campaign=cid|13824308637|0721|google|cpc|by|teplye_2|samostoyatelno<br>count=%{x}<br>event=%{y}<extra></extra>",
         "legendgroup": "cid|13824308637|0721|google|cpc|by|teplye_2|samostoyatelno",
         "marker": {
          "color": "#FECB52"
         },
         "name": "cid|13824308637|0721|google|cpc|by|teplye_2|samostoyatelno",
         "orientation": "h",
         "showlegend": true,
         "type": "funnel",
         "x": [
          1,
          0,
          0,
          0,
          0
         ],
         "xaxis": "x",
         "y": [
          "Переход на лэндинг",
          "Регистрация",
          "Добавление первого блока",
          "Попытка оплаты",
          "Покупка платного тарифа"
         ],
         "yaxis": "y"
        },
        {
         "hovertemplate": "utm_campaign=cid|13824314847|0721|google|cpc|ru|teplye_2|besplatno<br>count=%{x}<br>event=%{y}<extra></extra>",
         "legendgroup": "cid|13824314847|0721|google|cpc|ru|teplye_2|besplatno",
         "marker": {
          "color": "#636efa"
         },
         "name": "cid|13824314847|0721|google|cpc|ru|teplye_2|besplatno",
         "orientation": "h",
         "showlegend": true,
         "type": "funnel",
         "x": [
          0,
          0,
          1,
          0,
          0
         ],
         "xaxis": "x",
         "y": [
          "Переход на лэндинг",
          "Регистрация",
          "Добавление первого блока",
          "Попытка оплаты",
          "Покупка платного тарифа"
         ],
         "yaxis": "y"
        },
        {
         "hovertemplate": "utm_campaign=71645389<br>count=%{x}<br>event=%{y}<extra></extra>",
         "legendgroup": "71645389",
         "marker": {
          "color": "#EF553B"
         },
         "name": "71645389",
         "orientation": "h",
         "showlegend": true,
         "type": "funnel",
         "x": [
          19,
          0,
          5,
          0,
          0
         ],
         "xaxis": "x",
         "y": [
          "Переход на лэндинг",
          "Регистрация",
          "Добавление первого блока",
          "Попытка оплаты",
          "Покупка платного тарифа"
         ],
         "yaxis": "y"
        },
        {
         "hovertemplate": "utm_campaign=cid|13322676854|0521|google|cpc|kz|tranzak|besplatno|vch<br>count=%{x}<br>event=%{y}<extra></extra>",
         "legendgroup": "cid|13322676854|0521|google|cpc|kz|tranzak|besplatno|vch",
         "marker": {
          "color": "#00cc96"
         },
         "name": "cid|13322676854|0521|google|cpc|kz|tranzak|besplatno|vch",
         "orientation": "h",
         "showlegend": true,
         "type": "funnel",
         "x": [
          0,
          0,
          0,
          0,
          0
         ],
         "xaxis": "x",
         "y": [
          "Переход на лэндинг",
          "Регистрация",
          "Добавление первого блока",
          "Попытка оплаты",
          "Покупка платного тарифа"
         ],
         "yaxis": "y"
        },
        {
         "hovertemplate": "utm_campaign=cid|16791042677|0521|google|cpc|ru|tranzak|besplatno|vch<br>count=%{x}<br>event=%{y}<extra></extra>",
         "legendgroup": "cid|16791042677|0521|google|cpc|ru|tranzak|besplatno|vch",
         "marker": {
          "color": "#ab63fa"
         },
         "name": "cid|16791042677|0521|google|cpc|ru|tranzak|besplatno|vch",
         "orientation": "h",
         "showlegend": true,
         "type": "funnel",
         "x": [
          2,
          0,
          0,
          0,
          0
         ],
         "xaxis": "x",
         "y": [
          "Переход на лэндинг",
          "Регистрация",
          "Добавление первого блока",
          "Попытка оплаты",
          "Покупка платного тарифа"
         ],
         "yaxis": "y"
        },
        {
         "hovertemplate": "utm_campaign=cid|13824308616|0721|google|cpc|eu|teplye_2|samostoyatelno<br>count=%{x}<br>event=%{y}<extra></extra>",
         "legendgroup": "cid|13824308616|0721|google|cpc|eu|teplye_2|samostoyatelno",
         "marker": {
          "color": "#FFA15A"
         },
         "name": "cid|13824308616|0721|google|cpc|eu|teplye_2|samostoyatelno",
         "orientation": "h",
         "showlegend": true,
         "type": "funnel",
         "x": [
          7,
          0,
          1,
          0,
          0
         ],
         "xaxis": "x",
         "y": [
          "Переход на лэндинг",
          "Регистрация",
          "Добавление первого блока",
          "Попытка оплаты",
          "Покупка платного тарифа"
         ],
         "yaxis": "y"
        },
        {
         "hovertemplate": "utm_campaign=cid|13245125206|0521|google|cpc|ru|competitors|taplink|for_social<br>count=%{x}<br>event=%{y}<extra></extra>",
         "legendgroup": "cid|13245125206|0521|google|cpc|ru|competitors|taplink|for_social",
         "marker": {
          "color": "#19d3f3"
         },
         "name": "cid|13245125206|0521|google|cpc|ru|competitors|taplink|for_social",
         "orientation": "h",
         "showlegend": true,
         "type": "funnel",
         "x": [
          0,
          0,
          1,
          0,
          0
         ],
         "xaxis": "x",
         "y": [
          "Переход на лэндинг",
          "Регистрация",
          "Добавление первого блока",
          "Попытка оплаты",
          "Покупка платного тарифа"
         ],
         "yaxis": "y"
        },
        {
         "hovertemplate": "utm_campaign=postanovich_smm<br>count=%{x}<br>event=%{y}<extra></extra>",
         "legendgroup": "postanovich_smm",
         "marker": {
          "color": "#FF6692"
         },
         "name": "postanovich_smm",
         "orientation": "h",
         "showlegend": true,
         "type": "funnel",
         "x": [
          1,
          0,
          0,
          0,
          0
         ],
         "xaxis": "x",
         "y": [
          "Переход на лэндинг",
          "Регистрация",
          "Добавление первого блока",
          "Попытка оплаты",
          "Покупка платного тарифа"
         ],
         "yaxis": "y"
        },
        {
         "hovertemplate": "utm_campaign=cid|16778058612|0521|google|cpc|eu|teplye|miniland<br>count=%{x}<br>event=%{y}<extra></extra>",
         "legendgroup": "cid|16778058612|0521|google|cpc|eu|teplye|miniland",
         "marker": {
          "color": "#B6E880"
         },
         "name": "cid|16778058612|0521|google|cpc|eu|teplye|miniland",
         "orientation": "h",
         "showlegend": true,
         "type": "funnel",
         "x": [
          1,
          0,
          0,
          0,
          0
         ],
         "xaxis": "x",
         "y": [
          "Переход на лэндинг",
          "Регистрация",
          "Добавление первого блока",
          "Попытка оплаты",
          "Покупка платного тарифа"
         ],
         "yaxis": "y"
        },
        {
         "hovertemplate": "utm_campaign=cid|16782870160|0521|google|cpc|ru|teplye|mikroland<br>count=%{x}<br>event=%{y}<extra></extra>",
         "legendgroup": "cid|16782870160|0521|google|cpc|ru|teplye|mikroland",
         "marker": {
          "color": "#FF97FF"
         },
         "name": "cid|16782870160|0521|google|cpc|ru|teplye|mikroland",
         "orientation": "h",
         "showlegend": true,
         "type": "funnel",
         "x": [
          1,
          0,
          0,
          0,
          0
         ],
         "xaxis": "x",
         "y": [
          "Переход на лэндинг",
          "Регистрация",
          "Добавление первого блока",
          "Попытка оплаты",
          "Покупка платного тарифа"
         ],
         "yaxis": "y"
        },
        {
         "hovertemplate": "utm_campaign=cid|16778058435|0721|google|cpc|ru|teplye_2|besplatno<br>count=%{x}<br>event=%{y}<extra></extra>",
         "legendgroup": "cid|16778058435|0721|google|cpc|ru|teplye_2|besplatno",
         "marker": {
          "color": "#FECB52"
         },
         "name": "cid|16778058435|0721|google|cpc|ru|teplye_2|besplatno",
         "orientation": "h",
         "showlegend": true,
         "type": "funnel",
         "x": [
          4,
          0,
          0,
          0,
          0
         ],
         "xaxis": "x",
         "y": [
          "Переход на лэндинг",
          "Регистрация",
          "Добавление первого блока",
          "Попытка оплаты",
          "Покупка платного тарифа"
         ],
         "yaxis": "y"
        },
        {
         "hovertemplate": "utm_campaign=cid|16778058435|0721|google|cpc|ru|teplye_2|poshagovo<br>count=%{x}<br>event=%{y}<extra></extra>",
         "legendgroup": "cid|16778058435|0721|google|cpc|ru|teplye_2|poshagovo",
         "marker": {
          "color": "#636efa"
         },
         "name": "cid|16778058435|0721|google|cpc|ru|teplye_2|poshagovo",
         "orientation": "h",
         "showlegend": true,
         "type": "funnel",
         "x": [
          2,
          0,
          0,
          0,
          0
         ],
         "xaxis": "x",
         "y": [
          "Переход на лэндинг",
          "Регистрация",
          "Добавление первого блока",
          "Попытка оплаты",
          "Покупка платного тарифа"
         ],
         "yaxis": "y"
        },
        {
         "hovertemplate": "utm_campaign=cid|16791042698|0521|google|cpc|ru|competitors|another<br>count=%{x}<br>event=%{y}<extra></extra>",
         "legendgroup": "cid|16791042698|0521|google|cpc|ru|competitors|another",
         "marker": {
          "color": "#EF553B"
         },
         "name": "cid|16791042698|0521|google|cpc|ru|competitors|another",
         "orientation": "h",
         "showlegend": true,
         "type": "funnel",
         "x": [
          3,
          0,
          0,
          0,
          0
         ],
         "xaxis": "x",
         "y": [
          "Переход на лэндинг",
          "Регистрация",
          "Добавление первого блока",
          "Попытка оплаты",
          "Покупка платного тарифа"
         ],
         "yaxis": "y"
        },
        {
         "hovertemplate": "utm_campaign=cid|16782869743|0521|google|cpc|eu|competitors|another<br>count=%{x}<br>event=%{y}<extra></extra>",
         "legendgroup": "cid|16782869743|0521|google|cpc|eu|competitors|another",
         "marker": {
          "color": "#00cc96"
         },
         "name": "cid|16782869743|0521|google|cpc|eu|competitors|another",
         "orientation": "h",
         "showlegend": true,
         "type": "funnel",
         "x": [
          1,
          0,
          0,
          0,
          0
         ],
         "xaxis": "x",
         "y": [
          "Переход на лэндинг",
          "Регистрация",
          "Добавление первого блока",
          "Попытка оплаты",
          "Покупка платного тарифа"
         ],
         "yaxis": "y"
        },
        {
         "hovertemplate": "utm_campaign=cid|16778058423|0721|google|cpc|eu|teplye_2|instrukciya<br>count=%{x}<br>event=%{y}<extra></extra>",
         "legendgroup": "cid|16778058423|0721|google|cpc|eu|teplye_2|instrukciya",
         "marker": {
          "color": "#ab63fa"
         },
         "name": "cid|16778058423|0721|google|cpc|eu|teplye_2|instrukciya",
         "orientation": "h",
         "showlegend": true,
         "type": "funnel",
         "x": [
          1,
          0,
          0,
          0,
          0
         ],
         "xaxis": "x",
         "y": [
          "Переход на лэндинг",
          "Регистрация",
          "Добавление первого блока",
          "Попытка оплаты",
          "Покупка платного тарифа"
         ],
         "yaxis": "y"
        },
        {
         "hovertemplate": "utm_campaign=cid|16778058435|0721|google|cpc|ru|teplye_2|instalanding<br>count=%{x}<br>event=%{y}<extra></extra>",
         "legendgroup": "cid|16778058435|0721|google|cpc|ru|teplye_2|instalanding",
         "marker": {
          "color": "#FFA15A"
         },
         "name": "cid|16778058435|0721|google|cpc|ru|teplye_2|instalanding",
         "orientation": "h",
         "showlegend": true,
         "type": "funnel",
         "x": [
          1,
          0,
          0,
          0,
          0
         ],
         "xaxis": "x",
         "y": [
          "Переход на лэндинг",
          "Регистрация",
          "Добавление первого блока",
          "Попытка оплаты",
          "Покупка платного тарифа"
         ],
         "yaxis": "y"
        },
        {
         "hovertemplate": "utm_campaign=cid|16791042677|0521|google|cpc|ru|tranzak|besplatno|sch<br>count=%{x}<br>event=%{y}<extra></extra>",
         "legendgroup": "cid|16791042677|0521|google|cpc|ru|tranzak|besplatno|sch",
         "marker": {
          "color": "#19d3f3"
         },
         "name": "cid|16791042677|0521|google|cpc|ru|tranzak|besplatno|sch",
         "orientation": "h",
         "showlegend": true,
         "type": "funnel",
         "x": [
          1,
          0,
          0,
          0,
          0
         ],
         "xaxis": "x",
         "y": [
          "Переход на лэндинг",
          "Регистрация",
          "Добавление первого блока",
          "Попытка оплаты",
          "Покупка платного тарифа"
         ],
         "yaxis": "y"
        },
        {
         "hovertemplate": "utm_campaign=cid|16791042677|0521|google|cpc|ru|tranzak|besplatno|nch<br>count=%{x}<br>event=%{y}<extra></extra>",
         "legendgroup": "cid|16791042677|0521|google|cpc|ru|tranzak|besplatno|nch",
         "marker": {
          "color": "#FF6692"
         },
         "name": "cid|16791042677|0521|google|cpc|ru|tranzak|besplatno|nch",
         "orientation": "h",
         "showlegend": true,
         "type": "funnel",
         "x": [
          1,
          0,
          0,
          0,
          0
         ],
         "xaxis": "x",
         "y": [
          "Переход на лэндинг",
          "Регистрация",
          "Добавление первого блока",
          "Попытка оплаты",
          "Покупка платного тарифа"
         ],
         "yaxis": "y"
        },
        {
         "hovertemplate": "utm_campaign=cid|16791043376|0521|google|cpc|eu|tranzak|besplatno|vch<br>count=%{x}<br>event=%{y}<extra></extra>",
         "legendgroup": "cid|16791043376|0521|google|cpc|eu|tranzak|besplatno|vch",
         "marker": {
          "color": "#B6E880"
         },
         "name": "cid|16791043376|0521|google|cpc|eu|tranzak|besplatno|vch",
         "orientation": "h",
         "showlegend": true,
         "type": "funnel",
         "x": [
          2,
          0,
          0,
          0,
          0
         ],
         "xaxis": "x",
         "y": [
          "Переход на лэндинг",
          "Регистрация",
          "Добавление первого блока",
          "Попытка оплаты",
          "Покупка платного тарифа"
         ],
         "yaxis": "y"
        },
        {
         "hovertemplate": "utm_campaign=cid|16778058423|0721|google|cpc|eu|teplye_2|instalanding<br>count=%{x}<br>event=%{y}<extra></extra>",
         "legendgroup": "cid|16778058423|0721|google|cpc|eu|teplye_2|instalanding",
         "marker": {
          "color": "#FF97FF"
         },
         "name": "cid|16778058423|0721|google|cpc|eu|teplye_2|instalanding",
         "orientation": "h",
         "showlegend": true,
         "type": "funnel",
         "x": [
          1,
          0,
          0,
          0,
          0
         ],
         "xaxis": "x",
         "y": [
          "Переход на лэндинг",
          "Регистрация",
          "Добавление первого блока",
          "Попытка оплаты",
          "Покупка платного тарифа"
         ],
         "yaxis": "y"
        },
        {
         "hovertemplate": "utm_campaign=cid|16778058435|0721|google|cpc|ru|teplye_2|svoimi_rukami<br>count=%{x}<br>event=%{y}<extra></extra>",
         "legendgroup": "cid|16778058435|0721|google|cpc|ru|teplye_2|svoimi_rukami",
         "marker": {
          "color": "#FECB52"
         },
         "name": "cid|16778058435|0721|google|cpc|ru|teplye_2|svoimi_rukami",
         "orientation": "h",
         "showlegend": true,
         "type": "funnel",
         "x": [
          2,
          0,
          0,
          0,
          0
         ],
         "xaxis": "x",
         "y": [
          "Переход на лэндинг",
          "Регистрация",
          "Добавление первого блока",
          "Попытка оплаты",
          "Покупка платного тарифа"
         ],
         "yaxis": "y"
        },
        {
         "hovertemplate": "utm_campaign=cid|16791043376|0521|google|cpc|eu|tranzak|samostoyatelno<br>count=%{x}<br>event=%{y}<extra></extra>",
         "legendgroup": "cid|16791043376|0521|google|cpc|eu|tranzak|samostoyatelno",
         "marker": {
          "color": "#636efa"
         },
         "name": "cid|16791043376|0521|google|cpc|eu|tranzak|samostoyatelno",
         "orientation": "h",
         "showlegend": true,
         "type": "funnel",
         "x": [
          2,
          0,
          0,
          0,
          0
         ],
         "xaxis": "x",
         "y": [
          "Переход на лэндинг",
          "Регистрация",
          "Добавление первого блока",
          "Попытка оплаты",
          "Покупка платного тарифа"
         ],
         "yaxis": "y"
        },
        {
         "hovertemplate": "utm_campaign=cid|13824308616|0721|google|cpc|eu|teplye_2|sozdat_landing<br>count=%{x}<br>event=%{y}<extra></extra>",
         "legendgroup": "cid|13824308616|0721|google|cpc|eu|teplye_2|sozdat_landing",
         "marker": {
          "color": "#EF553B"
         },
         "name": "cid|13824308616|0721|google|cpc|eu|teplye_2|sozdat_landing",
         "orientation": "h",
         "showlegend": true,
         "type": "funnel",
         "x": [
          2,
          0,
          0,
          0,
          0
         ],
         "xaxis": "x",
         "y": [
          "Переход на лэндинг",
          "Регистрация",
          "Добавление первого блока",
          "Попытка оплаты",
          "Покупка платного тарифа"
         ],
         "yaxis": "y"
        },
        {
         "hovertemplate": "utm_campaign=cid|16778058435|0721|google|cpc|ru|teplye_2|samostoyatelno<br>count=%{x}<br>event=%{y}<extra></extra>",
         "legendgroup": "cid|16778058435|0721|google|cpc|ru|teplye_2|samostoyatelno",
         "marker": {
          "color": "#00cc96"
         },
         "name": "cid|16778058435|0721|google|cpc|ru|teplye_2|samostoyatelno",
         "orientation": "h",
         "showlegend": true,
         "type": "funnel",
         "x": [
          2,
          0,
          0,
          0,
          0
         ],
         "xaxis": "x",
         "y": [
          "Переход на лэндинг",
          "Регистрация",
          "Добавление первого блока",
          "Попытка оплаты",
          "Покупка платного тарифа"
         ],
         "yaxis": "y"
        },
        {
         "hovertemplate": "utm_campaign=cid|16778058435|0721|google|cpc|ru|teplye_2|sdelat_landing<br>count=%{x}<br>event=%{y}<extra></extra>",
         "legendgroup": "cid|16778058435|0721|google|cpc|ru|teplye_2|sdelat_landing",
         "marker": {
          "color": "#ab63fa"
         },
         "name": "cid|16778058435|0721|google|cpc|ru|teplye_2|sdelat_landing",
         "orientation": "h",
         "showlegend": true,
         "type": "funnel",
         "x": [
          2,
          0,
          0,
          0,
          0
         ],
         "xaxis": "x",
         "y": [
          "Переход на лэндинг",
          "Регистрация",
          "Добавление первого блока",
          "Попытка оплаты",
          "Покупка платного тарифа"
         ],
         "yaxis": "y"
        },
        {
         "hovertemplate": "utm_campaign=cid|16778058423|0721|google|cpc|eu|teplye_2|samostoyatelno<br>count=%{x}<br>event=%{y}<extra></extra>",
         "legendgroup": "cid|16778058423|0721|google|cpc|eu|teplye_2|samostoyatelno",
         "marker": {
          "color": "#FFA15A"
         },
         "name": "cid|16778058423|0721|google|cpc|eu|teplye_2|samostoyatelno",
         "orientation": "h",
         "showlegend": true,
         "type": "funnel",
         "x": [
          3,
          0,
          0,
          0,
          0
         ],
         "xaxis": "x",
         "y": [
          "Переход на лэндинг",
          "Регистрация",
          "Добавление первого блока",
          "Попытка оплаты",
          "Покупка платного тарифа"
         ],
         "yaxis": "y"
        },
        {
         "hovertemplate": "utm_campaign=cid|16778058423|0721|google|cpc|eu|teplye_2|sozdat_landing<br>count=%{x}<br>event=%{y}<extra></extra>",
         "legendgroup": "cid|16778058423|0721|google|cpc|eu|teplye_2|sozdat_landing",
         "marker": {
          "color": "#19d3f3"
         },
         "name": "cid|16778058423|0721|google|cpc|eu|teplye_2|sozdat_landing",
         "orientation": "h",
         "showlegend": true,
         "type": "funnel",
         "x": [
          2,
          0,
          0,
          0,
          0
         ],
         "xaxis": "x",
         "y": [
          "Переход на лэндинг",
          "Регистрация",
          "Добавление первого блока",
          "Попытка оплаты",
          "Покупка платного тарифа"
         ],
         "yaxis": "y"
        },
        {
         "hovertemplate": "utm_campaign=cid|16791042698|0521|google|cpc|ru|competitors|taplink|cena<br>count=%{x}<br>event=%{y}<extra></extra>",
         "legendgroup": "cid|16791042698|0521|google|cpc|ru|competitors|taplink|cena",
         "marker": {
          "color": "#FF6692"
         },
         "name": "cid|16791042698|0521|google|cpc|ru|competitors|taplink|cena",
         "orientation": "h",
         "showlegend": true,
         "type": "funnel",
         "x": [
          2,
          0,
          0,
          0,
          0
         ],
         "xaxis": "x",
         "y": [
          "Переход на лэндинг",
          "Регистрация",
          "Добавление первого блока",
          "Попытка оплаты",
          "Покупка платного тарифа"
         ],
         "yaxis": "y"
        },
        {
         "hovertemplate": "utm_campaign=cid|16791042698|0521|google|cpc|ru|competitors|taplink|sdelat<br>count=%{x}<br>event=%{y}<extra></extra>",
         "legendgroup": "cid|16791042698|0521|google|cpc|ru|competitors|taplink|sdelat",
         "marker": {
          "color": "#B6E880"
         },
         "name": "cid|16791042698|0521|google|cpc|ru|competitors|taplink|sdelat",
         "orientation": "h",
         "showlegend": true,
         "type": "funnel",
         "x": [
          1,
          0,
          0,
          0,
          0
         ],
         "xaxis": "x",
         "y": [
          "Переход на лэндинг",
          "Регистрация",
          "Добавление первого блока",
          "Попытка оплаты",
          "Покупка платного тарифа"
         ],
         "yaxis": "y"
        },
        {
         "hovertemplate": "utm_campaign=cid|16782869743|0521|google|cpc|eu|competitors|taplink|sozdat<br>count=%{x}<br>event=%{y}<extra></extra>",
         "legendgroup": "cid|16782869743|0521|google|cpc|eu|competitors|taplink|sozdat",
         "marker": {
          "color": "#FF97FF"
         },
         "name": "cid|16782869743|0521|google|cpc|eu|competitors|taplink|sozdat",
         "orientation": "h",
         "showlegend": true,
         "type": "funnel",
         "x": [
          1,
          0,
          0,
          0,
          0
         ],
         "xaxis": "x",
         "y": [
          "Переход на лэндинг",
          "Регистрация",
          "Добавление первого блока",
          "Попытка оплаты",
          "Покупка платного тарифа"
         ],
         "yaxis": "y"
        },
        {
         "hovertemplate": "utm_campaign=cid|16782869743|0521|google|cpc|eu|competitors|taplink|sdelat<br>count=%{x}<br>event=%{y}<extra></extra>",
         "legendgroup": "cid|16782869743|0521|google|cpc|eu|competitors|taplink|sdelat",
         "marker": {
          "color": "#FECB52"
         },
         "name": "cid|16782869743|0521|google|cpc|eu|competitors|taplink|sdelat",
         "orientation": "h",
         "showlegend": true,
         "type": "funnel",
         "x": [
          1,
          0,
          0,
          0,
          0
         ],
         "xaxis": "x",
         "y": [
          "Переход на лэндинг",
          "Регистрация",
          "Добавление первого блока",
          "Попытка оплаты",
          "Покупка платного тарифа"
         ],
         "yaxis": "y"
        },
        {
         "hovertemplate": "utm_campaign=cid|16791042698|0521|google|cpc|ru|competitors|taplink|for_social<br>count=%{x}<br>event=%{y}<extra></extra>",
         "legendgroup": "cid|16791042698|0521|google|cpc|ru|competitors|taplink|for_social",
         "marker": {
          "color": "#636efa"
         },
         "name": "cid|16791042698|0521|google|cpc|ru|competitors|taplink|for_social",
         "orientation": "h",
         "showlegend": true,
         "type": "funnel",
         "x": [
          2,
          0,
          0,
          0,
          0
         ],
         "xaxis": "x",
         "y": [
          "Переход на лэндинг",
          "Регистрация",
          "Добавление первого блока",
          "Попытка оплаты",
          "Покупка платного тарифа"
         ],
         "yaxis": "y"
        },
        {
         "hovertemplate": "utm_campaign=cid|16782869743|0521|google|cpc|eu|competitors|taplink|for_social<br>count=%{x}<br>event=%{y}<extra></extra>",
         "legendgroup": "cid|16782869743|0521|google|cpc|eu|competitors|taplink|for_social",
         "marker": {
          "color": "#EF553B"
         },
         "name": "cid|16782869743|0521|google|cpc|eu|competitors|taplink|for_social",
         "orientation": "h",
         "showlegend": true,
         "type": "funnel",
         "x": [
          2,
          0,
          0,
          0,
          0
         ],
         "xaxis": "x",
         "y": [
          "Переход на лэндинг",
          "Регистрация",
          "Добавление первого блока",
          "Попытка оплаты",
          "Покупка платного тарифа"
         ],
         "yaxis": "y"
        },
        {
         "hovertemplate": "utm_campaign=cid|16791042677|0521|google|cpc|ru|tranzak|analog<br>count=%{x}<br>event=%{y}<extra></extra>",
         "legendgroup": "cid|16791042677|0521|google|cpc|ru|tranzak|analog",
         "marker": {
          "color": "#00cc96"
         },
         "name": "cid|16791042677|0521|google|cpc|ru|tranzak|analog",
         "orientation": "h",
         "showlegend": true,
         "type": "funnel",
         "x": [
          1,
          0,
          0,
          0,
          0
         ],
         "xaxis": "x",
         "y": [
          "Переход на лэндинг",
          "Регистрация",
          "Добавление первого блока",
          "Попытка оплаты",
          "Покупка платного тарифа"
         ],
         "yaxis": "y"
        },
        {
         "hovertemplate": "utm_campaign=cid|16782870160|0521|google|cpc|ru|teplye|miniland<br>count=%{x}<br>event=%{y}<extra></extra>",
         "legendgroup": "cid|16782870160|0521|google|cpc|ru|teplye|miniland",
         "marker": {
          "color": "#ab63fa"
         },
         "name": "cid|16782870160|0521|google|cpc|ru|teplye|miniland",
         "orientation": "h",
         "showlegend": true,
         "type": "funnel",
         "x": [
          1,
          0,
          0,
          0,
          0
         ],
         "xaxis": "x",
         "y": [
          "Переход на лэндинг",
          "Регистрация",
          "Добавление первого блока",
          "Попытка оплаты",
          "Покупка платного тарифа"
         ],
         "yaxis": "y"
        },
        {
         "hovertemplate": "utm_campaign=cid|16791042698|0521|google|cpc|ru|competitors|mssg<br>count=%{x}<br>event=%{y}<extra></extra>",
         "legendgroup": "cid|16791042698|0521|google|cpc|ru|competitors|mssg",
         "marker": {
          "color": "#FFA15A"
         },
         "name": "cid|16791042698|0521|google|cpc|ru|competitors|mssg",
         "orientation": "h",
         "showlegend": true,
         "type": "funnel",
         "x": [
          2,
          0,
          0,
          0,
          0
         ],
         "xaxis": "x",
         "y": [
          "Переход на лэндинг",
          "Регистрация",
          "Добавление первого блока",
          "Попытка оплаты",
          "Покупка платного тарифа"
         ],
         "yaxis": "y"
        },
        {
         "hovertemplate": "utm_campaign=cid|16778058612|0521|google|cpc|eu|teplye|mikroland<br>count=%{x}<br>event=%{y}<extra></extra>",
         "legendgroup": "cid|16778058612|0521|google|cpc|eu|teplye|mikroland",
         "marker": {
          "color": "#19d3f3"
         },
         "name": "cid|16778058612|0521|google|cpc|eu|teplye|mikroland",
         "orientation": "h",
         "showlegend": true,
         "type": "funnel",
         "x": [
          1,
          0,
          0,
          0,
          0
         ],
         "xaxis": "x",
         "y": [
          "Переход на лэндинг",
          "Регистрация",
          "Добавление первого блока",
          "Попытка оплаты",
          "Покупка платного тарифа"
         ],
         "yaxis": "y"
        },
        {
         "hovertemplate": "utm_campaign=cid|16782869743|0521|google|cpc|eu|competitors|mssg<br>count=%{x}<br>event=%{y}<extra></extra>",
         "legendgroup": "cid|16782869743|0521|google|cpc|eu|competitors|mssg",
         "marker": {
          "color": "#FF6692"
         },
         "name": "cid|16782869743|0521|google|cpc|eu|competitors|mssg",
         "orientation": "h",
         "showlegend": true,
         "type": "funnel",
         "x": [
          1,
          0,
          0,
          0,
          0
         ],
         "xaxis": "x",
         "y": [
          "Переход на лэндинг",
          "Регистрация",
          "Добавление первого блока",
          "Попытка оплаты",
          "Покупка платного тарифа"
         ],
         "yaxis": "y"
        },
        {
         "hovertemplate": "utm_campaign=cid|16782870160|0521|google|cpc|ru|teplye|multissylka<br>count=%{x}<br>event=%{y}<extra></extra>",
         "legendgroup": "cid|16782870160|0521|google|cpc|ru|teplye|multissylka",
         "marker": {
          "color": "#B6E880"
         },
         "name": "cid|16782870160|0521|google|cpc|ru|teplye|multissylka",
         "orientation": "h",
         "showlegend": true,
         "type": "funnel",
         "x": [
          2,
          0,
          0,
          0,
          0
         ],
         "xaxis": "x",
         "y": [
          "Переход на лэндинг",
          "Регистрация",
          "Добавление первого блока",
          "Попытка оплаты",
          "Покупка платного тарифа"
         ],
         "yaxis": "y"
        },
        {
         "hovertemplate": "utm_campaign=cid|16778058612|0521|google|cpc|eu|teplye|multissylka<br>count=%{x}<br>event=%{y}<extra></extra>",
         "legendgroup": "cid|16778058612|0521|google|cpc|eu|teplye|multissylka",
         "marker": {
          "color": "#FF97FF"
         },
         "name": "cid|16778058612|0521|google|cpc|eu|teplye|multissylka",
         "orientation": "h",
         "showlegend": true,
         "type": "funnel",
         "x": [
          2,
          0,
          0,
          0,
          0
         ],
         "xaxis": "x",
         "y": [
          "Переход на лэндинг",
          "Регистрация",
          "Добавление первого блока",
          "Попытка оплаты",
          "Покупка платного тарифа"
         ],
         "yaxis": "y"
        },
        {
         "hovertemplate": "utm_campaign=cid|16778058423|0721|google|cpc|eu|teplye_2|poshagovo<br>count=%{x}<br>event=%{y}<extra></extra>",
         "legendgroup": "cid|16778058423|0721|google|cpc|eu|teplye_2|poshagovo",
         "marker": {
          "color": "#FECB52"
         },
         "name": "cid|16778058423|0721|google|cpc|eu|teplye_2|poshagovo",
         "orientation": "h",
         "showlegend": true,
         "type": "funnel",
         "x": [
          1,
          0,
          0,
          0,
          0
         ],
         "xaxis": "x",
         "y": [
          "Переход на лэндинг",
          "Регистрация",
          "Добавление первого блока",
          "Попытка оплаты",
          "Покупка платного тарифа"
         ],
         "yaxis": "y"
        },
        {
         "hovertemplate": "utm_campaign=cid|16778058435|0721|google|cpc|ru|teplye_2|instrukciya<br>count=%{x}<br>event=%{y}<extra></extra>",
         "legendgroup": "cid|16778058435|0721|google|cpc|ru|teplye_2|instrukciya",
         "marker": {
          "color": "#636efa"
         },
         "name": "cid|16778058435|0721|google|cpc|ru|teplye_2|instrukciya",
         "orientation": "h",
         "showlegend": true,
         "type": "funnel",
         "x": [
          1,
          0,
          0,
          0,
          0
         ],
         "xaxis": "x",
         "y": [
          "Переход на лэндинг",
          "Регистрация",
          "Добавление первого блока",
          "Попытка оплаты",
          "Покупка платного тарифа"
         ],
         "yaxis": "y"
        },
        {
         "hovertemplate": "utm_campaign=cid|16791043376|0521|google|cpc|eu|tranzak|besplatno|sch<br>count=%{x}<br>event=%{y}<extra></extra>",
         "legendgroup": "cid|16791043376|0521|google|cpc|eu|tranzak|besplatno|sch",
         "marker": {
          "color": "#EF553B"
         },
         "name": "cid|16791043376|0521|google|cpc|eu|tranzak|besplatno|sch",
         "orientation": "h",
         "showlegend": true,
         "type": "funnel",
         "x": [
          2,
          0,
          0,
          0,
          0
         ],
         "xaxis": "x",
         "y": [
          "Переход на лэндинг",
          "Регистрация",
          "Добавление первого блока",
          "Попытка оплаты",
          "Покупка платного тарифа"
         ],
         "yaxis": "y"
        },
        {
         "hovertemplate": "utm_campaign=cid|16791043376|0521|google|cpc|eu|tranzak|besplatno|nch<br>count=%{x}<br>event=%{y}<extra></extra>",
         "legendgroup": "cid|16791043376|0521|google|cpc|eu|tranzak|besplatno|nch",
         "marker": {
          "color": "#00cc96"
         },
         "name": "cid|16791043376|0521|google|cpc|eu|tranzak|besplatno|nch",
         "orientation": "h",
         "showlegend": true,
         "type": "funnel",
         "x": [
          2,
          0,
          0,
          0,
          0
         ],
         "xaxis": "x",
         "y": [
          "Переход на лэндинг",
          "Регистрация",
          "Добавление первого блока",
          "Попытка оплаты",
          "Покупка платного тарифа"
         ],
         "yaxis": "y"
        },
        {
         "hovertemplate": "utm_campaign=cid|16791042677|0521|google|cpc|ru|tranzak|samostoyatelno<br>count=%{x}<br>event=%{y}<extra></extra>",
         "legendgroup": "cid|16791042677|0521|google|cpc|ru|tranzak|samostoyatelno",
         "marker": {
          "color": "#ab63fa"
         },
         "name": "cid|16791042677|0521|google|cpc|ru|tranzak|samostoyatelno",
         "orientation": "h",
         "showlegend": true,
         "type": "funnel",
         "x": [
          3,
          0,
          0,
          0,
          0
         ],
         "xaxis": "x",
         "y": [
          "Переход на лэндинг",
          "Регистрация",
          "Добавление первого блока",
          "Попытка оплаты",
          "Покупка платного тарифа"
         ],
         "yaxis": "y"
        },
        {
         "hovertemplate": "utm_campaign=cid|16778058423|0721|google|cpc|eu|teplye_2|svoimi_rukami<br>count=%{x}<br>event=%{y}<extra></extra>",
         "legendgroup": "cid|16778058423|0721|google|cpc|eu|teplye_2|svoimi_rukami",
         "marker": {
          "color": "#FFA15A"
         },
         "name": "cid|16778058423|0721|google|cpc|eu|teplye_2|svoimi_rukami",
         "orientation": "h",
         "showlegend": true,
         "type": "funnel",
         "x": [
          1,
          0,
          0,
          0,
          0
         ],
         "xaxis": "x",
         "y": [
          "Переход на лэндинг",
          "Регистрация",
          "Добавление первого блока",
          "Попытка оплаты",
          "Покупка платного тарифа"
         ],
         "yaxis": "y"
        },
        {
         "hovertemplate": "utm_campaign=cid|16778058435|0721|google|cpc|ru|teplye_2|dlya_instagram<br>count=%{x}<br>event=%{y}<extra></extra>",
         "legendgroup": "cid|16778058435|0721|google|cpc|ru|teplye_2|dlya_instagram",
         "marker": {
          "color": "#19d3f3"
         },
         "name": "cid|16778058435|0721|google|cpc|ru|teplye_2|dlya_instagram",
         "orientation": "h",
         "showlegend": true,
         "type": "funnel",
         "x": [
          2,
          0,
          0,
          0,
          0
         ],
         "xaxis": "x",
         "y": [
          "Переход на лэндинг",
          "Регистрация",
          "Добавление первого блока",
          "Попытка оплаты",
          "Покупка платного тарифа"
         ],
         "yaxis": "y"
        },
        {
         "hovertemplate": "utm_campaign=cid|16778058435|0721|google|cpc|ru|teplye_2|sozdat_landing<br>count=%{x}<br>event=%{y}<extra></extra>",
         "legendgroup": "cid|16778058435|0721|google|cpc|ru|teplye_2|sozdat_landing",
         "marker": {
          "color": "#FF6692"
         },
         "name": "cid|16778058435|0721|google|cpc|ru|teplye_2|sozdat_landing",
         "orientation": "h",
         "showlegend": true,
         "type": "funnel",
         "x": [
          2,
          0,
          0,
          0,
          0
         ],
         "xaxis": "x",
         "y": [
          "Переход на лэндинг",
          "Регистрация",
          "Добавление первого блока",
          "Попытка оплаты",
          "Покупка платного тарифа"
         ],
         "yaxis": "y"
        },
        {
         "hovertemplate": "utm_campaign=cid|16778058423|0721|google|cpc|eu|teplye_2|sdelat_landing<br>count=%{x}<br>event=%{y}<extra></extra>",
         "legendgroup": "cid|16778058423|0721|google|cpc|eu|teplye_2|sdelat_landing",
         "marker": {
          "color": "#B6E880"
         },
         "name": "cid|16778058423|0721|google|cpc|eu|teplye_2|sdelat_landing",
         "orientation": "h",
         "showlegend": true,
         "type": "funnel",
         "x": [
          1,
          0,
          0,
          0,
          0
         ],
         "xaxis": "x",
         "y": [
          "Переход на лэндинг",
          "Регистрация",
          "Добавление первого блока",
          "Попытка оплаты",
          "Покупка платного тарифа"
         ],
         "yaxis": "y"
        },
        {
         "hovertemplate": "utm_campaign=cid|16782869743|0521|google|cpc|eu|competitors|taplink|cena<br>count=%{x}<br>event=%{y}<extra></extra>",
         "legendgroup": "cid|16782869743|0521|google|cpc|eu|competitors|taplink|cena",
         "marker": {
          "color": "#FF97FF"
         },
         "name": "cid|16782869743|0521|google|cpc|eu|competitors|taplink|cena",
         "orientation": "h",
         "showlegend": true,
         "type": "funnel",
         "x": [
          2,
          0,
          0,
          0,
          0
         ],
         "xaxis": "x",
         "y": [
          "Переход на лэндинг",
          "Регистрация",
          "Добавление первого блока",
          "Попытка оплаты",
          "Покупка платного тарифа"
         ],
         "yaxis": "y"
        },
        {
         "hovertemplate": "utm_campaign=cid|16791042698|0521|google|cpc|ru|competitors|taplink|nastroit<br>count=%{x}<br>event=%{y}<extra></extra>",
         "legendgroup": "cid|16791042698|0521|google|cpc|ru|competitors|taplink|nastroit",
         "marker": {
          "color": "#FECB52"
         },
         "name": "cid|16791042698|0521|google|cpc|ru|competitors|taplink|nastroit",
         "orientation": "h",
         "showlegend": true,
         "type": "funnel",
         "x": [
          2,
          0,
          0,
          0,
          0
         ],
         "xaxis": "x",
         "y": [
          "Переход на лэндинг",
          "Регистрация",
          "Добавление первого блока",
          "Попытка оплаты",
          "Покупка платного тарифа"
         ],
         "yaxis": "y"
        },
        {
         "hovertemplate": "utm_campaign=cid|16782869743|0521|google|cpc|eu|competitors|taplink|nastroit<br>count=%{x}<br>event=%{y}<extra></extra>",
         "legendgroup": "cid|16782869743|0521|google|cpc|eu|competitors|taplink|nastroit",
         "marker": {
          "color": "#636efa"
         },
         "name": "cid|16782869743|0521|google|cpc|eu|competitors|taplink|nastroit",
         "orientation": "h",
         "showlegend": true,
         "type": "funnel",
         "x": [
          2,
          0,
          0,
          0,
          0
         ],
         "xaxis": "x",
         "y": [
          "Переход на лэндинг",
          "Регистрация",
          "Добавление первого блока",
          "Попытка оплаты",
          "Покупка платного тарифа"
         ],
         "yaxis": "y"
        },
        {
         "hovertemplate": "utm_campaign=cid|13245125206|0521|google|cpc|ru|competitors|taplink|nastroit<br>count=%{x}<br>event=%{y}<extra></extra>",
         "legendgroup": "cid|13245125206|0521|google|cpc|ru|competitors|taplink|nastroit",
         "marker": {
          "color": "#EF553B"
         },
         "name": "cid|13245125206|0521|google|cpc|ru|competitors|taplink|nastroit",
         "orientation": "h",
         "showlegend": true,
         "type": "funnel",
         "x": [
          0,
          0,
          1,
          0,
          0
         ],
         "xaxis": "x",
         "y": [
          "Переход на лэндинг",
          "Регистрация",
          "Добавление первого блока",
          "Попытка оплаты",
          "Покупка платного тарифа"
         ],
         "yaxis": "y"
        },
        {
         "hovertemplate": "utm_campaign=cid|62012011|search|0521|yandex_poisk|cpc|ru|tranzak|besplatno|sch<br>count=%{x}<br>event=%{y}<extra></extra>",
         "legendgroup": "cid|62012011|search|0521|yandex_poisk|cpc|ru|tranzak|besplatno|sch",
         "marker": {
          "color": "#00cc96"
         },
         "name": "cid|62012011|search|0521|yandex_poisk|cpc|ru|tranzak|besplatno|sch",
         "orientation": "h",
         "showlegend": true,
         "type": "funnel",
         "x": [
          3,
          0,
          0,
          0,
          0
         ],
         "xaxis": "x",
         "y": [
          "Переход на лэндинг",
          "Регистрация",
          "Добавление первого блока",
          "Попытка оплаты",
          "Покупка платного тарифа"
         ],
         "yaxis": "y"
        },
        {
         "hovertemplate": "utm_campaign=cid|62012011|search|0521|yandex_poisk|cpc|ru|tranzak|besplatno|nch<br>count=%{x}<br>event=%{y}<extra></extra>",
         "legendgroup": "cid|62012011|search|0521|yandex_poisk|cpc|ru|tranzak|besplatno|nch",
         "marker": {
          "color": "#ab63fa"
         },
         "name": "cid|62012011|search|0521|yandex_poisk|cpc|ru|tranzak|besplatno|nch",
         "orientation": "h",
         "showlegend": true,
         "type": "funnel",
         "x": [
          1,
          0,
          0,
          0,
          0
         ],
         "xaxis": "x",
         "y": [
          "Переход на лэндинг",
          "Регистрация",
          "Добавление первого блока",
          "Попытка оплаты",
          "Покупка платного тарифа"
         ],
         "yaxis": "y"
        },
        {
         "hovertemplate": "utm_campaign=vedushhij_nasvadbu<br>count=%{x}<br>event=%{y}<extra></extra>",
         "legendgroup": "vedushhij_nasvadbu",
         "marker": {
          "color": "#FFA15A"
         },
         "name": "vedushhij_nasvadbu",
         "orientation": "h",
         "showlegend": true,
         "type": "funnel",
         "x": [
          1,
          0,
          1,
          0,
          0
         ],
         "xaxis": "x",
         "y": [
          "Переход на лэндинг",
          "Регистрация",
          "Добавление первого блока",
          "Попытка оплаты",
          "Покупка платного тарифа"
         ],
         "yaxis": "y"
        },
        {
         "hovertemplate": "utm_campaign=cid|13815935471|0521|google|cpc|eu|teplye|multissylka<br>count=%{x}<br>event=%{y}<extra></extra>",
         "legendgroup": "cid|13815935471|0521|google|cpc|eu|teplye|multissylka",
         "marker": {
          "color": "#19d3f3"
         },
         "name": "cid|13815935471|0521|google|cpc|eu|teplye|multissylka",
         "orientation": "h",
         "showlegend": true,
         "type": "funnel",
         "x": [
          0,
          0,
          2,
          0,
          0
         ],
         "xaxis": "x",
         "y": [
          "Переход на лэндинг",
          "Регистрация",
          "Добавление первого блока",
          "Попытка оплаты",
          "Покупка платного тарифа"
         ],
         "yaxis": "y"
        },
        {
         "hovertemplate": "utm_campaign=cid|13824315009|0721|google|cpc|kz|teplye_2|samostoyatelno<br>count=%{x}<br>event=%{y}<extra></extra>",
         "legendgroup": "cid|13824315009|0721|google|cpc|kz|teplye_2|samostoyatelno",
         "marker": {
          "color": "#FF6692"
         },
         "name": "cid|13824315009|0721|google|cpc|kz|teplye_2|samostoyatelno",
         "orientation": "h",
         "showlegend": true,
         "type": "funnel",
         "x": [
          0,
          0,
          1,
          0,
          0
         ],
         "xaxis": "x",
         "y": [
          "Переход на лэндинг",
          "Регистрация",
          "Добавление первого блока",
          "Попытка оплаты",
          "Покупка платного тарифа"
         ],
         "yaxis": "y"
        },
        {
         "hovertemplate": "utm_campaign=cid|13322676854|0521|google|cpc|kz|tranzak|analog<br>count=%{x}<br>event=%{y}<extra></extra>",
         "legendgroup": "cid|13322676854|0521|google|cpc|kz|tranzak|analog",
         "marker": {
          "color": "#B6E880"
         },
         "name": "cid|13322676854|0521|google|cpc|kz|tranzak|analog",
         "orientation": "h",
         "showlegend": true,
         "type": "funnel",
         "x": [
          1,
          0,
          0,
          0,
          0
         ],
         "xaxis": "x",
         "y": [
          "Переход на лэндинг",
          "Регистрация",
          "Добавление первого блока",
          "Попытка оплаты",
          "Покупка платного тарифа"
         ],
         "yaxis": "y"
        },
        {
         "hovertemplate": "utm_campaign=cid|13245125206|0521|google|cpc|ru|competitors|taplink|cena<br>count=%{x}<br>event=%{y}<extra></extra>",
         "legendgroup": "cid|13245125206|0521|google|cpc|ru|competitors|taplink|cena",
         "marker": {
          "color": "#FF97FF"
         },
         "name": "cid|13245125206|0521|google|cpc|ru|competitors|taplink|cena",
         "orientation": "h",
         "showlegend": true,
         "type": "funnel",
         "x": [
          3,
          0,
          0,
          0,
          0
         ],
         "xaxis": "x",
         "y": [
          "Переход на лэндинг",
          "Регистрация",
          "Добавление первого блока",
          "Попытка оплаты",
          "Покупка платного тарифа"
         ],
         "yaxis": "y"
        },
        {
         "hovertemplate": "utm_campaign=0621|instagram|cpc|kazah|all|shir<br>count=%{x}<br>event=%{y}<extra></extra>",
         "legendgroup": "0621|instagram|cpc|kazah|all|shir",
         "marker": {
          "color": "#FECB52"
         },
         "name": "0621|instagram|cpc|kazah|all|shir",
         "orientation": "h",
         "showlegend": true,
         "type": "funnel",
         "x": [
          1,
          0,
          0,
          0,
          0
         ],
         "xaxis": "x",
         "y": [
          "Переход на лэндинг",
          "Регистрация",
          "Добавление первого блока",
          "Попытка оплаты",
          "Покупка платного тарифа"
         ],
         "yaxis": "y"
        },
        {
         "hovertemplate": "utm_campaign=vedushie56<br>count=%{x}<br>event=%{y}<extra></extra>",
         "legendgroup": "vedushie56",
         "marker": {
          "color": "#636efa"
         },
         "name": "vedushie56",
         "orientation": "h",
         "showlegend": true,
         "type": "funnel",
         "x": [
          1,
          0,
          0,
          0,
          0
         ],
         "xaxis": "x",
         "y": [
          "Переход на лэндинг",
          "Регистрация",
          "Добавление первого блока",
          "Попытка оплаты",
          "Покупка платного тарифа"
         ],
         "yaxis": "y"
        },
        {
         "hovertemplate": "utm_campaign=lashbotoxforum<br>count=%{x}<br>event=%{y}<extra></extra>",
         "legendgroup": "lashbotoxforum",
         "marker": {
          "color": "#EF553B"
         },
         "name": "lashbotoxforum",
         "orientation": "h",
         "showlegend": true,
         "type": "funnel",
         "x": [
          1,
          0,
          0,
          0,
          0
         ],
         "xaxis": "x",
         "y": [
          "Переход на лэндинг",
          "Регистрация",
          "Добавление первого блока",
          "Попытка оплаты",
          "Покупка платного тарифа"
         ],
         "yaxis": "y"
        },
        {
         "hovertemplate": "utm_campaign=cid|13824314847|0721|google|cpc|ru|teplye_2|sozdat_landing<br>count=%{x}<br>event=%{y}<extra></extra>",
         "legendgroup": "cid|13824314847|0721|google|cpc|ru|teplye_2|sozdat_landing",
         "marker": {
          "color": "#00cc96"
         },
         "name": "cid|13824314847|0721|google|cpc|ru|teplye_2|sozdat_landing",
         "orientation": "h",
         "showlegend": true,
         "type": "funnel",
         "x": [
          3,
          0,
          0,
          0,
          0
         ],
         "xaxis": "x",
         "y": [
          "Переход на лэндинг",
          "Регистрация",
          "Добавление первого блока",
          "Попытка оплаты",
          "Покупка платного тарифа"
         ],
         "yaxis": "y"
        },
        {
         "hovertemplate": "utm_campaign=test_var<br>count=%{x}<br>event=%{y}<extra></extra>",
         "legendgroup": "test_var",
         "marker": {
          "color": "#ab63fa"
         },
         "name": "test_var",
         "orientation": "h",
         "showlegend": true,
         "type": "funnel",
         "x": [
          0,
          0,
          1,
          0,
          0
         ],
         "xaxis": "x",
         "y": [
          "Переход на лэндинг",
          "Регистрация",
          "Добавление первого блока",
          "Попытка оплаты",
          "Покупка платного тарифа"
         ],
         "yaxis": "y"
        },
        {
         "hovertemplate": "utm_campaign={campaign_id}<br>count=%{x}<br>event=%{y}<extra></extra>",
         "legendgroup": "{campaign_id}",
         "marker": {
          "color": "#FFA15A"
         },
         "name": "{campaign_id}",
         "orientation": "h",
         "showlegend": true,
         "type": "funnel",
         "x": [
          0,
          0,
          1,
          0,
          0
         ],
         "xaxis": "x",
         "y": [
          "Переход на лэндинг",
          "Регистрация",
          "Добавление первого блока",
          "Попытка оплаты",
          "Покупка платного тарифа"
         ],
         "yaxis": "y"
        },
        {
         "hovertemplate": "utm_campaign=cid|13811038492|0521|google|cpc|kz|competitors|mssg<br>count=%{x}<br>event=%{y}<extra></extra>",
         "legendgroup": "cid|13811038492|0521|google|cpc|kz|competitors|mssg",
         "marker": {
          "color": "#19d3f3"
         },
         "name": "cid|13811038492|0521|google|cpc|kz|competitors|mssg",
         "orientation": "h",
         "showlegend": true,
         "type": "funnel",
         "x": [
          1,
          0,
          0,
          0,
          0
         ],
         "xaxis": "x",
         "y": [
          "Переход на лэндинг",
          "Регистрация",
          "Добавление первого блока",
          "Попытка оплаты",
          "Покупка платного тарифа"
         ],
         "yaxis": "y"
        },
        {
         "hovertemplate": "utm_campaign=cid|13322676854|0521|google|cpc|kz|tranzak|besplatno|sch<br>count=%{x}<br>event=%{y}<extra></extra>",
         "legendgroup": "cid|13322676854|0521|google|cpc|kz|tranzak|besplatno|sch",
         "marker": {
          "color": "#FF6692"
         },
         "name": "cid|13322676854|0521|google|cpc|kz|tranzak|besplatno|sch",
         "orientation": "h",
         "showlegend": true,
         "type": "funnel",
         "x": [
          1,
          0,
          0,
          0,
          0
         ],
         "xaxis": "x",
         "y": [
          "Переход на лэндинг",
          "Регистрация",
          "Добавление первого блока",
          "Попытка оплаты",
          "Покупка платного тарифа"
         ],
         "yaxis": "y"
        },
        {
         "hovertemplate": "utm_campaign=cid|13813036738|0521|google|cpc|by|competitors|taplink|sdelat<br>count=%{x}<br>event=%{y}<extra></extra>",
         "legendgroup": "cid|13813036738|0521|google|cpc|by|competitors|taplink|sdelat",
         "marker": {
          "color": "#B6E880"
         },
         "name": "cid|13813036738|0521|google|cpc|by|competitors|taplink|sdelat",
         "orientation": "h",
         "showlegend": true,
         "type": "funnel",
         "x": [
          0,
          0,
          0,
          0,
          0
         ],
         "xaxis": "x",
         "y": [
          "Переход на лэндинг",
          "Регистрация",
          "Добавление первого блока",
          "Попытка оплаты",
          "Покупка платного тарифа"
         ],
         "yaxis": "y"
        },
        {
         "hovertemplate": "utm_campaign=test2<br>count=%{x}<br>event=%{y}<extra></extra>",
         "legendgroup": "test2",
         "marker": {
          "color": "#FF97FF"
         },
         "name": "test2",
         "orientation": "h",
         "showlegend": true,
         "type": "funnel",
         "x": [
          0,
          0,
          0,
          0,
          0
         ],
         "xaxis": "x",
         "y": [
          "Переход на лэндинг",
          "Регистрация",
          "Добавление первого блока",
          "Попытка оплаты",
          "Покупка платного тарифа"
         ],
         "yaxis": "y"
        },
        {
         "hovertemplate": "utm_campaign=cid|13244871763|0521|google|cpc|ru|tranzak|samostoyatelno<br>count=%{x}<br>event=%{y}<extra></extra>",
         "legendgroup": "cid|13244871763|0521|google|cpc|ru|tranzak|samostoyatelno",
         "marker": {
          "color": "#FECB52"
         },
         "name": "cid|13244871763|0521|google|cpc|ru|tranzak|samostoyatelno",
         "orientation": "h",
         "showlegend": true,
         "type": "funnel",
         "x": [
          0,
          0,
          1,
          0,
          0
         ],
         "xaxis": "x",
         "y": [
          "Переход на лэндинг",
          "Регистрация",
          "Добавление первого блока",
          "Попытка оплаты",
          "Покупка платного тарифа"
         ],
         "yaxis": "y"
        },
        {
         "hovertemplate": "utm_campaign=cid|13824308637|0721|google|cpc|by|teplye_2|besplatno<br>count=%{x}<br>event=%{y}<extra></extra>",
         "legendgroup": "cid|13824308637|0721|google|cpc|by|teplye_2|besplatno",
         "marker": {
          "color": "#636efa"
         },
         "name": "cid|13824308637|0721|google|cpc|by|teplye_2|besplatno",
         "orientation": "h",
         "showlegend": true,
         "type": "funnel",
         "x": [
          1,
          0,
          0,
          0,
          0
         ],
         "xaxis": "x",
         "y": [
          "Переход на лэндинг",
          "Регистрация",
          "Добавление первого блока",
          "Попытка оплаты",
          "Покупка платного тарифа"
         ],
         "yaxis": "y"
        }
       ],
       "layout": {
        "legend": {
         "title": {
          "text": "utm_campaign"
         },
         "tracegroupgap": 0
        },
        "margin": {
         "t": 60
        },
        "template": {
         "data": {
          "bar": [
           {
            "error_x": {
             "color": "#2a3f5f"
            },
            "error_y": {
             "color": "#2a3f5f"
            },
            "marker": {
             "line": {
              "color": "#E5ECF6",
              "width": 0.5
             },
             "pattern": {
              "fillmode": "overlay",
              "size": 10,
              "solidity": 0.2
             }
            },
            "type": "bar"
           }
          ],
          "barpolar": [
           {
            "marker": {
             "line": {
              "color": "#E5ECF6",
              "width": 0.5
             },
             "pattern": {
              "fillmode": "overlay",
              "size": 10,
              "solidity": 0.2
             }
            },
            "type": "barpolar"
           }
          ],
          "carpet": [
           {
            "aaxis": {
             "endlinecolor": "#2a3f5f",
             "gridcolor": "white",
             "linecolor": "white",
             "minorgridcolor": "white",
             "startlinecolor": "#2a3f5f"
            },
            "baxis": {
             "endlinecolor": "#2a3f5f",
             "gridcolor": "white",
             "linecolor": "white",
             "minorgridcolor": "white",
             "startlinecolor": "#2a3f5f"
            },
            "type": "carpet"
           }
          ],
          "choropleth": [
           {
            "colorbar": {
             "outlinewidth": 0,
             "ticks": ""
            },
            "type": "choropleth"
           }
          ],
          "contour": [
           {
            "colorbar": {
             "outlinewidth": 0,
             "ticks": ""
            },
            "colorscale": [
             [
              0,
              "#0d0887"
             ],
             [
              0.1111111111111111,
              "#46039f"
             ],
             [
              0.2222222222222222,
              "#7201a8"
             ],
             [
              0.3333333333333333,
              "#9c179e"
             ],
             [
              0.4444444444444444,
              "#bd3786"
             ],
             [
              0.5555555555555556,
              "#d8576b"
             ],
             [
              0.6666666666666666,
              "#ed7953"
             ],
             [
              0.7777777777777778,
              "#fb9f3a"
             ],
             [
              0.8888888888888888,
              "#fdca26"
             ],
             [
              1,
              "#f0f921"
             ]
            ],
            "type": "contour"
           }
          ],
          "contourcarpet": [
           {
            "colorbar": {
             "outlinewidth": 0,
             "ticks": ""
            },
            "type": "contourcarpet"
           }
          ],
          "heatmap": [
           {
            "colorbar": {
             "outlinewidth": 0,
             "ticks": ""
            },
            "colorscale": [
             [
              0,
              "#0d0887"
             ],
             [
              0.1111111111111111,
              "#46039f"
             ],
             [
              0.2222222222222222,
              "#7201a8"
             ],
             [
              0.3333333333333333,
              "#9c179e"
             ],
             [
              0.4444444444444444,
              "#bd3786"
             ],
             [
              0.5555555555555556,
              "#d8576b"
             ],
             [
              0.6666666666666666,
              "#ed7953"
             ],
             [
              0.7777777777777778,
              "#fb9f3a"
             ],
             [
              0.8888888888888888,
              "#fdca26"
             ],
             [
              1,
              "#f0f921"
             ]
            ],
            "type": "heatmap"
           }
          ],
          "heatmapgl": [
           {
            "colorbar": {
             "outlinewidth": 0,
             "ticks": ""
            },
            "colorscale": [
             [
              0,
              "#0d0887"
             ],
             [
              0.1111111111111111,
              "#46039f"
             ],
             [
              0.2222222222222222,
              "#7201a8"
             ],
             [
              0.3333333333333333,
              "#9c179e"
             ],
             [
              0.4444444444444444,
              "#bd3786"
             ],
             [
              0.5555555555555556,
              "#d8576b"
             ],
             [
              0.6666666666666666,
              "#ed7953"
             ],
             [
              0.7777777777777778,
              "#fb9f3a"
             ],
             [
              0.8888888888888888,
              "#fdca26"
             ],
             [
              1,
              "#f0f921"
             ]
            ],
            "type": "heatmapgl"
           }
          ],
          "histogram": [
           {
            "marker": {
             "pattern": {
              "fillmode": "overlay",
              "size": 10,
              "solidity": 0.2
             }
            },
            "type": "histogram"
           }
          ],
          "histogram2d": [
           {
            "colorbar": {
             "outlinewidth": 0,
             "ticks": ""
            },
            "colorscale": [
             [
              0,
              "#0d0887"
             ],
             [
              0.1111111111111111,
              "#46039f"
             ],
             [
              0.2222222222222222,
              "#7201a8"
             ],
             [
              0.3333333333333333,
              "#9c179e"
             ],
             [
              0.4444444444444444,
              "#bd3786"
             ],
             [
              0.5555555555555556,
              "#d8576b"
             ],
             [
              0.6666666666666666,
              "#ed7953"
             ],
             [
              0.7777777777777778,
              "#fb9f3a"
             ],
             [
              0.8888888888888888,
              "#fdca26"
             ],
             [
              1,
              "#f0f921"
             ]
            ],
            "type": "histogram2d"
           }
          ],
          "histogram2dcontour": [
           {
            "colorbar": {
             "outlinewidth": 0,
             "ticks": ""
            },
            "colorscale": [
             [
              0,
              "#0d0887"
             ],
             [
              0.1111111111111111,
              "#46039f"
             ],
             [
              0.2222222222222222,
              "#7201a8"
             ],
             [
              0.3333333333333333,
              "#9c179e"
             ],
             [
              0.4444444444444444,
              "#bd3786"
             ],
             [
              0.5555555555555556,
              "#d8576b"
             ],
             [
              0.6666666666666666,
              "#ed7953"
             ],
             [
              0.7777777777777778,
              "#fb9f3a"
             ],
             [
              0.8888888888888888,
              "#fdca26"
             ],
             [
              1,
              "#f0f921"
             ]
            ],
            "type": "histogram2dcontour"
           }
          ],
          "mesh3d": [
           {
            "colorbar": {
             "outlinewidth": 0,
             "ticks": ""
            },
            "type": "mesh3d"
           }
          ],
          "parcoords": [
           {
            "line": {
             "colorbar": {
              "outlinewidth": 0,
              "ticks": ""
             }
            },
            "type": "parcoords"
           }
          ],
          "pie": [
           {
            "automargin": true,
            "type": "pie"
           }
          ],
          "scatter": [
           {
            "marker": {
             "colorbar": {
              "outlinewidth": 0,
              "ticks": ""
             }
            },
            "type": "scatter"
           }
          ],
          "scatter3d": [
           {
            "line": {
             "colorbar": {
              "outlinewidth": 0,
              "ticks": ""
             }
            },
            "marker": {
             "colorbar": {
              "outlinewidth": 0,
              "ticks": ""
             }
            },
            "type": "scatter3d"
           }
          ],
          "scattercarpet": [
           {
            "marker": {
             "colorbar": {
              "outlinewidth": 0,
              "ticks": ""
             }
            },
            "type": "scattercarpet"
           }
          ],
          "scattergeo": [
           {
            "marker": {
             "colorbar": {
              "outlinewidth": 0,
              "ticks": ""
             }
            },
            "type": "scattergeo"
           }
          ],
          "scattergl": [
           {
            "marker": {
             "colorbar": {
              "outlinewidth": 0,
              "ticks": ""
             }
            },
            "type": "scattergl"
           }
          ],
          "scattermapbox": [
           {
            "marker": {
             "colorbar": {
              "outlinewidth": 0,
              "ticks": ""
             }
            },
            "type": "scattermapbox"
           }
          ],
          "scatterpolar": [
           {
            "marker": {
             "colorbar": {
              "outlinewidth": 0,
              "ticks": ""
             }
            },
            "type": "scatterpolar"
           }
          ],
          "scatterpolargl": [
           {
            "marker": {
             "colorbar": {
              "outlinewidth": 0,
              "ticks": ""
             }
            },
            "type": "scatterpolargl"
           }
          ],
          "scatterternary": [
           {
            "marker": {
             "colorbar": {
              "outlinewidth": 0,
              "ticks": ""
             }
            },
            "type": "scatterternary"
           }
          ],
          "surface": [
           {
            "colorbar": {
             "outlinewidth": 0,
             "ticks": ""
            },
            "colorscale": [
             [
              0,
              "#0d0887"
             ],
             [
              0.1111111111111111,
              "#46039f"
             ],
             [
              0.2222222222222222,
              "#7201a8"
             ],
             [
              0.3333333333333333,
              "#9c179e"
             ],
             [
              0.4444444444444444,
              "#bd3786"
             ],
             [
              0.5555555555555556,
              "#d8576b"
             ],
             [
              0.6666666666666666,
              "#ed7953"
             ],
             [
              0.7777777777777778,
              "#fb9f3a"
             ],
             [
              0.8888888888888888,
              "#fdca26"
             ],
             [
              1,
              "#f0f921"
             ]
            ],
            "type": "surface"
           }
          ],
          "table": [
           {
            "cells": {
             "fill": {
              "color": "#EBF0F8"
             },
             "line": {
              "color": "white"
             }
            },
            "header": {
             "fill": {
              "color": "#C8D4E3"
             },
             "line": {
              "color": "white"
             }
            },
            "type": "table"
           }
          ]
         },
         "layout": {
          "annotationdefaults": {
           "arrowcolor": "#2a3f5f",
           "arrowhead": 0,
           "arrowwidth": 1
          },
          "autotypenumbers": "strict",
          "coloraxis": {
           "colorbar": {
            "outlinewidth": 0,
            "ticks": ""
           }
          },
          "colorscale": {
           "diverging": [
            [
             0,
             "#8e0152"
            ],
            [
             0.1,
             "#c51b7d"
            ],
            [
             0.2,
             "#de77ae"
            ],
            [
             0.3,
             "#f1b6da"
            ],
            [
             0.4,
             "#fde0ef"
            ],
            [
             0.5,
             "#f7f7f7"
            ],
            [
             0.6,
             "#e6f5d0"
            ],
            [
             0.7,
             "#b8e186"
            ],
            [
             0.8,
             "#7fbc41"
            ],
            [
             0.9,
             "#4d9221"
            ],
            [
             1,
             "#276419"
            ]
           ],
           "sequential": [
            [
             0,
             "#0d0887"
            ],
            [
             0.1111111111111111,
             "#46039f"
            ],
            [
             0.2222222222222222,
             "#7201a8"
            ],
            [
             0.3333333333333333,
             "#9c179e"
            ],
            [
             0.4444444444444444,
             "#bd3786"
            ],
            [
             0.5555555555555556,
             "#d8576b"
            ],
            [
             0.6666666666666666,
             "#ed7953"
            ],
            [
             0.7777777777777778,
             "#fb9f3a"
            ],
            [
             0.8888888888888888,
             "#fdca26"
            ],
            [
             1,
             "#f0f921"
            ]
           ],
           "sequentialminus": [
            [
             0,
             "#0d0887"
            ],
            [
             0.1111111111111111,
             "#46039f"
            ],
            [
             0.2222222222222222,
             "#7201a8"
            ],
            [
             0.3333333333333333,
             "#9c179e"
            ],
            [
             0.4444444444444444,
             "#bd3786"
            ],
            [
             0.5555555555555556,
             "#d8576b"
            ],
            [
             0.6666666666666666,
             "#ed7953"
            ],
            [
             0.7777777777777778,
             "#fb9f3a"
            ],
            [
             0.8888888888888888,
             "#fdca26"
            ],
            [
             1,
             "#f0f921"
            ]
           ]
          },
          "colorway": [
           "#636efa",
           "#EF553B",
           "#00cc96",
           "#ab63fa",
           "#FFA15A",
           "#19d3f3",
           "#FF6692",
           "#B6E880",
           "#FF97FF",
           "#FECB52"
          ],
          "font": {
           "color": "#2a3f5f"
          },
          "geo": {
           "bgcolor": "white",
           "lakecolor": "white",
           "landcolor": "#E5ECF6",
           "showlakes": true,
           "showland": true,
           "subunitcolor": "white"
          },
          "hoverlabel": {
           "align": "left"
          },
          "hovermode": "closest",
          "mapbox": {
           "style": "light"
          },
          "paper_bgcolor": "white",
          "plot_bgcolor": "#E5ECF6",
          "polar": {
           "angularaxis": {
            "gridcolor": "white",
            "linecolor": "white",
            "ticks": ""
           },
           "bgcolor": "#E5ECF6",
           "radialaxis": {
            "gridcolor": "white",
            "linecolor": "white",
            "ticks": ""
           }
          },
          "scene": {
           "xaxis": {
            "backgroundcolor": "#E5ECF6",
            "gridcolor": "white",
            "gridwidth": 2,
            "linecolor": "white",
            "showbackground": true,
            "ticks": "",
            "zerolinecolor": "white"
           },
           "yaxis": {
            "backgroundcolor": "#E5ECF6",
            "gridcolor": "white",
            "gridwidth": 2,
            "linecolor": "white",
            "showbackground": true,
            "ticks": "",
            "zerolinecolor": "white"
           },
           "zaxis": {
            "backgroundcolor": "#E5ECF6",
            "gridcolor": "white",
            "gridwidth": 2,
            "linecolor": "white",
            "showbackground": true,
            "ticks": "",
            "zerolinecolor": "white"
           }
          },
          "shapedefaults": {
           "line": {
            "color": "#2a3f5f"
           }
          },
          "ternary": {
           "aaxis": {
            "gridcolor": "white",
            "linecolor": "white",
            "ticks": ""
           },
           "baxis": {
            "gridcolor": "white",
            "linecolor": "white",
            "ticks": ""
           },
           "bgcolor": "#E5ECF6",
           "caxis": {
            "gridcolor": "white",
            "linecolor": "white",
            "ticks": ""
           }
          },
          "title": {
           "x": 0.05
          },
          "xaxis": {
           "automargin": true,
           "gridcolor": "white",
           "linecolor": "white",
           "ticks": "",
           "title": {
            "standoff": 15
           },
           "zerolinecolor": "white",
           "zerolinewidth": 2
          },
          "yaxis": {
           "automargin": true,
           "gridcolor": "white",
           "linecolor": "white",
           "ticks": "",
           "title": {
            "standoff": 15
           },
           "zerolinecolor": "white",
           "zerolinewidth": 2
          }
         }
        },
        "xaxis": {
         "anchor": "y",
         "domain": [
          0,
          1
         ],
         "title": {
          "text": "count"
         }
        },
        "yaxis": {
         "anchor": "x",
         "domain": [
          0,
          1
         ],
         "title": {
          "text": "event"
         }
        }
       }
      },
      "text/html": [
       "<div>                            <div id=\"74876963-441a-4aaa-8d2d-994ad9f74dbd\" class=\"plotly-graph-div\" style=\"height:525px; width:100%;\"></div>            <script type=\"text/javascript\">                require([\"plotly\"], function(Plotly) {                    window.PLOTLYENV=window.PLOTLYENV || {};                                    if (document.getElementById(\"74876963-441a-4aaa-8d2d-994ad9f74dbd\")) {                    Plotly.newPlot(                        \"74876963-441a-4aaa-8d2d-994ad9f74dbd\",                        [{\"hovertemplate\":\"utm_campaign= - <br>count=%{x}<br>event=%{y}<extra></extra>\",\"legendgroup\":\" - \",\"marker\":{\"color\":\"#636efa\"},\"name\":\" - \",\"orientation\":\"h\",\"showlegend\":true,\"x\":[0,0,0,0,0],\"xaxis\":\"x\",\"y\":[\"\\u041f\\u0435\\u0440\\u0435\\u0445\\u043e\\u0434 \\u043d\\u0430 \\u043b\\u044d\\u043d\\u0434\\u0438\\u043d\\u0433\",\"\\u0420\\u0435\\u0433\\u0438\\u0441\\u0442\\u0440\\u0430\\u0446\\u0438\\u044f\",\"\\u0414\\u043e\\u0431\\u0430\\u0432\\u043b\\u0435\\u043d\\u0438\\u0435 \\u043f\\u0435\\u0440\\u0432\\u043e\\u0433\\u043e \\u0431\\u043b\\u043e\\u043a\\u0430\",\"\\u041f\\u043e\\u043f\\u044b\\u0442\\u043a\\u0430 \\u043e\\u043f\\u043b\\u0430\\u0442\\u044b\",\"\\u041f\\u043e\\u043a\\u0443\\u043f\\u043a\\u0430 \\u043f\\u043b\\u0430\\u0442\\u043d\\u043e\\u0433\\u043e \\u0442\\u0430\\u0440\\u0438\\u0444\\u0430\"],\"yaxis\":\"y\",\"type\":\"funnel\"},{\"hovertemplate\":\"utm_campaign=71648929<br>count=%{x}<br>event=%{y}<extra></extra>\",\"legendgroup\":\"71648929\",\"marker\":{\"color\":\"#EF553B\"},\"name\":\"71648929\",\"orientation\":\"h\",\"showlegend\":true,\"x\":[161,0,13,4,0],\"xaxis\":\"x\",\"y\":[\"\\u041f\\u0435\\u0440\\u0435\\u0445\\u043e\\u0434 \\u043d\\u0430 \\u043b\\u044d\\u043d\\u0434\\u0438\\u043d\\u0433\",\"\\u0420\\u0435\\u0433\\u0438\\u0441\\u0442\\u0440\\u0430\\u0446\\u0438\\u044f\",\"\\u0414\\u043e\\u0431\\u0430\\u0432\\u043b\\u0435\\u043d\\u0438\\u0435 \\u043f\\u0435\\u0440\\u0432\\u043e\\u0433\\u043e \\u0431\\u043b\\u043e\\u043a\\u0430\",\"\\u041f\\u043e\\u043f\\u044b\\u0442\\u043a\\u0430 \\u043e\\u043f\\u043b\\u0430\\u0442\\u044b\",\"\\u041f\\u043e\\u043a\\u0443\\u043f\\u043a\\u0430 \\u043f\\u043b\\u0430\\u0442\\u043d\\u043e\\u0433\\u043e \\u0442\\u0430\\u0440\\u0438\\u0444\\u0430\"],\"yaxis\":\"y\",\"type\":\"funnel\"},{\"hovertemplate\":\"utm_campaign=72411577<br>count=%{x}<br>event=%{y}<extra></extra>\",\"legendgroup\":\"72411577\",\"marker\":{\"color\":\"#00cc96\"},\"name\":\"72411577\",\"orientation\":\"h\",\"showlegend\":true,\"x\":[1378,0,390,40,4],\"xaxis\":\"x\",\"y\":[\"\\u041f\\u0435\\u0440\\u0435\\u0445\\u043e\\u0434 \\u043d\\u0430 \\u043b\\u044d\\u043d\\u0434\\u0438\\u043d\\u0433\",\"\\u0420\\u0435\\u0433\\u0438\\u0441\\u0442\\u0440\\u0430\\u0446\\u0438\\u044f\",\"\\u0414\\u043e\\u0431\\u0430\\u0432\\u043b\\u0435\\u043d\\u0438\\u0435 \\u043f\\u0435\\u0440\\u0432\\u043e\\u0433\\u043e \\u0431\\u043b\\u043e\\u043a\\u0430\",\"\\u041f\\u043e\\u043f\\u044b\\u0442\\u043a\\u0430 \\u043e\\u043f\\u043b\\u0430\\u0442\\u044b\",\"\\u041f\\u043e\\u043a\\u0443\\u043f\\u043a\\u0430 \\u043f\\u043b\\u0430\\u0442\\u043d\\u043e\\u0433\\u043e \\u0442\\u0430\\u0440\\u0438\\u0444\\u0430\"],\"yaxis\":\"y\",\"type\":\"funnel\"},{\"hovertemplate\":\"utm_campaign=72412884<br>count=%{x}<br>event=%{y}<extra></extra>\",\"legendgroup\":\"72412884\",\"marker\":{\"color\":\"#ab63fa\"},\"name\":\"72412884\",\"orientation\":\"h\",\"showlegend\":true,\"x\":[317,0,74,3,0],\"xaxis\":\"x\",\"y\":[\"\\u041f\\u0435\\u0440\\u0435\\u0445\\u043e\\u0434 \\u043d\\u0430 \\u043b\\u044d\\u043d\\u0434\\u0438\\u043d\\u0433\",\"\\u0420\\u0435\\u0433\\u0438\\u0441\\u0442\\u0440\\u0430\\u0446\\u0438\\u044f\",\"\\u0414\\u043e\\u0431\\u0430\\u0432\\u043b\\u0435\\u043d\\u0438\\u0435 \\u043f\\u0435\\u0440\\u0432\\u043e\\u0433\\u043e \\u0431\\u043b\\u043e\\u043a\\u0430\",\"\\u041f\\u043e\\u043f\\u044b\\u0442\\u043a\\u0430 \\u043e\\u043f\\u043b\\u0430\\u0442\\u044b\",\"\\u041f\\u043e\\u043a\\u0443\\u043f\\u043a\\u0430 \\u043f\\u043b\\u0430\\u0442\\u043d\\u043e\\u0433\\u043e \\u0442\\u0430\\u0440\\u0438\\u0444\\u0430\"],\"yaxis\":\"y\",\"type\":\"funnel\"},{\"hovertemplate\":\"utm_campaign=72412889<br>count=%{x}<br>event=%{y}<extra></extra>\",\"legendgroup\":\"72412889\",\"marker\":{\"color\":\"#FFA15A\"},\"name\":\"72412889\",\"orientation\":\"h\",\"showlegend\":true,\"x\":[535,0,160,8,2],\"xaxis\":\"x\",\"y\":[\"\\u041f\\u0435\\u0440\\u0435\\u0445\\u043e\\u0434 \\u043d\\u0430 \\u043b\\u044d\\u043d\\u0434\\u0438\\u043d\\u0433\",\"\\u0420\\u0435\\u0433\\u0438\\u0441\\u0442\\u0440\\u0430\\u0446\\u0438\\u044f\",\"\\u0414\\u043e\\u0431\\u0430\\u0432\\u043b\\u0435\\u043d\\u0438\\u0435 \\u043f\\u0435\\u0440\\u0432\\u043e\\u0433\\u043e \\u0431\\u043b\\u043e\\u043a\\u0430\",\"\\u041f\\u043e\\u043f\\u044b\\u0442\\u043a\\u0430 \\u043e\\u043f\\u043b\\u0430\\u0442\\u044b\",\"\\u041f\\u043e\\u043a\\u0443\\u043f\\u043a\\u0430 \\u043f\\u043b\\u0430\\u0442\\u043d\\u043e\\u0433\\u043e \\u0442\\u0430\\u0440\\u0438\\u0444\\u0430\"],\"yaxis\":\"y\",\"type\":\"funnel\"},{\"hovertemplate\":\"utm_campaign=72412683<br>count=%{x}<br>event=%{y}<extra></extra>\",\"legendgroup\":\"72412683\",\"marker\":{\"color\":\"#19d3f3\"},\"name\":\"72412683\",\"orientation\":\"h\",\"showlegend\":true,\"x\":[166,0,32,2,0],\"xaxis\":\"x\",\"y\":[\"\\u041f\\u0435\\u0440\\u0435\\u0445\\u043e\\u0434 \\u043d\\u0430 \\u043b\\u044d\\u043d\\u0434\\u0438\\u043d\\u0433\",\"\\u0420\\u0435\\u0433\\u0438\\u0441\\u0442\\u0440\\u0430\\u0446\\u0438\\u044f\",\"\\u0414\\u043e\\u0431\\u0430\\u0432\\u043b\\u0435\\u043d\\u0438\\u0435 \\u043f\\u0435\\u0440\\u0432\\u043e\\u0433\\u043e \\u0431\\u043b\\u043e\\u043a\\u0430\",\"\\u041f\\u043e\\u043f\\u044b\\u0442\\u043a\\u0430 \\u043e\\u043f\\u043b\\u0430\\u0442\\u044b\",\"\\u041f\\u043e\\u043a\\u0443\\u043f\\u043a\\u0430 \\u043f\\u043b\\u0430\\u0442\\u043d\\u043e\\u0433\\u043e \\u0442\\u0430\\u0440\\u0438\\u0444\\u0430\"],\"yaxis\":\"y\",\"type\":\"funnel\"},{\"hovertemplate\":\"utm_campaign=72972241<br>count=%{x}<br>event=%{y}<extra></extra>\",\"legendgroup\":\"72972241\",\"marker\":{\"color\":\"#FF6692\"},\"name\":\"72972241\",\"orientation\":\"h\",\"showlegend\":true,\"x\":[98,0,1,0,0],\"xaxis\":\"x\",\"y\":[\"\\u041f\\u0435\\u0440\\u0435\\u0445\\u043e\\u0434 \\u043d\\u0430 \\u043b\\u044d\\u043d\\u0434\\u0438\\u043d\\u0433\",\"\\u0420\\u0435\\u0433\\u0438\\u0441\\u0442\\u0440\\u0430\\u0446\\u0438\\u044f\",\"\\u0414\\u043e\\u0431\\u0430\\u0432\\u043b\\u0435\\u043d\\u0438\\u0435 \\u043f\\u0435\\u0440\\u0432\\u043e\\u0433\\u043e \\u0431\\u043b\\u043e\\u043a\\u0430\",\"\\u041f\\u043e\\u043f\\u044b\\u0442\\u043a\\u0430 \\u043e\\u043f\\u043b\\u0430\\u0442\\u044b\",\"\\u041f\\u043e\\u043a\\u0443\\u043f\\u043a\\u0430 \\u043f\\u043b\\u0430\\u0442\\u043d\\u043e\\u0433\\u043e \\u0442\\u0430\\u0440\\u0438\\u0444\\u0430\"],\"yaxis\":\"y\",\"type\":\"funnel\"},{\"hovertemplate\":\"utm_campaign=72984477<br>count=%{x}<br>event=%{y}<extra></extra>\",\"legendgroup\":\"72984477\",\"marker\":{\"color\":\"#B6E880\"},\"name\":\"72984477\",\"orientation\":\"h\",\"showlegend\":true,\"x\":[91,0,3,0,0],\"xaxis\":\"x\",\"y\":[\"\\u041f\\u0435\\u0440\\u0435\\u0445\\u043e\\u0434 \\u043d\\u0430 \\u043b\\u044d\\u043d\\u0434\\u0438\\u043d\\u0433\",\"\\u0420\\u0435\\u0433\\u0438\\u0441\\u0442\\u0440\\u0430\\u0446\\u0438\\u044f\",\"\\u0414\\u043e\\u0431\\u0430\\u0432\\u043b\\u0435\\u043d\\u0438\\u0435 \\u043f\\u0435\\u0440\\u0432\\u043e\\u0433\\u043e \\u0431\\u043b\\u043e\\u043a\\u0430\",\"\\u041f\\u043e\\u043f\\u044b\\u0442\\u043a\\u0430 \\u043e\\u043f\\u043b\\u0430\\u0442\\u044b\",\"\\u041f\\u043e\\u043a\\u0443\\u043f\\u043a\\u0430 \\u043f\\u043b\\u0430\\u0442\\u043d\\u043e\\u0433\\u043e \\u0442\\u0430\\u0440\\u0438\\u0444\\u0430\"],\"yaxis\":\"y\",\"type\":\"funnel\"},{\"hovertemplate\":\"utm_campaign=cid|13244953096|0521|google|cpc|ru|teplye|multissylka<br>count=%{x}<br>event=%{y}<extra></extra>\",\"legendgroup\":\"cid|13244953096|0521|google|cpc|ru|teplye|multissylka\",\"marker\":{\"color\":\"#FF97FF\"},\"name\":\"cid|13244953096|0521|google|cpc|ru|teplye|multissylka\",\"orientation\":\"h\",\"showlegend\":true,\"x\":[1,0,3,1,0],\"xaxis\":\"x\",\"y\":[\"\\u041f\\u0435\\u0440\\u0435\\u0445\\u043e\\u0434 \\u043d\\u0430 \\u043b\\u044d\\u043d\\u0434\\u0438\\u043d\\u0433\",\"\\u0420\\u0435\\u0433\\u0438\\u0441\\u0442\\u0440\\u0430\\u0446\\u0438\\u044f\",\"\\u0414\\u043e\\u0431\\u0430\\u0432\\u043b\\u0435\\u043d\\u0438\\u0435 \\u043f\\u0435\\u0440\\u0432\\u043e\\u0433\\u043e \\u0431\\u043b\\u043e\\u043a\\u0430\",\"\\u041f\\u043e\\u043f\\u044b\\u0442\\u043a\\u0430 \\u043e\\u043f\\u043b\\u0430\\u0442\\u044b\",\"\\u041f\\u043e\\u043a\\u0443\\u043f\\u043a\\u0430 \\u043f\\u043b\\u0430\\u0442\\u043d\\u043e\\u0433\\u043e \\u0442\\u0430\\u0440\\u0438\\u0444\\u0430\"],\"yaxis\":\"y\",\"type\":\"funnel\"},{\"hovertemplate\":\"utm_campaign=71838068<br>count=%{x}<br>event=%{y}<extra></extra>\",\"legendgroup\":\"71838068\",\"marker\":{\"color\":\"#FECB52\"},\"name\":\"71838068\",\"orientation\":\"h\",\"showlegend\":true,\"x\":[0,0,1,0,0],\"xaxis\":\"x\",\"y\":[\"\\u041f\\u0435\\u0440\\u0435\\u0445\\u043e\\u0434 \\u043d\\u0430 \\u043b\\u044d\\u043d\\u0434\\u0438\\u043d\\u0433\",\"\\u0420\\u0435\\u0433\\u0438\\u0441\\u0442\\u0440\\u0430\\u0446\\u0438\\u044f\",\"\\u0414\\u043e\\u0431\\u0430\\u0432\\u043b\\u0435\\u043d\\u0438\\u0435 \\u043f\\u0435\\u0440\\u0432\\u043e\\u0433\\u043e \\u0431\\u043b\\u043e\\u043a\\u0430\",\"\\u041f\\u043e\\u043f\\u044b\\u0442\\u043a\\u0430 \\u043e\\u043f\\u043b\\u0430\\u0442\\u044b\",\"\\u041f\\u043e\\u043a\\u0443\\u043f\\u043a\\u0430 \\u043f\\u043b\\u0430\\u0442\\u043d\\u043e\\u0433\\u043e \\u0442\\u0430\\u0440\\u0438\\u0444\\u0430\"],\"yaxis\":\"y\",\"type\":\"funnel\"},{\"hovertemplate\":\"utm_campaign=smognails<br>count=%{x}<br>event=%{y}<extra></extra>\",\"legendgroup\":\"smognails\",\"marker\":{\"color\":\"#636efa\"},\"name\":\"smognails\",\"orientation\":\"h\",\"showlegend\":true,\"x\":[1,0,0,0,0],\"xaxis\":\"x\",\"y\":[\"\\u041f\\u0435\\u0440\\u0435\\u0445\\u043e\\u0434 \\u043d\\u0430 \\u043b\\u044d\\u043d\\u0434\\u0438\\u043d\\u0433\",\"\\u0420\\u0435\\u0433\\u0438\\u0441\\u0442\\u0440\\u0430\\u0446\\u0438\\u044f\",\"\\u0414\\u043e\\u0431\\u0430\\u0432\\u043b\\u0435\\u043d\\u0438\\u0435 \\u043f\\u0435\\u0440\\u0432\\u043e\\u0433\\u043e \\u0431\\u043b\\u043e\\u043a\\u0430\",\"\\u041f\\u043e\\u043f\\u044b\\u0442\\u043a\\u0430 \\u043e\\u043f\\u043b\\u0430\\u0442\\u044b\",\"\\u041f\\u043e\\u043a\\u0443\\u043f\\u043a\\u0430 \\u043f\\u043b\\u0430\\u0442\\u043d\\u043e\\u0433\\u043e \\u0442\\u0430\\u0440\\u0438\\u0444\\u0430\"],\"yaxis\":\"y\",\"type\":\"funnel\"},{\"hovertemplate\":\"utm_campaign=72411876<br>count=%{x}<br>event=%{y}<extra></extra>\",\"legendgroup\":\"72411876\",\"marker\":{\"color\":\"#EF553B\"},\"name\":\"72411876\",\"orientation\":\"h\",\"showlegend\":true,\"x\":[183,0,53,3,0],\"xaxis\":\"x\",\"y\":[\"\\u041f\\u0435\\u0440\\u0435\\u0445\\u043e\\u0434 \\u043d\\u0430 \\u043b\\u044d\\u043d\\u0434\\u0438\\u043d\\u0433\",\"\\u0420\\u0435\\u0433\\u0438\\u0441\\u0442\\u0440\\u0430\\u0446\\u0438\\u044f\",\"\\u0414\\u043e\\u0431\\u0430\\u0432\\u043b\\u0435\\u043d\\u0438\\u0435 \\u043f\\u0435\\u0440\\u0432\\u043e\\u0433\\u043e \\u0431\\u043b\\u043e\\u043a\\u0430\",\"\\u041f\\u043e\\u043f\\u044b\\u0442\\u043a\\u0430 \\u043e\\u043f\\u043b\\u0430\\u0442\\u044b\",\"\\u041f\\u043e\\u043a\\u0443\\u043f\\u043a\\u0430 \\u043f\\u043b\\u0430\\u0442\\u043d\\u043e\\u0433\\u043e \\u0442\\u0430\\u0440\\u0438\\u0444\\u0430\"],\"yaxis\":\"y\",\"type\":\"funnel\"},{\"hovertemplate\":\"utm_campaign=cid|13815939800|0521|google|cpc|eu|competitors|taplink|cena<br>count=%{x}<br>event=%{y}<extra></extra>\",\"legendgroup\":\"cid|13815939800|0521|google|cpc|eu|competitors|taplink|cena\",\"marker\":{\"color\":\"#00cc96\"},\"name\":\"cid|13815939800|0521|google|cpc|eu|competitors|taplink|cena\",\"orientation\":\"h\",\"showlegend\":true,\"x\":[1,0,5,1,0],\"xaxis\":\"x\",\"y\":[\"\\u041f\\u0435\\u0440\\u0435\\u0445\\u043e\\u0434 \\u043d\\u0430 \\u043b\\u044d\\u043d\\u0434\\u0438\\u043d\\u0433\",\"\\u0420\\u0435\\u0433\\u0438\\u0441\\u0442\\u0440\\u0430\\u0446\\u0438\\u044f\",\"\\u0414\\u043e\\u0431\\u0430\\u0432\\u043b\\u0435\\u043d\\u0438\\u0435 \\u043f\\u0435\\u0440\\u0432\\u043e\\u0433\\u043e \\u0431\\u043b\\u043e\\u043a\\u0430\",\"\\u041f\\u043e\\u043f\\u044b\\u0442\\u043a\\u0430 \\u043e\\u043f\\u043b\\u0430\\u0442\\u044b\",\"\\u041f\\u043e\\u043a\\u0443\\u043f\\u043a\\u0430 \\u043f\\u043b\\u0430\\u0442\\u043d\\u043e\\u0433\\u043e \\u0442\\u0430\\u0440\\u0438\\u0444\\u0430\"],\"yaxis\":\"y\",\"type\":\"funnel\"},{\"hovertemplate\":\"utm_campaign=69739018<br>count=%{x}<br>event=%{y}<extra></extra>\",\"legendgroup\":\"69739018\",\"marker\":{\"color\":\"#ab63fa\"},\"name\":\"69739018\",\"orientation\":\"h\",\"showlegend\":true,\"x\":[65,0,20,3,1],\"xaxis\":\"x\",\"y\":[\"\\u041f\\u0435\\u0440\\u0435\\u0445\\u043e\\u0434 \\u043d\\u0430 \\u043b\\u044d\\u043d\\u0434\\u0438\\u043d\\u0433\",\"\\u0420\\u0435\\u0433\\u0438\\u0441\\u0442\\u0440\\u0430\\u0446\\u0438\\u044f\",\"\\u0414\\u043e\\u0431\\u0430\\u0432\\u043b\\u0435\\u043d\\u0438\\u0435 \\u043f\\u0435\\u0440\\u0432\\u043e\\u0433\\u043e \\u0431\\u043b\\u043e\\u043a\\u0430\",\"\\u041f\\u043e\\u043f\\u044b\\u0442\\u043a\\u0430 \\u043e\\u043f\\u043b\\u0430\\u0442\\u044b\",\"\\u041f\\u043e\\u043a\\u0443\\u043f\\u043a\\u0430 \\u043f\\u043b\\u0430\\u0442\\u043d\\u043e\\u0433\\u043e \\u0442\\u0430\\u0440\\u0438\\u0444\\u0430\"],\"yaxis\":\"y\",\"type\":\"funnel\"},{\"hovertemplate\":\"utm_campaign=cid|13322676845|0521|google|cpc|by|teplye|multissylka<br>count=%{x}<br>event=%{y}<extra></extra>\",\"legendgroup\":\"cid|13322676845|0521|google|cpc|by|teplye|multissylka\",\"marker\":{\"color\":\"#FFA15A\"},\"name\":\"cid|13322676845|0521|google|cpc|by|teplye|multissylka\",\"orientation\":\"h\",\"showlegend\":true,\"x\":[1,0,0,0,0],\"xaxis\":\"x\",\"y\":[\"\\u041f\\u0435\\u0440\\u0435\\u0445\\u043e\\u0434 \\u043d\\u0430 \\u043b\\u044d\\u043d\\u0434\\u0438\\u043d\\u0433\",\"\\u0420\\u0435\\u0433\\u0438\\u0441\\u0442\\u0440\\u0430\\u0446\\u0438\\u044f\",\"\\u0414\\u043e\\u0431\\u0430\\u0432\\u043b\\u0435\\u043d\\u0438\\u0435 \\u043f\\u0435\\u0440\\u0432\\u043e\\u0433\\u043e \\u0431\\u043b\\u043e\\u043a\\u0430\",\"\\u041f\\u043e\\u043f\\u044b\\u0442\\u043a\\u0430 \\u043e\\u043f\\u043b\\u0430\\u0442\\u044b\",\"\\u041f\\u043e\\u043a\\u0443\\u043f\\u043a\\u0430 \\u043f\\u043b\\u0430\\u0442\\u043d\\u043e\\u0433\\u043e \\u0442\\u0430\\u0440\\u0438\\u0444\\u0430\"],\"yaxis\":\"y\",\"type\":\"funnel\"},{\"hovertemplate\":\"utm_campaign=74305653<br>count=%{x}<br>event=%{y}<extra></extra>\",\"legendgroup\":\"74305653\",\"marker\":{\"color\":\"#19d3f3\"},\"name\":\"74305653\",\"orientation\":\"h\",\"showlegend\":true,\"x\":[1,0,0,0,0],\"xaxis\":\"x\",\"y\":[\"\\u041f\\u0435\\u0440\\u0435\\u0445\\u043e\\u0434 \\u043d\\u0430 \\u043b\\u044d\\u043d\\u0434\\u0438\\u043d\\u0433\",\"\\u0420\\u0435\\u0433\\u0438\\u0441\\u0442\\u0440\\u0430\\u0446\\u0438\\u044f\",\"\\u0414\\u043e\\u0431\\u0430\\u0432\\u043b\\u0435\\u043d\\u0438\\u0435 \\u043f\\u0435\\u0440\\u0432\\u043e\\u0433\\u043e \\u0431\\u043b\\u043e\\u043a\\u0430\",\"\\u041f\\u043e\\u043f\\u044b\\u0442\\u043a\\u0430 \\u043e\\u043f\\u043b\\u0430\\u0442\\u044b\",\"\\u041f\\u043e\\u043a\\u0443\\u043f\\u043a\\u0430 \\u043f\\u043b\\u0430\\u0442\\u043d\\u043e\\u0433\\u043e \\u0442\\u0430\\u0440\\u0438\\u0444\\u0430\"],\"yaxis\":\"y\",\"type\":\"funnel\"},{\"hovertemplate\":\"utm_campaign=i_nstagramer<br>count=%{x}<br>event=%{y}<extra></extra>\",\"legendgroup\":\"i_nstagramer\",\"marker\":{\"color\":\"#FF6692\"},\"name\":\"i_nstagramer\",\"orientation\":\"h\",\"showlegend\":true,\"x\":[1,0,1,0,0],\"xaxis\":\"x\",\"y\":[\"\\u041f\\u0435\\u0440\\u0435\\u0445\\u043e\\u0434 \\u043d\\u0430 \\u043b\\u044d\\u043d\\u0434\\u0438\\u043d\\u0433\",\"\\u0420\\u0435\\u0433\\u0438\\u0441\\u0442\\u0440\\u0430\\u0446\\u0438\\u044f\",\"\\u0414\\u043e\\u0431\\u0430\\u0432\\u043b\\u0435\\u043d\\u0438\\u0435 \\u043f\\u0435\\u0440\\u0432\\u043e\\u0433\\u043e \\u0431\\u043b\\u043e\\u043a\\u0430\",\"\\u041f\\u043e\\u043f\\u044b\\u0442\\u043a\\u0430 \\u043e\\u043f\\u043b\\u0430\\u0442\\u044b\",\"\\u041f\\u043e\\u043a\\u0443\\u043f\\u043a\\u0430 \\u043f\\u043b\\u0430\\u0442\\u043d\\u043e\\u0433\\u043e \\u0442\\u0430\\u0440\\u0438\\u0444\\u0430\"],\"yaxis\":\"y\",\"type\":\"funnel\"},{\"hovertemplate\":\"utm_campaign=52150546<br>count=%{x}<br>event=%{y}<extra></extra>\",\"legendgroup\":\"52150546\",\"marker\":{\"color\":\"#B6E880\"},\"name\":\"52150546\",\"orientation\":\"h\",\"showlegend\":true,\"x\":[297,0,1,0,0],\"xaxis\":\"x\",\"y\":[\"\\u041f\\u0435\\u0440\\u0435\\u0445\\u043e\\u0434 \\u043d\\u0430 \\u043b\\u044d\\u043d\\u0434\\u0438\\u043d\\u0433\",\"\\u0420\\u0435\\u0433\\u0438\\u0441\\u0442\\u0440\\u0430\\u0446\\u0438\\u044f\",\"\\u0414\\u043e\\u0431\\u0430\\u0432\\u043b\\u0435\\u043d\\u0438\\u0435 \\u043f\\u0435\\u0440\\u0432\\u043e\\u0433\\u043e \\u0431\\u043b\\u043e\\u043a\\u0430\",\"\\u041f\\u043e\\u043f\\u044b\\u0442\\u043a\\u0430 \\u043e\\u043f\\u043b\\u0430\\u0442\\u044b\",\"\\u041f\\u043e\\u043a\\u0443\\u043f\\u043a\\u0430 \\u043f\\u043b\\u0430\\u0442\\u043d\\u043e\\u0433\\u043e \\u0442\\u0430\\u0440\\u0438\\u0444\\u0430\"],\"yaxis\":\"y\",\"type\":\"funnel\"},{\"hovertemplate\":\"utm_campaign=52150845<br>count=%{x}<br>event=%{y}<extra></extra>\",\"legendgroup\":\"52150845\",\"marker\":{\"color\":\"#FF97FF\"},\"name\":\"52150845\",\"orientation\":\"h\",\"showlegend\":true,\"x\":[146,0,0,0,0],\"xaxis\":\"x\",\"y\":[\"\\u041f\\u0435\\u0440\\u0435\\u0445\\u043e\\u0434 \\u043d\\u0430 \\u043b\\u044d\\u043d\\u0434\\u0438\\u043d\\u0433\",\"\\u0420\\u0435\\u0433\\u0438\\u0441\\u0442\\u0440\\u0430\\u0446\\u0438\\u044f\",\"\\u0414\\u043e\\u0431\\u0430\\u0432\\u043b\\u0435\\u043d\\u0438\\u0435 \\u043f\\u0435\\u0440\\u0432\\u043e\\u0433\\u043e \\u0431\\u043b\\u043e\\u043a\\u0430\",\"\\u041f\\u043e\\u043f\\u044b\\u0442\\u043a\\u0430 \\u043e\\u043f\\u043b\\u0430\\u0442\\u044b\",\"\\u041f\\u043e\\u043a\\u0443\\u043f\\u043a\\u0430 \\u043f\\u043b\\u0430\\u0442\\u043d\\u043e\\u0433\\u043e \\u0442\\u0430\\u0440\\u0438\\u0444\\u0430\"],\"yaxis\":\"y\",\"type\":\"funnel\"},{\"hovertemplate\":\"utm_campaign=52151040<br>count=%{x}<br>event=%{y}<extra></extra>\",\"legendgroup\":\"52151040\",\"marker\":{\"color\":\"#FECB52\"},\"name\":\"52151040\",\"orientation\":\"h\",\"showlegend\":true,\"x\":[148,0,0,0,0],\"xaxis\":\"x\",\"y\":[\"\\u041f\\u0435\\u0440\\u0435\\u0445\\u043e\\u0434 \\u043d\\u0430 \\u043b\\u044d\\u043d\\u0434\\u0438\\u043d\\u0433\",\"\\u0420\\u0435\\u0433\\u0438\\u0441\\u0442\\u0440\\u0430\\u0446\\u0438\\u044f\",\"\\u0414\\u043e\\u0431\\u0430\\u0432\\u043b\\u0435\\u043d\\u0438\\u0435 \\u043f\\u0435\\u0440\\u0432\\u043e\\u0433\\u043e \\u0431\\u043b\\u043e\\u043a\\u0430\",\"\\u041f\\u043e\\u043f\\u044b\\u0442\\u043a\\u0430 \\u043e\\u043f\\u043b\\u0430\\u0442\\u044b\",\"\\u041f\\u043e\\u043a\\u0443\\u043f\\u043a\\u0430 \\u043f\\u043b\\u0430\\u0442\\u043d\\u043e\\u0433\\u043e \\u0442\\u0430\\u0440\\u0438\\u0444\\u0430\"],\"yaxis\":\"y\",\"type\":\"funnel\"},{\"hovertemplate\":\"utm_campaign=62012165<br>count=%{x}<br>event=%{y}<extra></extra>\",\"legendgroup\":\"62012165\",\"marker\":{\"color\":\"#636efa\"},\"name\":\"62012165\",\"orientation\":\"h\",\"showlegend\":true,\"x\":[53,0,17,0,0],\"xaxis\":\"x\",\"y\":[\"\\u041f\\u0435\\u0440\\u0435\\u0445\\u043e\\u0434 \\u043d\\u0430 \\u043b\\u044d\\u043d\\u0434\\u0438\\u043d\\u0433\",\"\\u0420\\u0435\\u0433\\u0438\\u0441\\u0442\\u0440\\u0430\\u0446\\u0438\\u044f\",\"\\u0414\\u043e\\u0431\\u0430\\u0432\\u043b\\u0435\\u043d\\u0438\\u0435 \\u043f\\u0435\\u0440\\u0432\\u043e\\u0433\\u043e \\u0431\\u043b\\u043e\\u043a\\u0430\",\"\\u041f\\u043e\\u043f\\u044b\\u0442\\u043a\\u0430 \\u043e\\u043f\\u043b\\u0430\\u0442\\u044b\",\"\\u041f\\u043e\\u043a\\u0443\\u043f\\u043a\\u0430 \\u043f\\u043b\\u0430\\u0442\\u043d\\u043e\\u0433\\u043e \\u0442\\u0430\\u0440\\u0438\\u0444\\u0430\"],\"yaxis\":\"y\",\"type\":\"funnel\"},{\"hovertemplate\":\"utm_campaign=63466135<br>count=%{x}<br>event=%{y}<extra></extra>\",\"legendgroup\":\"63466135\",\"marker\":{\"color\":\"#EF553B\"},\"name\":\"63466135\",\"orientation\":\"h\",\"showlegend\":true,\"x\":[215,0,56,10,0],\"xaxis\":\"x\",\"y\":[\"\\u041f\\u0435\\u0440\\u0435\\u0445\\u043e\\u0434 \\u043d\\u0430 \\u043b\\u044d\\u043d\\u0434\\u0438\\u043d\\u0433\",\"\\u0420\\u0435\\u0433\\u0438\\u0441\\u0442\\u0440\\u0430\\u0446\\u0438\\u044f\",\"\\u0414\\u043e\\u0431\\u0430\\u0432\\u043b\\u0435\\u043d\\u0438\\u0435 \\u043f\\u0435\\u0440\\u0432\\u043e\\u0433\\u043e \\u0431\\u043b\\u043e\\u043a\\u0430\",\"\\u041f\\u043e\\u043f\\u044b\\u0442\\u043a\\u0430 \\u043e\\u043f\\u043b\\u0430\\u0442\\u044b\",\"\\u041f\\u043e\\u043a\\u0443\\u043f\\u043a\\u0430 \\u043f\\u043b\\u0430\\u0442\\u043d\\u043e\\u0433\\u043e \\u0442\\u0430\\u0440\\u0438\\u0444\\u0430\"],\"yaxis\":\"y\",\"type\":\"funnel\"},{\"hovertemplate\":\"utm_campaign=72482736<br>count=%{x}<br>event=%{y}<extra></extra>\",\"legendgroup\":\"72482736\",\"marker\":{\"color\":\"#00cc96\"},\"name\":\"72482736\",\"orientation\":\"h\",\"showlegend\":true,\"x\":[40,0,15,6,0],\"xaxis\":\"x\",\"y\":[\"\\u041f\\u0435\\u0440\\u0435\\u0445\\u043e\\u0434 \\u043d\\u0430 \\u043b\\u044d\\u043d\\u0434\\u0438\\u043d\\u0433\",\"\\u0420\\u0435\\u0433\\u0438\\u0441\\u0442\\u0440\\u0430\\u0446\\u0438\\u044f\",\"\\u0414\\u043e\\u0431\\u0430\\u0432\\u043b\\u0435\\u043d\\u0438\\u0435 \\u043f\\u0435\\u0440\\u0432\\u043e\\u0433\\u043e \\u0431\\u043b\\u043e\\u043a\\u0430\",\"\\u041f\\u043e\\u043f\\u044b\\u0442\\u043a\\u0430 \\u043e\\u043f\\u043b\\u0430\\u0442\\u044b\",\"\\u041f\\u043e\\u043a\\u0443\\u043f\\u043a\\u0430 \\u043f\\u043b\\u0430\\u0442\\u043d\\u043e\\u0433\\u043e \\u0442\\u0430\\u0440\\u0438\\u0444\\u0430\"],\"yaxis\":\"y\",\"type\":\"funnel\"},{\"hovertemplate\":\"utm_campaign=72482737<br>count=%{x}<br>event=%{y}<extra></extra>\",\"legendgroup\":\"72482737\",\"marker\":{\"color\":\"#ab63fa\"},\"name\":\"72482737\",\"orientation\":\"h\",\"showlegend\":true,\"x\":[33,0,7,0,0],\"xaxis\":\"x\",\"y\":[\"\\u041f\\u0435\\u0440\\u0435\\u0445\\u043e\\u0434 \\u043d\\u0430 \\u043b\\u044d\\u043d\\u0434\\u0438\\u043d\\u0433\",\"\\u0420\\u0435\\u0433\\u0438\\u0441\\u0442\\u0440\\u0430\\u0446\\u0438\\u044f\",\"\\u0414\\u043e\\u0431\\u0430\\u0432\\u043b\\u0435\\u043d\\u0438\\u0435 \\u043f\\u0435\\u0440\\u0432\\u043e\\u0433\\u043e \\u0431\\u043b\\u043e\\u043a\\u0430\",\"\\u041f\\u043e\\u043f\\u044b\\u0442\\u043a\\u0430 \\u043e\\u043f\\u043b\\u0430\\u0442\\u044b\",\"\\u041f\\u043e\\u043a\\u0443\\u043f\\u043a\\u0430 \\u043f\\u043b\\u0430\\u0442\\u043d\\u043e\\u0433\\u043e \\u0442\\u0430\\u0440\\u0438\\u0444\\u0430\"],\"yaxis\":\"y\",\"type\":\"funnel\"},{\"hovertemplate\":\"utm_campaign=72482739<br>count=%{x}<br>event=%{y}<extra></extra>\",\"legendgroup\":\"72482739\",\"marker\":{\"color\":\"#FFA15A\"},\"name\":\"72482739\",\"orientation\":\"h\",\"showlegend\":true,\"x\":[104,0,29,2,1],\"xaxis\":\"x\",\"y\":[\"\\u041f\\u0435\\u0440\\u0435\\u0445\\u043e\\u0434 \\u043d\\u0430 \\u043b\\u044d\\u043d\\u0434\\u0438\\u043d\\u0433\",\"\\u0420\\u0435\\u0433\\u0438\\u0441\\u0442\\u0440\\u0430\\u0446\\u0438\\u044f\",\"\\u0414\\u043e\\u0431\\u0430\\u0432\\u043b\\u0435\\u043d\\u0438\\u0435 \\u043f\\u0435\\u0440\\u0432\\u043e\\u0433\\u043e \\u0431\\u043b\\u043e\\u043a\\u0430\",\"\\u041f\\u043e\\u043f\\u044b\\u0442\\u043a\\u0430 \\u043e\\u043f\\u043b\\u0430\\u0442\\u044b\",\"\\u041f\\u043e\\u043a\\u0443\\u043f\\u043a\\u0430 \\u043f\\u043b\\u0430\\u0442\\u043d\\u043e\\u0433\\u043e \\u0442\\u0430\\u0440\\u0438\\u0444\\u0430\"],\"yaxis\":\"y\",\"type\":\"funnel\"},{\"hovertemplate\":\"utm_campaign=72482740<br>count=%{x}<br>event=%{y}<extra></extra>\",\"legendgroup\":\"72482740\",\"marker\":{\"color\":\"#19d3f3\"},\"name\":\"72482740\",\"orientation\":\"h\",\"showlegend\":true,\"x\":[63,0,13,5,0],\"xaxis\":\"x\",\"y\":[\"\\u041f\\u0435\\u0440\\u0435\\u0445\\u043e\\u0434 \\u043d\\u0430 \\u043b\\u044d\\u043d\\u0434\\u0438\\u043d\\u0433\",\"\\u0420\\u0435\\u0433\\u0438\\u0441\\u0442\\u0440\\u0430\\u0446\\u0438\\u044f\",\"\\u0414\\u043e\\u0431\\u0430\\u0432\\u043b\\u0435\\u043d\\u0438\\u0435 \\u043f\\u0435\\u0440\\u0432\\u043e\\u0433\\u043e \\u0431\\u043b\\u043e\\u043a\\u0430\",\"\\u041f\\u043e\\u043f\\u044b\\u0442\\u043a\\u0430 \\u043e\\u043f\\u043b\\u0430\\u0442\\u044b\",\"\\u041f\\u043e\\u043a\\u0443\\u043f\\u043a\\u0430 \\u043f\\u043b\\u0430\\u0442\\u043d\\u043e\\u0433\\u043e \\u0442\\u0430\\u0440\\u0438\\u0444\\u0430\"],\"yaxis\":\"y\",\"type\":\"funnel\"},{\"hovertemplate\":\"utm_campaign=72482741<br>count=%{x}<br>event=%{y}<extra></extra>\",\"legendgroup\":\"72482741\",\"marker\":{\"color\":\"#FF6692\"},\"name\":\"72482741\",\"orientation\":\"h\",\"showlegend\":true,\"x\":[75,0,18,3,0],\"xaxis\":\"x\",\"y\":[\"\\u041f\\u0435\\u0440\\u0435\\u0445\\u043e\\u0434 \\u043d\\u0430 \\u043b\\u044d\\u043d\\u0434\\u0438\\u043d\\u0433\",\"\\u0420\\u0435\\u0433\\u0438\\u0441\\u0442\\u0440\\u0430\\u0446\\u0438\\u044f\",\"\\u0414\\u043e\\u0431\\u0430\\u0432\\u043b\\u0435\\u043d\\u0438\\u0435 \\u043f\\u0435\\u0440\\u0432\\u043e\\u0433\\u043e \\u0431\\u043b\\u043e\\u043a\\u0430\",\"\\u041f\\u043e\\u043f\\u044b\\u0442\\u043a\\u0430 \\u043e\\u043f\\u043b\\u0430\\u0442\\u044b\",\"\\u041f\\u043e\\u043a\\u0443\\u043f\\u043a\\u0430 \\u043f\\u043b\\u0430\\u0442\\u043d\\u043e\\u0433\\u043e \\u0442\\u0430\\u0440\\u0438\\u0444\\u0430\"],\"yaxis\":\"y\",\"type\":\"funnel\"},{\"hovertemplate\":\"utm_campaign=cid|13322676851|0521|google|cpc|kz|teplye|multissylka<br>count=%{x}<br>event=%{y}<extra></extra>\",\"legendgroup\":\"cid|13322676851|0521|google|cpc|kz|teplye|multissylka\",\"marker\":{\"color\":\"#B6E880\"},\"name\":\"cid|13322676851|0521|google|cpc|kz|teplye|multissylka\",\"orientation\":\"h\",\"showlegend\":true,\"x\":[3,0,8,0,0],\"xaxis\":\"x\",\"y\":[\"\\u041f\\u0435\\u0440\\u0435\\u0445\\u043e\\u0434 \\u043d\\u0430 \\u043b\\u044d\\u043d\\u0434\\u0438\\u043d\\u0433\",\"\\u0420\\u0435\\u0433\\u0438\\u0441\\u0442\\u0440\\u0430\\u0446\\u0438\\u044f\",\"\\u0414\\u043e\\u0431\\u0430\\u0432\\u043b\\u0435\\u043d\\u0438\\u0435 \\u043f\\u0435\\u0440\\u0432\\u043e\\u0433\\u043e \\u0431\\u043b\\u043e\\u043a\\u0430\",\"\\u041f\\u043e\\u043f\\u044b\\u0442\\u043a\\u0430 \\u043e\\u043f\\u043b\\u0430\\u0442\\u044b\",\"\\u041f\\u043e\\u043a\\u0443\\u043f\\u043a\\u0430 \\u043f\\u043b\\u0430\\u0442\\u043d\\u043e\\u0433\\u043e \\u0442\\u0430\\u0440\\u0438\\u0444\\u0430\"],\"yaxis\":\"y\",\"type\":\"funnel\"},{\"hovertemplate\":\"utm_campaign=cid|13244871763|0521|google|cpc|ru|tranzak|besplatno|sch<br>count=%{x}<br>event=%{y}<extra></extra>\",\"legendgroup\":\"cid|13244871763|0521|google|cpc|ru|tranzak|besplatno|sch\",\"marker\":{\"color\":\"#FF97FF\"},\"name\":\"cid|13244871763|0521|google|cpc|ru|tranzak|besplatno|sch\",\"orientation\":\"h\",\"showlegend\":true,\"x\":[2,0,2,0,0],\"xaxis\":\"x\",\"y\":[\"\\u041f\\u0435\\u0440\\u0435\\u0445\\u043e\\u0434 \\u043d\\u0430 \\u043b\\u044d\\u043d\\u0434\\u0438\\u043d\\u0433\",\"\\u0420\\u0435\\u0433\\u0438\\u0441\\u0442\\u0440\\u0430\\u0446\\u0438\\u044f\",\"\\u0414\\u043e\\u0431\\u0430\\u0432\\u043b\\u0435\\u043d\\u0438\\u0435 \\u043f\\u0435\\u0440\\u0432\\u043e\\u0433\\u043e \\u0431\\u043b\\u043e\\u043a\\u0430\",\"\\u041f\\u043e\\u043f\\u044b\\u0442\\u043a\\u0430 \\u043e\\u043f\\u043b\\u0430\\u0442\\u044b\",\"\\u041f\\u043e\\u043a\\u0443\\u043f\\u043a\\u0430 \\u043f\\u043b\\u0430\\u0442\\u043d\\u043e\\u0433\\u043e \\u0442\\u0430\\u0440\\u0438\\u0444\\u0430\"],\"yaxis\":\"y\",\"type\":\"funnel\"},{\"hovertemplate\":\"utm_campaign=cid|13824314847|0721|google|cpc|ru|teplye_2|instalanding<br>count=%{x}<br>event=%{y}<extra></extra>\",\"legendgroup\":\"cid|13824314847|0721|google|cpc|ru|teplye_2|instalanding\",\"marker\":{\"color\":\"#FECB52\"},\"name\":\"cid|13824314847|0721|google|cpc|ru|teplye_2|instalanding\",\"orientation\":\"h\",\"showlegend\":true,\"x\":[1,0,0,0,0],\"xaxis\":\"x\",\"y\":[\"\\u041f\\u0435\\u0440\\u0435\\u0445\\u043e\\u0434 \\u043d\\u0430 \\u043b\\u044d\\u043d\\u0434\\u0438\\u043d\\u0433\",\"\\u0420\\u0435\\u0433\\u0438\\u0441\\u0442\\u0440\\u0430\\u0446\\u0438\\u044f\",\"\\u0414\\u043e\\u0431\\u0430\\u0432\\u043b\\u0435\\u043d\\u0438\\u0435 \\u043f\\u0435\\u0440\\u0432\\u043e\\u0433\\u043e \\u0431\\u043b\\u043e\\u043a\\u0430\",\"\\u041f\\u043e\\u043f\\u044b\\u0442\\u043a\\u0430 \\u043e\\u043f\\u043b\\u0430\\u0442\\u044b\",\"\\u041f\\u043e\\u043a\\u0443\\u043f\\u043a\\u0430 \\u043f\\u043b\\u0430\\u0442\\u043d\\u043e\\u0433\\u043e \\u0442\\u0430\\u0440\\u0438\\u0444\\u0430\"],\"yaxis\":\"y\",\"type\":\"funnel\"},{\"hovertemplate\":\"utm_campaign=cid|13815939800|0521|google|cpc|eu|competitors|taplink|for_social<br>count=%{x}<br>event=%{y}<extra></extra>\",\"legendgroup\":\"cid|13815939800|0521|google|cpc|eu|competitors|taplink|for_social\",\"marker\":{\"color\":\"#636efa\"},\"name\":\"cid|13815939800|0521|google|cpc|eu|competitors|taplink|for_social\",\"orientation\":\"h\",\"showlegend\":true,\"x\":[1,0,1,0,0],\"xaxis\":\"x\",\"y\":[\"\\u041f\\u0435\\u0440\\u0435\\u0445\\u043e\\u0434 \\u043d\\u0430 \\u043b\\u044d\\u043d\\u0434\\u0438\\u043d\\u0433\",\"\\u0420\\u0435\\u0433\\u0438\\u0441\\u0442\\u0440\\u0430\\u0446\\u0438\\u044f\",\"\\u0414\\u043e\\u0431\\u0430\\u0432\\u043b\\u0435\\u043d\\u0438\\u0435 \\u043f\\u0435\\u0440\\u0432\\u043e\\u0433\\u043e \\u0431\\u043b\\u043e\\u043a\\u0430\",\"\\u041f\\u043e\\u043f\\u044b\\u0442\\u043a\\u0430 \\u043e\\u043f\\u043b\\u0430\\u0442\\u044b\",\"\\u041f\\u043e\\u043a\\u0443\\u043f\\u043a\\u0430 \\u043f\\u043b\\u0430\\u0442\\u043d\\u043e\\u0433\\u043e \\u0442\\u0430\\u0440\\u0438\\u0444\\u0430\"],\"yaxis\":\"y\",\"type\":\"funnel\"},{\"hovertemplate\":\"utm_campaign=cid|13813036738|0521|google|cpc|by|competitors|taplink|for_social<br>count=%{x}<br>event=%{y}<extra></extra>\",\"legendgroup\":\"cid|13813036738|0521|google|cpc|by|competitors|taplink|for_social\",\"marker\":{\"color\":\"#EF553B\"},\"name\":\"cid|13813036738|0521|google|cpc|by|competitors|taplink|for_social\",\"orientation\":\"h\",\"showlegend\":true,\"x\":[2,0,0,0,0],\"xaxis\":\"x\",\"y\":[\"\\u041f\\u0435\\u0440\\u0435\\u0445\\u043e\\u0434 \\u043d\\u0430 \\u043b\\u044d\\u043d\\u0434\\u0438\\u043d\\u0433\",\"\\u0420\\u0435\\u0433\\u0438\\u0441\\u0442\\u0440\\u0430\\u0446\\u0438\\u044f\",\"\\u0414\\u043e\\u0431\\u0430\\u0432\\u043b\\u0435\\u043d\\u0438\\u0435 \\u043f\\u0435\\u0440\\u0432\\u043e\\u0433\\u043e \\u0431\\u043b\\u043e\\u043a\\u0430\",\"\\u041f\\u043e\\u043f\\u044b\\u0442\\u043a\\u0430 \\u043e\\u043f\\u043b\\u0430\\u0442\\u044b\",\"\\u041f\\u043e\\u043a\\u0443\\u043f\\u043a\\u0430 \\u043f\\u043b\\u0430\\u0442\\u043d\\u043e\\u0433\\u043e \\u0442\\u0430\\u0440\\u0438\\u0444\\u0430\"],\"yaxis\":\"y\",\"type\":\"funnel\"},{\"hovertemplate\":\"utm_campaign=62012011<br>count=%{x}<br>event=%{y}<extra></extra>\",\"legendgroup\":\"62012011\",\"marker\":{\"color\":\"#00cc96\"},\"name\":\"62012011\",\"orientation\":\"h\",\"showlegend\":true,\"x\":[199,0,51,1,0],\"xaxis\":\"x\",\"y\":[\"\\u041f\\u0435\\u0440\\u0435\\u0445\\u043e\\u0434 \\u043d\\u0430 \\u043b\\u044d\\u043d\\u0434\\u0438\\u043d\\u0433\",\"\\u0420\\u0435\\u0433\\u0438\\u0441\\u0442\\u0440\\u0430\\u0446\\u0438\\u044f\",\"\\u0414\\u043e\\u0431\\u0430\\u0432\\u043b\\u0435\\u043d\\u0438\\u0435 \\u043f\\u0435\\u0440\\u0432\\u043e\\u0433\\u043e \\u0431\\u043b\\u043e\\u043a\\u0430\",\"\\u041f\\u043e\\u043f\\u044b\\u0442\\u043a\\u0430 \\u043e\\u043f\\u043b\\u0430\\u0442\\u044b\",\"\\u041f\\u043e\\u043a\\u0443\\u043f\\u043a\\u0430 \\u043f\\u043b\\u0430\\u0442\\u043d\\u043e\\u0433\\u043e \\u0442\\u0430\\u0440\\u0438\\u0444\\u0430\"],\"yaxis\":\"y\",\"type\":\"funnel\"},{\"hovertemplate\":\"utm_campaign=cid|13811038492|0521|google|cpc|kz|competitors|taplink|sdelat<br>count=%{x}<br>event=%{y}<extra></extra>\",\"legendgroup\":\"cid|13811038492|0521|google|cpc|kz|competitors|taplink|sdelat\",\"marker\":{\"color\":\"#ab63fa\"},\"name\":\"cid|13811038492|0521|google|cpc|kz|competitors|taplink|sdelat\",\"orientation\":\"h\",\"showlegend\":true,\"x\":[2,0,1,0,0],\"xaxis\":\"x\",\"y\":[\"\\u041f\\u0435\\u0440\\u0435\\u0445\\u043e\\u0434 \\u043d\\u0430 \\u043b\\u044d\\u043d\\u0434\\u0438\\u043d\\u0433\",\"\\u0420\\u0435\\u0433\\u0438\\u0441\\u0442\\u0440\\u0430\\u0446\\u0438\\u044f\",\"\\u0414\\u043e\\u0431\\u0430\\u0432\\u043b\\u0435\\u043d\\u0438\\u0435 \\u043f\\u0435\\u0440\\u0432\\u043e\\u0433\\u043e \\u0431\\u043b\\u043e\\u043a\\u0430\",\"\\u041f\\u043e\\u043f\\u044b\\u0442\\u043a\\u0430 \\u043e\\u043f\\u043b\\u0430\\u0442\\u044b\",\"\\u041f\\u043e\\u043a\\u0443\\u043f\\u043a\\u0430 \\u043f\\u043b\\u0430\\u0442\\u043d\\u043e\\u0433\\u043e \\u0442\\u0430\\u0440\\u0438\\u0444\\u0430\"],\"yaxis\":\"y\",\"type\":\"funnel\"},{\"hovertemplate\":\"utm_campaign=0721|instagram_cpc|by|conversion|audience_interest|beauty<br>count=%{x}<br>event=%{y}<extra></extra>\",\"legendgroup\":\"0721|instagram_cpc|by|conversion|audience_interest|beauty\",\"marker\":{\"color\":\"#FFA15A\"},\"name\":\"0721|instagram_cpc|by|conversion|audience_interest|beauty\",\"orientation\":\"h\",\"showlegend\":true,\"x\":[1,0,0,0,0],\"xaxis\":\"x\",\"y\":[\"\\u041f\\u0435\\u0440\\u0435\\u0445\\u043e\\u0434 \\u043d\\u0430 \\u043b\\u044d\\u043d\\u0434\\u0438\\u043d\\u0433\",\"\\u0420\\u0435\\u0433\\u0438\\u0441\\u0442\\u0440\\u0430\\u0446\\u0438\\u044f\",\"\\u0414\\u043e\\u0431\\u0430\\u0432\\u043b\\u0435\\u043d\\u0438\\u0435 \\u043f\\u0435\\u0440\\u0432\\u043e\\u0433\\u043e \\u0431\\u043b\\u043e\\u043a\\u0430\",\"\\u041f\\u043e\\u043f\\u044b\\u0442\\u043a\\u0430 \\u043e\\u043f\\u043b\\u0430\\u0442\\u044b\",\"\\u041f\\u043e\\u043a\\u0443\\u043f\\u043a\\u0430 \\u043f\\u043b\\u0430\\u0442\\u043d\\u043e\\u0433\\u043e \\u0442\\u0430\\u0440\\u0438\\u0444\\u0430\"],\"yaxis\":\"y\",\"type\":\"funnel\"},{\"hovertemplate\":\"utm_campaign=common<br>count=%{x}<br>event=%{y}<extra></extra>\",\"legendgroup\":\"common\",\"marker\":{\"color\":\"#19d3f3\"},\"name\":\"common\",\"orientation\":\"h\",\"showlegend\":true,\"x\":[229,0,2,0,0],\"xaxis\":\"x\",\"y\":[\"\\u041f\\u0435\\u0440\\u0435\\u0445\\u043e\\u0434 \\u043d\\u0430 \\u043b\\u044d\\u043d\\u0434\\u0438\\u043d\\u0433\",\"\\u0420\\u0435\\u0433\\u0438\\u0441\\u0442\\u0440\\u0430\\u0446\\u0438\\u044f\",\"\\u0414\\u043e\\u0431\\u0430\\u0432\\u043b\\u0435\\u043d\\u0438\\u0435 \\u043f\\u0435\\u0440\\u0432\\u043e\\u0433\\u043e \\u0431\\u043b\\u043e\\u043a\\u0430\",\"\\u041f\\u043e\\u043f\\u044b\\u0442\\u043a\\u0430 \\u043e\\u043f\\u043b\\u0430\\u0442\\u044b\",\"\\u041f\\u043e\\u043a\\u0443\\u043f\\u043a\\u0430 \\u043f\\u043b\\u0430\\u0442\\u043d\\u043e\\u0433\\u043e \\u0442\\u0430\\u0440\\u0438\\u0444\\u0430\"],\"yaxis\":\"y\",\"type\":\"funnel\"},{\"hovertemplate\":\"utm_campaign=cid|13824315009|0721|google|cpc|kz|teplye_2|instalanding<br>count=%{x}<br>event=%{y}<extra></extra>\",\"legendgroup\":\"cid|13824315009|0721|google|cpc|kz|teplye_2|instalanding\",\"marker\":{\"color\":\"#FF6692\"},\"name\":\"cid|13824315009|0721|google|cpc|kz|teplye_2|instalanding\",\"orientation\":\"h\",\"showlegend\":true,\"x\":[2,0,1,0,0],\"xaxis\":\"x\",\"y\":[\"\\u041f\\u0435\\u0440\\u0435\\u0445\\u043e\\u0434 \\u043d\\u0430 \\u043b\\u044d\\u043d\\u0434\\u0438\\u043d\\u0433\",\"\\u0420\\u0435\\u0433\\u0438\\u0441\\u0442\\u0440\\u0430\\u0446\\u0438\\u044f\",\"\\u0414\\u043e\\u0431\\u0430\\u0432\\u043b\\u0435\\u043d\\u0438\\u0435 \\u043f\\u0435\\u0440\\u0432\\u043e\\u0433\\u043e \\u0431\\u043b\\u043e\\u043a\\u0430\",\"\\u041f\\u043e\\u043f\\u044b\\u0442\\u043a\\u0430 \\u043e\\u043f\\u043b\\u0430\\u0442\\u044b\",\"\\u041f\\u043e\\u043a\\u0443\\u043f\\u043a\\u0430 \\u043f\\u043b\\u0430\\u0442\\u043d\\u043e\\u0433\\u043e \\u0442\\u0430\\u0440\\u0438\\u0444\\u0430\"],\"yaxis\":\"y\",\"type\":\"funnel\"},{\"hovertemplate\":\"utm_campaign=cid|13322676854|0521|google|cpc|kz|tranzak|besplatno|nch<br>count=%{x}<br>event=%{y}<extra></extra>\",\"legendgroup\":\"cid|13322676854|0521|google|cpc|kz|tranzak|besplatno|nch\",\"marker\":{\"color\":\"#B6E880\"},\"name\":\"cid|13322676854|0521|google|cpc|kz|tranzak|besplatno|nch\",\"orientation\":\"h\",\"showlegend\":true,\"x\":[7,0,0,0,0],\"xaxis\":\"x\",\"y\":[\"\\u041f\\u0435\\u0440\\u0435\\u0445\\u043e\\u0434 \\u043d\\u0430 \\u043b\\u044d\\u043d\\u0434\\u0438\\u043d\\u0433\",\"\\u0420\\u0435\\u0433\\u0438\\u0441\\u0442\\u0440\\u0430\\u0446\\u0438\\u044f\",\"\\u0414\\u043e\\u0431\\u0430\\u0432\\u043b\\u0435\\u043d\\u0438\\u0435 \\u043f\\u0435\\u0440\\u0432\\u043e\\u0433\\u043e \\u0431\\u043b\\u043e\\u043a\\u0430\",\"\\u041f\\u043e\\u043f\\u044b\\u0442\\u043a\\u0430 \\u043e\\u043f\\u043b\\u0430\\u0442\\u044b\",\"\\u041f\\u043e\\u043a\\u0443\\u043f\\u043a\\u0430 \\u043f\\u043b\\u0430\\u0442\\u043d\\u043e\\u0433\\u043e \\u0442\\u0430\\u0440\\u0438\\u0444\\u0430\"],\"yaxis\":\"y\",\"type\":\"funnel\"},{\"hovertemplate\":\"utm_campaign=cid|13811038492|0521|google|cpc|kz|competitors|taplink|for_social<br>count=%{x}<br>event=%{y}<extra></extra>\",\"legendgroup\":\"cid|13811038492|0521|google|cpc|kz|competitors|taplink|for_social\",\"marker\":{\"color\":\"#FF97FF\"},\"name\":\"cid|13811038492|0521|google|cpc|kz|competitors|taplink|for_social\",\"orientation\":\"h\",\"showlegend\":true,\"x\":[3,0,1,0,0],\"xaxis\":\"x\",\"y\":[\"\\u041f\\u0435\\u0440\\u0435\\u0445\\u043e\\u0434 \\u043d\\u0430 \\u043b\\u044d\\u043d\\u0434\\u0438\\u043d\\u0433\",\"\\u0420\\u0435\\u0433\\u0438\\u0441\\u0442\\u0440\\u0430\\u0446\\u0438\\u044f\",\"\\u0414\\u043e\\u0431\\u0430\\u0432\\u043b\\u0435\\u043d\\u0438\\u0435 \\u043f\\u0435\\u0440\\u0432\\u043e\\u0433\\u043e \\u0431\\u043b\\u043e\\u043a\\u0430\",\"\\u041f\\u043e\\u043f\\u044b\\u0442\\u043a\\u0430 \\u043e\\u043f\\u043b\\u0430\\u0442\\u044b\",\"\\u041f\\u043e\\u043a\\u0443\\u043f\\u043a\\u0430 \\u043f\\u043b\\u0430\\u0442\\u043d\\u043e\\u0433\\u043e \\u0442\\u0430\\u0440\\u0438\\u0444\\u0430\"],\"yaxis\":\"y\",\"type\":\"funnel\"},{\"hovertemplate\":\"utm_campaign=cid|13824315009|0721|google|cpc|kz|teplye_2|besplatno<br>count=%{x}<br>event=%{y}<extra></extra>\",\"legendgroup\":\"cid|13824315009|0721|google|cpc|kz|teplye_2|besplatno\",\"marker\":{\"color\":\"#FECB52\"},\"name\":\"cid|13824315009|0721|google|cpc|kz|teplye_2|besplatno\",\"orientation\":\"h\",\"showlegend\":true,\"x\":[1,0,1,0,0],\"xaxis\":\"x\",\"y\":[\"\\u041f\\u0435\\u0440\\u0435\\u0445\\u043e\\u0434 \\u043d\\u0430 \\u043b\\u044d\\u043d\\u0434\\u0438\\u043d\\u0433\",\"\\u0420\\u0435\\u0433\\u0438\\u0441\\u0442\\u0440\\u0430\\u0446\\u0438\\u044f\",\"\\u0414\\u043e\\u0431\\u0430\\u0432\\u043b\\u0435\\u043d\\u0438\\u0435 \\u043f\\u0435\\u0440\\u0432\\u043e\\u0433\\u043e \\u0431\\u043b\\u043e\\u043a\\u0430\",\"\\u041f\\u043e\\u043f\\u044b\\u0442\\u043a\\u0430 \\u043e\\u043f\\u043b\\u0430\\u0442\\u044b\",\"\\u041f\\u043e\\u043a\\u0443\\u043f\\u043a\\u0430 \\u043f\\u043b\\u0430\\u0442\\u043d\\u043e\\u0433\\u043e \\u0442\\u0430\\u0440\\u0438\\u0444\\u0430\"],\"yaxis\":\"y\",\"type\":\"funnel\"},{\"hovertemplate\":\"utm_campaign=marketer_one<br>count=%{x}<br>event=%{y}<extra></extra>\",\"legendgroup\":\"marketer_one\",\"marker\":{\"color\":\"#636efa\"},\"name\":\"marketer_one\",\"orientation\":\"h\",\"showlegend\":true,\"x\":[2,0,1,0,0],\"xaxis\":\"x\",\"y\":[\"\\u041f\\u0435\\u0440\\u0435\\u0445\\u043e\\u0434 \\u043d\\u0430 \\u043b\\u044d\\u043d\\u0434\\u0438\\u043d\\u0433\",\"\\u0420\\u0435\\u0433\\u0438\\u0441\\u0442\\u0440\\u0430\\u0446\\u0438\\u044f\",\"\\u0414\\u043e\\u0431\\u0430\\u0432\\u043b\\u0435\\u043d\\u0438\\u0435 \\u043f\\u0435\\u0440\\u0432\\u043e\\u0433\\u043e \\u0431\\u043b\\u043e\\u043a\\u0430\",\"\\u041f\\u043e\\u043f\\u044b\\u0442\\u043a\\u0430 \\u043e\\u043f\\u043b\\u0430\\u0442\\u044b\",\"\\u041f\\u043e\\u043a\\u0443\\u043f\\u043a\\u0430 \\u043f\\u043b\\u0430\\u0442\\u043d\\u043e\\u0433\\u043e \\u0442\\u0430\\u0440\\u0438\\u0444\\u0430\"],\"yaxis\":\"y\",\"type\":\"funnel\"},{\"hovertemplate\":\"utm_campaign=cid|16791043376|0521|google|cpc|eu|tranzak|analog<br>count=%{x}<br>event=%{y}<extra></extra>\",\"legendgroup\":\"cid|16791043376|0521|google|cpc|eu|tranzak|analog\",\"marker\":{\"color\":\"#EF553B\"},\"name\":\"cid|16791043376|0521|google|cpc|eu|tranzak|analog\",\"orientation\":\"h\",\"showlegend\":true,\"x\":[2,0,0,0,0],\"xaxis\":\"x\",\"y\":[\"\\u041f\\u0435\\u0440\\u0435\\u0445\\u043e\\u0434 \\u043d\\u0430 \\u043b\\u044d\\u043d\\u0434\\u0438\\u043d\\u0433\",\"\\u0420\\u0435\\u0433\\u0438\\u0441\\u0442\\u0440\\u0430\\u0446\\u0438\\u044f\",\"\\u0414\\u043e\\u0431\\u0430\\u0432\\u043b\\u0435\\u043d\\u0438\\u0435 \\u043f\\u0435\\u0440\\u0432\\u043e\\u0433\\u043e \\u0431\\u043b\\u043e\\u043a\\u0430\",\"\\u041f\\u043e\\u043f\\u044b\\u0442\\u043a\\u0430 \\u043e\\u043f\\u043b\\u0430\\u0442\\u044b\",\"\\u041f\\u043e\\u043a\\u0443\\u043f\\u043a\\u0430 \\u043f\\u043b\\u0430\\u0442\\u043d\\u043e\\u0433\\u043e \\u0442\\u0430\\u0440\\u0438\\u0444\\u0430\"],\"yaxis\":\"y\",\"type\":\"funnel\"},{\"hovertemplate\":\"utm_campaign=cid|13244871763|0521|google|cpc|ru|tranzak|besplatno|vch<br>count=%{x}<br>event=%{y}<extra></extra>\",\"legendgroup\":\"cid|13244871763|0521|google|cpc|ru|tranzak|besplatno|vch\",\"marker\":{\"color\":\"#00cc96\"},\"name\":\"cid|13244871763|0521|google|cpc|ru|tranzak|besplatno|vch\",\"orientation\":\"h\",\"showlegend\":true,\"x\":[3,0,0,1,0],\"xaxis\":\"x\",\"y\":[\"\\u041f\\u0435\\u0440\\u0435\\u0445\\u043e\\u0434 \\u043d\\u0430 \\u043b\\u044d\\u043d\\u0434\\u0438\\u043d\\u0433\",\"\\u0420\\u0435\\u0433\\u0438\\u0441\\u0442\\u0440\\u0430\\u0446\\u0438\\u044f\",\"\\u0414\\u043e\\u0431\\u0430\\u0432\\u043b\\u0435\\u043d\\u0438\\u0435 \\u043f\\u0435\\u0440\\u0432\\u043e\\u0433\\u043e \\u0431\\u043b\\u043e\\u043a\\u0430\",\"\\u041f\\u043e\\u043f\\u044b\\u0442\\u043a\\u0430 \\u043e\\u043f\\u043b\\u0430\\u0442\\u044b\",\"\\u041f\\u043e\\u043a\\u0443\\u043f\\u043a\\u0430 \\u043f\\u043b\\u0430\\u0442\\u043d\\u043e\\u0433\\u043e \\u0442\\u0430\\u0440\\u0438\\u0444\\u0430\"],\"yaxis\":\"y\",\"type\":\"funnel\"},{\"hovertemplate\":\"utm_campaign=cid|13811038492|0521|google|cpc|kz|competitors|taplink|sozdat<br>count=%{x}<br>event=%{y}<extra></extra>\",\"legendgroup\":\"cid|13811038492|0521|google|cpc|kz|competitors|taplink|sozdat\",\"marker\":{\"color\":\"#ab63fa\"},\"name\":\"cid|13811038492|0521|google|cpc|kz|competitors|taplink|sozdat\",\"orientation\":\"h\",\"showlegend\":true,\"x\":[1,0,0,0,0],\"xaxis\":\"x\",\"y\":[\"\\u041f\\u0435\\u0440\\u0435\\u0445\\u043e\\u0434 \\u043d\\u0430 \\u043b\\u044d\\u043d\\u0434\\u0438\\u043d\\u0433\",\"\\u0420\\u0435\\u0433\\u0438\\u0441\\u0442\\u0440\\u0430\\u0446\\u0438\\u044f\",\"\\u0414\\u043e\\u0431\\u0430\\u0432\\u043b\\u0435\\u043d\\u0438\\u0435 \\u043f\\u0435\\u0440\\u0432\\u043e\\u0433\\u043e \\u0431\\u043b\\u043e\\u043a\\u0430\",\"\\u041f\\u043e\\u043f\\u044b\\u0442\\u043a\\u0430 \\u043e\\u043f\\u043b\\u0430\\u0442\\u044b\",\"\\u041f\\u043e\\u043a\\u0443\\u043f\\u043a\\u0430 \\u043f\\u043b\\u0430\\u0442\\u043d\\u043e\\u0433\\u043e \\u0442\\u0430\\u0440\\u0438\\u0444\\u0430\"],\"yaxis\":\"y\",\"type\":\"funnel\"},{\"hovertemplate\":\"utm_campaign=73095131<br>count=%{x}<br>event=%{y}<extra></extra>\",\"legendgroup\":\"73095131\",\"marker\":{\"color\":\"#FFA15A\"},\"name\":\"73095131\",\"orientation\":\"h\",\"showlegend\":true,\"x\":[1,0,0,0,0],\"xaxis\":\"x\",\"y\":[\"\\u041f\\u0435\\u0440\\u0435\\u0445\\u043e\\u0434 \\u043d\\u0430 \\u043b\\u044d\\u043d\\u0434\\u0438\\u043d\\u0433\",\"\\u0420\\u0435\\u0433\\u0438\\u0441\\u0442\\u0440\\u0430\\u0446\\u0438\\u044f\",\"\\u0414\\u043e\\u0431\\u0430\\u0432\\u043b\\u0435\\u043d\\u0438\\u0435 \\u043f\\u0435\\u0440\\u0432\\u043e\\u0433\\u043e \\u0431\\u043b\\u043e\\u043a\\u0430\",\"\\u041f\\u043e\\u043f\\u044b\\u0442\\u043a\\u0430 \\u043e\\u043f\\u043b\\u0430\\u0442\\u044b\",\"\\u041f\\u043e\\u043a\\u0443\\u043f\\u043a\\u0430 \\u043f\\u043b\\u0430\\u0442\\u043d\\u043e\\u0433\\u043e \\u0442\\u0430\\u0440\\u0438\\u0444\\u0430\"],\"yaxis\":\"y\",\"type\":\"funnel\"},{\"hovertemplate\":\"utm_campaign=cid|13824315009|0721|google|cpc|kz|teplye_2|poshagovo<br>count=%{x}<br>event=%{y}<extra></extra>\",\"legendgroup\":\"cid|13824315009|0721|google|cpc|kz|teplye_2|poshagovo\",\"marker\":{\"color\":\"#19d3f3\"},\"name\":\"cid|13824315009|0721|google|cpc|kz|teplye_2|poshagovo\",\"orientation\":\"h\",\"showlegend\":true,\"x\":[1,0,0,0,0],\"xaxis\":\"x\",\"y\":[\"\\u041f\\u0435\\u0440\\u0435\\u0445\\u043e\\u0434 \\u043d\\u0430 \\u043b\\u044d\\u043d\\u0434\\u0438\\u043d\\u0433\",\"\\u0420\\u0435\\u0433\\u0438\\u0441\\u0442\\u0440\\u0430\\u0446\\u0438\\u044f\",\"\\u0414\\u043e\\u0431\\u0430\\u0432\\u043b\\u0435\\u043d\\u0438\\u0435 \\u043f\\u0435\\u0440\\u0432\\u043e\\u0433\\u043e \\u0431\\u043b\\u043e\\u043a\\u0430\",\"\\u041f\\u043e\\u043f\\u044b\\u0442\\u043a\\u0430 \\u043e\\u043f\\u043b\\u0430\\u0442\\u044b\",\"\\u041f\\u043e\\u043a\\u0443\\u043f\\u043a\\u0430 \\u043f\\u043b\\u0430\\u0442\\u043d\\u043e\\u0433\\u043e \\u0442\\u0430\\u0440\\u0438\\u0444\\u0430\"],\"yaxis\":\"y\",\"type\":\"funnel\"},{\"hovertemplate\":\"utm_campaign=cid|13824308637|0721|google|cpc|by|teplye_2|sozdat_landing<br>count=%{x}<br>event=%{y}<extra></extra>\",\"legendgroup\":\"cid|13824308637|0721|google|cpc|by|teplye_2|sozdat_landing\",\"marker\":{\"color\":\"#FF6692\"},\"name\":\"cid|13824308637|0721|google|cpc|by|teplye_2|sozdat_landing\",\"orientation\":\"h\",\"showlegend\":true,\"x\":[2,0,0,0,0],\"xaxis\":\"x\",\"y\":[\"\\u041f\\u0435\\u0440\\u0435\\u0445\\u043e\\u0434 \\u043d\\u0430 \\u043b\\u044d\\u043d\\u0434\\u0438\\u043d\\u0433\",\"\\u0420\\u0435\\u0433\\u0438\\u0441\\u0442\\u0440\\u0430\\u0446\\u0438\\u044f\",\"\\u0414\\u043e\\u0431\\u0430\\u0432\\u043b\\u0435\\u043d\\u0438\\u0435 \\u043f\\u0435\\u0440\\u0432\\u043e\\u0433\\u043e \\u0431\\u043b\\u043e\\u043a\\u0430\",\"\\u041f\\u043e\\u043f\\u044b\\u0442\\u043a\\u0430 \\u043e\\u043f\\u043b\\u0430\\u0442\\u044b\",\"\\u041f\\u043e\\u043a\\u0443\\u043f\\u043a\\u0430 \\u043f\\u043b\\u0430\\u0442\\u043d\\u043e\\u0433\\u043e \\u0442\\u0430\\u0440\\u0438\\u0444\\u0430\"],\"yaxis\":\"y\",\"type\":\"funnel\"},{\"hovertemplate\":\"utm_campaign=cid|13813036738|0521|google|cpc|by|competitors|taplink|cena<br>count=%{x}<br>event=%{y}<extra></extra>\",\"legendgroup\":\"cid|13813036738|0521|google|cpc|by|competitors|taplink|cena\",\"marker\":{\"color\":\"#B6E880\"},\"name\":\"cid|13813036738|0521|google|cpc|by|competitors|taplink|cena\",\"orientation\":\"h\",\"showlegend\":true,\"x\":[1,0,0,0,0],\"xaxis\":\"x\",\"y\":[\"\\u041f\\u0435\\u0440\\u0435\\u0445\\u043e\\u0434 \\u043d\\u0430 \\u043b\\u044d\\u043d\\u0434\\u0438\\u043d\\u0433\",\"\\u0420\\u0435\\u0433\\u0438\\u0441\\u0442\\u0440\\u0430\\u0446\\u0438\\u044f\",\"\\u0414\\u043e\\u0431\\u0430\\u0432\\u043b\\u0435\\u043d\\u0438\\u0435 \\u043f\\u0435\\u0440\\u0432\\u043e\\u0433\\u043e \\u0431\\u043b\\u043e\\u043a\\u0430\",\"\\u041f\\u043e\\u043f\\u044b\\u0442\\u043a\\u0430 \\u043e\\u043f\\u043b\\u0430\\u0442\\u044b\",\"\\u041f\\u043e\\u043a\\u0443\\u043f\\u043a\\u0430 \\u043f\\u043b\\u0430\\u0442\\u043d\\u043e\\u0433\\u043e \\u0442\\u0430\\u0440\\u0438\\u0444\\u0430\"],\"yaxis\":\"y\",\"type\":\"funnel\"},{\"hovertemplate\":\"utm_campaign=cid|13245125206|0521|google|cpc|ru|competitors|taplink|sozdat<br>count=%{x}<br>event=%{y}<extra></extra>\",\"legendgroup\":\"cid|13245125206|0521|google|cpc|ru|competitors|taplink|sozdat\",\"marker\":{\"color\":\"#FF97FF\"},\"name\":\"cid|13245125206|0521|google|cpc|ru|competitors|taplink|sozdat\",\"orientation\":\"h\",\"showlegend\":true,\"x\":[1,0,0,0,0],\"xaxis\":\"x\",\"y\":[\"\\u041f\\u0435\\u0440\\u0435\\u0445\\u043e\\u0434 \\u043d\\u0430 \\u043b\\u044d\\u043d\\u0434\\u0438\\u043d\\u0433\",\"\\u0420\\u0435\\u0433\\u0438\\u0441\\u0442\\u0440\\u0430\\u0446\\u0438\\u044f\",\"\\u0414\\u043e\\u0431\\u0430\\u0432\\u043b\\u0435\\u043d\\u0438\\u0435 \\u043f\\u0435\\u0440\\u0432\\u043e\\u0433\\u043e \\u0431\\u043b\\u043e\\u043a\\u0430\",\"\\u041f\\u043e\\u043f\\u044b\\u0442\\u043a\\u0430 \\u043e\\u043f\\u043b\\u0430\\u0442\\u044b\",\"\\u041f\\u043e\\u043a\\u0443\\u043f\\u043a\\u0430 \\u043f\\u043b\\u0430\\u0442\\u043d\\u043e\\u0433\\u043e \\u0442\\u0430\\u0440\\u0438\\u0444\\u0430\"],\"yaxis\":\"y\",\"type\":\"funnel\"},{\"hovertemplate\":\"utm_campaign=52710948<br>count=%{x}<br>event=%{y}<extra></extra>\",\"legendgroup\":\"52710948\",\"marker\":{\"color\":\"#FECB52\"},\"name\":\"52710948\",\"orientation\":\"h\",\"showlegend\":true,\"x\":[22,0,0,0,0],\"xaxis\":\"x\",\"y\":[\"\\u041f\\u0435\\u0440\\u0435\\u0445\\u043e\\u0434 \\u043d\\u0430 \\u043b\\u044d\\u043d\\u0434\\u0438\\u043d\\u0433\",\"\\u0420\\u0435\\u0433\\u0438\\u0441\\u0442\\u0440\\u0430\\u0446\\u0438\\u044f\",\"\\u0414\\u043e\\u0431\\u0430\\u0432\\u043b\\u0435\\u043d\\u0438\\u0435 \\u043f\\u0435\\u0440\\u0432\\u043e\\u0433\\u043e \\u0431\\u043b\\u043e\\u043a\\u0430\",\"\\u041f\\u043e\\u043f\\u044b\\u0442\\u043a\\u0430 \\u043e\\u043f\\u043b\\u0430\\u0442\\u044b\",\"\\u041f\\u043e\\u043a\\u0443\\u043f\\u043a\\u0430 \\u043f\\u043b\\u0430\\u0442\\u043d\\u043e\\u0433\\u043e \\u0442\\u0430\\u0440\\u0438\\u0444\\u0430\"],\"yaxis\":\"y\",\"type\":\"funnel\"},{\"hovertemplate\":\"utm_campaign=52151741<br>count=%{x}<br>event=%{y}<extra></extra>\",\"legendgroup\":\"52151741\",\"marker\":{\"color\":\"#636efa\"},\"name\":\"52151741\",\"orientation\":\"h\",\"showlegend\":true,\"x\":[3,0,0,0,0],\"xaxis\":\"x\",\"y\":[\"\\u041f\\u0435\\u0440\\u0435\\u0445\\u043e\\u0434 \\u043d\\u0430 \\u043b\\u044d\\u043d\\u0434\\u0438\\u043d\\u0433\",\"\\u0420\\u0435\\u0433\\u0438\\u0441\\u0442\\u0440\\u0430\\u0446\\u0438\\u044f\",\"\\u0414\\u043e\\u0431\\u0430\\u0432\\u043b\\u0435\\u043d\\u0438\\u0435 \\u043f\\u0435\\u0440\\u0432\\u043e\\u0433\\u043e \\u0431\\u043b\\u043e\\u043a\\u0430\",\"\\u041f\\u043e\\u043f\\u044b\\u0442\\u043a\\u0430 \\u043e\\u043f\\u043b\\u0430\\u0442\\u044b\",\"\\u041f\\u043e\\u043a\\u0443\\u043f\\u043a\\u0430 \\u043f\\u043b\\u0430\\u0442\\u043d\\u043e\\u0433\\u043e \\u0442\\u0430\\u0440\\u0438\\u0444\\u0430\"],\"yaxis\":\"y\",\"type\":\"funnel\"},{\"hovertemplate\":\"utm_campaign=cid|13245125206|0521|google|cpc|ru|competitors|taplink|sdelat<br>count=%{x}<br>event=%{y}<extra></extra>\",\"legendgroup\":\"cid|13245125206|0521|google|cpc|ru|competitors|taplink|sdelat\",\"marker\":{\"color\":\"#EF553B\"},\"name\":\"cid|13245125206|0521|google|cpc|ru|competitors|taplink|sdelat\",\"orientation\":\"h\",\"showlegend\":true,\"x\":[0,0,1,0,0],\"xaxis\":\"x\",\"y\":[\"\\u041f\\u0435\\u0440\\u0435\\u0445\\u043e\\u0434 \\u043d\\u0430 \\u043b\\u044d\\u043d\\u0434\\u0438\\u043d\\u0433\",\"\\u0420\\u0435\\u0433\\u0438\\u0441\\u0442\\u0440\\u0430\\u0446\\u0438\\u044f\",\"\\u0414\\u043e\\u0431\\u0430\\u0432\\u043b\\u0435\\u043d\\u0438\\u0435 \\u043f\\u0435\\u0440\\u0432\\u043e\\u0433\\u043e \\u0431\\u043b\\u043e\\u043a\\u0430\",\"\\u041f\\u043e\\u043f\\u044b\\u0442\\u043a\\u0430 \\u043e\\u043f\\u043b\\u0430\\u0442\\u044b\",\"\\u041f\\u043e\\u043a\\u0443\\u043f\\u043a\\u0430 \\u043f\\u043b\\u0430\\u0442\\u043d\\u043e\\u0433\\u043e \\u0442\\u0430\\u0440\\u0438\\u0444\\u0430\"],\"yaxis\":\"y\",\"type\":\"funnel\"},{\"hovertemplate\":\"utm_campaign=cid|13824314847|0721|google|cpc|ru|teplye_2|samostoyatelno<br>count=%{x}<br>event=%{y}<extra></extra>\",\"legendgroup\":\"cid|13824314847|0721|google|cpc|ru|teplye_2|samostoyatelno\",\"marker\":{\"color\":\"#00cc96\"},\"name\":\"cid|13824314847|0721|google|cpc|ru|teplye_2|samostoyatelno\",\"orientation\":\"h\",\"showlegend\":true,\"x\":[4,0,0,0,0],\"xaxis\":\"x\",\"y\":[\"\\u041f\\u0435\\u0440\\u0435\\u0445\\u043e\\u0434 \\u043d\\u0430 \\u043b\\u044d\\u043d\\u0434\\u0438\\u043d\\u0433\",\"\\u0420\\u0435\\u0433\\u0438\\u0441\\u0442\\u0440\\u0430\\u0446\\u0438\\u044f\",\"\\u0414\\u043e\\u0431\\u0430\\u0432\\u043b\\u0435\\u043d\\u0438\\u0435 \\u043f\\u0435\\u0440\\u0432\\u043e\\u0433\\u043e \\u0431\\u043b\\u043e\\u043a\\u0430\",\"\\u041f\\u043e\\u043f\\u044b\\u0442\\u043a\\u0430 \\u043e\\u043f\\u043b\\u0430\\u0442\\u044b\",\"\\u041f\\u043e\\u043a\\u0443\\u043f\\u043a\\u0430 \\u043f\\u043b\\u0430\\u0442\\u043d\\u043e\\u0433\\u043e \\u0442\\u0430\\u0440\\u0438\\u0444\\u0430\"],\"yaxis\":\"y\",\"type\":\"funnel\"},{\"hovertemplate\":\"utm_campaign=cid|16778058423|0721|google|cpc|eu|teplye_2|besplatno<br>count=%{x}<br>event=%{y}<extra></extra>\",\"legendgroup\":\"cid|16778058423|0721|google|cpc|eu|teplye_2|besplatno\",\"marker\":{\"color\":\"#ab63fa\"},\"name\":\"cid|16778058423|0721|google|cpc|eu|teplye_2|besplatno\",\"orientation\":\"h\",\"showlegend\":true,\"x\":[3,0,0,0,0],\"xaxis\":\"x\",\"y\":[\"\\u041f\\u0435\\u0440\\u0435\\u0445\\u043e\\u0434 \\u043d\\u0430 \\u043b\\u044d\\u043d\\u0434\\u0438\\u043d\\u0433\",\"\\u0420\\u0435\\u0433\\u0438\\u0441\\u0442\\u0440\\u0430\\u0446\\u0438\\u044f\",\"\\u0414\\u043e\\u0431\\u0430\\u0432\\u043b\\u0435\\u043d\\u0438\\u0435 \\u043f\\u0435\\u0440\\u0432\\u043e\\u0433\\u043e \\u0431\\u043b\\u043e\\u043a\\u0430\",\"\\u041f\\u043e\\u043f\\u044b\\u0442\\u043a\\u0430 \\u043e\\u043f\\u043b\\u0430\\u0442\\u044b\",\"\\u041f\\u043e\\u043a\\u0443\\u043f\\u043a\\u0430 \\u043f\\u043b\\u0430\\u0442\\u043d\\u043e\\u0433\\u043e \\u0442\\u0430\\u0440\\u0438\\u0444\\u0430\"],\"yaxis\":\"y\",\"type\":\"funnel\"},{\"hovertemplate\":\"utm_campaign=cid|16791042698|0521|google|cpc|ru|competitors|taplink|sozdat<br>count=%{x}<br>event=%{y}<extra></extra>\",\"legendgroup\":\"cid|16791042698|0521|google|cpc|ru|competitors|taplink|sozdat\",\"marker\":{\"color\":\"#FFA15A\"},\"name\":\"cid|16791042698|0521|google|cpc|ru|competitors|taplink|sozdat\",\"orientation\":\"h\",\"showlegend\":true,\"x\":[2,0,1,0,0],\"xaxis\":\"x\",\"y\":[\"\\u041f\\u0435\\u0440\\u0435\\u0445\\u043e\\u0434 \\u043d\\u0430 \\u043b\\u044d\\u043d\\u0434\\u0438\\u043d\\u0433\",\"\\u0420\\u0435\\u0433\\u0438\\u0441\\u0442\\u0440\\u0430\\u0446\\u0438\\u044f\",\"\\u0414\\u043e\\u0431\\u0430\\u0432\\u043b\\u0435\\u043d\\u0438\\u0435 \\u043f\\u0435\\u0440\\u0432\\u043e\\u0433\\u043e \\u0431\\u043b\\u043e\\u043a\\u0430\",\"\\u041f\\u043e\\u043f\\u044b\\u0442\\u043a\\u0430 \\u043e\\u043f\\u043b\\u0430\\u0442\\u044b\",\"\\u041f\\u043e\\u043a\\u0443\\u043f\\u043a\\u0430 \\u043f\\u043b\\u0430\\u0442\\u043d\\u043e\\u0433\\u043e \\u0442\\u0430\\u0440\\u0438\\u0444\\u0430\"],\"yaxis\":\"y\",\"type\":\"funnel\"},{\"hovertemplate\":\"utm_campaign=cid|16791042698|0521|google|cpc|ru|competitors|taplink|zakazat<br>count=%{x}<br>event=%{y}<extra></extra>\",\"legendgroup\":\"cid|16791042698|0521|google|cpc|ru|competitors|taplink|zakazat\",\"marker\":{\"color\":\"#19d3f3\"},\"name\":\"cid|16791042698|0521|google|cpc|ru|competitors|taplink|zakazat\",\"orientation\":\"h\",\"showlegend\":true,\"x\":[2,0,0,0,0],\"xaxis\":\"x\",\"y\":[\"\\u041f\\u0435\\u0440\\u0435\\u0445\\u043e\\u0434 \\u043d\\u0430 \\u043b\\u044d\\u043d\\u0434\\u0438\\u043d\\u0433\",\"\\u0420\\u0435\\u0433\\u0438\\u0441\\u0442\\u0440\\u0430\\u0446\\u0438\\u044f\",\"\\u0414\\u043e\\u0431\\u0430\\u0432\\u043b\\u0435\\u043d\\u0438\\u0435 \\u043f\\u0435\\u0440\\u0432\\u043e\\u0433\\u043e \\u0431\\u043b\\u043e\\u043a\\u0430\",\"\\u041f\\u043e\\u043f\\u044b\\u0442\\u043a\\u0430 \\u043e\\u043f\\u043b\\u0430\\u0442\\u044b\",\"\\u041f\\u043e\\u043a\\u0443\\u043f\\u043a\\u0430 \\u043f\\u043b\\u0430\\u0442\\u043d\\u043e\\u0433\\u043e \\u0442\\u0430\\u0440\\u0438\\u0444\\u0430\"],\"yaxis\":\"y\",\"type\":\"funnel\"},{\"hovertemplate\":\"utm_campaign=cid|16782869743|0521|google|cpc|eu|competitors|taplink|zakazat<br>count=%{x}<br>event=%{y}<extra></extra>\",\"legendgroup\":\"cid|16782869743|0521|google|cpc|eu|competitors|taplink|zakazat\",\"marker\":{\"color\":\"#FF6692\"},\"name\":\"cid|16782869743|0521|google|cpc|eu|competitors|taplink|zakazat\",\"orientation\":\"h\",\"showlegend\":true,\"x\":[3,0,0,0,0],\"xaxis\":\"x\",\"y\":[\"\\u041f\\u0435\\u0440\\u0435\\u0445\\u043e\\u0434 \\u043d\\u0430 \\u043b\\u044d\\u043d\\u0434\\u0438\\u043d\\u0433\",\"\\u0420\\u0435\\u0433\\u0438\\u0441\\u0442\\u0440\\u0430\\u0446\\u0438\\u044f\",\"\\u0414\\u043e\\u0431\\u0430\\u0432\\u043b\\u0435\\u043d\\u0438\\u0435 \\u043f\\u0435\\u0440\\u0432\\u043e\\u0433\\u043e \\u0431\\u043b\\u043e\\u043a\\u0430\",\"\\u041f\\u043e\\u043f\\u044b\\u0442\\u043a\\u0430 \\u043e\\u043f\\u043b\\u0430\\u0442\\u044b\",\"\\u041f\\u043e\\u043a\\u0443\\u043f\\u043a\\u0430 \\u043f\\u043b\\u0430\\u0442\\u043d\\u043e\\u0433\\u043e \\u0442\\u0430\\u0440\\u0438\\u0444\\u0430\"],\"yaxis\":\"y\",\"type\":\"funnel\"},{\"hovertemplate\":\"utm_campaign=0721|instagram_cpc|rf|conversion|audience_interest|mebel<br>count=%{x}<br>event=%{y}<extra></extra>\",\"legendgroup\":\"0721|instagram_cpc|rf|conversion|audience_interest|mebel\",\"marker\":{\"color\":\"#B6E880\"},\"name\":\"0721|instagram_cpc|rf|conversion|audience_interest|mebel\",\"orientation\":\"h\",\"showlegend\":true,\"x\":[2,0,0,0,0],\"xaxis\":\"x\",\"y\":[\"\\u041f\\u0435\\u0440\\u0435\\u0445\\u043e\\u0434 \\u043d\\u0430 \\u043b\\u044d\\u043d\\u0434\\u0438\\u043d\\u0433\",\"\\u0420\\u0435\\u0433\\u0438\\u0441\\u0442\\u0440\\u0430\\u0446\\u0438\\u044f\",\"\\u0414\\u043e\\u0431\\u0430\\u0432\\u043b\\u0435\\u043d\\u0438\\u0435 \\u043f\\u0435\\u0440\\u0432\\u043e\\u0433\\u043e \\u0431\\u043b\\u043e\\u043a\\u0430\",\"\\u041f\\u043e\\u043f\\u044b\\u0442\\u043a\\u0430 \\u043e\\u043f\\u043b\\u0430\\u0442\\u044b\",\"\\u041f\\u043e\\u043a\\u0443\\u043f\\u043a\\u0430 \\u043f\\u043b\\u0430\\u0442\\u043d\\u043e\\u0433\\u043e \\u0442\\u0430\\u0440\\u0438\\u0444\\u0430\"],\"yaxis\":\"y\",\"type\":\"funnel\"},{\"hovertemplate\":\"utm_campaign=cid|13813036738|0521|google|cpc|by|competitors|another<br>count=%{x}<br>event=%{y}<extra></extra>\",\"legendgroup\":\"cid|13813036738|0521|google|cpc|by|competitors|another\",\"marker\":{\"color\":\"#FF97FF\"},\"name\":\"cid|13813036738|0521|google|cpc|by|competitors|another\",\"orientation\":\"h\",\"showlegend\":true,\"x\":[0,0,1,0,0],\"xaxis\":\"x\",\"y\":[\"\\u041f\\u0435\\u0440\\u0435\\u0445\\u043e\\u0434 \\u043d\\u0430 \\u043b\\u044d\\u043d\\u0434\\u0438\\u043d\\u0433\",\"\\u0420\\u0435\\u0433\\u0438\\u0441\\u0442\\u0440\\u0430\\u0446\\u0438\\u044f\",\"\\u0414\\u043e\\u0431\\u0430\\u0432\\u043b\\u0435\\u043d\\u0438\\u0435 \\u043f\\u0435\\u0440\\u0432\\u043e\\u0433\\u043e \\u0431\\u043b\\u043e\\u043a\\u0430\",\"\\u041f\\u043e\\u043f\\u044b\\u0442\\u043a\\u0430 \\u043e\\u043f\\u043b\\u0430\\u0442\\u044b\",\"\\u041f\\u043e\\u043a\\u0443\\u043f\\u043a\\u0430 \\u043f\\u043b\\u0430\\u0442\\u043d\\u043e\\u0433\\u043e \\u0442\\u0430\\u0440\\u0438\\u0444\\u0430\"],\"yaxis\":\"y\",\"type\":\"funnel\"},{\"hovertemplate\":\"utm_campaign=cid|13824308637|0721|google|cpc|by|teplye_2|samostoyatelno<br>count=%{x}<br>event=%{y}<extra></extra>\",\"legendgroup\":\"cid|13824308637|0721|google|cpc|by|teplye_2|samostoyatelno\",\"marker\":{\"color\":\"#FECB52\"},\"name\":\"cid|13824308637|0721|google|cpc|by|teplye_2|samostoyatelno\",\"orientation\":\"h\",\"showlegend\":true,\"x\":[1,0,0,0,0],\"xaxis\":\"x\",\"y\":[\"\\u041f\\u0435\\u0440\\u0435\\u0445\\u043e\\u0434 \\u043d\\u0430 \\u043b\\u044d\\u043d\\u0434\\u0438\\u043d\\u0433\",\"\\u0420\\u0435\\u0433\\u0438\\u0441\\u0442\\u0440\\u0430\\u0446\\u0438\\u044f\",\"\\u0414\\u043e\\u0431\\u0430\\u0432\\u043b\\u0435\\u043d\\u0438\\u0435 \\u043f\\u0435\\u0440\\u0432\\u043e\\u0433\\u043e \\u0431\\u043b\\u043e\\u043a\\u0430\",\"\\u041f\\u043e\\u043f\\u044b\\u0442\\u043a\\u0430 \\u043e\\u043f\\u043b\\u0430\\u0442\\u044b\",\"\\u041f\\u043e\\u043a\\u0443\\u043f\\u043a\\u0430 \\u043f\\u043b\\u0430\\u0442\\u043d\\u043e\\u0433\\u043e \\u0442\\u0430\\u0440\\u0438\\u0444\\u0430\"],\"yaxis\":\"y\",\"type\":\"funnel\"},{\"hovertemplate\":\"utm_campaign=cid|13824314847|0721|google|cpc|ru|teplye_2|besplatno<br>count=%{x}<br>event=%{y}<extra></extra>\",\"legendgroup\":\"cid|13824314847|0721|google|cpc|ru|teplye_2|besplatno\",\"marker\":{\"color\":\"#636efa\"},\"name\":\"cid|13824314847|0721|google|cpc|ru|teplye_2|besplatno\",\"orientation\":\"h\",\"showlegend\":true,\"x\":[0,0,1,0,0],\"xaxis\":\"x\",\"y\":[\"\\u041f\\u0435\\u0440\\u0435\\u0445\\u043e\\u0434 \\u043d\\u0430 \\u043b\\u044d\\u043d\\u0434\\u0438\\u043d\\u0433\",\"\\u0420\\u0435\\u0433\\u0438\\u0441\\u0442\\u0440\\u0430\\u0446\\u0438\\u044f\",\"\\u0414\\u043e\\u0431\\u0430\\u0432\\u043b\\u0435\\u043d\\u0438\\u0435 \\u043f\\u0435\\u0440\\u0432\\u043e\\u0433\\u043e \\u0431\\u043b\\u043e\\u043a\\u0430\",\"\\u041f\\u043e\\u043f\\u044b\\u0442\\u043a\\u0430 \\u043e\\u043f\\u043b\\u0430\\u0442\\u044b\",\"\\u041f\\u043e\\u043a\\u0443\\u043f\\u043a\\u0430 \\u043f\\u043b\\u0430\\u0442\\u043d\\u043e\\u0433\\u043e \\u0442\\u0430\\u0440\\u0438\\u0444\\u0430\"],\"yaxis\":\"y\",\"type\":\"funnel\"},{\"hovertemplate\":\"utm_campaign=71645389<br>count=%{x}<br>event=%{y}<extra></extra>\",\"legendgroup\":\"71645389\",\"marker\":{\"color\":\"#EF553B\"},\"name\":\"71645389\",\"orientation\":\"h\",\"showlegend\":true,\"x\":[19,0,5,0,0],\"xaxis\":\"x\",\"y\":[\"\\u041f\\u0435\\u0440\\u0435\\u0445\\u043e\\u0434 \\u043d\\u0430 \\u043b\\u044d\\u043d\\u0434\\u0438\\u043d\\u0433\",\"\\u0420\\u0435\\u0433\\u0438\\u0441\\u0442\\u0440\\u0430\\u0446\\u0438\\u044f\",\"\\u0414\\u043e\\u0431\\u0430\\u0432\\u043b\\u0435\\u043d\\u0438\\u0435 \\u043f\\u0435\\u0440\\u0432\\u043e\\u0433\\u043e \\u0431\\u043b\\u043e\\u043a\\u0430\",\"\\u041f\\u043e\\u043f\\u044b\\u0442\\u043a\\u0430 \\u043e\\u043f\\u043b\\u0430\\u0442\\u044b\",\"\\u041f\\u043e\\u043a\\u0443\\u043f\\u043a\\u0430 \\u043f\\u043b\\u0430\\u0442\\u043d\\u043e\\u0433\\u043e \\u0442\\u0430\\u0440\\u0438\\u0444\\u0430\"],\"yaxis\":\"y\",\"type\":\"funnel\"},{\"hovertemplate\":\"utm_campaign=cid|13322676854|0521|google|cpc|kz|tranzak|besplatno|vch<br>count=%{x}<br>event=%{y}<extra></extra>\",\"legendgroup\":\"cid|13322676854|0521|google|cpc|kz|tranzak|besplatno|vch\",\"marker\":{\"color\":\"#00cc96\"},\"name\":\"cid|13322676854|0521|google|cpc|kz|tranzak|besplatno|vch\",\"orientation\":\"h\",\"showlegend\":true,\"x\":[0,0,0,0,0],\"xaxis\":\"x\",\"y\":[\"\\u041f\\u0435\\u0440\\u0435\\u0445\\u043e\\u0434 \\u043d\\u0430 \\u043b\\u044d\\u043d\\u0434\\u0438\\u043d\\u0433\",\"\\u0420\\u0435\\u0433\\u0438\\u0441\\u0442\\u0440\\u0430\\u0446\\u0438\\u044f\",\"\\u0414\\u043e\\u0431\\u0430\\u0432\\u043b\\u0435\\u043d\\u0438\\u0435 \\u043f\\u0435\\u0440\\u0432\\u043e\\u0433\\u043e \\u0431\\u043b\\u043e\\u043a\\u0430\",\"\\u041f\\u043e\\u043f\\u044b\\u0442\\u043a\\u0430 \\u043e\\u043f\\u043b\\u0430\\u0442\\u044b\",\"\\u041f\\u043e\\u043a\\u0443\\u043f\\u043a\\u0430 \\u043f\\u043b\\u0430\\u0442\\u043d\\u043e\\u0433\\u043e \\u0442\\u0430\\u0440\\u0438\\u0444\\u0430\"],\"yaxis\":\"y\",\"type\":\"funnel\"},{\"hovertemplate\":\"utm_campaign=cid|16791042677|0521|google|cpc|ru|tranzak|besplatno|vch<br>count=%{x}<br>event=%{y}<extra></extra>\",\"legendgroup\":\"cid|16791042677|0521|google|cpc|ru|tranzak|besplatno|vch\",\"marker\":{\"color\":\"#ab63fa\"},\"name\":\"cid|16791042677|0521|google|cpc|ru|tranzak|besplatno|vch\",\"orientation\":\"h\",\"showlegend\":true,\"x\":[2,0,0,0,0],\"xaxis\":\"x\",\"y\":[\"\\u041f\\u0435\\u0440\\u0435\\u0445\\u043e\\u0434 \\u043d\\u0430 \\u043b\\u044d\\u043d\\u0434\\u0438\\u043d\\u0433\",\"\\u0420\\u0435\\u0433\\u0438\\u0441\\u0442\\u0440\\u0430\\u0446\\u0438\\u044f\",\"\\u0414\\u043e\\u0431\\u0430\\u0432\\u043b\\u0435\\u043d\\u0438\\u0435 \\u043f\\u0435\\u0440\\u0432\\u043e\\u0433\\u043e \\u0431\\u043b\\u043e\\u043a\\u0430\",\"\\u041f\\u043e\\u043f\\u044b\\u0442\\u043a\\u0430 \\u043e\\u043f\\u043b\\u0430\\u0442\\u044b\",\"\\u041f\\u043e\\u043a\\u0443\\u043f\\u043a\\u0430 \\u043f\\u043b\\u0430\\u0442\\u043d\\u043e\\u0433\\u043e \\u0442\\u0430\\u0440\\u0438\\u0444\\u0430\"],\"yaxis\":\"y\",\"type\":\"funnel\"},{\"hovertemplate\":\"utm_campaign=cid|13824308616|0721|google|cpc|eu|teplye_2|samostoyatelno<br>count=%{x}<br>event=%{y}<extra></extra>\",\"legendgroup\":\"cid|13824308616|0721|google|cpc|eu|teplye_2|samostoyatelno\",\"marker\":{\"color\":\"#FFA15A\"},\"name\":\"cid|13824308616|0721|google|cpc|eu|teplye_2|samostoyatelno\",\"orientation\":\"h\",\"showlegend\":true,\"x\":[7,0,1,0,0],\"xaxis\":\"x\",\"y\":[\"\\u041f\\u0435\\u0440\\u0435\\u0445\\u043e\\u0434 \\u043d\\u0430 \\u043b\\u044d\\u043d\\u0434\\u0438\\u043d\\u0433\",\"\\u0420\\u0435\\u0433\\u0438\\u0441\\u0442\\u0440\\u0430\\u0446\\u0438\\u044f\",\"\\u0414\\u043e\\u0431\\u0430\\u0432\\u043b\\u0435\\u043d\\u0438\\u0435 \\u043f\\u0435\\u0440\\u0432\\u043e\\u0433\\u043e \\u0431\\u043b\\u043e\\u043a\\u0430\",\"\\u041f\\u043e\\u043f\\u044b\\u0442\\u043a\\u0430 \\u043e\\u043f\\u043b\\u0430\\u0442\\u044b\",\"\\u041f\\u043e\\u043a\\u0443\\u043f\\u043a\\u0430 \\u043f\\u043b\\u0430\\u0442\\u043d\\u043e\\u0433\\u043e \\u0442\\u0430\\u0440\\u0438\\u0444\\u0430\"],\"yaxis\":\"y\",\"type\":\"funnel\"},{\"hovertemplate\":\"utm_campaign=cid|13245125206|0521|google|cpc|ru|competitors|taplink|for_social<br>count=%{x}<br>event=%{y}<extra></extra>\",\"legendgroup\":\"cid|13245125206|0521|google|cpc|ru|competitors|taplink|for_social\",\"marker\":{\"color\":\"#19d3f3\"},\"name\":\"cid|13245125206|0521|google|cpc|ru|competitors|taplink|for_social\",\"orientation\":\"h\",\"showlegend\":true,\"x\":[0,0,1,0,0],\"xaxis\":\"x\",\"y\":[\"\\u041f\\u0435\\u0440\\u0435\\u0445\\u043e\\u0434 \\u043d\\u0430 \\u043b\\u044d\\u043d\\u0434\\u0438\\u043d\\u0433\",\"\\u0420\\u0435\\u0433\\u0438\\u0441\\u0442\\u0440\\u0430\\u0446\\u0438\\u044f\",\"\\u0414\\u043e\\u0431\\u0430\\u0432\\u043b\\u0435\\u043d\\u0438\\u0435 \\u043f\\u0435\\u0440\\u0432\\u043e\\u0433\\u043e \\u0431\\u043b\\u043e\\u043a\\u0430\",\"\\u041f\\u043e\\u043f\\u044b\\u0442\\u043a\\u0430 \\u043e\\u043f\\u043b\\u0430\\u0442\\u044b\",\"\\u041f\\u043e\\u043a\\u0443\\u043f\\u043a\\u0430 \\u043f\\u043b\\u0430\\u0442\\u043d\\u043e\\u0433\\u043e \\u0442\\u0430\\u0440\\u0438\\u0444\\u0430\"],\"yaxis\":\"y\",\"type\":\"funnel\"},{\"hovertemplate\":\"utm_campaign=postanovich_smm<br>count=%{x}<br>event=%{y}<extra></extra>\",\"legendgroup\":\"postanovich_smm\",\"marker\":{\"color\":\"#FF6692\"},\"name\":\"postanovich_smm\",\"orientation\":\"h\",\"showlegend\":true,\"x\":[1,0,0,0,0],\"xaxis\":\"x\",\"y\":[\"\\u041f\\u0435\\u0440\\u0435\\u0445\\u043e\\u0434 \\u043d\\u0430 \\u043b\\u044d\\u043d\\u0434\\u0438\\u043d\\u0433\",\"\\u0420\\u0435\\u0433\\u0438\\u0441\\u0442\\u0440\\u0430\\u0446\\u0438\\u044f\",\"\\u0414\\u043e\\u0431\\u0430\\u0432\\u043b\\u0435\\u043d\\u0438\\u0435 \\u043f\\u0435\\u0440\\u0432\\u043e\\u0433\\u043e \\u0431\\u043b\\u043e\\u043a\\u0430\",\"\\u041f\\u043e\\u043f\\u044b\\u0442\\u043a\\u0430 \\u043e\\u043f\\u043b\\u0430\\u0442\\u044b\",\"\\u041f\\u043e\\u043a\\u0443\\u043f\\u043a\\u0430 \\u043f\\u043b\\u0430\\u0442\\u043d\\u043e\\u0433\\u043e \\u0442\\u0430\\u0440\\u0438\\u0444\\u0430\"],\"yaxis\":\"y\",\"type\":\"funnel\"},{\"hovertemplate\":\"utm_campaign=cid|16778058612|0521|google|cpc|eu|teplye|miniland<br>count=%{x}<br>event=%{y}<extra></extra>\",\"legendgroup\":\"cid|16778058612|0521|google|cpc|eu|teplye|miniland\",\"marker\":{\"color\":\"#B6E880\"},\"name\":\"cid|16778058612|0521|google|cpc|eu|teplye|miniland\",\"orientation\":\"h\",\"showlegend\":true,\"x\":[1,0,0,0,0],\"xaxis\":\"x\",\"y\":[\"\\u041f\\u0435\\u0440\\u0435\\u0445\\u043e\\u0434 \\u043d\\u0430 \\u043b\\u044d\\u043d\\u0434\\u0438\\u043d\\u0433\",\"\\u0420\\u0435\\u0433\\u0438\\u0441\\u0442\\u0440\\u0430\\u0446\\u0438\\u044f\",\"\\u0414\\u043e\\u0431\\u0430\\u0432\\u043b\\u0435\\u043d\\u0438\\u0435 \\u043f\\u0435\\u0440\\u0432\\u043e\\u0433\\u043e \\u0431\\u043b\\u043e\\u043a\\u0430\",\"\\u041f\\u043e\\u043f\\u044b\\u0442\\u043a\\u0430 \\u043e\\u043f\\u043b\\u0430\\u0442\\u044b\",\"\\u041f\\u043e\\u043a\\u0443\\u043f\\u043a\\u0430 \\u043f\\u043b\\u0430\\u0442\\u043d\\u043e\\u0433\\u043e \\u0442\\u0430\\u0440\\u0438\\u0444\\u0430\"],\"yaxis\":\"y\",\"type\":\"funnel\"},{\"hovertemplate\":\"utm_campaign=cid|16782870160|0521|google|cpc|ru|teplye|mikroland<br>count=%{x}<br>event=%{y}<extra></extra>\",\"legendgroup\":\"cid|16782870160|0521|google|cpc|ru|teplye|mikroland\",\"marker\":{\"color\":\"#FF97FF\"},\"name\":\"cid|16782870160|0521|google|cpc|ru|teplye|mikroland\",\"orientation\":\"h\",\"showlegend\":true,\"x\":[1,0,0,0,0],\"xaxis\":\"x\",\"y\":[\"\\u041f\\u0435\\u0440\\u0435\\u0445\\u043e\\u0434 \\u043d\\u0430 \\u043b\\u044d\\u043d\\u0434\\u0438\\u043d\\u0433\",\"\\u0420\\u0435\\u0433\\u0438\\u0441\\u0442\\u0440\\u0430\\u0446\\u0438\\u044f\",\"\\u0414\\u043e\\u0431\\u0430\\u0432\\u043b\\u0435\\u043d\\u0438\\u0435 \\u043f\\u0435\\u0440\\u0432\\u043e\\u0433\\u043e \\u0431\\u043b\\u043e\\u043a\\u0430\",\"\\u041f\\u043e\\u043f\\u044b\\u0442\\u043a\\u0430 \\u043e\\u043f\\u043b\\u0430\\u0442\\u044b\",\"\\u041f\\u043e\\u043a\\u0443\\u043f\\u043a\\u0430 \\u043f\\u043b\\u0430\\u0442\\u043d\\u043e\\u0433\\u043e \\u0442\\u0430\\u0440\\u0438\\u0444\\u0430\"],\"yaxis\":\"y\",\"type\":\"funnel\"},{\"hovertemplate\":\"utm_campaign=cid|16778058435|0721|google|cpc|ru|teplye_2|besplatno<br>count=%{x}<br>event=%{y}<extra></extra>\",\"legendgroup\":\"cid|16778058435|0721|google|cpc|ru|teplye_2|besplatno\",\"marker\":{\"color\":\"#FECB52\"},\"name\":\"cid|16778058435|0721|google|cpc|ru|teplye_2|besplatno\",\"orientation\":\"h\",\"showlegend\":true,\"x\":[4,0,0,0,0],\"xaxis\":\"x\",\"y\":[\"\\u041f\\u0435\\u0440\\u0435\\u0445\\u043e\\u0434 \\u043d\\u0430 \\u043b\\u044d\\u043d\\u0434\\u0438\\u043d\\u0433\",\"\\u0420\\u0435\\u0433\\u0438\\u0441\\u0442\\u0440\\u0430\\u0446\\u0438\\u044f\",\"\\u0414\\u043e\\u0431\\u0430\\u0432\\u043b\\u0435\\u043d\\u0438\\u0435 \\u043f\\u0435\\u0440\\u0432\\u043e\\u0433\\u043e \\u0431\\u043b\\u043e\\u043a\\u0430\",\"\\u041f\\u043e\\u043f\\u044b\\u0442\\u043a\\u0430 \\u043e\\u043f\\u043b\\u0430\\u0442\\u044b\",\"\\u041f\\u043e\\u043a\\u0443\\u043f\\u043a\\u0430 \\u043f\\u043b\\u0430\\u0442\\u043d\\u043e\\u0433\\u043e \\u0442\\u0430\\u0440\\u0438\\u0444\\u0430\"],\"yaxis\":\"y\",\"type\":\"funnel\"},{\"hovertemplate\":\"utm_campaign=cid|16778058435|0721|google|cpc|ru|teplye_2|poshagovo<br>count=%{x}<br>event=%{y}<extra></extra>\",\"legendgroup\":\"cid|16778058435|0721|google|cpc|ru|teplye_2|poshagovo\",\"marker\":{\"color\":\"#636efa\"},\"name\":\"cid|16778058435|0721|google|cpc|ru|teplye_2|poshagovo\",\"orientation\":\"h\",\"showlegend\":true,\"x\":[2,0,0,0,0],\"xaxis\":\"x\",\"y\":[\"\\u041f\\u0435\\u0440\\u0435\\u0445\\u043e\\u0434 \\u043d\\u0430 \\u043b\\u044d\\u043d\\u0434\\u0438\\u043d\\u0433\",\"\\u0420\\u0435\\u0433\\u0438\\u0441\\u0442\\u0440\\u0430\\u0446\\u0438\\u044f\",\"\\u0414\\u043e\\u0431\\u0430\\u0432\\u043b\\u0435\\u043d\\u0438\\u0435 \\u043f\\u0435\\u0440\\u0432\\u043e\\u0433\\u043e \\u0431\\u043b\\u043e\\u043a\\u0430\",\"\\u041f\\u043e\\u043f\\u044b\\u0442\\u043a\\u0430 \\u043e\\u043f\\u043b\\u0430\\u0442\\u044b\",\"\\u041f\\u043e\\u043a\\u0443\\u043f\\u043a\\u0430 \\u043f\\u043b\\u0430\\u0442\\u043d\\u043e\\u0433\\u043e \\u0442\\u0430\\u0440\\u0438\\u0444\\u0430\"],\"yaxis\":\"y\",\"type\":\"funnel\"},{\"hovertemplate\":\"utm_campaign=cid|16791042698|0521|google|cpc|ru|competitors|another<br>count=%{x}<br>event=%{y}<extra></extra>\",\"legendgroup\":\"cid|16791042698|0521|google|cpc|ru|competitors|another\",\"marker\":{\"color\":\"#EF553B\"},\"name\":\"cid|16791042698|0521|google|cpc|ru|competitors|another\",\"orientation\":\"h\",\"showlegend\":true,\"x\":[3,0,0,0,0],\"xaxis\":\"x\",\"y\":[\"\\u041f\\u0435\\u0440\\u0435\\u0445\\u043e\\u0434 \\u043d\\u0430 \\u043b\\u044d\\u043d\\u0434\\u0438\\u043d\\u0433\",\"\\u0420\\u0435\\u0433\\u0438\\u0441\\u0442\\u0440\\u0430\\u0446\\u0438\\u044f\",\"\\u0414\\u043e\\u0431\\u0430\\u0432\\u043b\\u0435\\u043d\\u0438\\u0435 \\u043f\\u0435\\u0440\\u0432\\u043e\\u0433\\u043e \\u0431\\u043b\\u043e\\u043a\\u0430\",\"\\u041f\\u043e\\u043f\\u044b\\u0442\\u043a\\u0430 \\u043e\\u043f\\u043b\\u0430\\u0442\\u044b\",\"\\u041f\\u043e\\u043a\\u0443\\u043f\\u043a\\u0430 \\u043f\\u043b\\u0430\\u0442\\u043d\\u043e\\u0433\\u043e \\u0442\\u0430\\u0440\\u0438\\u0444\\u0430\"],\"yaxis\":\"y\",\"type\":\"funnel\"},{\"hovertemplate\":\"utm_campaign=cid|16782869743|0521|google|cpc|eu|competitors|another<br>count=%{x}<br>event=%{y}<extra></extra>\",\"legendgroup\":\"cid|16782869743|0521|google|cpc|eu|competitors|another\",\"marker\":{\"color\":\"#00cc96\"},\"name\":\"cid|16782869743|0521|google|cpc|eu|competitors|another\",\"orientation\":\"h\",\"showlegend\":true,\"x\":[1,0,0,0,0],\"xaxis\":\"x\",\"y\":[\"\\u041f\\u0435\\u0440\\u0435\\u0445\\u043e\\u0434 \\u043d\\u0430 \\u043b\\u044d\\u043d\\u0434\\u0438\\u043d\\u0433\",\"\\u0420\\u0435\\u0433\\u0438\\u0441\\u0442\\u0440\\u0430\\u0446\\u0438\\u044f\",\"\\u0414\\u043e\\u0431\\u0430\\u0432\\u043b\\u0435\\u043d\\u0438\\u0435 \\u043f\\u0435\\u0440\\u0432\\u043e\\u0433\\u043e \\u0431\\u043b\\u043e\\u043a\\u0430\",\"\\u041f\\u043e\\u043f\\u044b\\u0442\\u043a\\u0430 \\u043e\\u043f\\u043b\\u0430\\u0442\\u044b\",\"\\u041f\\u043e\\u043a\\u0443\\u043f\\u043a\\u0430 \\u043f\\u043b\\u0430\\u0442\\u043d\\u043e\\u0433\\u043e \\u0442\\u0430\\u0440\\u0438\\u0444\\u0430\"],\"yaxis\":\"y\",\"type\":\"funnel\"},{\"hovertemplate\":\"utm_campaign=cid|16778058423|0721|google|cpc|eu|teplye_2|instrukciya<br>count=%{x}<br>event=%{y}<extra></extra>\",\"legendgroup\":\"cid|16778058423|0721|google|cpc|eu|teplye_2|instrukciya\",\"marker\":{\"color\":\"#ab63fa\"},\"name\":\"cid|16778058423|0721|google|cpc|eu|teplye_2|instrukciya\",\"orientation\":\"h\",\"showlegend\":true,\"x\":[1,0,0,0,0],\"xaxis\":\"x\",\"y\":[\"\\u041f\\u0435\\u0440\\u0435\\u0445\\u043e\\u0434 \\u043d\\u0430 \\u043b\\u044d\\u043d\\u0434\\u0438\\u043d\\u0433\",\"\\u0420\\u0435\\u0433\\u0438\\u0441\\u0442\\u0440\\u0430\\u0446\\u0438\\u044f\",\"\\u0414\\u043e\\u0431\\u0430\\u0432\\u043b\\u0435\\u043d\\u0438\\u0435 \\u043f\\u0435\\u0440\\u0432\\u043e\\u0433\\u043e \\u0431\\u043b\\u043e\\u043a\\u0430\",\"\\u041f\\u043e\\u043f\\u044b\\u0442\\u043a\\u0430 \\u043e\\u043f\\u043b\\u0430\\u0442\\u044b\",\"\\u041f\\u043e\\u043a\\u0443\\u043f\\u043a\\u0430 \\u043f\\u043b\\u0430\\u0442\\u043d\\u043e\\u0433\\u043e \\u0442\\u0430\\u0440\\u0438\\u0444\\u0430\"],\"yaxis\":\"y\",\"type\":\"funnel\"},{\"hovertemplate\":\"utm_campaign=cid|16778058435|0721|google|cpc|ru|teplye_2|instalanding<br>count=%{x}<br>event=%{y}<extra></extra>\",\"legendgroup\":\"cid|16778058435|0721|google|cpc|ru|teplye_2|instalanding\",\"marker\":{\"color\":\"#FFA15A\"},\"name\":\"cid|16778058435|0721|google|cpc|ru|teplye_2|instalanding\",\"orientation\":\"h\",\"showlegend\":true,\"x\":[1,0,0,0,0],\"xaxis\":\"x\",\"y\":[\"\\u041f\\u0435\\u0440\\u0435\\u0445\\u043e\\u0434 \\u043d\\u0430 \\u043b\\u044d\\u043d\\u0434\\u0438\\u043d\\u0433\",\"\\u0420\\u0435\\u0433\\u0438\\u0441\\u0442\\u0440\\u0430\\u0446\\u0438\\u044f\",\"\\u0414\\u043e\\u0431\\u0430\\u0432\\u043b\\u0435\\u043d\\u0438\\u0435 \\u043f\\u0435\\u0440\\u0432\\u043e\\u0433\\u043e \\u0431\\u043b\\u043e\\u043a\\u0430\",\"\\u041f\\u043e\\u043f\\u044b\\u0442\\u043a\\u0430 \\u043e\\u043f\\u043b\\u0430\\u0442\\u044b\",\"\\u041f\\u043e\\u043a\\u0443\\u043f\\u043a\\u0430 \\u043f\\u043b\\u0430\\u0442\\u043d\\u043e\\u0433\\u043e \\u0442\\u0430\\u0440\\u0438\\u0444\\u0430\"],\"yaxis\":\"y\",\"type\":\"funnel\"},{\"hovertemplate\":\"utm_campaign=cid|16791042677|0521|google|cpc|ru|tranzak|besplatno|sch<br>count=%{x}<br>event=%{y}<extra></extra>\",\"legendgroup\":\"cid|16791042677|0521|google|cpc|ru|tranzak|besplatno|sch\",\"marker\":{\"color\":\"#19d3f3\"},\"name\":\"cid|16791042677|0521|google|cpc|ru|tranzak|besplatno|sch\",\"orientation\":\"h\",\"showlegend\":true,\"x\":[1,0,0,0,0],\"xaxis\":\"x\",\"y\":[\"\\u041f\\u0435\\u0440\\u0435\\u0445\\u043e\\u0434 \\u043d\\u0430 \\u043b\\u044d\\u043d\\u0434\\u0438\\u043d\\u0433\",\"\\u0420\\u0435\\u0433\\u0438\\u0441\\u0442\\u0440\\u0430\\u0446\\u0438\\u044f\",\"\\u0414\\u043e\\u0431\\u0430\\u0432\\u043b\\u0435\\u043d\\u0438\\u0435 \\u043f\\u0435\\u0440\\u0432\\u043e\\u0433\\u043e \\u0431\\u043b\\u043e\\u043a\\u0430\",\"\\u041f\\u043e\\u043f\\u044b\\u0442\\u043a\\u0430 \\u043e\\u043f\\u043b\\u0430\\u0442\\u044b\",\"\\u041f\\u043e\\u043a\\u0443\\u043f\\u043a\\u0430 \\u043f\\u043b\\u0430\\u0442\\u043d\\u043e\\u0433\\u043e \\u0442\\u0430\\u0440\\u0438\\u0444\\u0430\"],\"yaxis\":\"y\",\"type\":\"funnel\"},{\"hovertemplate\":\"utm_campaign=cid|16791042677|0521|google|cpc|ru|tranzak|besplatno|nch<br>count=%{x}<br>event=%{y}<extra></extra>\",\"legendgroup\":\"cid|16791042677|0521|google|cpc|ru|tranzak|besplatno|nch\",\"marker\":{\"color\":\"#FF6692\"},\"name\":\"cid|16791042677|0521|google|cpc|ru|tranzak|besplatno|nch\",\"orientation\":\"h\",\"showlegend\":true,\"x\":[1,0,0,0,0],\"xaxis\":\"x\",\"y\":[\"\\u041f\\u0435\\u0440\\u0435\\u0445\\u043e\\u0434 \\u043d\\u0430 \\u043b\\u044d\\u043d\\u0434\\u0438\\u043d\\u0433\",\"\\u0420\\u0435\\u0433\\u0438\\u0441\\u0442\\u0440\\u0430\\u0446\\u0438\\u044f\",\"\\u0414\\u043e\\u0431\\u0430\\u0432\\u043b\\u0435\\u043d\\u0438\\u0435 \\u043f\\u0435\\u0440\\u0432\\u043e\\u0433\\u043e \\u0431\\u043b\\u043e\\u043a\\u0430\",\"\\u041f\\u043e\\u043f\\u044b\\u0442\\u043a\\u0430 \\u043e\\u043f\\u043b\\u0430\\u0442\\u044b\",\"\\u041f\\u043e\\u043a\\u0443\\u043f\\u043a\\u0430 \\u043f\\u043b\\u0430\\u0442\\u043d\\u043e\\u0433\\u043e \\u0442\\u0430\\u0440\\u0438\\u0444\\u0430\"],\"yaxis\":\"y\",\"type\":\"funnel\"},{\"hovertemplate\":\"utm_campaign=cid|16791043376|0521|google|cpc|eu|tranzak|besplatno|vch<br>count=%{x}<br>event=%{y}<extra></extra>\",\"legendgroup\":\"cid|16791043376|0521|google|cpc|eu|tranzak|besplatno|vch\",\"marker\":{\"color\":\"#B6E880\"},\"name\":\"cid|16791043376|0521|google|cpc|eu|tranzak|besplatno|vch\",\"orientation\":\"h\",\"showlegend\":true,\"x\":[2,0,0,0,0],\"xaxis\":\"x\",\"y\":[\"\\u041f\\u0435\\u0440\\u0435\\u0445\\u043e\\u0434 \\u043d\\u0430 \\u043b\\u044d\\u043d\\u0434\\u0438\\u043d\\u0433\",\"\\u0420\\u0435\\u0433\\u0438\\u0441\\u0442\\u0440\\u0430\\u0446\\u0438\\u044f\",\"\\u0414\\u043e\\u0431\\u0430\\u0432\\u043b\\u0435\\u043d\\u0438\\u0435 \\u043f\\u0435\\u0440\\u0432\\u043e\\u0433\\u043e \\u0431\\u043b\\u043e\\u043a\\u0430\",\"\\u041f\\u043e\\u043f\\u044b\\u0442\\u043a\\u0430 \\u043e\\u043f\\u043b\\u0430\\u0442\\u044b\",\"\\u041f\\u043e\\u043a\\u0443\\u043f\\u043a\\u0430 \\u043f\\u043b\\u0430\\u0442\\u043d\\u043e\\u0433\\u043e \\u0442\\u0430\\u0440\\u0438\\u0444\\u0430\"],\"yaxis\":\"y\",\"type\":\"funnel\"},{\"hovertemplate\":\"utm_campaign=cid|16778058423|0721|google|cpc|eu|teplye_2|instalanding<br>count=%{x}<br>event=%{y}<extra></extra>\",\"legendgroup\":\"cid|16778058423|0721|google|cpc|eu|teplye_2|instalanding\",\"marker\":{\"color\":\"#FF97FF\"},\"name\":\"cid|16778058423|0721|google|cpc|eu|teplye_2|instalanding\",\"orientation\":\"h\",\"showlegend\":true,\"x\":[1,0,0,0,0],\"xaxis\":\"x\",\"y\":[\"\\u041f\\u0435\\u0440\\u0435\\u0445\\u043e\\u0434 \\u043d\\u0430 \\u043b\\u044d\\u043d\\u0434\\u0438\\u043d\\u0433\",\"\\u0420\\u0435\\u0433\\u0438\\u0441\\u0442\\u0440\\u0430\\u0446\\u0438\\u044f\",\"\\u0414\\u043e\\u0431\\u0430\\u0432\\u043b\\u0435\\u043d\\u0438\\u0435 \\u043f\\u0435\\u0440\\u0432\\u043e\\u0433\\u043e \\u0431\\u043b\\u043e\\u043a\\u0430\",\"\\u041f\\u043e\\u043f\\u044b\\u0442\\u043a\\u0430 \\u043e\\u043f\\u043b\\u0430\\u0442\\u044b\",\"\\u041f\\u043e\\u043a\\u0443\\u043f\\u043a\\u0430 \\u043f\\u043b\\u0430\\u0442\\u043d\\u043e\\u0433\\u043e \\u0442\\u0430\\u0440\\u0438\\u0444\\u0430\"],\"yaxis\":\"y\",\"type\":\"funnel\"},{\"hovertemplate\":\"utm_campaign=cid|16778058435|0721|google|cpc|ru|teplye_2|svoimi_rukami<br>count=%{x}<br>event=%{y}<extra></extra>\",\"legendgroup\":\"cid|16778058435|0721|google|cpc|ru|teplye_2|svoimi_rukami\",\"marker\":{\"color\":\"#FECB52\"},\"name\":\"cid|16778058435|0721|google|cpc|ru|teplye_2|svoimi_rukami\",\"orientation\":\"h\",\"showlegend\":true,\"x\":[2,0,0,0,0],\"xaxis\":\"x\",\"y\":[\"\\u041f\\u0435\\u0440\\u0435\\u0445\\u043e\\u0434 \\u043d\\u0430 \\u043b\\u044d\\u043d\\u0434\\u0438\\u043d\\u0433\",\"\\u0420\\u0435\\u0433\\u0438\\u0441\\u0442\\u0440\\u0430\\u0446\\u0438\\u044f\",\"\\u0414\\u043e\\u0431\\u0430\\u0432\\u043b\\u0435\\u043d\\u0438\\u0435 \\u043f\\u0435\\u0440\\u0432\\u043e\\u0433\\u043e \\u0431\\u043b\\u043e\\u043a\\u0430\",\"\\u041f\\u043e\\u043f\\u044b\\u0442\\u043a\\u0430 \\u043e\\u043f\\u043b\\u0430\\u0442\\u044b\",\"\\u041f\\u043e\\u043a\\u0443\\u043f\\u043a\\u0430 \\u043f\\u043b\\u0430\\u0442\\u043d\\u043e\\u0433\\u043e \\u0442\\u0430\\u0440\\u0438\\u0444\\u0430\"],\"yaxis\":\"y\",\"type\":\"funnel\"},{\"hovertemplate\":\"utm_campaign=cid|16791043376|0521|google|cpc|eu|tranzak|samostoyatelno<br>count=%{x}<br>event=%{y}<extra></extra>\",\"legendgroup\":\"cid|16791043376|0521|google|cpc|eu|tranzak|samostoyatelno\",\"marker\":{\"color\":\"#636efa\"},\"name\":\"cid|16791043376|0521|google|cpc|eu|tranzak|samostoyatelno\",\"orientation\":\"h\",\"showlegend\":true,\"x\":[2,0,0,0,0],\"xaxis\":\"x\",\"y\":[\"\\u041f\\u0435\\u0440\\u0435\\u0445\\u043e\\u0434 \\u043d\\u0430 \\u043b\\u044d\\u043d\\u0434\\u0438\\u043d\\u0433\",\"\\u0420\\u0435\\u0433\\u0438\\u0441\\u0442\\u0440\\u0430\\u0446\\u0438\\u044f\",\"\\u0414\\u043e\\u0431\\u0430\\u0432\\u043b\\u0435\\u043d\\u0438\\u0435 \\u043f\\u0435\\u0440\\u0432\\u043e\\u0433\\u043e \\u0431\\u043b\\u043e\\u043a\\u0430\",\"\\u041f\\u043e\\u043f\\u044b\\u0442\\u043a\\u0430 \\u043e\\u043f\\u043b\\u0430\\u0442\\u044b\",\"\\u041f\\u043e\\u043a\\u0443\\u043f\\u043a\\u0430 \\u043f\\u043b\\u0430\\u0442\\u043d\\u043e\\u0433\\u043e \\u0442\\u0430\\u0440\\u0438\\u0444\\u0430\"],\"yaxis\":\"y\",\"type\":\"funnel\"},{\"hovertemplate\":\"utm_campaign=cid|13824308616|0721|google|cpc|eu|teplye_2|sozdat_landing<br>count=%{x}<br>event=%{y}<extra></extra>\",\"legendgroup\":\"cid|13824308616|0721|google|cpc|eu|teplye_2|sozdat_landing\",\"marker\":{\"color\":\"#EF553B\"},\"name\":\"cid|13824308616|0721|google|cpc|eu|teplye_2|sozdat_landing\",\"orientation\":\"h\",\"showlegend\":true,\"x\":[2,0,0,0,0],\"xaxis\":\"x\",\"y\":[\"\\u041f\\u0435\\u0440\\u0435\\u0445\\u043e\\u0434 \\u043d\\u0430 \\u043b\\u044d\\u043d\\u0434\\u0438\\u043d\\u0433\",\"\\u0420\\u0435\\u0433\\u0438\\u0441\\u0442\\u0440\\u0430\\u0446\\u0438\\u044f\",\"\\u0414\\u043e\\u0431\\u0430\\u0432\\u043b\\u0435\\u043d\\u0438\\u0435 \\u043f\\u0435\\u0440\\u0432\\u043e\\u0433\\u043e \\u0431\\u043b\\u043e\\u043a\\u0430\",\"\\u041f\\u043e\\u043f\\u044b\\u0442\\u043a\\u0430 \\u043e\\u043f\\u043b\\u0430\\u0442\\u044b\",\"\\u041f\\u043e\\u043a\\u0443\\u043f\\u043a\\u0430 \\u043f\\u043b\\u0430\\u0442\\u043d\\u043e\\u0433\\u043e \\u0442\\u0430\\u0440\\u0438\\u0444\\u0430\"],\"yaxis\":\"y\",\"type\":\"funnel\"},{\"hovertemplate\":\"utm_campaign=cid|16778058435|0721|google|cpc|ru|teplye_2|samostoyatelno<br>count=%{x}<br>event=%{y}<extra></extra>\",\"legendgroup\":\"cid|16778058435|0721|google|cpc|ru|teplye_2|samostoyatelno\",\"marker\":{\"color\":\"#00cc96\"},\"name\":\"cid|16778058435|0721|google|cpc|ru|teplye_2|samostoyatelno\",\"orientation\":\"h\",\"showlegend\":true,\"x\":[2,0,0,0,0],\"xaxis\":\"x\",\"y\":[\"\\u041f\\u0435\\u0440\\u0435\\u0445\\u043e\\u0434 \\u043d\\u0430 \\u043b\\u044d\\u043d\\u0434\\u0438\\u043d\\u0433\",\"\\u0420\\u0435\\u0433\\u0438\\u0441\\u0442\\u0440\\u0430\\u0446\\u0438\\u044f\",\"\\u0414\\u043e\\u0431\\u0430\\u0432\\u043b\\u0435\\u043d\\u0438\\u0435 \\u043f\\u0435\\u0440\\u0432\\u043e\\u0433\\u043e \\u0431\\u043b\\u043e\\u043a\\u0430\",\"\\u041f\\u043e\\u043f\\u044b\\u0442\\u043a\\u0430 \\u043e\\u043f\\u043b\\u0430\\u0442\\u044b\",\"\\u041f\\u043e\\u043a\\u0443\\u043f\\u043a\\u0430 \\u043f\\u043b\\u0430\\u0442\\u043d\\u043e\\u0433\\u043e \\u0442\\u0430\\u0440\\u0438\\u0444\\u0430\"],\"yaxis\":\"y\",\"type\":\"funnel\"},{\"hovertemplate\":\"utm_campaign=cid|16778058435|0721|google|cpc|ru|teplye_2|sdelat_landing<br>count=%{x}<br>event=%{y}<extra></extra>\",\"legendgroup\":\"cid|16778058435|0721|google|cpc|ru|teplye_2|sdelat_landing\",\"marker\":{\"color\":\"#ab63fa\"},\"name\":\"cid|16778058435|0721|google|cpc|ru|teplye_2|sdelat_landing\",\"orientation\":\"h\",\"showlegend\":true,\"x\":[2,0,0,0,0],\"xaxis\":\"x\",\"y\":[\"\\u041f\\u0435\\u0440\\u0435\\u0445\\u043e\\u0434 \\u043d\\u0430 \\u043b\\u044d\\u043d\\u0434\\u0438\\u043d\\u0433\",\"\\u0420\\u0435\\u0433\\u0438\\u0441\\u0442\\u0440\\u0430\\u0446\\u0438\\u044f\",\"\\u0414\\u043e\\u0431\\u0430\\u0432\\u043b\\u0435\\u043d\\u0438\\u0435 \\u043f\\u0435\\u0440\\u0432\\u043e\\u0433\\u043e \\u0431\\u043b\\u043e\\u043a\\u0430\",\"\\u041f\\u043e\\u043f\\u044b\\u0442\\u043a\\u0430 \\u043e\\u043f\\u043b\\u0430\\u0442\\u044b\",\"\\u041f\\u043e\\u043a\\u0443\\u043f\\u043a\\u0430 \\u043f\\u043b\\u0430\\u0442\\u043d\\u043e\\u0433\\u043e \\u0442\\u0430\\u0440\\u0438\\u0444\\u0430\"],\"yaxis\":\"y\",\"type\":\"funnel\"},{\"hovertemplate\":\"utm_campaign=cid|16778058423|0721|google|cpc|eu|teplye_2|samostoyatelno<br>count=%{x}<br>event=%{y}<extra></extra>\",\"legendgroup\":\"cid|16778058423|0721|google|cpc|eu|teplye_2|samostoyatelno\",\"marker\":{\"color\":\"#FFA15A\"},\"name\":\"cid|16778058423|0721|google|cpc|eu|teplye_2|samostoyatelno\",\"orientation\":\"h\",\"showlegend\":true,\"x\":[3,0,0,0,0],\"xaxis\":\"x\",\"y\":[\"\\u041f\\u0435\\u0440\\u0435\\u0445\\u043e\\u0434 \\u043d\\u0430 \\u043b\\u044d\\u043d\\u0434\\u0438\\u043d\\u0433\",\"\\u0420\\u0435\\u0433\\u0438\\u0441\\u0442\\u0440\\u0430\\u0446\\u0438\\u044f\",\"\\u0414\\u043e\\u0431\\u0430\\u0432\\u043b\\u0435\\u043d\\u0438\\u0435 \\u043f\\u0435\\u0440\\u0432\\u043e\\u0433\\u043e \\u0431\\u043b\\u043e\\u043a\\u0430\",\"\\u041f\\u043e\\u043f\\u044b\\u0442\\u043a\\u0430 \\u043e\\u043f\\u043b\\u0430\\u0442\\u044b\",\"\\u041f\\u043e\\u043a\\u0443\\u043f\\u043a\\u0430 \\u043f\\u043b\\u0430\\u0442\\u043d\\u043e\\u0433\\u043e \\u0442\\u0430\\u0440\\u0438\\u0444\\u0430\"],\"yaxis\":\"y\",\"type\":\"funnel\"},{\"hovertemplate\":\"utm_campaign=cid|16778058423|0721|google|cpc|eu|teplye_2|sozdat_landing<br>count=%{x}<br>event=%{y}<extra></extra>\",\"legendgroup\":\"cid|16778058423|0721|google|cpc|eu|teplye_2|sozdat_landing\",\"marker\":{\"color\":\"#19d3f3\"},\"name\":\"cid|16778058423|0721|google|cpc|eu|teplye_2|sozdat_landing\",\"orientation\":\"h\",\"showlegend\":true,\"x\":[2,0,0,0,0],\"xaxis\":\"x\",\"y\":[\"\\u041f\\u0435\\u0440\\u0435\\u0445\\u043e\\u0434 \\u043d\\u0430 \\u043b\\u044d\\u043d\\u0434\\u0438\\u043d\\u0433\",\"\\u0420\\u0435\\u0433\\u0438\\u0441\\u0442\\u0440\\u0430\\u0446\\u0438\\u044f\",\"\\u0414\\u043e\\u0431\\u0430\\u0432\\u043b\\u0435\\u043d\\u0438\\u0435 \\u043f\\u0435\\u0440\\u0432\\u043e\\u0433\\u043e \\u0431\\u043b\\u043e\\u043a\\u0430\",\"\\u041f\\u043e\\u043f\\u044b\\u0442\\u043a\\u0430 \\u043e\\u043f\\u043b\\u0430\\u0442\\u044b\",\"\\u041f\\u043e\\u043a\\u0443\\u043f\\u043a\\u0430 \\u043f\\u043b\\u0430\\u0442\\u043d\\u043e\\u0433\\u043e \\u0442\\u0430\\u0440\\u0438\\u0444\\u0430\"],\"yaxis\":\"y\",\"type\":\"funnel\"},{\"hovertemplate\":\"utm_campaign=cid|16791042698|0521|google|cpc|ru|competitors|taplink|cena<br>count=%{x}<br>event=%{y}<extra></extra>\",\"legendgroup\":\"cid|16791042698|0521|google|cpc|ru|competitors|taplink|cena\",\"marker\":{\"color\":\"#FF6692\"},\"name\":\"cid|16791042698|0521|google|cpc|ru|competitors|taplink|cena\",\"orientation\":\"h\",\"showlegend\":true,\"x\":[2,0,0,0,0],\"xaxis\":\"x\",\"y\":[\"\\u041f\\u0435\\u0440\\u0435\\u0445\\u043e\\u0434 \\u043d\\u0430 \\u043b\\u044d\\u043d\\u0434\\u0438\\u043d\\u0433\",\"\\u0420\\u0435\\u0433\\u0438\\u0441\\u0442\\u0440\\u0430\\u0446\\u0438\\u044f\",\"\\u0414\\u043e\\u0431\\u0430\\u0432\\u043b\\u0435\\u043d\\u0438\\u0435 \\u043f\\u0435\\u0440\\u0432\\u043e\\u0433\\u043e \\u0431\\u043b\\u043e\\u043a\\u0430\",\"\\u041f\\u043e\\u043f\\u044b\\u0442\\u043a\\u0430 \\u043e\\u043f\\u043b\\u0430\\u0442\\u044b\",\"\\u041f\\u043e\\u043a\\u0443\\u043f\\u043a\\u0430 \\u043f\\u043b\\u0430\\u0442\\u043d\\u043e\\u0433\\u043e \\u0442\\u0430\\u0440\\u0438\\u0444\\u0430\"],\"yaxis\":\"y\",\"type\":\"funnel\"},{\"hovertemplate\":\"utm_campaign=cid|16791042698|0521|google|cpc|ru|competitors|taplink|sdelat<br>count=%{x}<br>event=%{y}<extra></extra>\",\"legendgroup\":\"cid|16791042698|0521|google|cpc|ru|competitors|taplink|sdelat\",\"marker\":{\"color\":\"#B6E880\"},\"name\":\"cid|16791042698|0521|google|cpc|ru|competitors|taplink|sdelat\",\"orientation\":\"h\",\"showlegend\":true,\"x\":[1,0,0,0,0],\"xaxis\":\"x\",\"y\":[\"\\u041f\\u0435\\u0440\\u0435\\u0445\\u043e\\u0434 \\u043d\\u0430 \\u043b\\u044d\\u043d\\u0434\\u0438\\u043d\\u0433\",\"\\u0420\\u0435\\u0433\\u0438\\u0441\\u0442\\u0440\\u0430\\u0446\\u0438\\u044f\",\"\\u0414\\u043e\\u0431\\u0430\\u0432\\u043b\\u0435\\u043d\\u0438\\u0435 \\u043f\\u0435\\u0440\\u0432\\u043e\\u0433\\u043e \\u0431\\u043b\\u043e\\u043a\\u0430\",\"\\u041f\\u043e\\u043f\\u044b\\u0442\\u043a\\u0430 \\u043e\\u043f\\u043b\\u0430\\u0442\\u044b\",\"\\u041f\\u043e\\u043a\\u0443\\u043f\\u043a\\u0430 \\u043f\\u043b\\u0430\\u0442\\u043d\\u043e\\u0433\\u043e \\u0442\\u0430\\u0440\\u0438\\u0444\\u0430\"],\"yaxis\":\"y\",\"type\":\"funnel\"},{\"hovertemplate\":\"utm_campaign=cid|16782869743|0521|google|cpc|eu|competitors|taplink|sozdat<br>count=%{x}<br>event=%{y}<extra></extra>\",\"legendgroup\":\"cid|16782869743|0521|google|cpc|eu|competitors|taplink|sozdat\",\"marker\":{\"color\":\"#FF97FF\"},\"name\":\"cid|16782869743|0521|google|cpc|eu|competitors|taplink|sozdat\",\"orientation\":\"h\",\"showlegend\":true,\"x\":[1,0,0,0,0],\"xaxis\":\"x\",\"y\":[\"\\u041f\\u0435\\u0440\\u0435\\u0445\\u043e\\u0434 \\u043d\\u0430 \\u043b\\u044d\\u043d\\u0434\\u0438\\u043d\\u0433\",\"\\u0420\\u0435\\u0433\\u0438\\u0441\\u0442\\u0440\\u0430\\u0446\\u0438\\u044f\",\"\\u0414\\u043e\\u0431\\u0430\\u0432\\u043b\\u0435\\u043d\\u0438\\u0435 \\u043f\\u0435\\u0440\\u0432\\u043e\\u0433\\u043e \\u0431\\u043b\\u043e\\u043a\\u0430\",\"\\u041f\\u043e\\u043f\\u044b\\u0442\\u043a\\u0430 \\u043e\\u043f\\u043b\\u0430\\u0442\\u044b\",\"\\u041f\\u043e\\u043a\\u0443\\u043f\\u043a\\u0430 \\u043f\\u043b\\u0430\\u0442\\u043d\\u043e\\u0433\\u043e \\u0442\\u0430\\u0440\\u0438\\u0444\\u0430\"],\"yaxis\":\"y\",\"type\":\"funnel\"},{\"hovertemplate\":\"utm_campaign=cid|16782869743|0521|google|cpc|eu|competitors|taplink|sdelat<br>count=%{x}<br>event=%{y}<extra></extra>\",\"legendgroup\":\"cid|16782869743|0521|google|cpc|eu|competitors|taplink|sdelat\",\"marker\":{\"color\":\"#FECB52\"},\"name\":\"cid|16782869743|0521|google|cpc|eu|competitors|taplink|sdelat\",\"orientation\":\"h\",\"showlegend\":true,\"x\":[1,0,0,0,0],\"xaxis\":\"x\",\"y\":[\"\\u041f\\u0435\\u0440\\u0435\\u0445\\u043e\\u0434 \\u043d\\u0430 \\u043b\\u044d\\u043d\\u0434\\u0438\\u043d\\u0433\",\"\\u0420\\u0435\\u0433\\u0438\\u0441\\u0442\\u0440\\u0430\\u0446\\u0438\\u044f\",\"\\u0414\\u043e\\u0431\\u0430\\u0432\\u043b\\u0435\\u043d\\u0438\\u0435 \\u043f\\u0435\\u0440\\u0432\\u043e\\u0433\\u043e \\u0431\\u043b\\u043e\\u043a\\u0430\",\"\\u041f\\u043e\\u043f\\u044b\\u0442\\u043a\\u0430 \\u043e\\u043f\\u043b\\u0430\\u0442\\u044b\",\"\\u041f\\u043e\\u043a\\u0443\\u043f\\u043a\\u0430 \\u043f\\u043b\\u0430\\u0442\\u043d\\u043e\\u0433\\u043e \\u0442\\u0430\\u0440\\u0438\\u0444\\u0430\"],\"yaxis\":\"y\",\"type\":\"funnel\"},{\"hovertemplate\":\"utm_campaign=cid|16791042698|0521|google|cpc|ru|competitors|taplink|for_social<br>count=%{x}<br>event=%{y}<extra></extra>\",\"legendgroup\":\"cid|16791042698|0521|google|cpc|ru|competitors|taplink|for_social\",\"marker\":{\"color\":\"#636efa\"},\"name\":\"cid|16791042698|0521|google|cpc|ru|competitors|taplink|for_social\",\"orientation\":\"h\",\"showlegend\":true,\"x\":[2,0,0,0,0],\"xaxis\":\"x\",\"y\":[\"\\u041f\\u0435\\u0440\\u0435\\u0445\\u043e\\u0434 \\u043d\\u0430 \\u043b\\u044d\\u043d\\u0434\\u0438\\u043d\\u0433\",\"\\u0420\\u0435\\u0433\\u0438\\u0441\\u0442\\u0440\\u0430\\u0446\\u0438\\u044f\",\"\\u0414\\u043e\\u0431\\u0430\\u0432\\u043b\\u0435\\u043d\\u0438\\u0435 \\u043f\\u0435\\u0440\\u0432\\u043e\\u0433\\u043e \\u0431\\u043b\\u043e\\u043a\\u0430\",\"\\u041f\\u043e\\u043f\\u044b\\u0442\\u043a\\u0430 \\u043e\\u043f\\u043b\\u0430\\u0442\\u044b\",\"\\u041f\\u043e\\u043a\\u0443\\u043f\\u043a\\u0430 \\u043f\\u043b\\u0430\\u0442\\u043d\\u043e\\u0433\\u043e \\u0442\\u0430\\u0440\\u0438\\u0444\\u0430\"],\"yaxis\":\"y\",\"type\":\"funnel\"},{\"hovertemplate\":\"utm_campaign=cid|16782869743|0521|google|cpc|eu|competitors|taplink|for_social<br>count=%{x}<br>event=%{y}<extra></extra>\",\"legendgroup\":\"cid|16782869743|0521|google|cpc|eu|competitors|taplink|for_social\",\"marker\":{\"color\":\"#EF553B\"},\"name\":\"cid|16782869743|0521|google|cpc|eu|competitors|taplink|for_social\",\"orientation\":\"h\",\"showlegend\":true,\"x\":[2,0,0,0,0],\"xaxis\":\"x\",\"y\":[\"\\u041f\\u0435\\u0440\\u0435\\u0445\\u043e\\u0434 \\u043d\\u0430 \\u043b\\u044d\\u043d\\u0434\\u0438\\u043d\\u0433\",\"\\u0420\\u0435\\u0433\\u0438\\u0441\\u0442\\u0440\\u0430\\u0446\\u0438\\u044f\",\"\\u0414\\u043e\\u0431\\u0430\\u0432\\u043b\\u0435\\u043d\\u0438\\u0435 \\u043f\\u0435\\u0440\\u0432\\u043e\\u0433\\u043e \\u0431\\u043b\\u043e\\u043a\\u0430\",\"\\u041f\\u043e\\u043f\\u044b\\u0442\\u043a\\u0430 \\u043e\\u043f\\u043b\\u0430\\u0442\\u044b\",\"\\u041f\\u043e\\u043a\\u0443\\u043f\\u043a\\u0430 \\u043f\\u043b\\u0430\\u0442\\u043d\\u043e\\u0433\\u043e \\u0442\\u0430\\u0440\\u0438\\u0444\\u0430\"],\"yaxis\":\"y\",\"type\":\"funnel\"},{\"hovertemplate\":\"utm_campaign=cid|16791042677|0521|google|cpc|ru|tranzak|analog<br>count=%{x}<br>event=%{y}<extra></extra>\",\"legendgroup\":\"cid|16791042677|0521|google|cpc|ru|tranzak|analog\",\"marker\":{\"color\":\"#00cc96\"},\"name\":\"cid|16791042677|0521|google|cpc|ru|tranzak|analog\",\"orientation\":\"h\",\"showlegend\":true,\"x\":[1,0,0,0,0],\"xaxis\":\"x\",\"y\":[\"\\u041f\\u0435\\u0440\\u0435\\u0445\\u043e\\u0434 \\u043d\\u0430 \\u043b\\u044d\\u043d\\u0434\\u0438\\u043d\\u0433\",\"\\u0420\\u0435\\u0433\\u0438\\u0441\\u0442\\u0440\\u0430\\u0446\\u0438\\u044f\",\"\\u0414\\u043e\\u0431\\u0430\\u0432\\u043b\\u0435\\u043d\\u0438\\u0435 \\u043f\\u0435\\u0440\\u0432\\u043e\\u0433\\u043e \\u0431\\u043b\\u043e\\u043a\\u0430\",\"\\u041f\\u043e\\u043f\\u044b\\u0442\\u043a\\u0430 \\u043e\\u043f\\u043b\\u0430\\u0442\\u044b\",\"\\u041f\\u043e\\u043a\\u0443\\u043f\\u043a\\u0430 \\u043f\\u043b\\u0430\\u0442\\u043d\\u043e\\u0433\\u043e \\u0442\\u0430\\u0440\\u0438\\u0444\\u0430\"],\"yaxis\":\"y\",\"type\":\"funnel\"},{\"hovertemplate\":\"utm_campaign=cid|16782870160|0521|google|cpc|ru|teplye|miniland<br>count=%{x}<br>event=%{y}<extra></extra>\",\"legendgroup\":\"cid|16782870160|0521|google|cpc|ru|teplye|miniland\",\"marker\":{\"color\":\"#ab63fa\"},\"name\":\"cid|16782870160|0521|google|cpc|ru|teplye|miniland\",\"orientation\":\"h\",\"showlegend\":true,\"x\":[1,0,0,0,0],\"xaxis\":\"x\",\"y\":[\"\\u041f\\u0435\\u0440\\u0435\\u0445\\u043e\\u0434 \\u043d\\u0430 \\u043b\\u044d\\u043d\\u0434\\u0438\\u043d\\u0433\",\"\\u0420\\u0435\\u0433\\u0438\\u0441\\u0442\\u0440\\u0430\\u0446\\u0438\\u044f\",\"\\u0414\\u043e\\u0431\\u0430\\u0432\\u043b\\u0435\\u043d\\u0438\\u0435 \\u043f\\u0435\\u0440\\u0432\\u043e\\u0433\\u043e \\u0431\\u043b\\u043e\\u043a\\u0430\",\"\\u041f\\u043e\\u043f\\u044b\\u0442\\u043a\\u0430 \\u043e\\u043f\\u043b\\u0430\\u0442\\u044b\",\"\\u041f\\u043e\\u043a\\u0443\\u043f\\u043a\\u0430 \\u043f\\u043b\\u0430\\u0442\\u043d\\u043e\\u0433\\u043e \\u0442\\u0430\\u0440\\u0438\\u0444\\u0430\"],\"yaxis\":\"y\",\"type\":\"funnel\"},{\"hovertemplate\":\"utm_campaign=cid|16791042698|0521|google|cpc|ru|competitors|mssg<br>count=%{x}<br>event=%{y}<extra></extra>\",\"legendgroup\":\"cid|16791042698|0521|google|cpc|ru|competitors|mssg\",\"marker\":{\"color\":\"#FFA15A\"},\"name\":\"cid|16791042698|0521|google|cpc|ru|competitors|mssg\",\"orientation\":\"h\",\"showlegend\":true,\"x\":[2,0,0,0,0],\"xaxis\":\"x\",\"y\":[\"\\u041f\\u0435\\u0440\\u0435\\u0445\\u043e\\u0434 \\u043d\\u0430 \\u043b\\u044d\\u043d\\u0434\\u0438\\u043d\\u0433\",\"\\u0420\\u0435\\u0433\\u0438\\u0441\\u0442\\u0440\\u0430\\u0446\\u0438\\u044f\",\"\\u0414\\u043e\\u0431\\u0430\\u0432\\u043b\\u0435\\u043d\\u0438\\u0435 \\u043f\\u0435\\u0440\\u0432\\u043e\\u0433\\u043e \\u0431\\u043b\\u043e\\u043a\\u0430\",\"\\u041f\\u043e\\u043f\\u044b\\u0442\\u043a\\u0430 \\u043e\\u043f\\u043b\\u0430\\u0442\\u044b\",\"\\u041f\\u043e\\u043a\\u0443\\u043f\\u043a\\u0430 \\u043f\\u043b\\u0430\\u0442\\u043d\\u043e\\u0433\\u043e \\u0442\\u0430\\u0440\\u0438\\u0444\\u0430\"],\"yaxis\":\"y\",\"type\":\"funnel\"},{\"hovertemplate\":\"utm_campaign=cid|16778058612|0521|google|cpc|eu|teplye|mikroland<br>count=%{x}<br>event=%{y}<extra></extra>\",\"legendgroup\":\"cid|16778058612|0521|google|cpc|eu|teplye|mikroland\",\"marker\":{\"color\":\"#19d3f3\"},\"name\":\"cid|16778058612|0521|google|cpc|eu|teplye|mikroland\",\"orientation\":\"h\",\"showlegend\":true,\"x\":[1,0,0,0,0],\"xaxis\":\"x\",\"y\":[\"\\u041f\\u0435\\u0440\\u0435\\u0445\\u043e\\u0434 \\u043d\\u0430 \\u043b\\u044d\\u043d\\u0434\\u0438\\u043d\\u0433\",\"\\u0420\\u0435\\u0433\\u0438\\u0441\\u0442\\u0440\\u0430\\u0446\\u0438\\u044f\",\"\\u0414\\u043e\\u0431\\u0430\\u0432\\u043b\\u0435\\u043d\\u0438\\u0435 \\u043f\\u0435\\u0440\\u0432\\u043e\\u0433\\u043e \\u0431\\u043b\\u043e\\u043a\\u0430\",\"\\u041f\\u043e\\u043f\\u044b\\u0442\\u043a\\u0430 \\u043e\\u043f\\u043b\\u0430\\u0442\\u044b\",\"\\u041f\\u043e\\u043a\\u0443\\u043f\\u043a\\u0430 \\u043f\\u043b\\u0430\\u0442\\u043d\\u043e\\u0433\\u043e \\u0442\\u0430\\u0440\\u0438\\u0444\\u0430\"],\"yaxis\":\"y\",\"type\":\"funnel\"},{\"hovertemplate\":\"utm_campaign=cid|16782869743|0521|google|cpc|eu|competitors|mssg<br>count=%{x}<br>event=%{y}<extra></extra>\",\"legendgroup\":\"cid|16782869743|0521|google|cpc|eu|competitors|mssg\",\"marker\":{\"color\":\"#FF6692\"},\"name\":\"cid|16782869743|0521|google|cpc|eu|competitors|mssg\",\"orientation\":\"h\",\"showlegend\":true,\"x\":[1,0,0,0,0],\"xaxis\":\"x\",\"y\":[\"\\u041f\\u0435\\u0440\\u0435\\u0445\\u043e\\u0434 \\u043d\\u0430 \\u043b\\u044d\\u043d\\u0434\\u0438\\u043d\\u0433\",\"\\u0420\\u0435\\u0433\\u0438\\u0441\\u0442\\u0440\\u0430\\u0446\\u0438\\u044f\",\"\\u0414\\u043e\\u0431\\u0430\\u0432\\u043b\\u0435\\u043d\\u0438\\u0435 \\u043f\\u0435\\u0440\\u0432\\u043e\\u0433\\u043e \\u0431\\u043b\\u043e\\u043a\\u0430\",\"\\u041f\\u043e\\u043f\\u044b\\u0442\\u043a\\u0430 \\u043e\\u043f\\u043b\\u0430\\u0442\\u044b\",\"\\u041f\\u043e\\u043a\\u0443\\u043f\\u043a\\u0430 \\u043f\\u043b\\u0430\\u0442\\u043d\\u043e\\u0433\\u043e \\u0442\\u0430\\u0440\\u0438\\u0444\\u0430\"],\"yaxis\":\"y\",\"type\":\"funnel\"},{\"hovertemplate\":\"utm_campaign=cid|16782870160|0521|google|cpc|ru|teplye|multissylka<br>count=%{x}<br>event=%{y}<extra></extra>\",\"legendgroup\":\"cid|16782870160|0521|google|cpc|ru|teplye|multissylka\",\"marker\":{\"color\":\"#B6E880\"},\"name\":\"cid|16782870160|0521|google|cpc|ru|teplye|multissylka\",\"orientation\":\"h\",\"showlegend\":true,\"x\":[2,0,0,0,0],\"xaxis\":\"x\",\"y\":[\"\\u041f\\u0435\\u0440\\u0435\\u0445\\u043e\\u0434 \\u043d\\u0430 \\u043b\\u044d\\u043d\\u0434\\u0438\\u043d\\u0433\",\"\\u0420\\u0435\\u0433\\u0438\\u0441\\u0442\\u0440\\u0430\\u0446\\u0438\\u044f\",\"\\u0414\\u043e\\u0431\\u0430\\u0432\\u043b\\u0435\\u043d\\u0438\\u0435 \\u043f\\u0435\\u0440\\u0432\\u043e\\u0433\\u043e \\u0431\\u043b\\u043e\\u043a\\u0430\",\"\\u041f\\u043e\\u043f\\u044b\\u0442\\u043a\\u0430 \\u043e\\u043f\\u043b\\u0430\\u0442\\u044b\",\"\\u041f\\u043e\\u043a\\u0443\\u043f\\u043a\\u0430 \\u043f\\u043b\\u0430\\u0442\\u043d\\u043e\\u0433\\u043e \\u0442\\u0430\\u0440\\u0438\\u0444\\u0430\"],\"yaxis\":\"y\",\"type\":\"funnel\"},{\"hovertemplate\":\"utm_campaign=cid|16778058612|0521|google|cpc|eu|teplye|multissylka<br>count=%{x}<br>event=%{y}<extra></extra>\",\"legendgroup\":\"cid|16778058612|0521|google|cpc|eu|teplye|multissylka\",\"marker\":{\"color\":\"#FF97FF\"},\"name\":\"cid|16778058612|0521|google|cpc|eu|teplye|multissylka\",\"orientation\":\"h\",\"showlegend\":true,\"x\":[2,0,0,0,0],\"xaxis\":\"x\",\"y\":[\"\\u041f\\u0435\\u0440\\u0435\\u0445\\u043e\\u0434 \\u043d\\u0430 \\u043b\\u044d\\u043d\\u0434\\u0438\\u043d\\u0433\",\"\\u0420\\u0435\\u0433\\u0438\\u0441\\u0442\\u0440\\u0430\\u0446\\u0438\\u044f\",\"\\u0414\\u043e\\u0431\\u0430\\u0432\\u043b\\u0435\\u043d\\u0438\\u0435 \\u043f\\u0435\\u0440\\u0432\\u043e\\u0433\\u043e \\u0431\\u043b\\u043e\\u043a\\u0430\",\"\\u041f\\u043e\\u043f\\u044b\\u0442\\u043a\\u0430 \\u043e\\u043f\\u043b\\u0430\\u0442\\u044b\",\"\\u041f\\u043e\\u043a\\u0443\\u043f\\u043a\\u0430 \\u043f\\u043b\\u0430\\u0442\\u043d\\u043e\\u0433\\u043e \\u0442\\u0430\\u0440\\u0438\\u0444\\u0430\"],\"yaxis\":\"y\",\"type\":\"funnel\"},{\"hovertemplate\":\"utm_campaign=cid|16778058423|0721|google|cpc|eu|teplye_2|poshagovo<br>count=%{x}<br>event=%{y}<extra></extra>\",\"legendgroup\":\"cid|16778058423|0721|google|cpc|eu|teplye_2|poshagovo\",\"marker\":{\"color\":\"#FECB52\"},\"name\":\"cid|16778058423|0721|google|cpc|eu|teplye_2|poshagovo\",\"orientation\":\"h\",\"showlegend\":true,\"x\":[1,0,0,0,0],\"xaxis\":\"x\",\"y\":[\"\\u041f\\u0435\\u0440\\u0435\\u0445\\u043e\\u0434 \\u043d\\u0430 \\u043b\\u044d\\u043d\\u0434\\u0438\\u043d\\u0433\",\"\\u0420\\u0435\\u0433\\u0438\\u0441\\u0442\\u0440\\u0430\\u0446\\u0438\\u044f\",\"\\u0414\\u043e\\u0431\\u0430\\u0432\\u043b\\u0435\\u043d\\u0438\\u0435 \\u043f\\u0435\\u0440\\u0432\\u043e\\u0433\\u043e \\u0431\\u043b\\u043e\\u043a\\u0430\",\"\\u041f\\u043e\\u043f\\u044b\\u0442\\u043a\\u0430 \\u043e\\u043f\\u043b\\u0430\\u0442\\u044b\",\"\\u041f\\u043e\\u043a\\u0443\\u043f\\u043a\\u0430 \\u043f\\u043b\\u0430\\u0442\\u043d\\u043e\\u0433\\u043e \\u0442\\u0430\\u0440\\u0438\\u0444\\u0430\"],\"yaxis\":\"y\",\"type\":\"funnel\"},{\"hovertemplate\":\"utm_campaign=cid|16778058435|0721|google|cpc|ru|teplye_2|instrukciya<br>count=%{x}<br>event=%{y}<extra></extra>\",\"legendgroup\":\"cid|16778058435|0721|google|cpc|ru|teplye_2|instrukciya\",\"marker\":{\"color\":\"#636efa\"},\"name\":\"cid|16778058435|0721|google|cpc|ru|teplye_2|instrukciya\",\"orientation\":\"h\",\"showlegend\":true,\"x\":[1,0,0,0,0],\"xaxis\":\"x\",\"y\":[\"\\u041f\\u0435\\u0440\\u0435\\u0445\\u043e\\u0434 \\u043d\\u0430 \\u043b\\u044d\\u043d\\u0434\\u0438\\u043d\\u0433\",\"\\u0420\\u0435\\u0433\\u0438\\u0441\\u0442\\u0440\\u0430\\u0446\\u0438\\u044f\",\"\\u0414\\u043e\\u0431\\u0430\\u0432\\u043b\\u0435\\u043d\\u0438\\u0435 \\u043f\\u0435\\u0440\\u0432\\u043e\\u0433\\u043e \\u0431\\u043b\\u043e\\u043a\\u0430\",\"\\u041f\\u043e\\u043f\\u044b\\u0442\\u043a\\u0430 \\u043e\\u043f\\u043b\\u0430\\u0442\\u044b\",\"\\u041f\\u043e\\u043a\\u0443\\u043f\\u043a\\u0430 \\u043f\\u043b\\u0430\\u0442\\u043d\\u043e\\u0433\\u043e \\u0442\\u0430\\u0440\\u0438\\u0444\\u0430\"],\"yaxis\":\"y\",\"type\":\"funnel\"},{\"hovertemplate\":\"utm_campaign=cid|16791043376|0521|google|cpc|eu|tranzak|besplatno|sch<br>count=%{x}<br>event=%{y}<extra></extra>\",\"legendgroup\":\"cid|16791043376|0521|google|cpc|eu|tranzak|besplatno|sch\",\"marker\":{\"color\":\"#EF553B\"},\"name\":\"cid|16791043376|0521|google|cpc|eu|tranzak|besplatno|sch\",\"orientation\":\"h\",\"showlegend\":true,\"x\":[2,0,0,0,0],\"xaxis\":\"x\",\"y\":[\"\\u041f\\u0435\\u0440\\u0435\\u0445\\u043e\\u0434 \\u043d\\u0430 \\u043b\\u044d\\u043d\\u0434\\u0438\\u043d\\u0433\",\"\\u0420\\u0435\\u0433\\u0438\\u0441\\u0442\\u0440\\u0430\\u0446\\u0438\\u044f\",\"\\u0414\\u043e\\u0431\\u0430\\u0432\\u043b\\u0435\\u043d\\u0438\\u0435 \\u043f\\u0435\\u0440\\u0432\\u043e\\u0433\\u043e \\u0431\\u043b\\u043e\\u043a\\u0430\",\"\\u041f\\u043e\\u043f\\u044b\\u0442\\u043a\\u0430 \\u043e\\u043f\\u043b\\u0430\\u0442\\u044b\",\"\\u041f\\u043e\\u043a\\u0443\\u043f\\u043a\\u0430 \\u043f\\u043b\\u0430\\u0442\\u043d\\u043e\\u0433\\u043e \\u0442\\u0430\\u0440\\u0438\\u0444\\u0430\"],\"yaxis\":\"y\",\"type\":\"funnel\"},{\"hovertemplate\":\"utm_campaign=cid|16791043376|0521|google|cpc|eu|tranzak|besplatno|nch<br>count=%{x}<br>event=%{y}<extra></extra>\",\"legendgroup\":\"cid|16791043376|0521|google|cpc|eu|tranzak|besplatno|nch\",\"marker\":{\"color\":\"#00cc96\"},\"name\":\"cid|16791043376|0521|google|cpc|eu|tranzak|besplatno|nch\",\"orientation\":\"h\",\"showlegend\":true,\"x\":[2,0,0,0,0],\"xaxis\":\"x\",\"y\":[\"\\u041f\\u0435\\u0440\\u0435\\u0445\\u043e\\u0434 \\u043d\\u0430 \\u043b\\u044d\\u043d\\u0434\\u0438\\u043d\\u0433\",\"\\u0420\\u0435\\u0433\\u0438\\u0441\\u0442\\u0440\\u0430\\u0446\\u0438\\u044f\",\"\\u0414\\u043e\\u0431\\u0430\\u0432\\u043b\\u0435\\u043d\\u0438\\u0435 \\u043f\\u0435\\u0440\\u0432\\u043e\\u0433\\u043e \\u0431\\u043b\\u043e\\u043a\\u0430\",\"\\u041f\\u043e\\u043f\\u044b\\u0442\\u043a\\u0430 \\u043e\\u043f\\u043b\\u0430\\u0442\\u044b\",\"\\u041f\\u043e\\u043a\\u0443\\u043f\\u043a\\u0430 \\u043f\\u043b\\u0430\\u0442\\u043d\\u043e\\u0433\\u043e \\u0442\\u0430\\u0440\\u0438\\u0444\\u0430\"],\"yaxis\":\"y\",\"type\":\"funnel\"},{\"hovertemplate\":\"utm_campaign=cid|16791042677|0521|google|cpc|ru|tranzak|samostoyatelno<br>count=%{x}<br>event=%{y}<extra></extra>\",\"legendgroup\":\"cid|16791042677|0521|google|cpc|ru|tranzak|samostoyatelno\",\"marker\":{\"color\":\"#ab63fa\"},\"name\":\"cid|16791042677|0521|google|cpc|ru|tranzak|samostoyatelno\",\"orientation\":\"h\",\"showlegend\":true,\"x\":[3,0,0,0,0],\"xaxis\":\"x\",\"y\":[\"\\u041f\\u0435\\u0440\\u0435\\u0445\\u043e\\u0434 \\u043d\\u0430 \\u043b\\u044d\\u043d\\u0434\\u0438\\u043d\\u0433\",\"\\u0420\\u0435\\u0433\\u0438\\u0441\\u0442\\u0440\\u0430\\u0446\\u0438\\u044f\",\"\\u0414\\u043e\\u0431\\u0430\\u0432\\u043b\\u0435\\u043d\\u0438\\u0435 \\u043f\\u0435\\u0440\\u0432\\u043e\\u0433\\u043e \\u0431\\u043b\\u043e\\u043a\\u0430\",\"\\u041f\\u043e\\u043f\\u044b\\u0442\\u043a\\u0430 \\u043e\\u043f\\u043b\\u0430\\u0442\\u044b\",\"\\u041f\\u043e\\u043a\\u0443\\u043f\\u043a\\u0430 \\u043f\\u043b\\u0430\\u0442\\u043d\\u043e\\u0433\\u043e \\u0442\\u0430\\u0440\\u0438\\u0444\\u0430\"],\"yaxis\":\"y\",\"type\":\"funnel\"},{\"hovertemplate\":\"utm_campaign=cid|16778058423|0721|google|cpc|eu|teplye_2|svoimi_rukami<br>count=%{x}<br>event=%{y}<extra></extra>\",\"legendgroup\":\"cid|16778058423|0721|google|cpc|eu|teplye_2|svoimi_rukami\",\"marker\":{\"color\":\"#FFA15A\"},\"name\":\"cid|16778058423|0721|google|cpc|eu|teplye_2|svoimi_rukami\",\"orientation\":\"h\",\"showlegend\":true,\"x\":[1,0,0,0,0],\"xaxis\":\"x\",\"y\":[\"\\u041f\\u0435\\u0440\\u0435\\u0445\\u043e\\u0434 \\u043d\\u0430 \\u043b\\u044d\\u043d\\u0434\\u0438\\u043d\\u0433\",\"\\u0420\\u0435\\u0433\\u0438\\u0441\\u0442\\u0440\\u0430\\u0446\\u0438\\u044f\",\"\\u0414\\u043e\\u0431\\u0430\\u0432\\u043b\\u0435\\u043d\\u0438\\u0435 \\u043f\\u0435\\u0440\\u0432\\u043e\\u0433\\u043e \\u0431\\u043b\\u043e\\u043a\\u0430\",\"\\u041f\\u043e\\u043f\\u044b\\u0442\\u043a\\u0430 \\u043e\\u043f\\u043b\\u0430\\u0442\\u044b\",\"\\u041f\\u043e\\u043a\\u0443\\u043f\\u043a\\u0430 \\u043f\\u043b\\u0430\\u0442\\u043d\\u043e\\u0433\\u043e \\u0442\\u0430\\u0440\\u0438\\u0444\\u0430\"],\"yaxis\":\"y\",\"type\":\"funnel\"},{\"hovertemplate\":\"utm_campaign=cid|16778058435|0721|google|cpc|ru|teplye_2|dlya_instagram<br>count=%{x}<br>event=%{y}<extra></extra>\",\"legendgroup\":\"cid|16778058435|0721|google|cpc|ru|teplye_2|dlya_instagram\",\"marker\":{\"color\":\"#19d3f3\"},\"name\":\"cid|16778058435|0721|google|cpc|ru|teplye_2|dlya_instagram\",\"orientation\":\"h\",\"showlegend\":true,\"x\":[2,0,0,0,0],\"xaxis\":\"x\",\"y\":[\"\\u041f\\u0435\\u0440\\u0435\\u0445\\u043e\\u0434 \\u043d\\u0430 \\u043b\\u044d\\u043d\\u0434\\u0438\\u043d\\u0433\",\"\\u0420\\u0435\\u0433\\u0438\\u0441\\u0442\\u0440\\u0430\\u0446\\u0438\\u044f\",\"\\u0414\\u043e\\u0431\\u0430\\u0432\\u043b\\u0435\\u043d\\u0438\\u0435 \\u043f\\u0435\\u0440\\u0432\\u043e\\u0433\\u043e \\u0431\\u043b\\u043e\\u043a\\u0430\",\"\\u041f\\u043e\\u043f\\u044b\\u0442\\u043a\\u0430 \\u043e\\u043f\\u043b\\u0430\\u0442\\u044b\",\"\\u041f\\u043e\\u043a\\u0443\\u043f\\u043a\\u0430 \\u043f\\u043b\\u0430\\u0442\\u043d\\u043e\\u0433\\u043e \\u0442\\u0430\\u0440\\u0438\\u0444\\u0430\"],\"yaxis\":\"y\",\"type\":\"funnel\"},{\"hovertemplate\":\"utm_campaign=cid|16778058435|0721|google|cpc|ru|teplye_2|sozdat_landing<br>count=%{x}<br>event=%{y}<extra></extra>\",\"legendgroup\":\"cid|16778058435|0721|google|cpc|ru|teplye_2|sozdat_landing\",\"marker\":{\"color\":\"#FF6692\"},\"name\":\"cid|16778058435|0721|google|cpc|ru|teplye_2|sozdat_landing\",\"orientation\":\"h\",\"showlegend\":true,\"x\":[2,0,0,0,0],\"xaxis\":\"x\",\"y\":[\"\\u041f\\u0435\\u0440\\u0435\\u0445\\u043e\\u0434 \\u043d\\u0430 \\u043b\\u044d\\u043d\\u0434\\u0438\\u043d\\u0433\",\"\\u0420\\u0435\\u0433\\u0438\\u0441\\u0442\\u0440\\u0430\\u0446\\u0438\\u044f\",\"\\u0414\\u043e\\u0431\\u0430\\u0432\\u043b\\u0435\\u043d\\u0438\\u0435 \\u043f\\u0435\\u0440\\u0432\\u043e\\u0433\\u043e \\u0431\\u043b\\u043e\\u043a\\u0430\",\"\\u041f\\u043e\\u043f\\u044b\\u0442\\u043a\\u0430 \\u043e\\u043f\\u043b\\u0430\\u0442\\u044b\",\"\\u041f\\u043e\\u043a\\u0443\\u043f\\u043a\\u0430 \\u043f\\u043b\\u0430\\u0442\\u043d\\u043e\\u0433\\u043e \\u0442\\u0430\\u0440\\u0438\\u0444\\u0430\"],\"yaxis\":\"y\",\"type\":\"funnel\"},{\"hovertemplate\":\"utm_campaign=cid|16778058423|0721|google|cpc|eu|teplye_2|sdelat_landing<br>count=%{x}<br>event=%{y}<extra></extra>\",\"legendgroup\":\"cid|16778058423|0721|google|cpc|eu|teplye_2|sdelat_landing\",\"marker\":{\"color\":\"#B6E880\"},\"name\":\"cid|16778058423|0721|google|cpc|eu|teplye_2|sdelat_landing\",\"orientation\":\"h\",\"showlegend\":true,\"x\":[1,0,0,0,0],\"xaxis\":\"x\",\"y\":[\"\\u041f\\u0435\\u0440\\u0435\\u0445\\u043e\\u0434 \\u043d\\u0430 \\u043b\\u044d\\u043d\\u0434\\u0438\\u043d\\u0433\",\"\\u0420\\u0435\\u0433\\u0438\\u0441\\u0442\\u0440\\u0430\\u0446\\u0438\\u044f\",\"\\u0414\\u043e\\u0431\\u0430\\u0432\\u043b\\u0435\\u043d\\u0438\\u0435 \\u043f\\u0435\\u0440\\u0432\\u043e\\u0433\\u043e \\u0431\\u043b\\u043e\\u043a\\u0430\",\"\\u041f\\u043e\\u043f\\u044b\\u0442\\u043a\\u0430 \\u043e\\u043f\\u043b\\u0430\\u0442\\u044b\",\"\\u041f\\u043e\\u043a\\u0443\\u043f\\u043a\\u0430 \\u043f\\u043b\\u0430\\u0442\\u043d\\u043e\\u0433\\u043e \\u0442\\u0430\\u0440\\u0438\\u0444\\u0430\"],\"yaxis\":\"y\",\"type\":\"funnel\"},{\"hovertemplate\":\"utm_campaign=cid|16782869743|0521|google|cpc|eu|competitors|taplink|cena<br>count=%{x}<br>event=%{y}<extra></extra>\",\"legendgroup\":\"cid|16782869743|0521|google|cpc|eu|competitors|taplink|cena\",\"marker\":{\"color\":\"#FF97FF\"},\"name\":\"cid|16782869743|0521|google|cpc|eu|competitors|taplink|cena\",\"orientation\":\"h\",\"showlegend\":true,\"x\":[2,0,0,0,0],\"xaxis\":\"x\",\"y\":[\"\\u041f\\u0435\\u0440\\u0435\\u0445\\u043e\\u0434 \\u043d\\u0430 \\u043b\\u044d\\u043d\\u0434\\u0438\\u043d\\u0433\",\"\\u0420\\u0435\\u0433\\u0438\\u0441\\u0442\\u0440\\u0430\\u0446\\u0438\\u044f\",\"\\u0414\\u043e\\u0431\\u0430\\u0432\\u043b\\u0435\\u043d\\u0438\\u0435 \\u043f\\u0435\\u0440\\u0432\\u043e\\u0433\\u043e \\u0431\\u043b\\u043e\\u043a\\u0430\",\"\\u041f\\u043e\\u043f\\u044b\\u0442\\u043a\\u0430 \\u043e\\u043f\\u043b\\u0430\\u0442\\u044b\",\"\\u041f\\u043e\\u043a\\u0443\\u043f\\u043a\\u0430 \\u043f\\u043b\\u0430\\u0442\\u043d\\u043e\\u0433\\u043e \\u0442\\u0430\\u0440\\u0438\\u0444\\u0430\"],\"yaxis\":\"y\",\"type\":\"funnel\"},{\"hovertemplate\":\"utm_campaign=cid|16791042698|0521|google|cpc|ru|competitors|taplink|nastroit<br>count=%{x}<br>event=%{y}<extra></extra>\",\"legendgroup\":\"cid|16791042698|0521|google|cpc|ru|competitors|taplink|nastroit\",\"marker\":{\"color\":\"#FECB52\"},\"name\":\"cid|16791042698|0521|google|cpc|ru|competitors|taplink|nastroit\",\"orientation\":\"h\",\"showlegend\":true,\"x\":[2,0,0,0,0],\"xaxis\":\"x\",\"y\":[\"\\u041f\\u0435\\u0440\\u0435\\u0445\\u043e\\u0434 \\u043d\\u0430 \\u043b\\u044d\\u043d\\u0434\\u0438\\u043d\\u0433\",\"\\u0420\\u0435\\u0433\\u0438\\u0441\\u0442\\u0440\\u0430\\u0446\\u0438\\u044f\",\"\\u0414\\u043e\\u0431\\u0430\\u0432\\u043b\\u0435\\u043d\\u0438\\u0435 \\u043f\\u0435\\u0440\\u0432\\u043e\\u0433\\u043e \\u0431\\u043b\\u043e\\u043a\\u0430\",\"\\u041f\\u043e\\u043f\\u044b\\u0442\\u043a\\u0430 \\u043e\\u043f\\u043b\\u0430\\u0442\\u044b\",\"\\u041f\\u043e\\u043a\\u0443\\u043f\\u043a\\u0430 \\u043f\\u043b\\u0430\\u0442\\u043d\\u043e\\u0433\\u043e \\u0442\\u0430\\u0440\\u0438\\u0444\\u0430\"],\"yaxis\":\"y\",\"type\":\"funnel\"},{\"hovertemplate\":\"utm_campaign=cid|16782869743|0521|google|cpc|eu|competitors|taplink|nastroit<br>count=%{x}<br>event=%{y}<extra></extra>\",\"legendgroup\":\"cid|16782869743|0521|google|cpc|eu|competitors|taplink|nastroit\",\"marker\":{\"color\":\"#636efa\"},\"name\":\"cid|16782869743|0521|google|cpc|eu|competitors|taplink|nastroit\",\"orientation\":\"h\",\"showlegend\":true,\"x\":[2,0,0,0,0],\"xaxis\":\"x\",\"y\":[\"\\u041f\\u0435\\u0440\\u0435\\u0445\\u043e\\u0434 \\u043d\\u0430 \\u043b\\u044d\\u043d\\u0434\\u0438\\u043d\\u0433\",\"\\u0420\\u0435\\u0433\\u0438\\u0441\\u0442\\u0440\\u0430\\u0446\\u0438\\u044f\",\"\\u0414\\u043e\\u0431\\u0430\\u0432\\u043b\\u0435\\u043d\\u0438\\u0435 \\u043f\\u0435\\u0440\\u0432\\u043e\\u0433\\u043e \\u0431\\u043b\\u043e\\u043a\\u0430\",\"\\u041f\\u043e\\u043f\\u044b\\u0442\\u043a\\u0430 \\u043e\\u043f\\u043b\\u0430\\u0442\\u044b\",\"\\u041f\\u043e\\u043a\\u0443\\u043f\\u043a\\u0430 \\u043f\\u043b\\u0430\\u0442\\u043d\\u043e\\u0433\\u043e \\u0442\\u0430\\u0440\\u0438\\u0444\\u0430\"],\"yaxis\":\"y\",\"type\":\"funnel\"},{\"hovertemplate\":\"utm_campaign=cid|13245125206|0521|google|cpc|ru|competitors|taplink|nastroit<br>count=%{x}<br>event=%{y}<extra></extra>\",\"legendgroup\":\"cid|13245125206|0521|google|cpc|ru|competitors|taplink|nastroit\",\"marker\":{\"color\":\"#EF553B\"},\"name\":\"cid|13245125206|0521|google|cpc|ru|competitors|taplink|nastroit\",\"orientation\":\"h\",\"showlegend\":true,\"x\":[0,0,1,0,0],\"xaxis\":\"x\",\"y\":[\"\\u041f\\u0435\\u0440\\u0435\\u0445\\u043e\\u0434 \\u043d\\u0430 \\u043b\\u044d\\u043d\\u0434\\u0438\\u043d\\u0433\",\"\\u0420\\u0435\\u0433\\u0438\\u0441\\u0442\\u0440\\u0430\\u0446\\u0438\\u044f\",\"\\u0414\\u043e\\u0431\\u0430\\u0432\\u043b\\u0435\\u043d\\u0438\\u0435 \\u043f\\u0435\\u0440\\u0432\\u043e\\u0433\\u043e \\u0431\\u043b\\u043e\\u043a\\u0430\",\"\\u041f\\u043e\\u043f\\u044b\\u0442\\u043a\\u0430 \\u043e\\u043f\\u043b\\u0430\\u0442\\u044b\",\"\\u041f\\u043e\\u043a\\u0443\\u043f\\u043a\\u0430 \\u043f\\u043b\\u0430\\u0442\\u043d\\u043e\\u0433\\u043e \\u0442\\u0430\\u0440\\u0438\\u0444\\u0430\"],\"yaxis\":\"y\",\"type\":\"funnel\"},{\"hovertemplate\":\"utm_campaign=cid|62012011|search|0521|yandex_poisk|cpc|ru|tranzak|besplatno|sch<br>count=%{x}<br>event=%{y}<extra></extra>\",\"legendgroup\":\"cid|62012011|search|0521|yandex_poisk|cpc|ru|tranzak|besplatno|sch\",\"marker\":{\"color\":\"#00cc96\"},\"name\":\"cid|62012011|search|0521|yandex_poisk|cpc|ru|tranzak|besplatno|sch\",\"orientation\":\"h\",\"showlegend\":true,\"x\":[3,0,0,0,0],\"xaxis\":\"x\",\"y\":[\"\\u041f\\u0435\\u0440\\u0435\\u0445\\u043e\\u0434 \\u043d\\u0430 \\u043b\\u044d\\u043d\\u0434\\u0438\\u043d\\u0433\",\"\\u0420\\u0435\\u0433\\u0438\\u0441\\u0442\\u0440\\u0430\\u0446\\u0438\\u044f\",\"\\u0414\\u043e\\u0431\\u0430\\u0432\\u043b\\u0435\\u043d\\u0438\\u0435 \\u043f\\u0435\\u0440\\u0432\\u043e\\u0433\\u043e \\u0431\\u043b\\u043e\\u043a\\u0430\",\"\\u041f\\u043e\\u043f\\u044b\\u0442\\u043a\\u0430 \\u043e\\u043f\\u043b\\u0430\\u0442\\u044b\",\"\\u041f\\u043e\\u043a\\u0443\\u043f\\u043a\\u0430 \\u043f\\u043b\\u0430\\u0442\\u043d\\u043e\\u0433\\u043e \\u0442\\u0430\\u0440\\u0438\\u0444\\u0430\"],\"yaxis\":\"y\",\"type\":\"funnel\"},{\"hovertemplate\":\"utm_campaign=cid|62012011|search|0521|yandex_poisk|cpc|ru|tranzak|besplatno|nch<br>count=%{x}<br>event=%{y}<extra></extra>\",\"legendgroup\":\"cid|62012011|search|0521|yandex_poisk|cpc|ru|tranzak|besplatno|nch\",\"marker\":{\"color\":\"#ab63fa\"},\"name\":\"cid|62012011|search|0521|yandex_poisk|cpc|ru|tranzak|besplatno|nch\",\"orientation\":\"h\",\"showlegend\":true,\"x\":[1,0,0,0,0],\"xaxis\":\"x\",\"y\":[\"\\u041f\\u0435\\u0440\\u0435\\u0445\\u043e\\u0434 \\u043d\\u0430 \\u043b\\u044d\\u043d\\u0434\\u0438\\u043d\\u0433\",\"\\u0420\\u0435\\u0433\\u0438\\u0441\\u0442\\u0440\\u0430\\u0446\\u0438\\u044f\",\"\\u0414\\u043e\\u0431\\u0430\\u0432\\u043b\\u0435\\u043d\\u0438\\u0435 \\u043f\\u0435\\u0440\\u0432\\u043e\\u0433\\u043e \\u0431\\u043b\\u043e\\u043a\\u0430\",\"\\u041f\\u043e\\u043f\\u044b\\u0442\\u043a\\u0430 \\u043e\\u043f\\u043b\\u0430\\u0442\\u044b\",\"\\u041f\\u043e\\u043a\\u0443\\u043f\\u043a\\u0430 \\u043f\\u043b\\u0430\\u0442\\u043d\\u043e\\u0433\\u043e \\u0442\\u0430\\u0440\\u0438\\u0444\\u0430\"],\"yaxis\":\"y\",\"type\":\"funnel\"},{\"hovertemplate\":\"utm_campaign=vedushhij_nasvadbu<br>count=%{x}<br>event=%{y}<extra></extra>\",\"legendgroup\":\"vedushhij_nasvadbu\",\"marker\":{\"color\":\"#FFA15A\"},\"name\":\"vedushhij_nasvadbu\",\"orientation\":\"h\",\"showlegend\":true,\"x\":[1,0,1,0,0],\"xaxis\":\"x\",\"y\":[\"\\u041f\\u0435\\u0440\\u0435\\u0445\\u043e\\u0434 \\u043d\\u0430 \\u043b\\u044d\\u043d\\u0434\\u0438\\u043d\\u0433\",\"\\u0420\\u0435\\u0433\\u0438\\u0441\\u0442\\u0440\\u0430\\u0446\\u0438\\u044f\",\"\\u0414\\u043e\\u0431\\u0430\\u0432\\u043b\\u0435\\u043d\\u0438\\u0435 \\u043f\\u0435\\u0440\\u0432\\u043e\\u0433\\u043e \\u0431\\u043b\\u043e\\u043a\\u0430\",\"\\u041f\\u043e\\u043f\\u044b\\u0442\\u043a\\u0430 \\u043e\\u043f\\u043b\\u0430\\u0442\\u044b\",\"\\u041f\\u043e\\u043a\\u0443\\u043f\\u043a\\u0430 \\u043f\\u043b\\u0430\\u0442\\u043d\\u043e\\u0433\\u043e \\u0442\\u0430\\u0440\\u0438\\u0444\\u0430\"],\"yaxis\":\"y\",\"type\":\"funnel\"},{\"hovertemplate\":\"utm_campaign=cid|13815935471|0521|google|cpc|eu|teplye|multissylka<br>count=%{x}<br>event=%{y}<extra></extra>\",\"legendgroup\":\"cid|13815935471|0521|google|cpc|eu|teplye|multissylka\",\"marker\":{\"color\":\"#19d3f3\"},\"name\":\"cid|13815935471|0521|google|cpc|eu|teplye|multissylka\",\"orientation\":\"h\",\"showlegend\":true,\"x\":[0,0,2,0,0],\"xaxis\":\"x\",\"y\":[\"\\u041f\\u0435\\u0440\\u0435\\u0445\\u043e\\u0434 \\u043d\\u0430 \\u043b\\u044d\\u043d\\u0434\\u0438\\u043d\\u0433\",\"\\u0420\\u0435\\u0433\\u0438\\u0441\\u0442\\u0440\\u0430\\u0446\\u0438\\u044f\",\"\\u0414\\u043e\\u0431\\u0430\\u0432\\u043b\\u0435\\u043d\\u0438\\u0435 \\u043f\\u0435\\u0440\\u0432\\u043e\\u0433\\u043e \\u0431\\u043b\\u043e\\u043a\\u0430\",\"\\u041f\\u043e\\u043f\\u044b\\u0442\\u043a\\u0430 \\u043e\\u043f\\u043b\\u0430\\u0442\\u044b\",\"\\u041f\\u043e\\u043a\\u0443\\u043f\\u043a\\u0430 \\u043f\\u043b\\u0430\\u0442\\u043d\\u043e\\u0433\\u043e \\u0442\\u0430\\u0440\\u0438\\u0444\\u0430\"],\"yaxis\":\"y\",\"type\":\"funnel\"},{\"hovertemplate\":\"utm_campaign=cid|13824315009|0721|google|cpc|kz|teplye_2|samostoyatelno<br>count=%{x}<br>event=%{y}<extra></extra>\",\"legendgroup\":\"cid|13824315009|0721|google|cpc|kz|teplye_2|samostoyatelno\",\"marker\":{\"color\":\"#FF6692\"},\"name\":\"cid|13824315009|0721|google|cpc|kz|teplye_2|samostoyatelno\",\"orientation\":\"h\",\"showlegend\":true,\"x\":[0,0,1,0,0],\"xaxis\":\"x\",\"y\":[\"\\u041f\\u0435\\u0440\\u0435\\u0445\\u043e\\u0434 \\u043d\\u0430 \\u043b\\u044d\\u043d\\u0434\\u0438\\u043d\\u0433\",\"\\u0420\\u0435\\u0433\\u0438\\u0441\\u0442\\u0440\\u0430\\u0446\\u0438\\u044f\",\"\\u0414\\u043e\\u0431\\u0430\\u0432\\u043b\\u0435\\u043d\\u0438\\u0435 \\u043f\\u0435\\u0440\\u0432\\u043e\\u0433\\u043e \\u0431\\u043b\\u043e\\u043a\\u0430\",\"\\u041f\\u043e\\u043f\\u044b\\u0442\\u043a\\u0430 \\u043e\\u043f\\u043b\\u0430\\u0442\\u044b\",\"\\u041f\\u043e\\u043a\\u0443\\u043f\\u043a\\u0430 \\u043f\\u043b\\u0430\\u0442\\u043d\\u043e\\u0433\\u043e \\u0442\\u0430\\u0440\\u0438\\u0444\\u0430\"],\"yaxis\":\"y\",\"type\":\"funnel\"},{\"hovertemplate\":\"utm_campaign=cid|13322676854|0521|google|cpc|kz|tranzak|analog<br>count=%{x}<br>event=%{y}<extra></extra>\",\"legendgroup\":\"cid|13322676854|0521|google|cpc|kz|tranzak|analog\",\"marker\":{\"color\":\"#B6E880\"},\"name\":\"cid|13322676854|0521|google|cpc|kz|tranzak|analog\",\"orientation\":\"h\",\"showlegend\":true,\"x\":[1,0,0,0,0],\"xaxis\":\"x\",\"y\":[\"\\u041f\\u0435\\u0440\\u0435\\u0445\\u043e\\u0434 \\u043d\\u0430 \\u043b\\u044d\\u043d\\u0434\\u0438\\u043d\\u0433\",\"\\u0420\\u0435\\u0433\\u0438\\u0441\\u0442\\u0440\\u0430\\u0446\\u0438\\u044f\",\"\\u0414\\u043e\\u0431\\u0430\\u0432\\u043b\\u0435\\u043d\\u0438\\u0435 \\u043f\\u0435\\u0440\\u0432\\u043e\\u0433\\u043e \\u0431\\u043b\\u043e\\u043a\\u0430\",\"\\u041f\\u043e\\u043f\\u044b\\u0442\\u043a\\u0430 \\u043e\\u043f\\u043b\\u0430\\u0442\\u044b\",\"\\u041f\\u043e\\u043a\\u0443\\u043f\\u043a\\u0430 \\u043f\\u043b\\u0430\\u0442\\u043d\\u043e\\u0433\\u043e \\u0442\\u0430\\u0440\\u0438\\u0444\\u0430\"],\"yaxis\":\"y\",\"type\":\"funnel\"},{\"hovertemplate\":\"utm_campaign=cid|13245125206|0521|google|cpc|ru|competitors|taplink|cena<br>count=%{x}<br>event=%{y}<extra></extra>\",\"legendgroup\":\"cid|13245125206|0521|google|cpc|ru|competitors|taplink|cena\",\"marker\":{\"color\":\"#FF97FF\"},\"name\":\"cid|13245125206|0521|google|cpc|ru|competitors|taplink|cena\",\"orientation\":\"h\",\"showlegend\":true,\"x\":[3,0,0,0,0],\"xaxis\":\"x\",\"y\":[\"\\u041f\\u0435\\u0440\\u0435\\u0445\\u043e\\u0434 \\u043d\\u0430 \\u043b\\u044d\\u043d\\u0434\\u0438\\u043d\\u0433\",\"\\u0420\\u0435\\u0433\\u0438\\u0441\\u0442\\u0440\\u0430\\u0446\\u0438\\u044f\",\"\\u0414\\u043e\\u0431\\u0430\\u0432\\u043b\\u0435\\u043d\\u0438\\u0435 \\u043f\\u0435\\u0440\\u0432\\u043e\\u0433\\u043e \\u0431\\u043b\\u043e\\u043a\\u0430\",\"\\u041f\\u043e\\u043f\\u044b\\u0442\\u043a\\u0430 \\u043e\\u043f\\u043b\\u0430\\u0442\\u044b\",\"\\u041f\\u043e\\u043a\\u0443\\u043f\\u043a\\u0430 \\u043f\\u043b\\u0430\\u0442\\u043d\\u043e\\u0433\\u043e \\u0442\\u0430\\u0440\\u0438\\u0444\\u0430\"],\"yaxis\":\"y\",\"type\":\"funnel\"},{\"hovertemplate\":\"utm_campaign=0621|instagram|cpc|kazah|all|shir<br>count=%{x}<br>event=%{y}<extra></extra>\",\"legendgroup\":\"0621|instagram|cpc|kazah|all|shir\",\"marker\":{\"color\":\"#FECB52\"},\"name\":\"0621|instagram|cpc|kazah|all|shir\",\"orientation\":\"h\",\"showlegend\":true,\"x\":[1,0,0,0,0],\"xaxis\":\"x\",\"y\":[\"\\u041f\\u0435\\u0440\\u0435\\u0445\\u043e\\u0434 \\u043d\\u0430 \\u043b\\u044d\\u043d\\u0434\\u0438\\u043d\\u0433\",\"\\u0420\\u0435\\u0433\\u0438\\u0441\\u0442\\u0440\\u0430\\u0446\\u0438\\u044f\",\"\\u0414\\u043e\\u0431\\u0430\\u0432\\u043b\\u0435\\u043d\\u0438\\u0435 \\u043f\\u0435\\u0440\\u0432\\u043e\\u0433\\u043e \\u0431\\u043b\\u043e\\u043a\\u0430\",\"\\u041f\\u043e\\u043f\\u044b\\u0442\\u043a\\u0430 \\u043e\\u043f\\u043b\\u0430\\u0442\\u044b\",\"\\u041f\\u043e\\u043a\\u0443\\u043f\\u043a\\u0430 \\u043f\\u043b\\u0430\\u0442\\u043d\\u043e\\u0433\\u043e \\u0442\\u0430\\u0440\\u0438\\u0444\\u0430\"],\"yaxis\":\"y\",\"type\":\"funnel\"},{\"hovertemplate\":\"utm_campaign=vedushie56<br>count=%{x}<br>event=%{y}<extra></extra>\",\"legendgroup\":\"vedushie56\",\"marker\":{\"color\":\"#636efa\"},\"name\":\"vedushie56\",\"orientation\":\"h\",\"showlegend\":true,\"x\":[1,0,0,0,0],\"xaxis\":\"x\",\"y\":[\"\\u041f\\u0435\\u0440\\u0435\\u0445\\u043e\\u0434 \\u043d\\u0430 \\u043b\\u044d\\u043d\\u0434\\u0438\\u043d\\u0433\",\"\\u0420\\u0435\\u0433\\u0438\\u0441\\u0442\\u0440\\u0430\\u0446\\u0438\\u044f\",\"\\u0414\\u043e\\u0431\\u0430\\u0432\\u043b\\u0435\\u043d\\u0438\\u0435 \\u043f\\u0435\\u0440\\u0432\\u043e\\u0433\\u043e \\u0431\\u043b\\u043e\\u043a\\u0430\",\"\\u041f\\u043e\\u043f\\u044b\\u0442\\u043a\\u0430 \\u043e\\u043f\\u043b\\u0430\\u0442\\u044b\",\"\\u041f\\u043e\\u043a\\u0443\\u043f\\u043a\\u0430 \\u043f\\u043b\\u0430\\u0442\\u043d\\u043e\\u0433\\u043e \\u0442\\u0430\\u0440\\u0438\\u0444\\u0430\"],\"yaxis\":\"y\",\"type\":\"funnel\"},{\"hovertemplate\":\"utm_campaign=lashbotoxforum<br>count=%{x}<br>event=%{y}<extra></extra>\",\"legendgroup\":\"lashbotoxforum\",\"marker\":{\"color\":\"#EF553B\"},\"name\":\"lashbotoxforum\",\"orientation\":\"h\",\"showlegend\":true,\"x\":[1,0,0,0,0],\"xaxis\":\"x\",\"y\":[\"\\u041f\\u0435\\u0440\\u0435\\u0445\\u043e\\u0434 \\u043d\\u0430 \\u043b\\u044d\\u043d\\u0434\\u0438\\u043d\\u0433\",\"\\u0420\\u0435\\u0433\\u0438\\u0441\\u0442\\u0440\\u0430\\u0446\\u0438\\u044f\",\"\\u0414\\u043e\\u0431\\u0430\\u0432\\u043b\\u0435\\u043d\\u0438\\u0435 \\u043f\\u0435\\u0440\\u0432\\u043e\\u0433\\u043e \\u0431\\u043b\\u043e\\u043a\\u0430\",\"\\u041f\\u043e\\u043f\\u044b\\u0442\\u043a\\u0430 \\u043e\\u043f\\u043b\\u0430\\u0442\\u044b\",\"\\u041f\\u043e\\u043a\\u0443\\u043f\\u043a\\u0430 \\u043f\\u043b\\u0430\\u0442\\u043d\\u043e\\u0433\\u043e \\u0442\\u0430\\u0440\\u0438\\u0444\\u0430\"],\"yaxis\":\"y\",\"type\":\"funnel\"},{\"hovertemplate\":\"utm_campaign=cid|13824314847|0721|google|cpc|ru|teplye_2|sozdat_landing<br>count=%{x}<br>event=%{y}<extra></extra>\",\"legendgroup\":\"cid|13824314847|0721|google|cpc|ru|teplye_2|sozdat_landing\",\"marker\":{\"color\":\"#00cc96\"},\"name\":\"cid|13824314847|0721|google|cpc|ru|teplye_2|sozdat_landing\",\"orientation\":\"h\",\"showlegend\":true,\"x\":[3,0,0,0,0],\"xaxis\":\"x\",\"y\":[\"\\u041f\\u0435\\u0440\\u0435\\u0445\\u043e\\u0434 \\u043d\\u0430 \\u043b\\u044d\\u043d\\u0434\\u0438\\u043d\\u0433\",\"\\u0420\\u0435\\u0433\\u0438\\u0441\\u0442\\u0440\\u0430\\u0446\\u0438\\u044f\",\"\\u0414\\u043e\\u0431\\u0430\\u0432\\u043b\\u0435\\u043d\\u0438\\u0435 \\u043f\\u0435\\u0440\\u0432\\u043e\\u0433\\u043e \\u0431\\u043b\\u043e\\u043a\\u0430\",\"\\u041f\\u043e\\u043f\\u044b\\u0442\\u043a\\u0430 \\u043e\\u043f\\u043b\\u0430\\u0442\\u044b\",\"\\u041f\\u043e\\u043a\\u0443\\u043f\\u043a\\u0430 \\u043f\\u043b\\u0430\\u0442\\u043d\\u043e\\u0433\\u043e \\u0442\\u0430\\u0440\\u0438\\u0444\\u0430\"],\"yaxis\":\"y\",\"type\":\"funnel\"},{\"hovertemplate\":\"utm_campaign=test_var<br>count=%{x}<br>event=%{y}<extra></extra>\",\"legendgroup\":\"test_var\",\"marker\":{\"color\":\"#ab63fa\"},\"name\":\"test_var\",\"orientation\":\"h\",\"showlegend\":true,\"x\":[0,0,1,0,0],\"xaxis\":\"x\",\"y\":[\"\\u041f\\u0435\\u0440\\u0435\\u0445\\u043e\\u0434 \\u043d\\u0430 \\u043b\\u044d\\u043d\\u0434\\u0438\\u043d\\u0433\",\"\\u0420\\u0435\\u0433\\u0438\\u0441\\u0442\\u0440\\u0430\\u0446\\u0438\\u044f\",\"\\u0414\\u043e\\u0431\\u0430\\u0432\\u043b\\u0435\\u043d\\u0438\\u0435 \\u043f\\u0435\\u0440\\u0432\\u043e\\u0433\\u043e \\u0431\\u043b\\u043e\\u043a\\u0430\",\"\\u041f\\u043e\\u043f\\u044b\\u0442\\u043a\\u0430 \\u043e\\u043f\\u043b\\u0430\\u0442\\u044b\",\"\\u041f\\u043e\\u043a\\u0443\\u043f\\u043a\\u0430 \\u043f\\u043b\\u0430\\u0442\\u043d\\u043e\\u0433\\u043e \\u0442\\u0430\\u0440\\u0438\\u0444\\u0430\"],\"yaxis\":\"y\",\"type\":\"funnel\"},{\"hovertemplate\":\"utm_campaign={campaign_id}<br>count=%{x}<br>event=%{y}<extra></extra>\",\"legendgroup\":\"{campaign_id}\",\"marker\":{\"color\":\"#FFA15A\"},\"name\":\"{campaign_id}\",\"orientation\":\"h\",\"showlegend\":true,\"x\":[0,0,1,0,0],\"xaxis\":\"x\",\"y\":[\"\\u041f\\u0435\\u0440\\u0435\\u0445\\u043e\\u0434 \\u043d\\u0430 \\u043b\\u044d\\u043d\\u0434\\u0438\\u043d\\u0433\",\"\\u0420\\u0435\\u0433\\u0438\\u0441\\u0442\\u0440\\u0430\\u0446\\u0438\\u044f\",\"\\u0414\\u043e\\u0431\\u0430\\u0432\\u043b\\u0435\\u043d\\u0438\\u0435 \\u043f\\u0435\\u0440\\u0432\\u043e\\u0433\\u043e \\u0431\\u043b\\u043e\\u043a\\u0430\",\"\\u041f\\u043e\\u043f\\u044b\\u0442\\u043a\\u0430 \\u043e\\u043f\\u043b\\u0430\\u0442\\u044b\",\"\\u041f\\u043e\\u043a\\u0443\\u043f\\u043a\\u0430 \\u043f\\u043b\\u0430\\u0442\\u043d\\u043e\\u0433\\u043e \\u0442\\u0430\\u0440\\u0438\\u0444\\u0430\"],\"yaxis\":\"y\",\"type\":\"funnel\"},{\"hovertemplate\":\"utm_campaign=cid|13811038492|0521|google|cpc|kz|competitors|mssg<br>count=%{x}<br>event=%{y}<extra></extra>\",\"legendgroup\":\"cid|13811038492|0521|google|cpc|kz|competitors|mssg\",\"marker\":{\"color\":\"#19d3f3\"},\"name\":\"cid|13811038492|0521|google|cpc|kz|competitors|mssg\",\"orientation\":\"h\",\"showlegend\":true,\"x\":[1,0,0,0,0],\"xaxis\":\"x\",\"y\":[\"\\u041f\\u0435\\u0440\\u0435\\u0445\\u043e\\u0434 \\u043d\\u0430 \\u043b\\u044d\\u043d\\u0434\\u0438\\u043d\\u0433\",\"\\u0420\\u0435\\u0433\\u0438\\u0441\\u0442\\u0440\\u0430\\u0446\\u0438\\u044f\",\"\\u0414\\u043e\\u0431\\u0430\\u0432\\u043b\\u0435\\u043d\\u0438\\u0435 \\u043f\\u0435\\u0440\\u0432\\u043e\\u0433\\u043e \\u0431\\u043b\\u043e\\u043a\\u0430\",\"\\u041f\\u043e\\u043f\\u044b\\u0442\\u043a\\u0430 \\u043e\\u043f\\u043b\\u0430\\u0442\\u044b\",\"\\u041f\\u043e\\u043a\\u0443\\u043f\\u043a\\u0430 \\u043f\\u043b\\u0430\\u0442\\u043d\\u043e\\u0433\\u043e \\u0442\\u0430\\u0440\\u0438\\u0444\\u0430\"],\"yaxis\":\"y\",\"type\":\"funnel\"},{\"hovertemplate\":\"utm_campaign=cid|13322676854|0521|google|cpc|kz|tranzak|besplatno|sch<br>count=%{x}<br>event=%{y}<extra></extra>\",\"legendgroup\":\"cid|13322676854|0521|google|cpc|kz|tranzak|besplatno|sch\",\"marker\":{\"color\":\"#FF6692\"},\"name\":\"cid|13322676854|0521|google|cpc|kz|tranzak|besplatno|sch\",\"orientation\":\"h\",\"showlegend\":true,\"x\":[1,0,0,0,0],\"xaxis\":\"x\",\"y\":[\"\\u041f\\u0435\\u0440\\u0435\\u0445\\u043e\\u0434 \\u043d\\u0430 \\u043b\\u044d\\u043d\\u0434\\u0438\\u043d\\u0433\",\"\\u0420\\u0435\\u0433\\u0438\\u0441\\u0442\\u0440\\u0430\\u0446\\u0438\\u044f\",\"\\u0414\\u043e\\u0431\\u0430\\u0432\\u043b\\u0435\\u043d\\u0438\\u0435 \\u043f\\u0435\\u0440\\u0432\\u043e\\u0433\\u043e \\u0431\\u043b\\u043e\\u043a\\u0430\",\"\\u041f\\u043e\\u043f\\u044b\\u0442\\u043a\\u0430 \\u043e\\u043f\\u043b\\u0430\\u0442\\u044b\",\"\\u041f\\u043e\\u043a\\u0443\\u043f\\u043a\\u0430 \\u043f\\u043b\\u0430\\u0442\\u043d\\u043e\\u0433\\u043e \\u0442\\u0430\\u0440\\u0438\\u0444\\u0430\"],\"yaxis\":\"y\",\"type\":\"funnel\"},{\"hovertemplate\":\"utm_campaign=cid|13813036738|0521|google|cpc|by|competitors|taplink|sdelat<br>count=%{x}<br>event=%{y}<extra></extra>\",\"legendgroup\":\"cid|13813036738|0521|google|cpc|by|competitors|taplink|sdelat\",\"marker\":{\"color\":\"#B6E880\"},\"name\":\"cid|13813036738|0521|google|cpc|by|competitors|taplink|sdelat\",\"orientation\":\"h\",\"showlegend\":true,\"x\":[0,0,0,0,0],\"xaxis\":\"x\",\"y\":[\"\\u041f\\u0435\\u0440\\u0435\\u0445\\u043e\\u0434 \\u043d\\u0430 \\u043b\\u044d\\u043d\\u0434\\u0438\\u043d\\u0433\",\"\\u0420\\u0435\\u0433\\u0438\\u0441\\u0442\\u0440\\u0430\\u0446\\u0438\\u044f\",\"\\u0414\\u043e\\u0431\\u0430\\u0432\\u043b\\u0435\\u043d\\u0438\\u0435 \\u043f\\u0435\\u0440\\u0432\\u043e\\u0433\\u043e \\u0431\\u043b\\u043e\\u043a\\u0430\",\"\\u041f\\u043e\\u043f\\u044b\\u0442\\u043a\\u0430 \\u043e\\u043f\\u043b\\u0430\\u0442\\u044b\",\"\\u041f\\u043e\\u043a\\u0443\\u043f\\u043a\\u0430 \\u043f\\u043b\\u0430\\u0442\\u043d\\u043e\\u0433\\u043e \\u0442\\u0430\\u0440\\u0438\\u0444\\u0430\"],\"yaxis\":\"y\",\"type\":\"funnel\"},{\"hovertemplate\":\"utm_campaign=test2<br>count=%{x}<br>event=%{y}<extra></extra>\",\"legendgroup\":\"test2\",\"marker\":{\"color\":\"#FF97FF\"},\"name\":\"test2\",\"orientation\":\"h\",\"showlegend\":true,\"x\":[0,0,0,0,0],\"xaxis\":\"x\",\"y\":[\"\\u041f\\u0435\\u0440\\u0435\\u0445\\u043e\\u0434 \\u043d\\u0430 \\u043b\\u044d\\u043d\\u0434\\u0438\\u043d\\u0433\",\"\\u0420\\u0435\\u0433\\u0438\\u0441\\u0442\\u0440\\u0430\\u0446\\u0438\\u044f\",\"\\u0414\\u043e\\u0431\\u0430\\u0432\\u043b\\u0435\\u043d\\u0438\\u0435 \\u043f\\u0435\\u0440\\u0432\\u043e\\u0433\\u043e \\u0431\\u043b\\u043e\\u043a\\u0430\",\"\\u041f\\u043e\\u043f\\u044b\\u0442\\u043a\\u0430 \\u043e\\u043f\\u043b\\u0430\\u0442\\u044b\",\"\\u041f\\u043e\\u043a\\u0443\\u043f\\u043a\\u0430 \\u043f\\u043b\\u0430\\u0442\\u043d\\u043e\\u0433\\u043e \\u0442\\u0430\\u0440\\u0438\\u0444\\u0430\"],\"yaxis\":\"y\",\"type\":\"funnel\"},{\"hovertemplate\":\"utm_campaign=cid|13244871763|0521|google|cpc|ru|tranzak|samostoyatelno<br>count=%{x}<br>event=%{y}<extra></extra>\",\"legendgroup\":\"cid|13244871763|0521|google|cpc|ru|tranzak|samostoyatelno\",\"marker\":{\"color\":\"#FECB52\"},\"name\":\"cid|13244871763|0521|google|cpc|ru|tranzak|samostoyatelno\",\"orientation\":\"h\",\"showlegend\":true,\"x\":[0,0,1,0,0],\"xaxis\":\"x\",\"y\":[\"\\u041f\\u0435\\u0440\\u0435\\u0445\\u043e\\u0434 \\u043d\\u0430 \\u043b\\u044d\\u043d\\u0434\\u0438\\u043d\\u0433\",\"\\u0420\\u0435\\u0433\\u0438\\u0441\\u0442\\u0440\\u0430\\u0446\\u0438\\u044f\",\"\\u0414\\u043e\\u0431\\u0430\\u0432\\u043b\\u0435\\u043d\\u0438\\u0435 \\u043f\\u0435\\u0440\\u0432\\u043e\\u0433\\u043e \\u0431\\u043b\\u043e\\u043a\\u0430\",\"\\u041f\\u043e\\u043f\\u044b\\u0442\\u043a\\u0430 \\u043e\\u043f\\u043b\\u0430\\u0442\\u044b\",\"\\u041f\\u043e\\u043a\\u0443\\u043f\\u043a\\u0430 \\u043f\\u043b\\u0430\\u0442\\u043d\\u043e\\u0433\\u043e \\u0442\\u0430\\u0440\\u0438\\u0444\\u0430\"],\"yaxis\":\"y\",\"type\":\"funnel\"},{\"hovertemplate\":\"utm_campaign=cid|13824308637|0721|google|cpc|by|teplye_2|besplatno<br>count=%{x}<br>event=%{y}<extra></extra>\",\"legendgroup\":\"cid|13824308637|0721|google|cpc|by|teplye_2|besplatno\",\"marker\":{\"color\":\"#636efa\"},\"name\":\"cid|13824308637|0721|google|cpc|by|teplye_2|besplatno\",\"orientation\":\"h\",\"showlegend\":true,\"x\":[1,0,0,0,0],\"xaxis\":\"x\",\"y\":[\"\\u041f\\u0435\\u0440\\u0435\\u0445\\u043e\\u0434 \\u043d\\u0430 \\u043b\\u044d\\u043d\\u0434\\u0438\\u043d\\u0433\",\"\\u0420\\u0435\\u0433\\u0438\\u0441\\u0442\\u0440\\u0430\\u0446\\u0438\\u044f\",\"\\u0414\\u043e\\u0431\\u0430\\u0432\\u043b\\u0435\\u043d\\u0438\\u0435 \\u043f\\u0435\\u0440\\u0432\\u043e\\u0433\\u043e \\u0431\\u043b\\u043e\\u043a\\u0430\",\"\\u041f\\u043e\\u043f\\u044b\\u0442\\u043a\\u0430 \\u043e\\u043f\\u043b\\u0430\\u0442\\u044b\",\"\\u041f\\u043e\\u043a\\u0443\\u043f\\u043a\\u0430 \\u043f\\u043b\\u0430\\u0442\\u043d\\u043e\\u0433\\u043e \\u0442\\u0430\\u0440\\u0438\\u0444\\u0430\"],\"yaxis\":\"y\",\"type\":\"funnel\"}],                        {\"template\":{\"data\":{\"bar\":[{\"error_x\":{\"color\":\"#2a3f5f\"},\"error_y\":{\"color\":\"#2a3f5f\"},\"marker\":{\"line\":{\"color\":\"#E5ECF6\",\"width\":0.5},\"pattern\":{\"fillmode\":\"overlay\",\"size\":10,\"solidity\":0.2}},\"type\":\"bar\"}],\"barpolar\":[{\"marker\":{\"line\":{\"color\":\"#E5ECF6\",\"width\":0.5},\"pattern\":{\"fillmode\":\"overlay\",\"size\":10,\"solidity\":0.2}},\"type\":\"barpolar\"}],\"carpet\":[{\"aaxis\":{\"endlinecolor\":\"#2a3f5f\",\"gridcolor\":\"white\",\"linecolor\":\"white\",\"minorgridcolor\":\"white\",\"startlinecolor\":\"#2a3f5f\"},\"baxis\":{\"endlinecolor\":\"#2a3f5f\",\"gridcolor\":\"white\",\"linecolor\":\"white\",\"minorgridcolor\":\"white\",\"startlinecolor\":\"#2a3f5f\"},\"type\":\"carpet\"}],\"choropleth\":[{\"colorbar\":{\"outlinewidth\":0,\"ticks\":\"\"},\"type\":\"choropleth\"}],\"contour\":[{\"colorbar\":{\"outlinewidth\":0,\"ticks\":\"\"},\"colorscale\":[[0.0,\"#0d0887\"],[0.1111111111111111,\"#46039f\"],[0.2222222222222222,\"#7201a8\"],[0.3333333333333333,\"#9c179e\"],[0.4444444444444444,\"#bd3786\"],[0.5555555555555556,\"#d8576b\"],[0.6666666666666666,\"#ed7953\"],[0.7777777777777778,\"#fb9f3a\"],[0.8888888888888888,\"#fdca26\"],[1.0,\"#f0f921\"]],\"type\":\"contour\"}],\"contourcarpet\":[{\"colorbar\":{\"outlinewidth\":0,\"ticks\":\"\"},\"type\":\"contourcarpet\"}],\"heatmap\":[{\"colorbar\":{\"outlinewidth\":0,\"ticks\":\"\"},\"colorscale\":[[0.0,\"#0d0887\"],[0.1111111111111111,\"#46039f\"],[0.2222222222222222,\"#7201a8\"],[0.3333333333333333,\"#9c179e\"],[0.4444444444444444,\"#bd3786\"],[0.5555555555555556,\"#d8576b\"],[0.6666666666666666,\"#ed7953\"],[0.7777777777777778,\"#fb9f3a\"],[0.8888888888888888,\"#fdca26\"],[1.0,\"#f0f921\"]],\"type\":\"heatmap\"}],\"heatmapgl\":[{\"colorbar\":{\"outlinewidth\":0,\"ticks\":\"\"},\"colorscale\":[[0.0,\"#0d0887\"],[0.1111111111111111,\"#46039f\"],[0.2222222222222222,\"#7201a8\"],[0.3333333333333333,\"#9c179e\"],[0.4444444444444444,\"#bd3786\"],[0.5555555555555556,\"#d8576b\"],[0.6666666666666666,\"#ed7953\"],[0.7777777777777778,\"#fb9f3a\"],[0.8888888888888888,\"#fdca26\"],[1.0,\"#f0f921\"]],\"type\":\"heatmapgl\"}],\"histogram\":[{\"marker\":{\"pattern\":{\"fillmode\":\"overlay\",\"size\":10,\"solidity\":0.2}},\"type\":\"histogram\"}],\"histogram2d\":[{\"colorbar\":{\"outlinewidth\":0,\"ticks\":\"\"},\"colorscale\":[[0.0,\"#0d0887\"],[0.1111111111111111,\"#46039f\"],[0.2222222222222222,\"#7201a8\"],[0.3333333333333333,\"#9c179e\"],[0.4444444444444444,\"#bd3786\"],[0.5555555555555556,\"#d8576b\"],[0.6666666666666666,\"#ed7953\"],[0.7777777777777778,\"#fb9f3a\"],[0.8888888888888888,\"#fdca26\"],[1.0,\"#f0f921\"]],\"type\":\"histogram2d\"}],\"histogram2dcontour\":[{\"colorbar\":{\"outlinewidth\":0,\"ticks\":\"\"},\"colorscale\":[[0.0,\"#0d0887\"],[0.1111111111111111,\"#46039f\"],[0.2222222222222222,\"#7201a8\"],[0.3333333333333333,\"#9c179e\"],[0.4444444444444444,\"#bd3786\"],[0.5555555555555556,\"#d8576b\"],[0.6666666666666666,\"#ed7953\"],[0.7777777777777778,\"#fb9f3a\"],[0.8888888888888888,\"#fdca26\"],[1.0,\"#f0f921\"]],\"type\":\"histogram2dcontour\"}],\"mesh3d\":[{\"colorbar\":{\"outlinewidth\":0,\"ticks\":\"\"},\"type\":\"mesh3d\"}],\"parcoords\":[{\"line\":{\"colorbar\":{\"outlinewidth\":0,\"ticks\":\"\"}},\"type\":\"parcoords\"}],\"pie\":[{\"automargin\":true,\"type\":\"pie\"}],\"scatter\":[{\"marker\":{\"colorbar\":{\"outlinewidth\":0,\"ticks\":\"\"}},\"type\":\"scatter\"}],\"scatter3d\":[{\"line\":{\"colorbar\":{\"outlinewidth\":0,\"ticks\":\"\"}},\"marker\":{\"colorbar\":{\"outlinewidth\":0,\"ticks\":\"\"}},\"type\":\"scatter3d\"}],\"scattercarpet\":[{\"marker\":{\"colorbar\":{\"outlinewidth\":0,\"ticks\":\"\"}},\"type\":\"scattercarpet\"}],\"scattergeo\":[{\"marker\":{\"colorbar\":{\"outlinewidth\":0,\"ticks\":\"\"}},\"type\":\"scattergeo\"}],\"scattergl\":[{\"marker\":{\"colorbar\":{\"outlinewidth\":0,\"ticks\":\"\"}},\"type\":\"scattergl\"}],\"scattermapbox\":[{\"marker\":{\"colorbar\":{\"outlinewidth\":0,\"ticks\":\"\"}},\"type\":\"scattermapbox\"}],\"scatterpolar\":[{\"marker\":{\"colorbar\":{\"outlinewidth\":0,\"ticks\":\"\"}},\"type\":\"scatterpolar\"}],\"scatterpolargl\":[{\"marker\":{\"colorbar\":{\"outlinewidth\":0,\"ticks\":\"\"}},\"type\":\"scatterpolargl\"}],\"scatterternary\":[{\"marker\":{\"colorbar\":{\"outlinewidth\":0,\"ticks\":\"\"}},\"type\":\"scatterternary\"}],\"surface\":[{\"colorbar\":{\"outlinewidth\":0,\"ticks\":\"\"},\"colorscale\":[[0.0,\"#0d0887\"],[0.1111111111111111,\"#46039f\"],[0.2222222222222222,\"#7201a8\"],[0.3333333333333333,\"#9c179e\"],[0.4444444444444444,\"#bd3786\"],[0.5555555555555556,\"#d8576b\"],[0.6666666666666666,\"#ed7953\"],[0.7777777777777778,\"#fb9f3a\"],[0.8888888888888888,\"#fdca26\"],[1.0,\"#f0f921\"]],\"type\":\"surface\"}],\"table\":[{\"cells\":{\"fill\":{\"color\":\"#EBF0F8\"},\"line\":{\"color\":\"white\"}},\"header\":{\"fill\":{\"color\":\"#C8D4E3\"},\"line\":{\"color\":\"white\"}},\"type\":\"table\"}]},\"layout\":{\"annotationdefaults\":{\"arrowcolor\":\"#2a3f5f\",\"arrowhead\":0,\"arrowwidth\":1},\"autotypenumbers\":\"strict\",\"coloraxis\":{\"colorbar\":{\"outlinewidth\":0,\"ticks\":\"\"}},\"colorscale\":{\"diverging\":[[0,\"#8e0152\"],[0.1,\"#c51b7d\"],[0.2,\"#de77ae\"],[0.3,\"#f1b6da\"],[0.4,\"#fde0ef\"],[0.5,\"#f7f7f7\"],[0.6,\"#e6f5d0\"],[0.7,\"#b8e186\"],[0.8,\"#7fbc41\"],[0.9,\"#4d9221\"],[1,\"#276419\"]],\"sequential\":[[0.0,\"#0d0887\"],[0.1111111111111111,\"#46039f\"],[0.2222222222222222,\"#7201a8\"],[0.3333333333333333,\"#9c179e\"],[0.4444444444444444,\"#bd3786\"],[0.5555555555555556,\"#d8576b\"],[0.6666666666666666,\"#ed7953\"],[0.7777777777777778,\"#fb9f3a\"],[0.8888888888888888,\"#fdca26\"],[1.0,\"#f0f921\"]],\"sequentialminus\":[[0.0,\"#0d0887\"],[0.1111111111111111,\"#46039f\"],[0.2222222222222222,\"#7201a8\"],[0.3333333333333333,\"#9c179e\"],[0.4444444444444444,\"#bd3786\"],[0.5555555555555556,\"#d8576b\"],[0.6666666666666666,\"#ed7953\"],[0.7777777777777778,\"#fb9f3a\"],[0.8888888888888888,\"#fdca26\"],[1.0,\"#f0f921\"]]},\"colorway\":[\"#636efa\",\"#EF553B\",\"#00cc96\",\"#ab63fa\",\"#FFA15A\",\"#19d3f3\",\"#FF6692\",\"#B6E880\",\"#FF97FF\",\"#FECB52\"],\"font\":{\"color\":\"#2a3f5f\"},\"geo\":{\"bgcolor\":\"white\",\"lakecolor\":\"white\",\"landcolor\":\"#E5ECF6\",\"showlakes\":true,\"showland\":true,\"subunitcolor\":\"white\"},\"hoverlabel\":{\"align\":\"left\"},\"hovermode\":\"closest\",\"mapbox\":{\"style\":\"light\"},\"paper_bgcolor\":\"white\",\"plot_bgcolor\":\"#E5ECF6\",\"polar\":{\"angularaxis\":{\"gridcolor\":\"white\",\"linecolor\":\"white\",\"ticks\":\"\"},\"bgcolor\":\"#E5ECF6\",\"radialaxis\":{\"gridcolor\":\"white\",\"linecolor\":\"white\",\"ticks\":\"\"}},\"scene\":{\"xaxis\":{\"backgroundcolor\":\"#E5ECF6\",\"gridcolor\":\"white\",\"gridwidth\":2,\"linecolor\":\"white\",\"showbackground\":true,\"ticks\":\"\",\"zerolinecolor\":\"white\"},\"yaxis\":{\"backgroundcolor\":\"#E5ECF6\",\"gridcolor\":\"white\",\"gridwidth\":2,\"linecolor\":\"white\",\"showbackground\":true,\"ticks\":\"\",\"zerolinecolor\":\"white\"},\"zaxis\":{\"backgroundcolor\":\"#E5ECF6\",\"gridcolor\":\"white\",\"gridwidth\":2,\"linecolor\":\"white\",\"showbackground\":true,\"ticks\":\"\",\"zerolinecolor\":\"white\"}},\"shapedefaults\":{\"line\":{\"color\":\"#2a3f5f\"}},\"ternary\":{\"aaxis\":{\"gridcolor\":\"white\",\"linecolor\":\"white\",\"ticks\":\"\"},\"baxis\":{\"gridcolor\":\"white\",\"linecolor\":\"white\",\"ticks\":\"\"},\"bgcolor\":\"#E5ECF6\",\"caxis\":{\"gridcolor\":\"white\",\"linecolor\":\"white\",\"ticks\":\"\"}},\"title\":{\"x\":0.05},\"xaxis\":{\"automargin\":true,\"gridcolor\":\"white\",\"linecolor\":\"white\",\"ticks\":\"\",\"title\":{\"standoff\":15},\"zerolinecolor\":\"white\",\"zerolinewidth\":2},\"yaxis\":{\"automargin\":true,\"gridcolor\":\"white\",\"linecolor\":\"white\",\"ticks\":\"\",\"title\":{\"standoff\":15},\"zerolinecolor\":\"white\",\"zerolinewidth\":2}}},\"xaxis\":{\"anchor\":\"y\",\"domain\":[0.0,1.0],\"title\":{\"text\":\"count\"}},\"yaxis\":{\"anchor\":\"x\",\"domain\":[0.0,1.0],\"title\":{\"text\":\"event\"}},\"legend\":{\"title\":{\"text\":\"utm_campaign\"},\"tracegroupgap\":0},\"margin\":{\"t\":60}},                        {\"responsive\": true}                    ).then(function(){\n",
       "                            \n",
       "var gd = document.getElementById('74876963-441a-4aaa-8d2d-994ad9f74dbd');\n",
       "var x = new MutationObserver(function (mutations, observer) {{\n",
       "        var display = window.getComputedStyle(gd).display;\n",
       "        if (!display || display === 'none') {{\n",
       "            console.log([gd, 'removed!']);\n",
       "            Plotly.purge(gd);\n",
       "            observer.disconnect();\n",
       "        }}\n",
       "}});\n",
       "\n",
       "// Listen for the removal of the full notebook cells\n",
       "var notebookContainer = gd.closest('#notebook-container');\n",
       "if (notebookContainer) {{\n",
       "    x.observe(notebookContainer, {childList: true});\n",
       "}}\n",
       "\n",
       "// Listen for the clearing of the current output cell\n",
       "var outputEl = gd.closest('.output');\n",
       "if (outputEl) {{\n",
       "    x.observe(outputEl, {childList: true});\n",
       "}}\n",
       "\n",
       "                        })                };                });            </script>        </div>"
      ]
     },
     "metadata": {},
     "output_type": "display_data"
    },
    {
     "name": "stdout",
     "output_type": "stream",
     "text": [
      "# Разбивка по источнику трафика\n"
     ]
    },
    {
     "data": {
      "application/vnd.plotly.v1+json": {
       "config": {
        "plotlyServerURL": "https://plot.ly"
       },
       "data": [
        {
         "hovertemplate": "utm_source= - <br>count=%{x}<br>event=%{y}<extra></extra>",
         "legendgroup": " - ",
         "marker": {
          "color": "#636efa"
         },
         "name": " - ",
         "orientation": "h",
         "showlegend": true,
         "type": "funnel",
         "x": [
          0,
          0,
          0,
          0,
          0
         ],
         "xaxis": "x",
         "y": [
          "Переход на лэндинг",
          "Регистрация",
          "Добавление первого блока",
          "Попытка оплаты",
          "Покупка платного тарифа"
         ],
         "yaxis": "y"
        },
        {
         "hovertemplate": "utm_source=yandex<br>count=%{x}<br>event=%{y}<extra></extra>",
         "legendgroup": "yandex",
         "marker": {
          "color": "#EF553B"
         },
         "name": "yandex",
         "orientation": "h",
         "showlegend": true,
         "type": "funnel",
         "x": [
          3796,
          0,
          959,
          90,
          8
         ],
         "xaxis": "x",
         "y": [
          "Переход на лэндинг",
          "Регистрация",
          "Добавление первого блока",
          "Попытка оплаты",
          "Покупка платного тарифа"
         ],
         "yaxis": "y"
        },
        {
         "hovertemplate": "utm_source=visitka<br>count=%{x}<br>event=%{y}<extra></extra>",
         "legendgroup": "visitka",
         "marker": {
          "color": "#00cc96"
         },
         "name": "visitka",
         "orientation": "h",
         "showlegend": true,
         "type": "funnel",
         "x": [
          151,
          487,
          472,
          44,
          2
         ],
         "xaxis": "x",
         "y": [
          "Переход на лэндинг",
          "Регистрация",
          "Добавление первого блока",
          "Попытка оплаты",
          "Покупка платного тарифа"
         ],
         "yaxis": "y"
        },
        {
         "hovertemplate": "utm_source=wazzup<br>count=%{x}<br>event=%{y}<extra></extra>",
         "legendgroup": "wazzup",
         "marker": {
          "color": "#ab63fa"
         },
         "name": "wazzup",
         "orientation": "h",
         "showlegend": true,
         "type": "funnel",
         "x": [
          669,
          0,
          23,
          0,
          0
         ],
         "xaxis": "x",
         "y": [
          "Переход на лэндинг",
          "Регистрация",
          "Добавление первого блока",
          "Попытка оплаты",
          "Покупка платного тарифа"
         ],
         "yaxis": "y"
        },
        {
         "hovertemplate": "utm_source=404<br>count=%{x}<br>event=%{y}<extra></extra>",
         "legendgroup": "404",
         "marker": {
          "color": "#FFA15A"
         },
         "name": "404",
         "orientation": "h",
         "showlegend": true,
         "type": "funnel",
         "x": [
          96,
          0,
          15,
          2,
          0
         ],
         "xaxis": "x",
         "y": [
          "Переход на лэндинг",
          "Регистрация",
          "Добавление первого блока",
          "Попытка оплаты",
          "Покупка платного тарифа"
         ],
         "yaxis": "y"
        },
        {
         "hovertemplate": "utm_source=google<br>count=%{x}<br>event=%{y}<extra></extra>",
         "legendgroup": "google",
         "marker": {
          "color": "#19d3f3"
         },
         "name": "google",
         "orientation": "h",
         "showlegend": true,
         "type": "funnel",
         "x": [
          146,
          0,
          34,
          3,
          0
         ],
         "xaxis": "x",
         "y": [
          "Переход на лэндинг",
          "Регистрация",
          "Добавление первого блока",
          "Попытка оплаты",
          "Покупка платного тарифа"
         ],
         "yaxis": "y"
        },
        {
         "hovertemplate": "utm_source=vk<br>count=%{x}<br>event=%{y}<extra></extra>",
         "legendgroup": "vk",
         "marker": {
          "color": "#FF6692"
         },
         "name": "vk",
         "orientation": "h",
         "showlegend": true,
         "type": "funnel",
         "x": [
          4,
          0,
          1,
          0,
          0
         ],
         "xaxis": "x",
         "y": [
          "Переход на лэндинг",
          "Регистрация",
          "Добавление первого блока",
          "Попытка оплаты",
          "Покупка платного тарифа"
         ],
         "yaxis": "y"
        },
        {
         "hovertemplate": "utm_source=telegram<br>count=%{x}<br>event=%{y}<extra></extra>",
         "legendgroup": "telegram",
         "marker": {
          "color": "#B6E880"
         },
         "name": "telegram",
         "orientation": "h",
         "showlegend": true,
         "type": "funnel",
         "x": [
          232,
          0,
          4,
          0,
          0
         ],
         "xaxis": "x",
         "y": [
          "Переход на лэндинг",
          "Регистрация",
          "Добавление первого блока",
          "Попытка оплаты",
          "Покупка платного тарифа"
         ],
         "yaxis": "y"
        },
        {
         "hovertemplate": "utm_source=mytarget<br>count=%{x}<br>event=%{y}<extra></extra>",
         "legendgroup": "mytarget",
         "marker": {
          "color": "#FF97FF"
         },
         "name": "mytarget",
         "orientation": "h",
         "showlegend": true,
         "type": "funnel",
         "x": [
          616,
          0,
          1,
          0,
          0
         ],
         "xaxis": "x",
         "y": [
          "Переход на лэндинг",
          "Регистрация",
          "Добавление первого блока",
          "Попытка оплаты",
          "Покупка платного тарифа"
         ],
         "yaxis": "y"
        },
        {
         "hovertemplate": "utm_source=instagram<br>count=%{x}<br>event=%{y}<extra></extra>",
         "legendgroup": "instagram",
         "marker": {
          "color": "#FECB52"
         },
         "name": "instagram",
         "orientation": "h",
         "showlegend": true,
         "type": "funnel",
         "x": [
          4,
          0,
          0,
          0,
          0
         ],
         "xaxis": "x",
         "y": [
          "Переход на лэндинг",
          "Регистрация",
          "Добавление первого блока",
          "Попытка оплаты",
          "Покупка платного тарифа"
         ],
         "yaxis": "y"
        },
        {
         "hovertemplate": "utm_source=aDqCFY<br>count=%{x}<br>event=%{y}<extra></extra>",
         "legendgroup": "aDqCFY",
         "marker": {
          "color": "#636efa"
         },
         "name": "aDqCFY",
         "orientation": "h",
         "showlegend": true,
         "type": "funnel",
         "x": [
          1,
          0,
          0,
          0,
          0
         ],
         "xaxis": "x",
         "y": [
          "Переход на лэндинг",
          "Регистрация",
          "Добавление первого блока",
          "Попытка оплаты",
          "Покупка платного тарифа"
         ],
         "yaxis": "y"
        },
        {
         "hovertemplate": "utm_source=vkontakte<br>count=%{x}<br>event=%{y}<extra></extra>",
         "legendgroup": "vkontakte",
         "marker": {
          "color": "#EF553B"
         },
         "name": "vkontakte",
         "orientation": "h",
         "showlegend": true,
         "type": "funnel",
         "x": [
          1,
          0,
          0,
          0,
          0
         ],
         "xaxis": "x",
         "y": [
          "Переход на лэндинг",
          "Регистрация",
          "Добавление первого блока",
          "Попытка оплаты",
          "Покупка платного тарифа"
         ],
         "yaxis": "y"
        },
        {
         "hovertemplate": "utm_source=yandex_poisk<br>count=%{x}<br>event=%{y}<extra></extra>",
         "legendgroup": "yandex_poisk",
         "marker": {
          "color": "#00cc96"
         },
         "name": "yandex_poisk",
         "orientation": "h",
         "showlegend": true,
         "type": "funnel",
         "x": [
          4,
          0,
          0,
          0,
          0
         ],
         "xaxis": "x",
         "y": [
          "Переход на лэндинг",
          "Регистрация",
          "Добавление первого блока",
          "Попытка оплаты",
          "Покупка платного тарифа"
         ],
         "yaxis": "y"
        },
        {
         "hovertemplate": "utm_source=waba<br>count=%{x}<br>event=%{y}<extra></extra>",
         "legendgroup": "waba",
         "marker": {
          "color": "#ab63fa"
         },
         "name": "waba",
         "orientation": "h",
         "showlegend": true,
         "type": "funnel",
         "x": [
          0,
          0,
          1,
          0,
          0
         ],
         "xaxis": "x",
         "y": [
          "Переход на лэндинг",
          "Регистрация",
          "Добавление первого блока",
          "Попытка оплаты",
          "Покупка платного тарифа"
         ],
         "yaxis": "y"
        }
       ],
       "layout": {
        "legend": {
         "title": {
          "text": "utm_source"
         },
         "tracegroupgap": 0
        },
        "margin": {
         "t": 60
        },
        "template": {
         "data": {
          "bar": [
           {
            "error_x": {
             "color": "#2a3f5f"
            },
            "error_y": {
             "color": "#2a3f5f"
            },
            "marker": {
             "line": {
              "color": "#E5ECF6",
              "width": 0.5
             },
             "pattern": {
              "fillmode": "overlay",
              "size": 10,
              "solidity": 0.2
             }
            },
            "type": "bar"
           }
          ],
          "barpolar": [
           {
            "marker": {
             "line": {
              "color": "#E5ECF6",
              "width": 0.5
             },
             "pattern": {
              "fillmode": "overlay",
              "size": 10,
              "solidity": 0.2
             }
            },
            "type": "barpolar"
           }
          ],
          "carpet": [
           {
            "aaxis": {
             "endlinecolor": "#2a3f5f",
             "gridcolor": "white",
             "linecolor": "white",
             "minorgridcolor": "white",
             "startlinecolor": "#2a3f5f"
            },
            "baxis": {
             "endlinecolor": "#2a3f5f",
             "gridcolor": "white",
             "linecolor": "white",
             "minorgridcolor": "white",
             "startlinecolor": "#2a3f5f"
            },
            "type": "carpet"
           }
          ],
          "choropleth": [
           {
            "colorbar": {
             "outlinewidth": 0,
             "ticks": ""
            },
            "type": "choropleth"
           }
          ],
          "contour": [
           {
            "colorbar": {
             "outlinewidth": 0,
             "ticks": ""
            },
            "colorscale": [
             [
              0,
              "#0d0887"
             ],
             [
              0.1111111111111111,
              "#46039f"
             ],
             [
              0.2222222222222222,
              "#7201a8"
             ],
             [
              0.3333333333333333,
              "#9c179e"
             ],
             [
              0.4444444444444444,
              "#bd3786"
             ],
             [
              0.5555555555555556,
              "#d8576b"
             ],
             [
              0.6666666666666666,
              "#ed7953"
             ],
             [
              0.7777777777777778,
              "#fb9f3a"
             ],
             [
              0.8888888888888888,
              "#fdca26"
             ],
             [
              1,
              "#f0f921"
             ]
            ],
            "type": "contour"
           }
          ],
          "contourcarpet": [
           {
            "colorbar": {
             "outlinewidth": 0,
             "ticks": ""
            },
            "type": "contourcarpet"
           }
          ],
          "heatmap": [
           {
            "colorbar": {
             "outlinewidth": 0,
             "ticks": ""
            },
            "colorscale": [
             [
              0,
              "#0d0887"
             ],
             [
              0.1111111111111111,
              "#46039f"
             ],
             [
              0.2222222222222222,
              "#7201a8"
             ],
             [
              0.3333333333333333,
              "#9c179e"
             ],
             [
              0.4444444444444444,
              "#bd3786"
             ],
             [
              0.5555555555555556,
              "#d8576b"
             ],
             [
              0.6666666666666666,
              "#ed7953"
             ],
             [
              0.7777777777777778,
              "#fb9f3a"
             ],
             [
              0.8888888888888888,
              "#fdca26"
             ],
             [
              1,
              "#f0f921"
             ]
            ],
            "type": "heatmap"
           }
          ],
          "heatmapgl": [
           {
            "colorbar": {
             "outlinewidth": 0,
             "ticks": ""
            },
            "colorscale": [
             [
              0,
              "#0d0887"
             ],
             [
              0.1111111111111111,
              "#46039f"
             ],
             [
              0.2222222222222222,
              "#7201a8"
             ],
             [
              0.3333333333333333,
              "#9c179e"
             ],
             [
              0.4444444444444444,
              "#bd3786"
             ],
             [
              0.5555555555555556,
              "#d8576b"
             ],
             [
              0.6666666666666666,
              "#ed7953"
             ],
             [
              0.7777777777777778,
              "#fb9f3a"
             ],
             [
              0.8888888888888888,
              "#fdca26"
             ],
             [
              1,
              "#f0f921"
             ]
            ],
            "type": "heatmapgl"
           }
          ],
          "histogram": [
           {
            "marker": {
             "pattern": {
              "fillmode": "overlay",
              "size": 10,
              "solidity": 0.2
             }
            },
            "type": "histogram"
           }
          ],
          "histogram2d": [
           {
            "colorbar": {
             "outlinewidth": 0,
             "ticks": ""
            },
            "colorscale": [
             [
              0,
              "#0d0887"
             ],
             [
              0.1111111111111111,
              "#46039f"
             ],
             [
              0.2222222222222222,
              "#7201a8"
             ],
             [
              0.3333333333333333,
              "#9c179e"
             ],
             [
              0.4444444444444444,
              "#bd3786"
             ],
             [
              0.5555555555555556,
              "#d8576b"
             ],
             [
              0.6666666666666666,
              "#ed7953"
             ],
             [
              0.7777777777777778,
              "#fb9f3a"
             ],
             [
              0.8888888888888888,
              "#fdca26"
             ],
             [
              1,
              "#f0f921"
             ]
            ],
            "type": "histogram2d"
           }
          ],
          "histogram2dcontour": [
           {
            "colorbar": {
             "outlinewidth": 0,
             "ticks": ""
            },
            "colorscale": [
             [
              0,
              "#0d0887"
             ],
             [
              0.1111111111111111,
              "#46039f"
             ],
             [
              0.2222222222222222,
              "#7201a8"
             ],
             [
              0.3333333333333333,
              "#9c179e"
             ],
             [
              0.4444444444444444,
              "#bd3786"
             ],
             [
              0.5555555555555556,
              "#d8576b"
             ],
             [
              0.6666666666666666,
              "#ed7953"
             ],
             [
              0.7777777777777778,
              "#fb9f3a"
             ],
             [
              0.8888888888888888,
              "#fdca26"
             ],
             [
              1,
              "#f0f921"
             ]
            ],
            "type": "histogram2dcontour"
           }
          ],
          "mesh3d": [
           {
            "colorbar": {
             "outlinewidth": 0,
             "ticks": ""
            },
            "type": "mesh3d"
           }
          ],
          "parcoords": [
           {
            "line": {
             "colorbar": {
              "outlinewidth": 0,
              "ticks": ""
             }
            },
            "type": "parcoords"
           }
          ],
          "pie": [
           {
            "automargin": true,
            "type": "pie"
           }
          ],
          "scatter": [
           {
            "marker": {
             "colorbar": {
              "outlinewidth": 0,
              "ticks": ""
             }
            },
            "type": "scatter"
           }
          ],
          "scatter3d": [
           {
            "line": {
             "colorbar": {
              "outlinewidth": 0,
              "ticks": ""
             }
            },
            "marker": {
             "colorbar": {
              "outlinewidth": 0,
              "ticks": ""
             }
            },
            "type": "scatter3d"
           }
          ],
          "scattercarpet": [
           {
            "marker": {
             "colorbar": {
              "outlinewidth": 0,
              "ticks": ""
             }
            },
            "type": "scattercarpet"
           }
          ],
          "scattergeo": [
           {
            "marker": {
             "colorbar": {
              "outlinewidth": 0,
              "ticks": ""
             }
            },
            "type": "scattergeo"
           }
          ],
          "scattergl": [
           {
            "marker": {
             "colorbar": {
              "outlinewidth": 0,
              "ticks": ""
             }
            },
            "type": "scattergl"
           }
          ],
          "scattermapbox": [
           {
            "marker": {
             "colorbar": {
              "outlinewidth": 0,
              "ticks": ""
             }
            },
            "type": "scattermapbox"
           }
          ],
          "scatterpolar": [
           {
            "marker": {
             "colorbar": {
              "outlinewidth": 0,
              "ticks": ""
             }
            },
            "type": "scatterpolar"
           }
          ],
          "scatterpolargl": [
           {
            "marker": {
             "colorbar": {
              "outlinewidth": 0,
              "ticks": ""
             }
            },
            "type": "scatterpolargl"
           }
          ],
          "scatterternary": [
           {
            "marker": {
             "colorbar": {
              "outlinewidth": 0,
              "ticks": ""
             }
            },
            "type": "scatterternary"
           }
          ],
          "surface": [
           {
            "colorbar": {
             "outlinewidth": 0,
             "ticks": ""
            },
            "colorscale": [
             [
              0,
              "#0d0887"
             ],
             [
              0.1111111111111111,
              "#46039f"
             ],
             [
              0.2222222222222222,
              "#7201a8"
             ],
             [
              0.3333333333333333,
              "#9c179e"
             ],
             [
              0.4444444444444444,
              "#bd3786"
             ],
             [
              0.5555555555555556,
              "#d8576b"
             ],
             [
              0.6666666666666666,
              "#ed7953"
             ],
             [
              0.7777777777777778,
              "#fb9f3a"
             ],
             [
              0.8888888888888888,
              "#fdca26"
             ],
             [
              1,
              "#f0f921"
             ]
            ],
            "type": "surface"
           }
          ],
          "table": [
           {
            "cells": {
             "fill": {
              "color": "#EBF0F8"
             },
             "line": {
              "color": "white"
             }
            },
            "header": {
             "fill": {
              "color": "#C8D4E3"
             },
             "line": {
              "color": "white"
             }
            },
            "type": "table"
           }
          ]
         },
         "layout": {
          "annotationdefaults": {
           "arrowcolor": "#2a3f5f",
           "arrowhead": 0,
           "arrowwidth": 1
          },
          "autotypenumbers": "strict",
          "coloraxis": {
           "colorbar": {
            "outlinewidth": 0,
            "ticks": ""
           }
          },
          "colorscale": {
           "diverging": [
            [
             0,
             "#8e0152"
            ],
            [
             0.1,
             "#c51b7d"
            ],
            [
             0.2,
             "#de77ae"
            ],
            [
             0.3,
             "#f1b6da"
            ],
            [
             0.4,
             "#fde0ef"
            ],
            [
             0.5,
             "#f7f7f7"
            ],
            [
             0.6,
             "#e6f5d0"
            ],
            [
             0.7,
             "#b8e186"
            ],
            [
             0.8,
             "#7fbc41"
            ],
            [
             0.9,
             "#4d9221"
            ],
            [
             1,
             "#276419"
            ]
           ],
           "sequential": [
            [
             0,
             "#0d0887"
            ],
            [
             0.1111111111111111,
             "#46039f"
            ],
            [
             0.2222222222222222,
             "#7201a8"
            ],
            [
             0.3333333333333333,
             "#9c179e"
            ],
            [
             0.4444444444444444,
             "#bd3786"
            ],
            [
             0.5555555555555556,
             "#d8576b"
            ],
            [
             0.6666666666666666,
             "#ed7953"
            ],
            [
             0.7777777777777778,
             "#fb9f3a"
            ],
            [
             0.8888888888888888,
             "#fdca26"
            ],
            [
             1,
             "#f0f921"
            ]
           ],
           "sequentialminus": [
            [
             0,
             "#0d0887"
            ],
            [
             0.1111111111111111,
             "#46039f"
            ],
            [
             0.2222222222222222,
             "#7201a8"
            ],
            [
             0.3333333333333333,
             "#9c179e"
            ],
            [
             0.4444444444444444,
             "#bd3786"
            ],
            [
             0.5555555555555556,
             "#d8576b"
            ],
            [
             0.6666666666666666,
             "#ed7953"
            ],
            [
             0.7777777777777778,
             "#fb9f3a"
            ],
            [
             0.8888888888888888,
             "#fdca26"
            ],
            [
             1,
             "#f0f921"
            ]
           ]
          },
          "colorway": [
           "#636efa",
           "#EF553B",
           "#00cc96",
           "#ab63fa",
           "#FFA15A",
           "#19d3f3",
           "#FF6692",
           "#B6E880",
           "#FF97FF",
           "#FECB52"
          ],
          "font": {
           "color": "#2a3f5f"
          },
          "geo": {
           "bgcolor": "white",
           "lakecolor": "white",
           "landcolor": "#E5ECF6",
           "showlakes": true,
           "showland": true,
           "subunitcolor": "white"
          },
          "hoverlabel": {
           "align": "left"
          },
          "hovermode": "closest",
          "mapbox": {
           "style": "light"
          },
          "paper_bgcolor": "white",
          "plot_bgcolor": "#E5ECF6",
          "polar": {
           "angularaxis": {
            "gridcolor": "white",
            "linecolor": "white",
            "ticks": ""
           },
           "bgcolor": "#E5ECF6",
           "radialaxis": {
            "gridcolor": "white",
            "linecolor": "white",
            "ticks": ""
           }
          },
          "scene": {
           "xaxis": {
            "backgroundcolor": "#E5ECF6",
            "gridcolor": "white",
            "gridwidth": 2,
            "linecolor": "white",
            "showbackground": true,
            "ticks": "",
            "zerolinecolor": "white"
           },
           "yaxis": {
            "backgroundcolor": "#E5ECF6",
            "gridcolor": "white",
            "gridwidth": 2,
            "linecolor": "white",
            "showbackground": true,
            "ticks": "",
            "zerolinecolor": "white"
           },
           "zaxis": {
            "backgroundcolor": "#E5ECF6",
            "gridcolor": "white",
            "gridwidth": 2,
            "linecolor": "white",
            "showbackground": true,
            "ticks": "",
            "zerolinecolor": "white"
           }
          },
          "shapedefaults": {
           "line": {
            "color": "#2a3f5f"
           }
          },
          "ternary": {
           "aaxis": {
            "gridcolor": "white",
            "linecolor": "white",
            "ticks": ""
           },
           "baxis": {
            "gridcolor": "white",
            "linecolor": "white",
            "ticks": ""
           },
           "bgcolor": "#E5ECF6",
           "caxis": {
            "gridcolor": "white",
            "linecolor": "white",
            "ticks": ""
           }
          },
          "title": {
           "x": 0.05
          },
          "xaxis": {
           "automargin": true,
           "gridcolor": "white",
           "linecolor": "white",
           "ticks": "",
           "title": {
            "standoff": 15
           },
           "zerolinecolor": "white",
           "zerolinewidth": 2
          },
          "yaxis": {
           "automargin": true,
           "gridcolor": "white",
           "linecolor": "white",
           "ticks": "",
           "title": {
            "standoff": 15
           },
           "zerolinecolor": "white",
           "zerolinewidth": 2
          }
         }
        },
        "xaxis": {
         "anchor": "y",
         "domain": [
          0,
          1
         ],
         "title": {
          "text": "count"
         }
        },
        "yaxis": {
         "anchor": "x",
         "domain": [
          0,
          1
         ],
         "title": {
          "text": "event"
         }
        }
       }
      },
      "text/html": [
       "<div>                            <div id=\"ab267616-9593-4879-87c3-ca50aa82aa40\" class=\"plotly-graph-div\" style=\"height:525px; width:100%;\"></div>            <script type=\"text/javascript\">                require([\"plotly\"], function(Plotly) {                    window.PLOTLYENV=window.PLOTLYENV || {};                                    if (document.getElementById(\"ab267616-9593-4879-87c3-ca50aa82aa40\")) {                    Plotly.newPlot(                        \"ab267616-9593-4879-87c3-ca50aa82aa40\",                        [{\"hovertemplate\":\"utm_source= - <br>count=%{x}<br>event=%{y}<extra></extra>\",\"legendgroup\":\" - \",\"marker\":{\"color\":\"#636efa\"},\"name\":\" - \",\"orientation\":\"h\",\"showlegend\":true,\"x\":[0,0,0,0,0],\"xaxis\":\"x\",\"y\":[\"\\u041f\\u0435\\u0440\\u0435\\u0445\\u043e\\u0434 \\u043d\\u0430 \\u043b\\u044d\\u043d\\u0434\\u0438\\u043d\\u0433\",\"\\u0420\\u0435\\u0433\\u0438\\u0441\\u0442\\u0440\\u0430\\u0446\\u0438\\u044f\",\"\\u0414\\u043e\\u0431\\u0430\\u0432\\u043b\\u0435\\u043d\\u0438\\u0435 \\u043f\\u0435\\u0440\\u0432\\u043e\\u0433\\u043e \\u0431\\u043b\\u043e\\u043a\\u0430\",\"\\u041f\\u043e\\u043f\\u044b\\u0442\\u043a\\u0430 \\u043e\\u043f\\u043b\\u0430\\u0442\\u044b\",\"\\u041f\\u043e\\u043a\\u0443\\u043f\\u043a\\u0430 \\u043f\\u043b\\u0430\\u0442\\u043d\\u043e\\u0433\\u043e \\u0442\\u0430\\u0440\\u0438\\u0444\\u0430\"],\"yaxis\":\"y\",\"type\":\"funnel\"},{\"hovertemplate\":\"utm_source=yandex<br>count=%{x}<br>event=%{y}<extra></extra>\",\"legendgroup\":\"yandex\",\"marker\":{\"color\":\"#EF553B\"},\"name\":\"yandex\",\"orientation\":\"h\",\"showlegend\":true,\"x\":[3796,0,959,90,8],\"xaxis\":\"x\",\"y\":[\"\\u041f\\u0435\\u0440\\u0435\\u0445\\u043e\\u0434 \\u043d\\u0430 \\u043b\\u044d\\u043d\\u0434\\u0438\\u043d\\u0433\",\"\\u0420\\u0435\\u0433\\u0438\\u0441\\u0442\\u0440\\u0430\\u0446\\u0438\\u044f\",\"\\u0414\\u043e\\u0431\\u0430\\u0432\\u043b\\u0435\\u043d\\u0438\\u0435 \\u043f\\u0435\\u0440\\u0432\\u043e\\u0433\\u043e \\u0431\\u043b\\u043e\\u043a\\u0430\",\"\\u041f\\u043e\\u043f\\u044b\\u0442\\u043a\\u0430 \\u043e\\u043f\\u043b\\u0430\\u0442\\u044b\",\"\\u041f\\u043e\\u043a\\u0443\\u043f\\u043a\\u0430 \\u043f\\u043b\\u0430\\u0442\\u043d\\u043e\\u0433\\u043e \\u0442\\u0430\\u0440\\u0438\\u0444\\u0430\"],\"yaxis\":\"y\",\"type\":\"funnel\"},{\"hovertemplate\":\"utm_source=visitka<br>count=%{x}<br>event=%{y}<extra></extra>\",\"legendgroup\":\"visitka\",\"marker\":{\"color\":\"#00cc96\"},\"name\":\"visitka\",\"orientation\":\"h\",\"showlegend\":true,\"x\":[151,487,472,44,2],\"xaxis\":\"x\",\"y\":[\"\\u041f\\u0435\\u0440\\u0435\\u0445\\u043e\\u0434 \\u043d\\u0430 \\u043b\\u044d\\u043d\\u0434\\u0438\\u043d\\u0433\",\"\\u0420\\u0435\\u0433\\u0438\\u0441\\u0442\\u0440\\u0430\\u0446\\u0438\\u044f\",\"\\u0414\\u043e\\u0431\\u0430\\u0432\\u043b\\u0435\\u043d\\u0438\\u0435 \\u043f\\u0435\\u0440\\u0432\\u043e\\u0433\\u043e \\u0431\\u043b\\u043e\\u043a\\u0430\",\"\\u041f\\u043e\\u043f\\u044b\\u0442\\u043a\\u0430 \\u043e\\u043f\\u043b\\u0430\\u0442\\u044b\",\"\\u041f\\u043e\\u043a\\u0443\\u043f\\u043a\\u0430 \\u043f\\u043b\\u0430\\u0442\\u043d\\u043e\\u0433\\u043e \\u0442\\u0430\\u0440\\u0438\\u0444\\u0430\"],\"yaxis\":\"y\",\"type\":\"funnel\"},{\"hovertemplate\":\"utm_source=wazzup<br>count=%{x}<br>event=%{y}<extra></extra>\",\"legendgroup\":\"wazzup\",\"marker\":{\"color\":\"#ab63fa\"},\"name\":\"wazzup\",\"orientation\":\"h\",\"showlegend\":true,\"x\":[669,0,23,0,0],\"xaxis\":\"x\",\"y\":[\"\\u041f\\u0435\\u0440\\u0435\\u0445\\u043e\\u0434 \\u043d\\u0430 \\u043b\\u044d\\u043d\\u0434\\u0438\\u043d\\u0433\",\"\\u0420\\u0435\\u0433\\u0438\\u0441\\u0442\\u0440\\u0430\\u0446\\u0438\\u044f\",\"\\u0414\\u043e\\u0431\\u0430\\u0432\\u043b\\u0435\\u043d\\u0438\\u0435 \\u043f\\u0435\\u0440\\u0432\\u043e\\u0433\\u043e \\u0431\\u043b\\u043e\\u043a\\u0430\",\"\\u041f\\u043e\\u043f\\u044b\\u0442\\u043a\\u0430 \\u043e\\u043f\\u043b\\u0430\\u0442\\u044b\",\"\\u041f\\u043e\\u043a\\u0443\\u043f\\u043a\\u0430 \\u043f\\u043b\\u0430\\u0442\\u043d\\u043e\\u0433\\u043e \\u0442\\u0430\\u0440\\u0438\\u0444\\u0430\"],\"yaxis\":\"y\",\"type\":\"funnel\"},{\"hovertemplate\":\"utm_source=404<br>count=%{x}<br>event=%{y}<extra></extra>\",\"legendgroup\":\"404\",\"marker\":{\"color\":\"#FFA15A\"},\"name\":\"404\",\"orientation\":\"h\",\"showlegend\":true,\"x\":[96,0,15,2,0],\"xaxis\":\"x\",\"y\":[\"\\u041f\\u0435\\u0440\\u0435\\u0445\\u043e\\u0434 \\u043d\\u0430 \\u043b\\u044d\\u043d\\u0434\\u0438\\u043d\\u0433\",\"\\u0420\\u0435\\u0433\\u0438\\u0441\\u0442\\u0440\\u0430\\u0446\\u0438\\u044f\",\"\\u0414\\u043e\\u0431\\u0430\\u0432\\u043b\\u0435\\u043d\\u0438\\u0435 \\u043f\\u0435\\u0440\\u0432\\u043e\\u0433\\u043e \\u0431\\u043b\\u043e\\u043a\\u0430\",\"\\u041f\\u043e\\u043f\\u044b\\u0442\\u043a\\u0430 \\u043e\\u043f\\u043b\\u0430\\u0442\\u044b\",\"\\u041f\\u043e\\u043a\\u0443\\u043f\\u043a\\u0430 \\u043f\\u043b\\u0430\\u0442\\u043d\\u043e\\u0433\\u043e \\u0442\\u0430\\u0440\\u0438\\u0444\\u0430\"],\"yaxis\":\"y\",\"type\":\"funnel\"},{\"hovertemplate\":\"utm_source=google<br>count=%{x}<br>event=%{y}<extra></extra>\",\"legendgroup\":\"google\",\"marker\":{\"color\":\"#19d3f3\"},\"name\":\"google\",\"orientation\":\"h\",\"showlegend\":true,\"x\":[146,0,34,3,0],\"xaxis\":\"x\",\"y\":[\"\\u041f\\u0435\\u0440\\u0435\\u0445\\u043e\\u0434 \\u043d\\u0430 \\u043b\\u044d\\u043d\\u0434\\u0438\\u043d\\u0433\",\"\\u0420\\u0435\\u0433\\u0438\\u0441\\u0442\\u0440\\u0430\\u0446\\u0438\\u044f\",\"\\u0414\\u043e\\u0431\\u0430\\u0432\\u043b\\u0435\\u043d\\u0438\\u0435 \\u043f\\u0435\\u0440\\u0432\\u043e\\u0433\\u043e \\u0431\\u043b\\u043e\\u043a\\u0430\",\"\\u041f\\u043e\\u043f\\u044b\\u0442\\u043a\\u0430 \\u043e\\u043f\\u043b\\u0430\\u0442\\u044b\",\"\\u041f\\u043e\\u043a\\u0443\\u043f\\u043a\\u0430 \\u043f\\u043b\\u0430\\u0442\\u043d\\u043e\\u0433\\u043e \\u0442\\u0430\\u0440\\u0438\\u0444\\u0430\"],\"yaxis\":\"y\",\"type\":\"funnel\"},{\"hovertemplate\":\"utm_source=vk<br>count=%{x}<br>event=%{y}<extra></extra>\",\"legendgroup\":\"vk\",\"marker\":{\"color\":\"#FF6692\"},\"name\":\"vk\",\"orientation\":\"h\",\"showlegend\":true,\"x\":[4,0,1,0,0],\"xaxis\":\"x\",\"y\":[\"\\u041f\\u0435\\u0440\\u0435\\u0445\\u043e\\u0434 \\u043d\\u0430 \\u043b\\u044d\\u043d\\u0434\\u0438\\u043d\\u0433\",\"\\u0420\\u0435\\u0433\\u0438\\u0441\\u0442\\u0440\\u0430\\u0446\\u0438\\u044f\",\"\\u0414\\u043e\\u0431\\u0430\\u0432\\u043b\\u0435\\u043d\\u0438\\u0435 \\u043f\\u0435\\u0440\\u0432\\u043e\\u0433\\u043e \\u0431\\u043b\\u043e\\u043a\\u0430\",\"\\u041f\\u043e\\u043f\\u044b\\u0442\\u043a\\u0430 \\u043e\\u043f\\u043b\\u0430\\u0442\\u044b\",\"\\u041f\\u043e\\u043a\\u0443\\u043f\\u043a\\u0430 \\u043f\\u043b\\u0430\\u0442\\u043d\\u043e\\u0433\\u043e \\u0442\\u0430\\u0440\\u0438\\u0444\\u0430\"],\"yaxis\":\"y\",\"type\":\"funnel\"},{\"hovertemplate\":\"utm_source=telegram<br>count=%{x}<br>event=%{y}<extra></extra>\",\"legendgroup\":\"telegram\",\"marker\":{\"color\":\"#B6E880\"},\"name\":\"telegram\",\"orientation\":\"h\",\"showlegend\":true,\"x\":[232,0,4,0,0],\"xaxis\":\"x\",\"y\":[\"\\u041f\\u0435\\u0440\\u0435\\u0445\\u043e\\u0434 \\u043d\\u0430 \\u043b\\u044d\\u043d\\u0434\\u0438\\u043d\\u0433\",\"\\u0420\\u0435\\u0433\\u0438\\u0441\\u0442\\u0440\\u0430\\u0446\\u0438\\u044f\",\"\\u0414\\u043e\\u0431\\u0430\\u0432\\u043b\\u0435\\u043d\\u0438\\u0435 \\u043f\\u0435\\u0440\\u0432\\u043e\\u0433\\u043e \\u0431\\u043b\\u043e\\u043a\\u0430\",\"\\u041f\\u043e\\u043f\\u044b\\u0442\\u043a\\u0430 \\u043e\\u043f\\u043b\\u0430\\u0442\\u044b\",\"\\u041f\\u043e\\u043a\\u0443\\u043f\\u043a\\u0430 \\u043f\\u043b\\u0430\\u0442\\u043d\\u043e\\u0433\\u043e \\u0442\\u0430\\u0440\\u0438\\u0444\\u0430\"],\"yaxis\":\"y\",\"type\":\"funnel\"},{\"hovertemplate\":\"utm_source=mytarget<br>count=%{x}<br>event=%{y}<extra></extra>\",\"legendgroup\":\"mytarget\",\"marker\":{\"color\":\"#FF97FF\"},\"name\":\"mytarget\",\"orientation\":\"h\",\"showlegend\":true,\"x\":[616,0,1,0,0],\"xaxis\":\"x\",\"y\":[\"\\u041f\\u0435\\u0440\\u0435\\u0445\\u043e\\u0434 \\u043d\\u0430 \\u043b\\u044d\\u043d\\u0434\\u0438\\u043d\\u0433\",\"\\u0420\\u0435\\u0433\\u0438\\u0441\\u0442\\u0440\\u0430\\u0446\\u0438\\u044f\",\"\\u0414\\u043e\\u0431\\u0430\\u0432\\u043b\\u0435\\u043d\\u0438\\u0435 \\u043f\\u0435\\u0440\\u0432\\u043e\\u0433\\u043e \\u0431\\u043b\\u043e\\u043a\\u0430\",\"\\u041f\\u043e\\u043f\\u044b\\u0442\\u043a\\u0430 \\u043e\\u043f\\u043b\\u0430\\u0442\\u044b\",\"\\u041f\\u043e\\u043a\\u0443\\u043f\\u043a\\u0430 \\u043f\\u043b\\u0430\\u0442\\u043d\\u043e\\u0433\\u043e \\u0442\\u0430\\u0440\\u0438\\u0444\\u0430\"],\"yaxis\":\"y\",\"type\":\"funnel\"},{\"hovertemplate\":\"utm_source=instagram<br>count=%{x}<br>event=%{y}<extra></extra>\",\"legendgroup\":\"instagram\",\"marker\":{\"color\":\"#FECB52\"},\"name\":\"instagram\",\"orientation\":\"h\",\"showlegend\":true,\"x\":[4,0,0,0,0],\"xaxis\":\"x\",\"y\":[\"\\u041f\\u0435\\u0440\\u0435\\u0445\\u043e\\u0434 \\u043d\\u0430 \\u043b\\u044d\\u043d\\u0434\\u0438\\u043d\\u0433\",\"\\u0420\\u0435\\u0433\\u0438\\u0441\\u0442\\u0440\\u0430\\u0446\\u0438\\u044f\",\"\\u0414\\u043e\\u0431\\u0430\\u0432\\u043b\\u0435\\u043d\\u0438\\u0435 \\u043f\\u0435\\u0440\\u0432\\u043e\\u0433\\u043e \\u0431\\u043b\\u043e\\u043a\\u0430\",\"\\u041f\\u043e\\u043f\\u044b\\u0442\\u043a\\u0430 \\u043e\\u043f\\u043b\\u0430\\u0442\\u044b\",\"\\u041f\\u043e\\u043a\\u0443\\u043f\\u043a\\u0430 \\u043f\\u043b\\u0430\\u0442\\u043d\\u043e\\u0433\\u043e \\u0442\\u0430\\u0440\\u0438\\u0444\\u0430\"],\"yaxis\":\"y\",\"type\":\"funnel\"},{\"hovertemplate\":\"utm_source=aDqCFY<br>count=%{x}<br>event=%{y}<extra></extra>\",\"legendgroup\":\"aDqCFY\",\"marker\":{\"color\":\"#636efa\"},\"name\":\"aDqCFY\",\"orientation\":\"h\",\"showlegend\":true,\"x\":[1,0,0,0,0],\"xaxis\":\"x\",\"y\":[\"\\u041f\\u0435\\u0440\\u0435\\u0445\\u043e\\u0434 \\u043d\\u0430 \\u043b\\u044d\\u043d\\u0434\\u0438\\u043d\\u0433\",\"\\u0420\\u0435\\u0433\\u0438\\u0441\\u0442\\u0440\\u0430\\u0446\\u0438\\u044f\",\"\\u0414\\u043e\\u0431\\u0430\\u0432\\u043b\\u0435\\u043d\\u0438\\u0435 \\u043f\\u0435\\u0440\\u0432\\u043e\\u0433\\u043e \\u0431\\u043b\\u043e\\u043a\\u0430\",\"\\u041f\\u043e\\u043f\\u044b\\u0442\\u043a\\u0430 \\u043e\\u043f\\u043b\\u0430\\u0442\\u044b\",\"\\u041f\\u043e\\u043a\\u0443\\u043f\\u043a\\u0430 \\u043f\\u043b\\u0430\\u0442\\u043d\\u043e\\u0433\\u043e \\u0442\\u0430\\u0440\\u0438\\u0444\\u0430\"],\"yaxis\":\"y\",\"type\":\"funnel\"},{\"hovertemplate\":\"utm_source=vkontakte<br>count=%{x}<br>event=%{y}<extra></extra>\",\"legendgroup\":\"vkontakte\",\"marker\":{\"color\":\"#EF553B\"},\"name\":\"vkontakte\",\"orientation\":\"h\",\"showlegend\":true,\"x\":[1,0,0,0,0],\"xaxis\":\"x\",\"y\":[\"\\u041f\\u0435\\u0440\\u0435\\u0445\\u043e\\u0434 \\u043d\\u0430 \\u043b\\u044d\\u043d\\u0434\\u0438\\u043d\\u0433\",\"\\u0420\\u0435\\u0433\\u0438\\u0441\\u0442\\u0440\\u0430\\u0446\\u0438\\u044f\",\"\\u0414\\u043e\\u0431\\u0430\\u0432\\u043b\\u0435\\u043d\\u0438\\u0435 \\u043f\\u0435\\u0440\\u0432\\u043e\\u0433\\u043e \\u0431\\u043b\\u043e\\u043a\\u0430\",\"\\u041f\\u043e\\u043f\\u044b\\u0442\\u043a\\u0430 \\u043e\\u043f\\u043b\\u0430\\u0442\\u044b\",\"\\u041f\\u043e\\u043a\\u0443\\u043f\\u043a\\u0430 \\u043f\\u043b\\u0430\\u0442\\u043d\\u043e\\u0433\\u043e \\u0442\\u0430\\u0440\\u0438\\u0444\\u0430\"],\"yaxis\":\"y\",\"type\":\"funnel\"},{\"hovertemplate\":\"utm_source=yandex_poisk<br>count=%{x}<br>event=%{y}<extra></extra>\",\"legendgroup\":\"yandex_poisk\",\"marker\":{\"color\":\"#00cc96\"},\"name\":\"yandex_poisk\",\"orientation\":\"h\",\"showlegend\":true,\"x\":[4,0,0,0,0],\"xaxis\":\"x\",\"y\":[\"\\u041f\\u0435\\u0440\\u0435\\u0445\\u043e\\u0434 \\u043d\\u0430 \\u043b\\u044d\\u043d\\u0434\\u0438\\u043d\\u0433\",\"\\u0420\\u0435\\u0433\\u0438\\u0441\\u0442\\u0440\\u0430\\u0446\\u0438\\u044f\",\"\\u0414\\u043e\\u0431\\u0430\\u0432\\u043b\\u0435\\u043d\\u0438\\u0435 \\u043f\\u0435\\u0440\\u0432\\u043e\\u0433\\u043e \\u0431\\u043b\\u043e\\u043a\\u0430\",\"\\u041f\\u043e\\u043f\\u044b\\u0442\\u043a\\u0430 \\u043e\\u043f\\u043b\\u0430\\u0442\\u044b\",\"\\u041f\\u043e\\u043a\\u0443\\u043f\\u043a\\u0430 \\u043f\\u043b\\u0430\\u0442\\u043d\\u043e\\u0433\\u043e \\u0442\\u0430\\u0440\\u0438\\u0444\\u0430\"],\"yaxis\":\"y\",\"type\":\"funnel\"},{\"hovertemplate\":\"utm_source=waba<br>count=%{x}<br>event=%{y}<extra></extra>\",\"legendgroup\":\"waba\",\"marker\":{\"color\":\"#ab63fa\"},\"name\":\"waba\",\"orientation\":\"h\",\"showlegend\":true,\"x\":[0,0,1,0,0],\"xaxis\":\"x\",\"y\":[\"\\u041f\\u0435\\u0440\\u0435\\u0445\\u043e\\u0434 \\u043d\\u0430 \\u043b\\u044d\\u043d\\u0434\\u0438\\u043d\\u0433\",\"\\u0420\\u0435\\u0433\\u0438\\u0441\\u0442\\u0440\\u0430\\u0446\\u0438\\u044f\",\"\\u0414\\u043e\\u0431\\u0430\\u0432\\u043b\\u0435\\u043d\\u0438\\u0435 \\u043f\\u0435\\u0440\\u0432\\u043e\\u0433\\u043e \\u0431\\u043b\\u043e\\u043a\\u0430\",\"\\u041f\\u043e\\u043f\\u044b\\u0442\\u043a\\u0430 \\u043e\\u043f\\u043b\\u0430\\u0442\\u044b\",\"\\u041f\\u043e\\u043a\\u0443\\u043f\\u043a\\u0430 \\u043f\\u043b\\u0430\\u0442\\u043d\\u043e\\u0433\\u043e \\u0442\\u0430\\u0440\\u0438\\u0444\\u0430\"],\"yaxis\":\"y\",\"type\":\"funnel\"}],                        {\"template\":{\"data\":{\"bar\":[{\"error_x\":{\"color\":\"#2a3f5f\"},\"error_y\":{\"color\":\"#2a3f5f\"},\"marker\":{\"line\":{\"color\":\"#E5ECF6\",\"width\":0.5},\"pattern\":{\"fillmode\":\"overlay\",\"size\":10,\"solidity\":0.2}},\"type\":\"bar\"}],\"barpolar\":[{\"marker\":{\"line\":{\"color\":\"#E5ECF6\",\"width\":0.5},\"pattern\":{\"fillmode\":\"overlay\",\"size\":10,\"solidity\":0.2}},\"type\":\"barpolar\"}],\"carpet\":[{\"aaxis\":{\"endlinecolor\":\"#2a3f5f\",\"gridcolor\":\"white\",\"linecolor\":\"white\",\"minorgridcolor\":\"white\",\"startlinecolor\":\"#2a3f5f\"},\"baxis\":{\"endlinecolor\":\"#2a3f5f\",\"gridcolor\":\"white\",\"linecolor\":\"white\",\"minorgridcolor\":\"white\",\"startlinecolor\":\"#2a3f5f\"},\"type\":\"carpet\"}],\"choropleth\":[{\"colorbar\":{\"outlinewidth\":0,\"ticks\":\"\"},\"type\":\"choropleth\"}],\"contour\":[{\"colorbar\":{\"outlinewidth\":0,\"ticks\":\"\"},\"colorscale\":[[0.0,\"#0d0887\"],[0.1111111111111111,\"#46039f\"],[0.2222222222222222,\"#7201a8\"],[0.3333333333333333,\"#9c179e\"],[0.4444444444444444,\"#bd3786\"],[0.5555555555555556,\"#d8576b\"],[0.6666666666666666,\"#ed7953\"],[0.7777777777777778,\"#fb9f3a\"],[0.8888888888888888,\"#fdca26\"],[1.0,\"#f0f921\"]],\"type\":\"contour\"}],\"contourcarpet\":[{\"colorbar\":{\"outlinewidth\":0,\"ticks\":\"\"},\"type\":\"contourcarpet\"}],\"heatmap\":[{\"colorbar\":{\"outlinewidth\":0,\"ticks\":\"\"},\"colorscale\":[[0.0,\"#0d0887\"],[0.1111111111111111,\"#46039f\"],[0.2222222222222222,\"#7201a8\"],[0.3333333333333333,\"#9c179e\"],[0.4444444444444444,\"#bd3786\"],[0.5555555555555556,\"#d8576b\"],[0.6666666666666666,\"#ed7953\"],[0.7777777777777778,\"#fb9f3a\"],[0.8888888888888888,\"#fdca26\"],[1.0,\"#f0f921\"]],\"type\":\"heatmap\"}],\"heatmapgl\":[{\"colorbar\":{\"outlinewidth\":0,\"ticks\":\"\"},\"colorscale\":[[0.0,\"#0d0887\"],[0.1111111111111111,\"#46039f\"],[0.2222222222222222,\"#7201a8\"],[0.3333333333333333,\"#9c179e\"],[0.4444444444444444,\"#bd3786\"],[0.5555555555555556,\"#d8576b\"],[0.6666666666666666,\"#ed7953\"],[0.7777777777777778,\"#fb9f3a\"],[0.8888888888888888,\"#fdca26\"],[1.0,\"#f0f921\"]],\"type\":\"heatmapgl\"}],\"histogram\":[{\"marker\":{\"pattern\":{\"fillmode\":\"overlay\",\"size\":10,\"solidity\":0.2}},\"type\":\"histogram\"}],\"histogram2d\":[{\"colorbar\":{\"outlinewidth\":0,\"ticks\":\"\"},\"colorscale\":[[0.0,\"#0d0887\"],[0.1111111111111111,\"#46039f\"],[0.2222222222222222,\"#7201a8\"],[0.3333333333333333,\"#9c179e\"],[0.4444444444444444,\"#bd3786\"],[0.5555555555555556,\"#d8576b\"],[0.6666666666666666,\"#ed7953\"],[0.7777777777777778,\"#fb9f3a\"],[0.8888888888888888,\"#fdca26\"],[1.0,\"#f0f921\"]],\"type\":\"histogram2d\"}],\"histogram2dcontour\":[{\"colorbar\":{\"outlinewidth\":0,\"ticks\":\"\"},\"colorscale\":[[0.0,\"#0d0887\"],[0.1111111111111111,\"#46039f\"],[0.2222222222222222,\"#7201a8\"],[0.3333333333333333,\"#9c179e\"],[0.4444444444444444,\"#bd3786\"],[0.5555555555555556,\"#d8576b\"],[0.6666666666666666,\"#ed7953\"],[0.7777777777777778,\"#fb9f3a\"],[0.8888888888888888,\"#fdca26\"],[1.0,\"#f0f921\"]],\"type\":\"histogram2dcontour\"}],\"mesh3d\":[{\"colorbar\":{\"outlinewidth\":0,\"ticks\":\"\"},\"type\":\"mesh3d\"}],\"parcoords\":[{\"line\":{\"colorbar\":{\"outlinewidth\":0,\"ticks\":\"\"}},\"type\":\"parcoords\"}],\"pie\":[{\"automargin\":true,\"type\":\"pie\"}],\"scatter\":[{\"marker\":{\"colorbar\":{\"outlinewidth\":0,\"ticks\":\"\"}},\"type\":\"scatter\"}],\"scatter3d\":[{\"line\":{\"colorbar\":{\"outlinewidth\":0,\"ticks\":\"\"}},\"marker\":{\"colorbar\":{\"outlinewidth\":0,\"ticks\":\"\"}},\"type\":\"scatter3d\"}],\"scattercarpet\":[{\"marker\":{\"colorbar\":{\"outlinewidth\":0,\"ticks\":\"\"}},\"type\":\"scattercarpet\"}],\"scattergeo\":[{\"marker\":{\"colorbar\":{\"outlinewidth\":0,\"ticks\":\"\"}},\"type\":\"scattergeo\"}],\"scattergl\":[{\"marker\":{\"colorbar\":{\"outlinewidth\":0,\"ticks\":\"\"}},\"type\":\"scattergl\"}],\"scattermapbox\":[{\"marker\":{\"colorbar\":{\"outlinewidth\":0,\"ticks\":\"\"}},\"type\":\"scattermapbox\"}],\"scatterpolar\":[{\"marker\":{\"colorbar\":{\"outlinewidth\":0,\"ticks\":\"\"}},\"type\":\"scatterpolar\"}],\"scatterpolargl\":[{\"marker\":{\"colorbar\":{\"outlinewidth\":0,\"ticks\":\"\"}},\"type\":\"scatterpolargl\"}],\"scatterternary\":[{\"marker\":{\"colorbar\":{\"outlinewidth\":0,\"ticks\":\"\"}},\"type\":\"scatterternary\"}],\"surface\":[{\"colorbar\":{\"outlinewidth\":0,\"ticks\":\"\"},\"colorscale\":[[0.0,\"#0d0887\"],[0.1111111111111111,\"#46039f\"],[0.2222222222222222,\"#7201a8\"],[0.3333333333333333,\"#9c179e\"],[0.4444444444444444,\"#bd3786\"],[0.5555555555555556,\"#d8576b\"],[0.6666666666666666,\"#ed7953\"],[0.7777777777777778,\"#fb9f3a\"],[0.8888888888888888,\"#fdca26\"],[1.0,\"#f0f921\"]],\"type\":\"surface\"}],\"table\":[{\"cells\":{\"fill\":{\"color\":\"#EBF0F8\"},\"line\":{\"color\":\"white\"}},\"header\":{\"fill\":{\"color\":\"#C8D4E3\"},\"line\":{\"color\":\"white\"}},\"type\":\"table\"}]},\"layout\":{\"annotationdefaults\":{\"arrowcolor\":\"#2a3f5f\",\"arrowhead\":0,\"arrowwidth\":1},\"autotypenumbers\":\"strict\",\"coloraxis\":{\"colorbar\":{\"outlinewidth\":0,\"ticks\":\"\"}},\"colorscale\":{\"diverging\":[[0,\"#8e0152\"],[0.1,\"#c51b7d\"],[0.2,\"#de77ae\"],[0.3,\"#f1b6da\"],[0.4,\"#fde0ef\"],[0.5,\"#f7f7f7\"],[0.6,\"#e6f5d0\"],[0.7,\"#b8e186\"],[0.8,\"#7fbc41\"],[0.9,\"#4d9221\"],[1,\"#276419\"]],\"sequential\":[[0.0,\"#0d0887\"],[0.1111111111111111,\"#46039f\"],[0.2222222222222222,\"#7201a8\"],[0.3333333333333333,\"#9c179e\"],[0.4444444444444444,\"#bd3786\"],[0.5555555555555556,\"#d8576b\"],[0.6666666666666666,\"#ed7953\"],[0.7777777777777778,\"#fb9f3a\"],[0.8888888888888888,\"#fdca26\"],[1.0,\"#f0f921\"]],\"sequentialminus\":[[0.0,\"#0d0887\"],[0.1111111111111111,\"#46039f\"],[0.2222222222222222,\"#7201a8\"],[0.3333333333333333,\"#9c179e\"],[0.4444444444444444,\"#bd3786\"],[0.5555555555555556,\"#d8576b\"],[0.6666666666666666,\"#ed7953\"],[0.7777777777777778,\"#fb9f3a\"],[0.8888888888888888,\"#fdca26\"],[1.0,\"#f0f921\"]]},\"colorway\":[\"#636efa\",\"#EF553B\",\"#00cc96\",\"#ab63fa\",\"#FFA15A\",\"#19d3f3\",\"#FF6692\",\"#B6E880\",\"#FF97FF\",\"#FECB52\"],\"font\":{\"color\":\"#2a3f5f\"},\"geo\":{\"bgcolor\":\"white\",\"lakecolor\":\"white\",\"landcolor\":\"#E5ECF6\",\"showlakes\":true,\"showland\":true,\"subunitcolor\":\"white\"},\"hoverlabel\":{\"align\":\"left\"},\"hovermode\":\"closest\",\"mapbox\":{\"style\":\"light\"},\"paper_bgcolor\":\"white\",\"plot_bgcolor\":\"#E5ECF6\",\"polar\":{\"angularaxis\":{\"gridcolor\":\"white\",\"linecolor\":\"white\",\"ticks\":\"\"},\"bgcolor\":\"#E5ECF6\",\"radialaxis\":{\"gridcolor\":\"white\",\"linecolor\":\"white\",\"ticks\":\"\"}},\"scene\":{\"xaxis\":{\"backgroundcolor\":\"#E5ECF6\",\"gridcolor\":\"white\",\"gridwidth\":2,\"linecolor\":\"white\",\"showbackground\":true,\"ticks\":\"\",\"zerolinecolor\":\"white\"},\"yaxis\":{\"backgroundcolor\":\"#E5ECF6\",\"gridcolor\":\"white\",\"gridwidth\":2,\"linecolor\":\"white\",\"showbackground\":true,\"ticks\":\"\",\"zerolinecolor\":\"white\"},\"zaxis\":{\"backgroundcolor\":\"#E5ECF6\",\"gridcolor\":\"white\",\"gridwidth\":2,\"linecolor\":\"white\",\"showbackground\":true,\"ticks\":\"\",\"zerolinecolor\":\"white\"}},\"shapedefaults\":{\"line\":{\"color\":\"#2a3f5f\"}},\"ternary\":{\"aaxis\":{\"gridcolor\":\"white\",\"linecolor\":\"white\",\"ticks\":\"\"},\"baxis\":{\"gridcolor\":\"white\",\"linecolor\":\"white\",\"ticks\":\"\"},\"bgcolor\":\"#E5ECF6\",\"caxis\":{\"gridcolor\":\"white\",\"linecolor\":\"white\",\"ticks\":\"\"}},\"title\":{\"x\":0.05},\"xaxis\":{\"automargin\":true,\"gridcolor\":\"white\",\"linecolor\":\"white\",\"ticks\":\"\",\"title\":{\"standoff\":15},\"zerolinecolor\":\"white\",\"zerolinewidth\":2},\"yaxis\":{\"automargin\":true,\"gridcolor\":\"white\",\"linecolor\":\"white\",\"ticks\":\"\",\"title\":{\"standoff\":15},\"zerolinecolor\":\"white\",\"zerolinewidth\":2}}},\"xaxis\":{\"anchor\":\"y\",\"domain\":[0.0,1.0],\"title\":{\"text\":\"count\"}},\"yaxis\":{\"anchor\":\"x\",\"domain\":[0.0,1.0],\"title\":{\"text\":\"event\"}},\"legend\":{\"title\":{\"text\":\"utm_source\"},\"tracegroupgap\":0},\"margin\":{\"t\":60}},                        {\"responsive\": true}                    ).then(function(){\n",
       "                            \n",
       "var gd = document.getElementById('ab267616-9593-4879-87c3-ca50aa82aa40');\n",
       "var x = new MutationObserver(function (mutations, observer) {{\n",
       "        var display = window.getComputedStyle(gd).display;\n",
       "        if (!display || display === 'none') {{\n",
       "            console.log([gd, 'removed!']);\n",
       "            Plotly.purge(gd);\n",
       "            observer.disconnect();\n",
       "        }}\n",
       "}});\n",
       "\n",
       "// Listen for the removal of the full notebook cells\n",
       "var notebookContainer = gd.closest('#notebook-container');\n",
       "if (notebookContainer) {{\n",
       "    x.observe(notebookContainer, {childList: true});\n",
       "}}\n",
       "\n",
       "// Listen for the clearing of the current output cell\n",
       "var outputEl = gd.closest('.output');\n",
       "if (outputEl) {{\n",
       "    x.observe(outputEl, {childList: true});\n",
       "}}\n",
       "\n",
       "                        })                };                });            </script>        </div>"
      ]
     },
     "metadata": {},
     "output_type": "display_data"
    }
   ],
   "source": [
    "print(\"# Воронка в общем виде, без разбивки\")\n",
    "fig0.show()\n",
    "print(\"# Разбивка по браузеру\")\n",
    "fig1.show()\n",
    "print(\"# Разбивка по операционной системе\")\n",
    "fig2.show()\n",
    "print(\"# Разбивка по названию кампании\")\n",
    "fig3.show()\n",
    "print(\"# Разбивка по источнику трафика\")\n",
    "fig4.show()"
   ]
  }
 ],
 "metadata": {
  "kernelspec": {
   "display_name": "Python 3 (ipykernel)",
   "language": "python",
   "name": "python3"
  },
  "language_info": {
   "codemirror_mode": {
    "name": "ipython",
    "version": 3
   },
   "file_extension": ".py",
   "mimetype": "text/x-python",
   "name": "python",
   "nbconvert_exporter": "python",
   "pygments_lexer": "ipython3",
   "version": "3.9.12"
  }
 },
 "nbformat": 4,
 "nbformat_minor": 5
}
